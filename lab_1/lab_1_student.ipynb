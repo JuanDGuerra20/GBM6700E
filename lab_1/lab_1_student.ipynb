{
 "cells": [
  {
   "metadata": {
    "ExecuteTime": {
     "end_time": "2025-09-22T12:31:12.238060Z",
     "start_time": "2025-09-22T12:30:46.787063Z"
    }
   },
   "cell_type": "code",
   "source": [
    "!pip install plotly numpy pandas ipykernel nbformat\n",
    "!pip install git+https://github.com/vtrno/PyGBM6700E.git"
   ],
   "outputs": [
    {
     "name": "stdout",
     "output_type": "stream",
     "text": [
      "Collecting plotly\n",
      "  Downloading plotly-6.3.0-py3-none-any.whl.metadata (8.5 kB)\n",
      "Requirement already satisfied: numpy in c:\\users\\juan david guerra\\appdata\\local\\packages\\pythonsoftwarefoundation.python.3.9_qbz5n2kfra8p0\\localcache\\local-packages\\python39\\site-packages (1.26.4)\n",
      "Requirement already satisfied: pandas in c:\\users\\juan david guerra\\appdata\\local\\packages\\pythonsoftwarefoundation.python.3.9_qbz5n2kfra8p0\\localcache\\local-packages\\python39\\site-packages (2.2.3)\n",
      "Requirement already satisfied: ipykernel in c:\\users\\juan david guerra\\appdata\\local\\packages\\pythonsoftwarefoundation.python.3.9_qbz5n2kfra8p0\\localcache\\local-packages\\python39\\site-packages (6.22.0)\n",
      "Requirement already satisfied: nbformat in c:\\users\\juan david guerra\\appdata\\local\\packages\\pythonsoftwarefoundation.python.3.9_qbz5n2kfra8p0\\localcache\\local-packages\\python39\\site-packages (5.8.0)\n",
      "Collecting narwhals>=1.15.1 (from plotly)\n",
      "  Downloading narwhals-2.5.0-py3-none-any.whl.metadata (11 kB)\n",
      "Requirement already satisfied: packaging in c:\\users\\juan david guerra\\appdata\\local\\packages\\pythonsoftwarefoundation.python.3.9_qbz5n2kfra8p0\\localcache\\local-packages\\python39\\site-packages (from plotly) (21.3)\n",
      "Requirement already satisfied: python-dateutil>=2.8.2 in c:\\users\\juan david guerra\\appdata\\local\\packages\\pythonsoftwarefoundation.python.3.9_qbz5n2kfra8p0\\localcache\\local-packages\\python39\\site-packages (from pandas) (2.8.2)\n",
      "Requirement already satisfied: pytz>=2020.1 in c:\\users\\juan david guerra\\appdata\\local\\packages\\pythonsoftwarefoundation.python.3.9_qbz5n2kfra8p0\\localcache\\local-packages\\python39\\site-packages (from pandas) (2025.2)\n",
      "Requirement already satisfied: tzdata>=2022.7 in c:\\users\\juan david guerra\\appdata\\local\\packages\\pythonsoftwarefoundation.python.3.9_qbz5n2kfra8p0\\localcache\\local-packages\\python39\\site-packages (from pandas) (2025.2)\n",
      "Requirement already satisfied: comm>=0.1.1 in c:\\users\\juan david guerra\\appdata\\local\\packages\\pythonsoftwarefoundation.python.3.9_qbz5n2kfra8p0\\localcache\\local-packages\\python39\\site-packages (from ipykernel) (0.1.3)\n",
      "Requirement already satisfied: debugpy>=1.6.5 in c:\\users\\juan david guerra\\appdata\\local\\packages\\pythonsoftwarefoundation.python.3.9_qbz5n2kfra8p0\\localcache\\local-packages\\python39\\site-packages (from ipykernel) (1.6.7)\n",
      "Requirement already satisfied: ipython>=7.23.1 in c:\\users\\juan david guerra\\appdata\\local\\packages\\pythonsoftwarefoundation.python.3.9_qbz5n2kfra8p0\\localcache\\local-packages\\python39\\site-packages (from ipykernel) (8.12.0)\n",
      "Requirement already satisfied: jupyter-client>=6.1.12 in c:\\users\\juan david guerra\\appdata\\local\\packages\\pythonsoftwarefoundation.python.3.9_qbz5n2kfra8p0\\localcache\\local-packages\\python39\\site-packages (from ipykernel) (8.1.0)\n",
      "Requirement already satisfied: jupyter-core!=5.0.*,>=4.12 in c:\\users\\juan david guerra\\appdata\\local\\packages\\pythonsoftwarefoundation.python.3.9_qbz5n2kfra8p0\\localcache\\local-packages\\python39\\site-packages (from ipykernel) (5.3.0)\n",
      "Requirement already satisfied: matplotlib-inline>=0.1 in c:\\users\\juan david guerra\\appdata\\local\\packages\\pythonsoftwarefoundation.python.3.9_qbz5n2kfra8p0\\localcache\\local-packages\\python39\\site-packages (from ipykernel) (0.1.6)\n",
      "Requirement already satisfied: nest-asyncio in c:\\users\\juan david guerra\\appdata\\local\\packages\\pythonsoftwarefoundation.python.3.9_qbz5n2kfra8p0\\localcache\\local-packages\\python39\\site-packages (from ipykernel) (1.5.6)\n",
      "Requirement already satisfied: psutil in c:\\users\\juan david guerra\\appdata\\local\\packages\\pythonsoftwarefoundation.python.3.9_qbz5n2kfra8p0\\localcache\\local-packages\\python39\\site-packages (from ipykernel) (5.9.4)\n",
      "Requirement already satisfied: pyzmq>=20 in c:\\users\\juan david guerra\\appdata\\local\\packages\\pythonsoftwarefoundation.python.3.9_qbz5n2kfra8p0\\localcache\\local-packages\\python39\\site-packages (from ipykernel) (25.0.2)\n",
      "Requirement already satisfied: tornado>=6.1 in c:\\users\\juan david guerra\\appdata\\local\\packages\\pythonsoftwarefoundation.python.3.9_qbz5n2kfra8p0\\localcache\\local-packages\\python39\\site-packages (from ipykernel) (6.2)\n",
      "Requirement already satisfied: traitlets>=5.4.0 in c:\\users\\juan david guerra\\appdata\\local\\packages\\pythonsoftwarefoundation.python.3.9_qbz5n2kfra8p0\\localcache\\local-packages\\python39\\site-packages (from ipykernel) (5.9.0)\n",
      "Requirement already satisfied: fastjsonschema in c:\\users\\juan david guerra\\appdata\\local\\packages\\pythonsoftwarefoundation.python.3.9_qbz5n2kfra8p0\\localcache\\local-packages\\python39\\site-packages (from nbformat) (2.16.3)\n",
      "Requirement already satisfied: jsonschema>=2.6 in c:\\users\\juan david guerra\\appdata\\local\\packages\\pythonsoftwarefoundation.python.3.9_qbz5n2kfra8p0\\localcache\\local-packages\\python39\\site-packages (from nbformat) (4.17.3)\n",
      "Requirement already satisfied: backcall in c:\\users\\juan david guerra\\appdata\\local\\packages\\pythonsoftwarefoundation.python.3.9_qbz5n2kfra8p0\\localcache\\local-packages\\python39\\site-packages (from ipython>=7.23.1->ipykernel) (0.2.0)\n",
      "Requirement already satisfied: decorator in c:\\users\\juan david guerra\\appdata\\local\\packages\\pythonsoftwarefoundation.python.3.9_qbz5n2kfra8p0\\localcache\\local-packages\\python39\\site-packages (from ipython>=7.23.1->ipykernel) (5.1.1)\n",
      "Requirement already satisfied: jedi>=0.16 in c:\\users\\juan david guerra\\appdata\\local\\packages\\pythonsoftwarefoundation.python.3.9_qbz5n2kfra8p0\\localcache\\local-packages\\python39\\site-packages (from ipython>=7.23.1->ipykernel) (0.18.2)\n",
      "Requirement already satisfied: pickleshare in c:\\users\\juan david guerra\\appdata\\local\\packages\\pythonsoftwarefoundation.python.3.9_qbz5n2kfra8p0\\localcache\\local-packages\\python39\\site-packages (from ipython>=7.23.1->ipykernel) (0.7.5)\n",
      "Requirement already satisfied: prompt-toolkit!=3.0.37,<3.1.0,>=3.0.30 in c:\\users\\juan david guerra\\appdata\\local\\packages\\pythonsoftwarefoundation.python.3.9_qbz5n2kfra8p0\\localcache\\local-packages\\python39\\site-packages (from ipython>=7.23.1->ipykernel) (3.0.38)\n",
      "Requirement already satisfied: pygments>=2.4.0 in c:\\users\\juan david guerra\\appdata\\local\\packages\\pythonsoftwarefoundation.python.3.9_qbz5n2kfra8p0\\localcache\\local-packages\\python39\\site-packages (from ipython>=7.23.1->ipykernel) (2.14.0)\n",
      "Requirement already satisfied: stack-data in c:\\users\\juan david guerra\\appdata\\local\\packages\\pythonsoftwarefoundation.python.3.9_qbz5n2kfra8p0\\localcache\\local-packages\\python39\\site-packages (from ipython>=7.23.1->ipykernel) (0.6.2)\n",
      "Requirement already satisfied: typing-extensions in c:\\users\\juan david guerra\\appdata\\local\\packages\\pythonsoftwarefoundation.python.3.9_qbz5n2kfra8p0\\localcache\\local-packages\\python39\\site-packages (from ipython>=7.23.1->ipykernel) (4.15.0)\n",
      "Requirement already satisfied: colorama in c:\\users\\juan david guerra\\appdata\\local\\packages\\pythonsoftwarefoundation.python.3.9_qbz5n2kfra8p0\\localcache\\local-packages\\python39\\site-packages (from ipython>=7.23.1->ipykernel) (0.4.6)\n",
      "Requirement already satisfied: attrs>=17.4.0 in c:\\users\\juan david guerra\\appdata\\local\\packages\\pythonsoftwarefoundation.python.3.9_qbz5n2kfra8p0\\localcache\\local-packages\\python39\\site-packages (from jsonschema>=2.6->nbformat) (22.1.0)\n",
      "Requirement already satisfied: pyrsistent!=0.17.0,!=0.17.1,!=0.17.2,>=0.14.0 in c:\\users\\juan david guerra\\appdata\\local\\packages\\pythonsoftwarefoundation.python.3.9_qbz5n2kfra8p0\\localcache\\local-packages\\python39\\site-packages (from jsonschema>=2.6->nbformat) (0.19.3)\n",
      "Requirement already satisfied: importlib-metadata>=4.8.3 in c:\\users\\juan david guerra\\appdata\\local\\packages\\pythonsoftwarefoundation.python.3.9_qbz5n2kfra8p0\\localcache\\local-packages\\python39\\site-packages (from jupyter-client>=6.1.12->ipykernel) (6.2.0)\n",
      "Requirement already satisfied: platformdirs>=2.5 in c:\\users\\juan david guerra\\appdata\\local\\packages\\pythonsoftwarefoundation.python.3.9_qbz5n2kfra8p0\\localcache\\local-packages\\python39\\site-packages (from jupyter-core!=5.0.*,>=4.12->ipykernel) (3.2.0)\n",
      "Requirement already satisfied: pywin32>=300 in c:\\users\\juan david guerra\\appdata\\local\\packages\\pythonsoftwarefoundation.python.3.9_qbz5n2kfra8p0\\localcache\\local-packages\\python39\\site-packages (from jupyter-core!=5.0.*,>=4.12->ipykernel) (306)\n",
      "Requirement already satisfied: six>=1.5 in c:\\users\\juan david guerra\\appdata\\local\\packages\\pythonsoftwarefoundation.python.3.9_qbz5n2kfra8p0\\localcache\\local-packages\\python39\\site-packages (from python-dateutil>=2.8.2->pandas) (1.16.0)\n",
      "Requirement already satisfied: pyparsing!=3.0.5,>=2.0.2 in c:\\users\\juan david guerra\\appdata\\local\\packages\\pythonsoftwarefoundation.python.3.9_qbz5n2kfra8p0\\localcache\\local-packages\\python39\\site-packages (from packaging->plotly) (3.0.9)\n",
      "Requirement already satisfied: zipp>=0.5 in c:\\users\\juan david guerra\\appdata\\local\\packages\\pythonsoftwarefoundation.python.3.9_qbz5n2kfra8p0\\localcache\\local-packages\\python39\\site-packages (from importlib-metadata>=4.8.3->jupyter-client>=6.1.12->ipykernel) (3.15.0)\n",
      "Requirement already satisfied: parso<0.9.0,>=0.8.0 in c:\\users\\juan david guerra\\appdata\\local\\packages\\pythonsoftwarefoundation.python.3.9_qbz5n2kfra8p0\\localcache\\local-packages\\python39\\site-packages (from jedi>=0.16->ipython>=7.23.1->ipykernel) (0.8.3)\n",
      "Requirement already satisfied: wcwidth in c:\\users\\juan david guerra\\appdata\\local\\packages\\pythonsoftwarefoundation.python.3.9_qbz5n2kfra8p0\\localcache\\local-packages\\python39\\site-packages (from prompt-toolkit!=3.0.37,<3.1.0,>=3.0.30->ipython>=7.23.1->ipykernel) (0.2.6)\n",
      "Requirement already satisfied: executing>=1.2.0 in c:\\users\\juan david guerra\\appdata\\local\\packages\\pythonsoftwarefoundation.python.3.9_qbz5n2kfra8p0\\localcache\\local-packages\\python39\\site-packages (from stack-data->ipython>=7.23.1->ipykernel) (1.2.0)\n",
      "Requirement already satisfied: asttokens>=2.1.0 in c:\\users\\juan david guerra\\appdata\\local\\packages\\pythonsoftwarefoundation.python.3.9_qbz5n2kfra8p0\\localcache\\local-packages\\python39\\site-packages (from stack-data->ipython>=7.23.1->ipykernel) (2.2.1)\n",
      "Requirement already satisfied: pure-eval in c:\\users\\juan david guerra\\appdata\\local\\packages\\pythonsoftwarefoundation.python.3.9_qbz5n2kfra8p0\\localcache\\local-packages\\python39\\site-packages (from stack-data->ipython>=7.23.1->ipykernel) (0.2.2)\n",
      "Downloading plotly-6.3.0-py3-none-any.whl (9.8 MB)\n",
      "   ---------------------------------------- 0.0/9.8 MB ? eta -:--:--\n",
      "   ------------- -------------------------- 3.4/9.8 MB 20.2 MB/s eta 0:00:01\n",
      "   ------------------------------- -------- 7.6/9.8 MB 20.4 MB/s eta 0:00:01\n",
      "   ---------------------------------------- 9.8/9.8 MB 19.7 MB/s eta 0:00:00\n",
      "Downloading narwhals-2.5.0-py3-none-any.whl (407 kB)\n",
      "Installing collected packages: narwhals, plotly\n",
      "Successfully installed narwhals-2.5.0 plotly-6.3.0\n"
     ]
    },
    {
     "name": "stderr",
     "output_type": "stream",
     "text": [
      "\n",
      "[notice] A new release of pip is available: 24.3.1 -> 25.2\n",
      "[notice] To update, run: C:\\Users\\Juan David Guerra\\AppData\\Local\\Microsoft\\WindowsApps\\PythonSoftwareFoundation.Python.3.9_qbz5n2kfra8p0\\python.exe -m pip install --upgrade pip\n"
     ]
    },
    {
     "name": "stdout",
     "output_type": "stream",
     "text": [
      "Collecting git+https://github.com/vtrno/PyGBM6700E.git\n",
      "  Cloning https://github.com/vtrno/PyGBM6700E.git to c:\\users\\juan david guerra\\appdata\\local\\temp\\pip-req-build-r_iyupbd\n",
      "  Resolved https://github.com/vtrno/PyGBM6700E.git to commit 29f4e827b59d5da18a0e146b2dab4662986eb799\n",
      "  Installing build dependencies: started\n",
      "  Installing build dependencies: finished with status 'done'\n",
      "  Getting requirements to build wheel: started\n",
      "  Getting requirements to build wheel: finished with status 'done'\n",
      "  Preparing metadata (pyproject.toml): started\n",
      "  Preparing metadata (pyproject.toml): finished with status 'done'\n",
      "Requirement already satisfied: numpy<2.0.0 in c:\\users\\juan david guerra\\appdata\\local\\packages\\pythonsoftwarefoundation.python.3.9_qbz5n2kfra8p0\\localcache\\local-packages\\python39\\site-packages (from pyGBM6700e==2.0.1) (1.26.4)\n",
      "Collecting mat4py (from pyGBM6700e==2.0.1)\n",
      "  Downloading mat4py-0.6.0-py2.py3-none-any.whl.metadata (2.8 kB)\n",
      "Requirement already satisfied: matplotlib in c:\\users\\juan david guerra\\appdata\\local\\packages\\pythonsoftwarefoundation.python.3.9_qbz5n2kfra8p0\\localcache\\local-packages\\python39\\site-packages (from pyGBM6700e==2.0.1) (3.7.3)\n",
      "Requirement already satisfied: pandas in c:\\users\\juan david guerra\\appdata\\local\\packages\\pythonsoftwarefoundation.python.3.9_qbz5n2kfra8p0\\localcache\\local-packages\\python39\\site-packages (from pyGBM6700e==2.0.1) (2.2.3)\n",
      "Requirement already satisfied: plotly in c:\\users\\juan david guerra\\appdata\\local\\packages\\pythonsoftwarefoundation.python.3.9_qbz5n2kfra8p0\\localcache\\local-packages\\python39\\site-packages (from pyGBM6700e==2.0.1) (6.3.0)\n",
      "Collecting kaleido (from pyGBM6700e==2.0.1)\n",
      "  Downloading kaleido-1.1.0-py3-none-any.whl.metadata (5.6 kB)\n",
      "Collecting imageio (from pyGBM6700e==2.0.1)\n",
      "  Downloading imageio-2.37.0-py3-none-any.whl.metadata (5.2 kB)\n",
      "Requirement already satisfied: nbformat in c:\\users\\juan david guerra\\appdata\\local\\packages\\pythonsoftwarefoundation.python.3.9_qbz5n2kfra8p0\\localcache\\local-packages\\python39\\site-packages (from pyGBM6700e==2.0.1) (5.8.0)\n",
      "Requirement already satisfied: ipykernel in c:\\users\\juan david guerra\\appdata\\local\\packages\\pythonsoftwarefoundation.python.3.9_qbz5n2kfra8p0\\localcache\\local-packages\\python39\\site-packages (from pyGBM6700e==2.0.1) (6.22.0)\n",
      "Requirement already satisfied: scipy in c:\\users\\juan david guerra\\appdata\\local\\packages\\pythonsoftwarefoundation.python.3.9_qbz5n2kfra8p0\\localcache\\local-packages\\python39\\site-packages (from pyGBM6700e==2.0.1) (1.11.4)\n",
      "Requirement already satisfied: tqdm in c:\\users\\juan david guerra\\appdata\\local\\packages\\pythonsoftwarefoundation.python.3.9_qbz5n2kfra8p0\\localcache\\local-packages\\python39\\site-packages (from pyGBM6700e==2.0.1) (4.67.1)\n",
      "Requirement already satisfied: pillow>=8.3.2 in c:\\users\\juan david guerra\\appdata\\local\\packages\\pythonsoftwarefoundation.python.3.9_qbz5n2kfra8p0\\localcache\\local-packages\\python39\\site-packages (from imageio->pyGBM6700e==2.0.1) (9.3.0)\n",
      "Requirement already satisfied: comm>=0.1.1 in c:\\users\\juan david guerra\\appdata\\local\\packages\\pythonsoftwarefoundation.python.3.9_qbz5n2kfra8p0\\localcache\\local-packages\\python39\\site-packages (from ipykernel->pyGBM6700e==2.0.1) (0.1.3)\n",
      "Requirement already satisfied: debugpy>=1.6.5 in c:\\users\\juan david guerra\\appdata\\local\\packages\\pythonsoftwarefoundation.python.3.9_qbz5n2kfra8p0\\localcache\\local-packages\\python39\\site-packages (from ipykernel->pyGBM6700e==2.0.1) (1.6.7)\n",
      "Requirement already satisfied: ipython>=7.23.1 in c:\\users\\juan david guerra\\appdata\\local\\packages\\pythonsoftwarefoundation.python.3.9_qbz5n2kfra8p0\\localcache\\local-packages\\python39\\site-packages (from ipykernel->pyGBM6700e==2.0.1) (8.12.0)\n",
      "Requirement already satisfied: jupyter-client>=6.1.12 in c:\\users\\juan david guerra\\appdata\\local\\packages\\pythonsoftwarefoundation.python.3.9_qbz5n2kfra8p0\\localcache\\local-packages\\python39\\site-packages (from ipykernel->pyGBM6700e==2.0.1) (8.1.0)\n",
      "Requirement already satisfied: jupyter-core!=5.0.*,>=4.12 in c:\\users\\juan david guerra\\appdata\\local\\packages\\pythonsoftwarefoundation.python.3.9_qbz5n2kfra8p0\\localcache\\local-packages\\python39\\site-packages (from ipykernel->pyGBM6700e==2.0.1) (5.3.0)\n",
      "Requirement already satisfied: matplotlib-inline>=0.1 in c:\\users\\juan david guerra\\appdata\\local\\packages\\pythonsoftwarefoundation.python.3.9_qbz5n2kfra8p0\\localcache\\local-packages\\python39\\site-packages (from ipykernel->pyGBM6700e==2.0.1) (0.1.6)\n",
      "Requirement already satisfied: nest-asyncio in c:\\users\\juan david guerra\\appdata\\local\\packages\\pythonsoftwarefoundation.python.3.9_qbz5n2kfra8p0\\localcache\\local-packages\\python39\\site-packages (from ipykernel->pyGBM6700e==2.0.1) (1.5.6)\n",
      "Requirement already satisfied: packaging in c:\\users\\juan david guerra\\appdata\\local\\packages\\pythonsoftwarefoundation.python.3.9_qbz5n2kfra8p0\\localcache\\local-packages\\python39\\site-packages (from ipykernel->pyGBM6700e==2.0.1) (21.3)\n",
      "Requirement already satisfied: psutil in c:\\users\\juan david guerra\\appdata\\local\\packages\\pythonsoftwarefoundation.python.3.9_qbz5n2kfra8p0\\localcache\\local-packages\\python39\\site-packages (from ipykernel->pyGBM6700e==2.0.1) (5.9.4)\n",
      "Requirement already satisfied: pyzmq>=20 in c:\\users\\juan david guerra\\appdata\\local\\packages\\pythonsoftwarefoundation.python.3.9_qbz5n2kfra8p0\\localcache\\local-packages\\python39\\site-packages (from ipykernel->pyGBM6700e==2.0.1) (25.0.2)\n",
      "Requirement already satisfied: tornado>=6.1 in c:\\users\\juan david guerra\\appdata\\local\\packages\\pythonsoftwarefoundation.python.3.9_qbz5n2kfra8p0\\localcache\\local-packages\\python39\\site-packages (from ipykernel->pyGBM6700e==2.0.1) (6.2)\n",
      "Requirement already satisfied: traitlets>=5.4.0 in c:\\users\\juan david guerra\\appdata\\local\\packages\\pythonsoftwarefoundation.python.3.9_qbz5n2kfra8p0\\localcache\\local-packages\\python39\\site-packages (from ipykernel->pyGBM6700e==2.0.1) (5.9.0)\n",
      "Collecting choreographer>=1.0.10 (from kaleido->pyGBM6700e==2.0.1)\n",
      "  Downloading choreographer-1.1.1-py3-none-any.whl.metadata (6.8 kB)\n",
      "Collecting logistro>=1.0.8 (from kaleido->pyGBM6700e==2.0.1)\n",
      "  Downloading logistro-1.1.0-py3-none-any.whl.metadata (2.6 kB)\n",
      "Collecting orjson>=3.10.15 (from kaleido->pyGBM6700e==2.0.1)\n",
      "  Downloading orjson-3.11.3-cp39-cp39-win_amd64.whl.metadata (43 kB)\n",
      "Collecting pytest-timeout>=2.4.0 (from kaleido->pyGBM6700e==2.0.1)\n",
      "  Downloading pytest_timeout-2.4.0-py3-none-any.whl.metadata (20 kB)\n",
      "Requirement already satisfied: contourpy>=1.0.1 in c:\\users\\juan david guerra\\appdata\\local\\packages\\pythonsoftwarefoundation.python.3.9_qbz5n2kfra8p0\\localcache\\local-packages\\python39\\site-packages (from matplotlib->pyGBM6700e==2.0.1) (1.2.1)\n",
      "Requirement already satisfied: cycler>=0.10 in c:\\users\\juan david guerra\\appdata\\local\\packages\\pythonsoftwarefoundation.python.3.9_qbz5n2kfra8p0\\localcache\\local-packages\\python39\\site-packages (from matplotlib->pyGBM6700e==2.0.1) (0.11.0)\n",
      "Requirement already satisfied: fonttools>=4.22.0 in c:\\users\\juan david guerra\\appdata\\local\\packages\\pythonsoftwarefoundation.python.3.9_qbz5n2kfra8p0\\localcache\\local-packages\\python39\\site-packages (from matplotlib->pyGBM6700e==2.0.1) (4.38.0)\n",
      "Requirement already satisfied: kiwisolver>=1.0.1 in c:\\users\\juan david guerra\\appdata\\local\\packages\\pythonsoftwarefoundation.python.3.9_qbz5n2kfra8p0\\localcache\\local-packages\\python39\\site-packages (from matplotlib->pyGBM6700e==2.0.1) (1.4.4)\n",
      "Requirement already satisfied: pyparsing>=2.3.1 in c:\\users\\juan david guerra\\appdata\\local\\packages\\pythonsoftwarefoundation.python.3.9_qbz5n2kfra8p0\\localcache\\local-packages\\python39\\site-packages (from matplotlib->pyGBM6700e==2.0.1) (3.0.9)\n",
      "Requirement already satisfied: python-dateutil>=2.7 in c:\\users\\juan david guerra\\appdata\\local\\packages\\pythonsoftwarefoundation.python.3.9_qbz5n2kfra8p0\\localcache\\local-packages\\python39\\site-packages (from matplotlib->pyGBM6700e==2.0.1) (2.8.2)\n",
      "Requirement already satisfied: importlib-resources>=3.2.0 in c:\\users\\juan david guerra\\appdata\\local\\packages\\pythonsoftwarefoundation.python.3.9_qbz5n2kfra8p0\\localcache\\local-packages\\python39\\site-packages (from matplotlib->pyGBM6700e==2.0.1) (6.4.0)\n",
      "Requirement already satisfied: fastjsonschema in c:\\users\\juan david guerra\\appdata\\local\\packages\\pythonsoftwarefoundation.python.3.9_qbz5n2kfra8p0\\localcache\\local-packages\\python39\\site-packages (from nbformat->pyGBM6700e==2.0.1) (2.16.3)\n",
      "Requirement already satisfied: jsonschema>=2.6 in c:\\users\\juan david guerra\\appdata\\local\\packages\\pythonsoftwarefoundation.python.3.9_qbz5n2kfra8p0\\localcache\\local-packages\\python39\\site-packages (from nbformat->pyGBM6700e==2.0.1) (4.17.3)\n",
      "Requirement already satisfied: pytz>=2020.1 in c:\\users\\juan david guerra\\appdata\\local\\packages\\pythonsoftwarefoundation.python.3.9_qbz5n2kfra8p0\\localcache\\local-packages\\python39\\site-packages (from pandas->pyGBM6700e==2.0.1) (2025.2)\n",
      "Requirement already satisfied: tzdata>=2022.7 in c:\\users\\juan david guerra\\appdata\\local\\packages\\pythonsoftwarefoundation.python.3.9_qbz5n2kfra8p0\\localcache\\local-packages\\python39\\site-packages (from pandas->pyGBM6700e==2.0.1) (2025.2)\n",
      "Requirement already satisfied: narwhals>=1.15.1 in c:\\users\\juan david guerra\\appdata\\local\\packages\\pythonsoftwarefoundation.python.3.9_qbz5n2kfra8p0\\localcache\\local-packages\\python39\\site-packages (from plotly->pyGBM6700e==2.0.1) (2.5.0)\n",
      "Requirement already satisfied: colorama in c:\\users\\juan david guerra\\appdata\\local\\packages\\pythonsoftwarefoundation.python.3.9_qbz5n2kfra8p0\\localcache\\local-packages\\python39\\site-packages (from tqdm->pyGBM6700e==2.0.1) (0.4.6)\n",
      "Collecting simplejson>=3.19.3 (from choreographer>=1.0.10->kaleido->pyGBM6700e==2.0.1)\n",
      "  Downloading simplejson-3.20.1-cp39-cp39-win_amd64.whl.metadata (3.4 kB)\n",
      "Requirement already satisfied: zipp>=3.1.0 in c:\\users\\juan david guerra\\appdata\\local\\packages\\pythonsoftwarefoundation.python.3.9_qbz5n2kfra8p0\\localcache\\local-packages\\python39\\site-packages (from importlib-resources>=3.2.0->matplotlib->pyGBM6700e==2.0.1) (3.15.0)\n",
      "Requirement already satisfied: backcall in c:\\users\\juan david guerra\\appdata\\local\\packages\\pythonsoftwarefoundation.python.3.9_qbz5n2kfra8p0\\localcache\\local-packages\\python39\\site-packages (from ipython>=7.23.1->ipykernel->pyGBM6700e==2.0.1) (0.2.0)\n",
      "Requirement already satisfied: decorator in c:\\users\\juan david guerra\\appdata\\local\\packages\\pythonsoftwarefoundation.python.3.9_qbz5n2kfra8p0\\localcache\\local-packages\\python39\\site-packages (from ipython>=7.23.1->ipykernel->pyGBM6700e==2.0.1) (5.1.1)\n",
      "Requirement already satisfied: jedi>=0.16 in c:\\users\\juan david guerra\\appdata\\local\\packages\\pythonsoftwarefoundation.python.3.9_qbz5n2kfra8p0\\localcache\\local-packages\\python39\\site-packages (from ipython>=7.23.1->ipykernel->pyGBM6700e==2.0.1) (0.18.2)\n",
      "Requirement already satisfied: pickleshare in c:\\users\\juan david guerra\\appdata\\local\\packages\\pythonsoftwarefoundation.python.3.9_qbz5n2kfra8p0\\localcache\\local-packages\\python39\\site-packages (from ipython>=7.23.1->ipykernel->pyGBM6700e==2.0.1) (0.7.5)\n",
      "Requirement already satisfied: prompt-toolkit!=3.0.37,<3.1.0,>=3.0.30 in c:\\users\\juan david guerra\\appdata\\local\\packages\\pythonsoftwarefoundation.python.3.9_qbz5n2kfra8p0\\localcache\\local-packages\\python39\\site-packages (from ipython>=7.23.1->ipykernel->pyGBM6700e==2.0.1) (3.0.38)\n",
      "Requirement already satisfied: pygments>=2.4.0 in c:\\users\\juan david guerra\\appdata\\local\\packages\\pythonsoftwarefoundation.python.3.9_qbz5n2kfra8p0\\localcache\\local-packages\\python39\\site-packages (from ipython>=7.23.1->ipykernel->pyGBM6700e==2.0.1) (2.14.0)\n",
      "Requirement already satisfied: stack-data in c:\\users\\juan david guerra\\appdata\\local\\packages\\pythonsoftwarefoundation.python.3.9_qbz5n2kfra8p0\\localcache\\local-packages\\python39\\site-packages (from ipython>=7.23.1->ipykernel->pyGBM6700e==2.0.1) (0.6.2)\n",
      "Requirement already satisfied: typing-extensions in c:\\users\\juan david guerra\\appdata\\local\\packages\\pythonsoftwarefoundation.python.3.9_qbz5n2kfra8p0\\localcache\\local-packages\\python39\\site-packages (from ipython>=7.23.1->ipykernel->pyGBM6700e==2.0.1) (4.15.0)\n",
      "Requirement already satisfied: attrs>=17.4.0 in c:\\users\\juan david guerra\\appdata\\local\\packages\\pythonsoftwarefoundation.python.3.9_qbz5n2kfra8p0\\localcache\\local-packages\\python39\\site-packages (from jsonschema>=2.6->nbformat->pyGBM6700e==2.0.1) (22.1.0)\n",
      "Requirement already satisfied: pyrsistent!=0.17.0,!=0.17.1,!=0.17.2,>=0.14.0 in c:\\users\\juan david guerra\\appdata\\local\\packages\\pythonsoftwarefoundation.python.3.9_qbz5n2kfra8p0\\localcache\\local-packages\\python39\\site-packages (from jsonschema>=2.6->nbformat->pyGBM6700e==2.0.1) (0.19.3)\n",
      "Requirement already satisfied: importlib-metadata>=4.8.3 in c:\\users\\juan david guerra\\appdata\\local\\packages\\pythonsoftwarefoundation.python.3.9_qbz5n2kfra8p0\\localcache\\local-packages\\python39\\site-packages (from jupyter-client>=6.1.12->ipykernel->pyGBM6700e==2.0.1) (6.2.0)\n",
      "Requirement already satisfied: platformdirs>=2.5 in c:\\users\\juan david guerra\\appdata\\local\\packages\\pythonsoftwarefoundation.python.3.9_qbz5n2kfra8p0\\localcache\\local-packages\\python39\\site-packages (from jupyter-core!=5.0.*,>=4.12->ipykernel->pyGBM6700e==2.0.1) (3.2.0)\n",
      "Requirement already satisfied: pywin32>=300 in c:\\users\\juan david guerra\\appdata\\local\\packages\\pythonsoftwarefoundation.python.3.9_qbz5n2kfra8p0\\localcache\\local-packages\\python39\\site-packages (from jupyter-core!=5.0.*,>=4.12->ipykernel->pyGBM6700e==2.0.1) (306)\n",
      "Requirement already satisfied: pytest>=7.0.0 in c:\\users\\juan david guerra\\appdata\\local\\packages\\pythonsoftwarefoundation.python.3.9_qbz5n2kfra8p0\\localcache\\local-packages\\python39\\site-packages (from pytest-timeout>=2.4.0->kaleido->pyGBM6700e==2.0.1) (7.0.1)\n",
      "Requirement already satisfied: six>=1.5 in c:\\users\\juan david guerra\\appdata\\local\\packages\\pythonsoftwarefoundation.python.3.9_qbz5n2kfra8p0\\localcache\\local-packages\\python39\\site-packages (from python-dateutil>=2.7->matplotlib->pyGBM6700e==2.0.1) (1.16.0)\n",
      "Requirement already satisfied: parso<0.9.0,>=0.8.0 in c:\\users\\juan david guerra\\appdata\\local\\packages\\pythonsoftwarefoundation.python.3.9_qbz5n2kfra8p0\\localcache\\local-packages\\python39\\site-packages (from jedi>=0.16->ipython>=7.23.1->ipykernel->pyGBM6700e==2.0.1) (0.8.3)\n",
      "Requirement already satisfied: wcwidth in c:\\users\\juan david guerra\\appdata\\local\\packages\\pythonsoftwarefoundation.python.3.9_qbz5n2kfra8p0\\localcache\\local-packages\\python39\\site-packages (from prompt-toolkit!=3.0.37,<3.1.0,>=3.0.30->ipython>=7.23.1->ipykernel->pyGBM6700e==2.0.1) (0.2.6)\n",
      "Requirement already satisfied: iniconfig in c:\\users\\juan david guerra\\appdata\\local\\packages\\pythonsoftwarefoundation.python.3.9_qbz5n2kfra8p0\\localcache\\local-packages\\python39\\site-packages (from pytest>=7.0.0->pytest-timeout>=2.4.0->kaleido->pyGBM6700e==2.0.1) (1.1.1)\n",
      "Requirement already satisfied: pluggy<2.0,>=0.12 in c:\\users\\juan david guerra\\appdata\\local\\packages\\pythonsoftwarefoundation.python.3.9_qbz5n2kfra8p0\\localcache\\local-packages\\python39\\site-packages (from pytest>=7.0.0->pytest-timeout>=2.4.0->kaleido->pyGBM6700e==2.0.1) (1.0.0)\n",
      "Requirement already satisfied: py>=1.8.2 in c:\\users\\juan david guerra\\appdata\\local\\packages\\pythonsoftwarefoundation.python.3.9_qbz5n2kfra8p0\\localcache\\local-packages\\python39\\site-packages (from pytest>=7.0.0->pytest-timeout>=2.4.0->kaleido->pyGBM6700e==2.0.1) (1.11.0)\n",
      "Requirement already satisfied: tomli>=1.0.0 in c:\\users\\juan david guerra\\appdata\\local\\packages\\pythonsoftwarefoundation.python.3.9_qbz5n2kfra8p0\\localcache\\local-packages\\python39\\site-packages (from pytest>=7.0.0->pytest-timeout>=2.4.0->kaleido->pyGBM6700e==2.0.1) (2.0.1)\n",
      "Requirement already satisfied: atomicwrites>=1.0 in c:\\users\\juan david guerra\\appdata\\local\\packages\\pythonsoftwarefoundation.python.3.9_qbz5n2kfra8p0\\localcache\\local-packages\\python39\\site-packages (from pytest>=7.0.0->pytest-timeout>=2.4.0->kaleido->pyGBM6700e==2.0.1) (1.4.1)\n",
      "Requirement already satisfied: executing>=1.2.0 in c:\\users\\juan david guerra\\appdata\\local\\packages\\pythonsoftwarefoundation.python.3.9_qbz5n2kfra8p0\\localcache\\local-packages\\python39\\site-packages (from stack-data->ipython>=7.23.1->ipykernel->pyGBM6700e==2.0.1) (1.2.0)\n",
      "Requirement already satisfied: asttokens>=2.1.0 in c:\\users\\juan david guerra\\appdata\\local\\packages\\pythonsoftwarefoundation.python.3.9_qbz5n2kfra8p0\\localcache\\local-packages\\python39\\site-packages (from stack-data->ipython>=7.23.1->ipykernel->pyGBM6700e==2.0.1) (2.2.1)\n",
      "Requirement already satisfied: pure-eval in c:\\users\\juan david guerra\\appdata\\local\\packages\\pythonsoftwarefoundation.python.3.9_qbz5n2kfra8p0\\localcache\\local-packages\\python39\\site-packages (from stack-data->ipython>=7.23.1->ipykernel->pyGBM6700e==2.0.1) (0.2.2)\n",
      "Downloading imageio-2.37.0-py3-none-any.whl (315 kB)\n",
      "Downloading kaleido-1.1.0-py3-none-any.whl (66 kB)\n",
      "Downloading mat4py-0.6.0-py2.py3-none-any.whl (13 kB)\n",
      "Downloading choreographer-1.1.1-py3-none-any.whl (52 kB)\n",
      "Downloading logistro-1.1.0-py3-none-any.whl (7.9 kB)\n",
      "Downloading orjson-3.11.3-cp39-cp39-win_amd64.whl (131 kB)\n",
      "Downloading pytest_timeout-2.4.0-py3-none-any.whl (14 kB)\n",
      "Downloading simplejson-3.20.1-cp39-cp39-win_amd64.whl (75 kB)\n",
      "Building wheels for collected packages: pyGBM6700e\n",
      "  Building wheel for pyGBM6700e (pyproject.toml): started\n",
      "  Building wheel for pyGBM6700e (pyproject.toml): finished with status 'done'\n",
      "  Created wheel for pyGBM6700e: filename=pygbm6700e-2.0.1-py3-none-any.whl size=16674 sha256=16c2f3a26cbf37b22951b3388085ce855c7360df29e9bf0c98a30c5bc6df8201\n",
      "  Stored in directory: C:\\Users\\Juan David Guerra\\AppData\\Local\\Temp\\pip-ephem-wheel-cache-afgqq6ud\\wheels\\91\\d0\\69\\3aa6cfb513c6491de13a53485c8bbc1b65be5cde361e190779\n",
      "Successfully built pyGBM6700e\n",
      "Installing collected packages: mat4py, simplejson, orjson, logistro, imageio, choreographer, pytest-timeout, kaleido, pyGBM6700e\n",
      "Successfully installed choreographer-1.1.1 imageio-2.37.0 kaleido-1.1.0 logistro-1.1.0 mat4py-0.6.0 orjson-3.11.3 pyGBM6700e-2.0.1 pytest-timeout-2.4.0 simplejson-3.20.1\n"
     ]
    },
    {
     "name": "stderr",
     "output_type": "stream",
     "text": [
      "  Running command git clone --filter=blob:none --quiet https://github.com/vtrno/PyGBM6700E.git 'C:\\Users\\Juan David Guerra\\AppData\\Local\\Temp\\pip-req-build-r_iyupbd'\n",
      "\n",
      "[notice] A new release of pip is available: 24.3.1 -> 25.2\n",
      "[notice] To update, run: C:\\Users\\Juan David Guerra\\AppData\\Local\\Microsoft\\WindowsApps\\PythonSoftwareFoundation.Python.3.9_qbz5n2kfra8p0\\python.exe -m pip install --upgrade pip\n"
     ]
    }
   ],
   "execution_count": 1
  },
  {
   "cell_type": "code",
   "metadata": {
    "ExecuteTime": {
     "end_time": "2025-09-22T12:31:44.559755Z",
     "start_time": "2025-09-22T12:31:44.548120Z"
    }
   },
   "source": [
    "from pyGBM6700e import lab_1\n",
    "import os\n",
    "import numpy as np\n",
    "import plotly.graph_objects as go\n",
    "import plotly.express as px\n",
    "from copy import deepcopy\n",
    "import random\n",
    "from plotly.subplots import make_subplots\n",
    "\n",
    "np.set_printoptions(precision=2)\n",
    "\n",
    "\n",
    "root_directory = \"lab_data\"\n",
    "view_0 = 'PA0'\n",
    "view_1 = 'LAT'"
   ],
   "outputs": [],
   "execution_count": 5
  },
  {
   "cell_type": "markdown",
   "metadata": {},
   "source": [
    "# Preamble\n",
    "Please write the RMS calculation function here. You will need this function throughout the assignment, so craft it with care !"
   ]
  },
  {
   "cell_type": "code",
   "metadata": {
    "ExecuteTime": {
     "end_time": "2025-09-22T12:31:23.457496Z",
     "start_time": "2025-09-22T12:31:23.452894Z"
    }
   },
   "source": [
    "def rms(reference:np.ndarray, prediction:np.ndarray) -> float:\n",
    "    \"\"\"\n",
    "    Calculates RMS\n",
    "\n",
    "    Parameters\n",
    "    ----------\n",
    "    reference : np.ndarray\n",
    "        Reference value\n",
    "    prediction : np.ndarray\n",
    "        Calculated/predicted value\n",
    "\n",
    "    Returns\n",
    "    -------\n",
    "    float\n",
    "        RMS metric\n",
    "    \"\"\"\n",
    "    if reference.shape != prediction.shape:\n",
    "        raise ValueError('Please provide arrays that are shaped the same ! Reference has shape {refshape} whereas prediction has shape {predshape}'.format(refshape = reference.shape, predshape = prediction.shape))\n",
    "    rms_value = 0.\n",
    "    if len(reference.shape) == 2: # Array of shape N, 3:\n",
    "        rms_value = np.sqrt(np.sum(np.linalg.norm(prediction - reference, axis=1)**2)/(reference.shape[0]))\n",
    "    else: # Array of shape N, :\n",
    "        rms_value = np.sqrt(np.sum((prediction - reference)**2)/(reference.shape[0]))\n",
    "    return rms_value"
   ],
   "outputs": [],
   "execution_count": 3
  },
  {
   "cell_type": "markdown",
   "metadata": {},
   "source": [
    "# Question 1.1\n",
    "Write the code for finding the over determined system matrix A. Then use the dlt function from lab_1.solver to extract the L parameters vector for each view."
   ]
  },
  {
   "cell_type": "code",
   "metadata": {
    "ExecuteTime": {
     "end_time": "2025-09-22T12:31:47.252083Z",
     "start_time": "2025-09-22T12:31:47.220897Z"
    }
   },
   "source": [
    "beads_data = lab_1.io.process_files(root_directory)\n",
    "# ? Filter out non redundant beads\n",
    "unique_beads = beads_data['2d']['bead'].tolist()\n",
    "unique_beads = [x.replace('C', 'A') for x in unique_beads]\n",
    "unique_beads = [x.replace('D', 'B') for x in unique_beads]\n",
    "\n",
    "# ? Count values\n",
    "value_count = {}\n",
    "for k in unique_beads:\n",
    "    if k in value_count.keys():\n",
    "        value_count[k] += 1\n",
    "    else:\n",
    "        value_count[k] = 1\n",
    "\n",
    "# ? Exclude the ones that aren't visible from everywhere\n",
    "for k, v in zip(list(value_count.keys()), list(value_count.values())):\n",
    "    if v == 1:\n",
    "        print('Dropped', k)\n",
    "        del value_count[k]\n",
    "\n",
    "unique_beads = list(value_count.keys())\n",
    "unique_beads.extend([x.replace('A', 'C') if 'A' in x else x.replace('B', 'D') for x in unique_beads])\n",
    "beads_data['2d'] = beads_data['2d'][beads_data['2d']['bead'].isin(unique_beads)]\n",
    "beads_data['3d'] = beads_data['3d'][beads_data['3d']['bead'].isin(unique_beads)]"
   ],
   "outputs": [
    {
     "name": "stdout",
     "output_type": "stream",
     "text": [
      "Dropped A_4_1\n",
      "Dropped B_3_5\n"
     ]
    }
   ],
   "execution_count": 6
  },
  {
   "cell_type": "code",
   "metadata": {
    "ExecuteTime": {
     "end_time": "2025-09-22T12:44:30.915692Z",
     "start_time": "2025-09-22T12:44:30.902341Z"
    }
   },
   "source": [
    "from pyGBM6700e.lab_1.data import select_view, join_dataframes\n",
    "\n",
    "def get_a(view:str, data:dict) -> np.ndarray:\n",
    "    \"\"\"\n",
    "    Uses the view name and existing data for pre calculating the system matrix for calculating the 11 DLT coefficients\n",
    "\n",
    "    Parameters\n",
    "    ----------\n",
    "    view : str\n",
    "        View name\n",
    "    data : dict\n",
    "        Data as a dict, with two keys ['2d', '3d']. Each key is associated to a table giving points location in 2d/3d, bead identifier and view name.\n",
    "\n",
    "    Returns\n",
    "    -------\n",
    "    np.ndarray\n",
    "        A matrix, for the DLT\n",
    "    \"\"\"\n",
    "    A = []\n",
    "    joint_data = join_dataframes(select_view(data['2d'], view), data['3d'], 'bead')\n",
    "    # TODO : Using the equations from Appendix 1, write a function to turn pairs of 2D/3D beads data to an overdeterminated system.\n",
    "    for datum in joint_data.iterrows():\n",
    "        u_i = datum[1][\"x_2d\"]\n",
    "        v_i = datum[1][\"y_2d\"]\n",
    "        x_i = datum[1][\"x_3d\"]\n",
    "        y_i = datum[1][\"y_3d\"]\n",
    "        z_i = datum[1][\"z_3d\"]\n",
    "        A.append([x_i, y_i, z_i, 1, 0, 0, 0, 0, -u_i*x_i, -u_i*y_i, -u_i*z_i, -u_i])\n",
    "        A.append([0, 0, 0, 0, x_i, y_i, z_i, 1, -v_i*x_i, -v_i*y_i, -v_i*z_i, -v_i])\n",
    "    # HINT 1 : we want to end up with some system AM = 0 where M is a vector containing [L0, L1... L10, 1]. So you just need to return A !\n",
    "    # HINT 2 : I gave you 'joint_data'. It's a dataframe, so check the columns names !\n",
    "    return np.array(A)\n"
   ],
   "outputs": [],
   "execution_count": 49
  },
  {
   "cell_type": "code",
   "metadata": {
    "ExecuteTime": {
     "end_time": "2025-09-22T12:44:01.698250Z",
     "start_time": "2025-09-22T12:44:01.674592Z"
    }
   },
   "source": [
    "l_view0 = lab_1.solver.dlt(get_a('Beads2D_'+view_0, beads_data))\n",
    "l_view1 = lab_1.solver.dlt(get_a('Beads2D_'+view_1, beads_data))"
   ],
   "outputs": [],
   "execution_count": 47
  },
  {
   "cell_type": "code",
   "metadata": {
    "ExecuteTime": {
     "end_time": "2025-09-22T12:31:54.181128Z",
     "start_time": "2025-09-22T12:31:54.169373Z"
    }
   },
   "source": [
    "print(\"DLT parameters for %s : \"%view_0, l_view0)\n",
    "print(\"DLT parameters for %s : \"%view_1, l_view1)"
   ],
   "outputs": [
    {
     "name": "stdout",
     "output_type": "stream",
     "text": [
      "DLT parameters for PA0 :  [ 4.09e-03 -2.57e+00 -2.44e-03 -4.16e-03 -3.60e-02  3.18e-03  2.58e+00\n",
      " -5.67e-01  5.50e-04  1.57e-06 -9.44e-06]\n",
      "DLT parameters for LAT :  [-3.09e+00  1.29e-01 -1.93e-03 -9.36e+02  4.54e-03  4.34e-02  3.10e+00\n",
      "  1.39e+01 -2.36e-05 -6.61e-04 -1.22e-05]\n"
     ]
    }
   ],
   "execution_count": 9
  },
  {
   "cell_type": "markdown",
   "metadata": {},
   "source": [
    "# Question 1.2"
   ]
  },
  {
   "cell_type": "code",
   "metadata": {
    "ExecuteTime": {
     "end_time": "2025-09-22T12:31:59.611928Z",
     "start_time": "2025-09-22T12:31:59.584229Z"
    }
   },
   "source": [
    "def get_parameters(dlt_params:np.ndarray) -> dict:\n",
    "    \"\"\"\n",
    "    Outputs a dictionnary containing the intrinsic and extrinsic parameters of the system based on the DLT parameters.\n",
    "\n",
    "    Parameters\n",
    "    ----------\n",
    "    dlt_params : np.ndarray\n",
    "        _description_\n",
    "\n",
    "    Returns\n",
    "    -------\n",
    "    dict\n",
    "        Dict with keys ['u0', 'v0', 'c_u', 'c_v', 'R', 'source_coordinates']\n",
    "    \"\"\"\n",
    "    out = {}\n",
    "    l1, l2, l3, l4, l5, l6, l7, l8, l9, l10, l11 = dlt_params\n",
    "    d = -1/(np.sqrt(l9**2 + l10**2 + l11**2))\n",
    "    u0 = (l1 * l9 + l2 * l10 + l3 * l11) * d**2\n",
    "    v0 = (l5 * l9 + l6 * l10 + l7 * l11) * d**2\n",
    "\n",
    "    cu = np.sqrt(d**2 * ((u0*l9 - l1)**2 + (u0*l10 - l2)**2 + (u0*l11 - l3)**2))\n",
    "    cv = np.sqrt(d**2 * ((v0*l9 - l5)**2 + (v0*l10 - l6)**2 + (v0*l11 - l7)**2))\n",
    "\n",
    "    R = []\n",
    "    r1 = [d/cu *(u0*l9 - l1), d/cu *(u0*l10 - l2), d/cu *(u0*l11 - l3)]\n",
    "    r2 = [d/cv *(v0*l9 - l5), d/cv *(v0*l10 - l6), d/cv *(v0*l11 - l7)]\n",
    "    r3 = [l9 * d, l10 * d, l11 * d]\n",
    "    R.append(r1)\n",
    "    R.append(r2)\n",
    "    R.append(r3)\n",
    "\n",
    "    A = [[l1, l2, l3], [l5, l6, l7], [l9, l10, l11]]\n",
    "    B = [-l4, -l8, -1]\n",
    "\n",
    "    A = np.array(A)\n",
    "    B = np.array(B)\n",
    "    A_inv = np.linalg.inv(A)\n",
    "    x,y,z = A_inv.dot(B.T)\n",
    "\n",
    "    out['u0'] = u0\n",
    "    out['v0'] = v0\n",
    "    out['c_u'] = cu\n",
    "    out['c_v'] = cv\n",
    "    out['R'] = R\n",
    "    out['source_coordinates'] = [x,y,z]\n",
    "\n",
    "    # TODO : Using the equations from Appendix 2, write a function to calculate intrinsic and extrinsic parameters of a system based on the DLT parameters\n",
    "    return out\n",
    "\n",
    "print('View %s :'%view_0)\n",
    "for k, v in get_parameters(l_view0).items():\n",
    "    print('\\t {variable} = {value}'.format(variable = k, value = v))\n",
    "print('-------------------------------------------------------------')\n",
    "print('View %s :'%view_1)\n",
    "for k, v in get_parameters(l_view1).items():\n",
    "    print('\\t {variable} = {value}'.format(variable = k, value = v))"
   ],
   "outputs": [
    {
     "name": "stdout",
     "output_type": "stream",
     "text": [
      "View PA0 :\n",
      "\t u0 = -5.818320392632722\n",
      "\t v0 = -145.91496533853473\n",
      "\t c_u = 4667.8104535235125\n",
      "\t c_v = 4684.955368831336\n",
      "\t R = [[0.0028383099743994737, -0.9999955009676524, -0.000970587936685526], [0.01716201640537952, 0.0013246258755954304, 0.9998518443045407], [-0.999848582937606, -0.0028545538049507243, 0.01716574263571952]]\n",
      "\t source_coordinates = [-1818.7181445750196, -2.8731517662001194, -25.190174003060392]\n",
      "-------------------------------------------------------------\n",
      "View LAT :\n",
      "\t u0 = -29.21576695254617\n",
      "\t v0 = -152.70327971664815\n",
      "\t c_u = 4673.68335022721\n",
      "\t c_v = 4690.201491353493\n",
      "\t R = [[-0.9993648633679075, 0.0356275622757363, -0.0007393726612318864], [0.0003038194953656494, -0.01852736445514756, 0.9998283074908714], [0.0356077967353628, 0.999194504191617, 0.01850479951043856]]\n",
      "\t source_coordinates = [-239.20815295327685, 1522.1804797429031, -25.44596310813415]\n"
     ]
    }
   ],
   "execution_count": 10
  },
  {
   "cell_type": "markdown",
   "metadata": {},
   "source": [
    "# Question 1.3"
   ]
  },
  {
   "cell_type": "code",
   "metadata": {
    "ExecuteTime": {
     "end_time": "2025-09-22T12:32:15.313698Z",
     "start_time": "2025-09-22T12:32:15.298998Z"
    }
   },
   "source": [
    "def calculate_3d_point(u0:float, v0:float, u1:float, v1:float, L0:np.ndarray, L1:np.ndarray) -> np.ndarray:\n",
    "    \"\"\"\n",
    "    Calculates a 3D point from 2 2D coordinates pairs and L0 & L1 DLT calibration coefficients\n",
    "\n",
    "    Parameters\n",
    "    ----------\n",
    "    u0 : float\n",
    "        point 1 x-coordinate\n",
    "    v0 : float\n",
    "        point 1 y-coordinate\n",
    "    u1 : float\n",
    "        point 2 x-coordinate\n",
    "    v1 : float\n",
    "        point 2 y-coordinate\n",
    "    L0 : np.ndarray\n",
    "        DLT coefficients for view 1\n",
    "    L1 : np.ndarray\n",
    "        DLT coefficients for view 2\n",
    "    \"\"\"\n",
    "    A = []\n",
    "    # TODO : using Appendix A, write a function that takes 2 pairs of 2D coordinates and 2 11-parameters vectors as an input to return the corresponding 3D point. \n",
    "    # HINT 1 : It's the exact same problem as in question 1.1, but now the unknowns are x,y and z !\n",
    "    # HINT 2 : Refactor the pair of equation in order to have a 4 equations system (2 equations per view, 2 views) for finding a triplet of coordinates : AM = 0 where M = [x, y, z, 1]\n",
    "    l1, l2, l3, l4, l5, l6, l7, l8, l9, l10, l11 = L0\n",
    "    A.append([u0*l9 - l1, u0*l10 - l2, u0*l11 - l3, u0-l4])\n",
    "    A.append([v0*l9 - l5, v0*l10 - l6, v0*l11 - l7, v0-l8])\n",
    "\n",
    "    l1, l2, l3, l4, l5, l6, l7, l8, l9, l10, l11 = L1\n",
    "    A.append([u1*l9 - l1, u1*l10 - l2, u1*l11 - l3, u1-l4])\n",
    "    A.append([v1*l9 - l5, v1*l10 - l6, v1*l11 - l7, v1-l8])\n",
    "    return lab_1.solver.dlt(np.array(A))"
   ],
   "outputs": [],
   "execution_count": 11
  },
  {
   "cell_type": "code",
   "metadata": {
    "ExecuteTime": {
     "end_time": "2025-09-22T12:32:17.386856Z",
     "start_time": "2025-09-22T12:32:16.889393Z"
    }
   },
   "source": [
    "spine = lab_1.structures.Spine(os.path.join(root_directory,'Vertebrae2D.mat'))\n",
    "colors = px.colors.qualitative.Alphabet\n",
    "fig = lab_1.render.Plot3D()\n",
    "\n",
    "\n",
    "for i, v_name in enumerate(spine.vertebrae):\n",
    "    # TODO : for each vertebra, calculate the location of each anatomical landmark and add its x,y,z coordinates to vert_x, vert_y, vert_z. Each vertebra will then be added to the 3D plot and plotted in the end.\n",
    "    vert = spine.get(v_name).data # Returns the vertebra data\n",
    "    \"\"\"\n",
    "    HINT : the data is a table containing the landmark name and the x,y coordinates for each view (so 5 columns)\n",
    "    HINT : Print the variable vert, and add a 'break' instruction to get out of the loop\n",
    "    For each vertebra, you should have 6 points. Each point is linked to 2 pairs of 2D coordinates, one in each view. These coordinates, with the two 11-DLT parameters will allow you to calculate the 3D position of the 6 anatomical landmarks on the vertebra.\n",
    "    \"\"\"\n",
    "    vert_x, vert_y, vert_z = [], [], []\n",
    "\n",
    "    for datum in vert.iterrows():\n",
    "        datum = datum[1]\n",
    "        u0 = datum[\"x_Vertebrae_LAT\"]\n",
    "        v0 = datum[\"y_Vertebrae_LAT\"]\n",
    "        u1 = datum[\"x_Vertebrae_PA0\"]\n",
    "        v1 = datum[\"y_Vertebrae_PA0\"]\n",
    "        point = calculate_3d_point(u0, v0, u1, v1, l_view0, l_view1)\n",
    "        vert_x.append(point[0])\n",
    "        vert_y.append(point[1])\n",
    "        vert_z.append(point[2])\n",
    "    \"\"\"\n",
    "    PSEUDOCODE\n",
    "    for each anatomical_landmark in vertebra_points:\n",
    "        x_point, y_point, z_point <- calculate_3d_point(anatomical_landmark, l_view0, l_view1)\n",
    "        Append x_point to vert_x\n",
    "        Append y_point to vert_y\n",
    "        Append z_point to vert_z\n",
    "    \"\"\"\n",
    "    fig.scatter_vertebrae(vert_x, vert_y, vert_z, v_name, colors[i]) # Adds the landmarks to the figure\n",
    "SPINE_3D_POINTS = fig.points # Access all the figure points as an array this way, will be useful in the rest of this assignment\n",
    "fig.show() # Shows the figure"
   ],
   "outputs": [
    {
     "data": {
      "application/vnd.plotly.v1+json": {
       "data": [
        {
         "hovertemplate": "<br><b>x</b>:%{x:.2f}<br><b>y</b>:%{y:.2f}<br><b>z</b>:%{z:.2f}<br><b>Landmark</b>:%{text}",
         "legendgroup": "Vertebra_T1",
         "legendgrouptitle": {
          "text": "Vertebra_T1"
         },
         "marker": {
          "color": "#AA0DFE",
          "size": 1
         },
         "mode": "markers",
         "name": " ",
         "text": [
          "Ped_Inf_R",
          "Ped_Inf_L",
          "Ped_Sup_R",
          "Ped_Sup_L",
          "Plat_Inf_Cent",
          "Plat_Sup_Cent"
         ],
         "x": [
          -314.3667297363281,
          -290.9049377441406,
          -315.3137512207031,
          -291.8697509765625,
          -300.04010009765625,
          -303.6982116699219
         ],
         "y": [
          -25.9996280670166,
          -24.855815887451172,
          -24.43302345275879,
          -23.25383949279785,
          -16.001670837402344,
          -13.446990966796875
         ],
         "z": [
          272.5718078613281,
          280.6470947265625,
          277.1153259277344,
          285.076171875,
          269.71624755859375,
          282.0858154296875
         ],
         "type": "scatter3d"
        },
        {
         "legendgroup": "Vertebra_T1",
         "legendgrouptitle": {
          "text": "Vertebra_T1"
         },
         "line": {
          "color": "#AA0DFE",
          "width": 5.0
         },
         "mode": "lines",
         "name": "Vertebra_T1",
         "showlegend": false,
         "x": {
          "dtype": "f4",
          "bdata": "8S6dwymoncNU75HD1XORw/EuncMiBZbD1XORwyIFlsNf2ZfDVO+Rw1/Zl8MpqJ3D"
         },
         "y": {
          "dtype": "f4",
          "bdata": "Pf/PwdV2w8HdB7rBttjGwT3/z8FsA4DBttjGwWwDgMHgJlfB3Qe6weAmV8HVdsPB"
         },
         "z": {
          "dtype": "f4",
          "bdata": "MUmIQ8OOikPAiY5D1FKMQzFJiEOu24ZD1FKMQ67bhkP8Co1DwImOQ/wKjUPDjopD"
         },
         "type": "scatter3d"
        },
        {
         "hovertemplate": "<br><b>x</b>:%{x:.2f}<br><b>y</b>:%{y:.2f}<br><b>z</b>:%{z:.2f}<br><b>Landmark</b>:%{text}",
         "legendgroup": "Vertebra_T2",
         "legendgrouptitle": {
          "text": "Vertebra_T2"
         },
         "marker": {
          "color": "#3283FE",
          "size": 1
         },
         "mode": "markers",
         "name": " ",
         "text": [
          "Ped_Inf_R",
          "Ped_Inf_L",
          "Ped_Sup_R",
          "Ped_Sup_L",
          "Plat_Inf_Cent",
          "Plat_Sup_Cent"
         ],
         "x": [
          -307.9307861328125,
          -286.81585693359375,
          -309.40887451171875,
          -288.0790710449219,
          -294.6184997558594,
          -298.9604187011719
         ],
         "y": [
          -31.6629638671875,
          -30.211641311645508,
          -29.868135452270508,
          -28.226810455322266,
          -21.220783233642578,
          -17.72123146057129
         ],
         "z": [
          256.9100036621094,
          265.0438537597656,
          262.3979187011719,
          270.2857360839844,
          253.5318603515625,
          265.9583435058594
         ],
         "type": "scatter3d"
        },
        {
         "legendgroup": "Vertebra_T2",
         "legendgrouptitle": {
          "text": "Vertebra_T2"
         },
         "line": {
          "color": "#3283FE",
          "width": 5.0
         },
         "mode": "lines",
         "name": "Vertebra_T2",
         "showlegend": false,
         "x": {
          "dtype": "f4",
          "bdata": "JPeZw1a0msMfCpDDbmiPwyT3mcMrT5PDbmiPwytPk8PvepXDHwqQw+96lcNWtJrD"
         },
         "y": {
          "dtype": "f4",
          "bdata": "wE39wfHx7sGC0OHBcbHxwcBN/cEqxKnBcbHxwSrEqcEVxY3BgtDhwRXFjcHx8e7B"
         },
         "z": {
          "dtype": "f4",
          "bdata": "e3SAQ+8yg0OTJIdDnYWEQ3t0gEMoiH1DnYWEQyiIfUOr+oRDkySHQ6v6hEPvMoND"
         },
         "type": "scatter3d"
        },
        {
         "hovertemplate": "<br><b>x</b>:%{x:.2f}<br><b>y</b>:%{y:.2f}<br><b>z</b>:%{z:.2f}<br><b>Landmark</b>:%{text}",
         "legendgroup": "Vertebra_T3",
         "legendgrouptitle": {
          "text": "Vertebra_T3"
         },
         "marker": {
          "color": "#85660D",
          "size": 1
         },
         "mode": "markers",
         "name": " ",
         "text": [
          "Ped_Inf_R",
          "Ped_Inf_L",
          "Ped_Sup_R",
          "Ped_Sup_L",
          "Plat_Inf_Cent",
          "Plat_Sup_Cent"
         ],
         "x": [
          -301.5083923339844,
          -282.2652282714844,
          -303.0833740234375,
          -282.93707275390625,
          -290.3846740722656,
          -293.08392333984375
         ],
         "y": [
          -36.36541748046875,
          -36.410709381103516,
          -34.984283447265625,
          -35.14276123046875,
          -25.703168869018555,
          -22.482656478881836
         ],
         "z": [
          243.1013946533203,
          247.14553833007812,
          249.0574951171875,
          254.453125,
          235.04306030273438,
          250.04190063476562
         ],
         "type": "scatter3d"
        },
        {
         "legendgroup": "Vertebra_T3",
         "legendgrouptitle": {
          "text": "Vertebra_T3"
         },
         "line": {
          "color": "#85660D",
          "width": 5.0
         },
         "mode": "lines",
         "name": "Vertebra_T3",
         "showlegend": false,
         "x": {
          "dtype": "f4",
          "bdata": "E8GWw6yKl8Pyd43D8yGNwxPBlsM9MZHD8yGNwz0xkcO+ipLD8neNw76KksOsipfD"
         },
         "y": {
          "dtype": "f4",
          "bdata": "MHYRwujvC8IwkgzCkaQRwjB2EcIXoM3BkaQRwhegzcF73LPBMJIMwnvcs8Ho7wvC"
         },
         "z": {
          "dtype": "f4",
          "bdata": "9RlzQ7gOeUMAdH5DQiV3Q/UZc0MGC2tDQiV3QwYLa0O6CnpDAHR+Q7oKekO4DnlD"
         },
         "type": "scatter3d"
        },
        {
         "hovertemplate": "<br><b>x</b>:%{x:.2f}<br><b>y</b>:%{y:.2f}<br><b>z</b>:%{z:.2f}<br><b>Landmark</b>:%{text}",
         "legendgroup": "Vertebra_T4",
         "legendgrouptitle": {
          "text": "Vertebra_T4"
         },
         "marker": {
          "color": "#782AB6",
          "size": 1
         },
         "mode": "markers",
         "name": " ",
         "text": [
          "Ped_Inf_R",
          "Ped_Inf_L",
          "Ped_Sup_R",
          "Ped_Sup_L",
          "Plat_Inf_Cent",
          "Plat_Sup_Cent"
         ],
         "x": [
          -300.43536376953125,
          -282.05291748046875,
          -299.1623840332031,
          -280.76763916015625,
          -294.9972839355469,
          -290.00714111328125
         ],
         "y": [
          -38.90815353393555,
          -41.32866668701172,
          -38.10517501831055,
          -40.16276168823242,
          -28.711008071899414,
          -26.265968322753906
         ],
         "z": [
          228.7109375,
          227.59901428222656,
          234.47564697265625,
          235.5348358154297,
          217.01759338378906,
          231.46092224121094
         ],
         "type": "scatter3d"
        },
        {
         "legendgroup": "Vertebra_T4",
         "legendgrouptitle": {
          "text": "Vertebra_T4"
         },
         "line": {
          "color": "#782AB6",
          "width": 5.0
         },
         "mode": "lines",
         "name": "Vertebra_T4",
         "showlegend": false,
         "x": {
          "dtype": "f4",
          "bdata": "ujeWw8mUlcNCYozDxgaNw7o3lsOnf5PDxgaNw6d/k8PqAJHDQmKMw+oAkcPJlJXD"
         },
         "y": {
          "dtype": "f4",
          "bdata": "86EbwrNrGMKrpiDCjlAlwvOhG8IlsOXBjlAlwiWw5cG0INLBq6YgwrQg0sGzaxjC"
         },
         "z": {
          "dtype": "f4",
          "bdata": "ALZkQ8R5akPriGtDWZljQwC2ZEOBBFlDWZljQ4EEWUP/dWdD64hrQ/91Z0PEeWpD"
         },
         "type": "scatter3d"
        },
        {
         "hovertemplate": "<br><b>x</b>:%{x:.2f}<br><b>y</b>:%{y:.2f}<br><b>z</b>:%{z:.2f}<br><b>Landmark</b>:%{text}",
         "legendgroup": "Vertebra_T5",
         "legendgrouptitle": {
          "text": "Vertebra_T5"
         },
         "marker": {
          "color": "#565656",
          "size": 1
         },
         "mode": "markers",
         "name": " ",
         "text": [
          "Ped_Inf_R",
          "Ped_Inf_L",
          "Ped_Sup_R",
          "Ped_Sup_L",
          "Plat_Inf_Cent",
          "Plat_Sup_Cent"
         ],
         "x": [
          -306.28399658203125,
          -290.6771240234375,
          -303.42437744140625,
          -287.0540771484375,
          -305.8825988769531,
          -296.61602783203125
         ],
         "y": [
          -41.87061309814453,
          -44.779903411865234,
          -40.950782775878906,
          -44.02127456665039,
          -30.89334487915039,
          -29.24742889404297
         ],
         "z": [
          211.8760986328125,
          206.0106658935547,
          218.70448303222656,
          213.13055419921875,
          199.54696655273438,
          213.76797485351562
         ],
         "type": "scatter3d"
        },
        {
         "legendgroup": "Vertebra_T5",
         "legendgrouptitle": {
          "text": "Vertebra_T5"
         },
         "line": {
          "color": "#565656",
          "width": 5.0
         },
         "mode": "lines",
         "name": "Vertebra_T5",
         "showlegend": false,
         "x": {
          "dtype": "f4",
          "bdata": "WiSZw1K2l8Psho/DrFaRw1okmcP58JjDrFaRw/nwmMPaTpTD7IaPw9pOlMNStpfD"
         },
         "y": {
          "dtype": "f4",
          "bdata": "gnsnwprNI8LJFTDCnx4zwoJ7J8KSJffBnx4zwpIl98G8+unByRUwwrz66cGazSPC"
         },
         "z": {
          "dtype": "f4",
          "bdata": "SOBTQ1m0WkNsIVVDuwJOQ0jgU0MGjEdDuwJOQwaMR0OaxFVDbCFVQ5rEVUNZtFpD"
         },
         "type": "scatter3d"
        },
        {
         "hovertemplate": "<br><b>x</b>:%{x:.2f}<br><b>y</b>:%{y:.2f}<br><b>z</b>:%{z:.2f}<br><b>Landmark</b>:%{text}",
         "legendgroup": "Vertebra_T6",
         "legendgrouptitle": {
          "text": "Vertebra_T6"
         },
         "marker": {
          "color": "#1C8356",
          "size": 1
         },
         "mode": "markers",
         "name": " ",
         "text": [
          "Ped_Inf_R",
          "Ped_Inf_L",
          "Ped_Sup_R",
          "Ped_Sup_L",
          "Plat_Inf_Cent",
          "Plat_Sup_Cent"
         ],
         "x": [
          -320.33636474609375,
          -304.6777038574219,
          -314.3232421875,
          -299.00927734375,
          -321.0058898925781,
          -308.8153991699219
         ],
         "y": [
          -45.06561279296875,
          -46.449668884277344,
          -44.37093734741211,
          -45.73501968383789,
          -31.584474563598633,
          -30.761796951293945
         ],
         "z": [
          196.99095153808594,
          186.46533203125,
          203.40274047851562,
          193.2057647705078,
          181.60720825195312,
          195.20034790039062
         ],
         "type": "scatter3d"
        },
        {
         "legendgroup": "Vertebra_T6",
         "legendgrouptitle": {
          "text": "Vertebra_T6"
         },
         "line": {
          "color": "#1C8356",
          "width": 5.0
         },
         "mode": "lines",
         "name": "Vertebra_T6",
         "showlegend": false,
         "x": {
          "dtype": "f4",
          "bdata": "Diugw2ApncMwgZXDv1aYww4roMPBgKDDv1aYw8GAoMNfaJrDMIGVw19omsNgKZ3D"
         },
         "y": {
          "dtype": "f4",
          "bdata": "MEM0wtd7McKp8DbCdsw5wjBDNMIBrfzBdsw5wgGt/MEpGPbBqfA2wikY9sHXezHC"
         },
         "z": {
          "dtype": "f4",
          "bdata": "r/1EQxpnS0OtNEFDIHc6Q6/9RENymzVDIHc6Q3KbNUNKM0NDrTRBQ0ozQ0MaZ0tD"
         },
         "type": "scatter3d"
        },
        {
         "hovertemplate": "<br><b>x</b>:%{x:.2f}<br><b>y</b>:%{y:.2f}<br><b>z</b>:%{z:.2f}<br><b>Landmark</b>:%{text}",
         "legendgroup": "Vertebra_T7",
         "legendgrouptitle": {
          "text": "Vertebra_T7"
         },
         "marker": {
          "color": "#16FF32",
          "size": 1
         },
         "mode": "markers",
         "name": " ",
         "text": [
          "Ped_Inf_R",
          "Ped_Inf_L",
          "Ped_Sup_R",
          "Ped_Sup_L",
          "Plat_Inf_Cent",
          "Plat_Sup_Cent"
         ],
         "x": [
          -335.783203125,
          -319.7242126464844,
          -329.383056640625,
          -314.7132568359375,
          -337.1454162597656,
          -324.6082763671875
         ],
         "y": [
          -46.956993103027344,
          -47.438201904296875,
          -46.25147247314453,
          -47.027381896972656,
          -31.624208450317383,
          -31.72918128967285
         ],
         "z": [
          178.93954467773438,
          168.10633850097656,
          186.63221740722656,
          174.9258270263672,
          165.83792114257812,
          178.12380981445312
         ],
         "type": "scatter3d"
        },
        {
         "legendgroup": "Vertebra_T7",
         "legendgrouptitle": {
          "text": "Vertebra_T7"
         },
         "line": {
          "color": "#16FF32",
          "width": 5.0
         },
         "mode": "lines",
         "name": "Vertebra_T7",
         "showlegend": false,
         "x": {
          "dtype": "f4",
          "bdata": "QOSnwwixpMNMW53Ds9yfw0Dkp8OdkqjDs9yfw52SqMPcTaLDTFudw9xNosMIsaTD"
         },
         "y": {
          "dtype": "f4",
          "bdata": "9tM7woIBOcIKHDzCuMA9wvbTO8Jh/vzBuMA9wmH+/MFd1f3BChw8wl3V/cGCATnC"
         },
         "z": {
          "dtype": "f4",
          "bdata": "hvAyQ9mhOkMD7S5DORsoQ4bwMkOC1iVDORsoQ4LWJUOyHzJDA+0uQ7IfMkPZoTpD"
         },
         "type": "scatter3d"
        },
        {
         "hovertemplate": "<br><b>x</b>:%{x:.2f}<br><b>y</b>:%{y:.2f}<br><b>z</b>:%{z:.2f}<br><b>Landmark</b>:%{text}",
         "legendgroup": "Vertebra_T8",
         "legendgrouptitle": {
          "text": "Vertebra_T8"
         },
         "marker": {
          "color": "#F7E1A0",
          "size": 1
         },
         "mode": "markers",
         "name": " ",
         "text": [
          "Ped_Inf_R",
          "Ped_Inf_L",
          "Ped_Sup_R",
          "Ped_Sup_L",
          "Plat_Inf_Cent",
          "Plat_Sup_Cent"
         ],
         "x": [
          -351.6567077636719,
          -333.37945556640625,
          -346.2718811035156,
          -329.38323974609375,
          -350.3531188964844,
          -340.1109313964844
         ],
         "y": [
          -47.16523742675781,
          -46.00028991699219,
          -48.16267776489258,
          -46.45613098144531,
          -30.079734802246094,
          -31.520614624023438
         ],
         "z": [
          159.99847412109375,
          152.17135620117188,
          167.86160278320312,
          158.5088348388672,
          146.84913635253906,
          161.87539672851562
         ],
         "type": "scatter3d"
        },
        {
         "legendgroup": "Vertebra_T8",
         "legendgrouptitle": {
          "text": "Vertebra_T8"
         },
         "line": {
          "color": "#F7E1A0",
          "width": 5.0
         },
         "mode": "lines",
         "name": "Vertebra_T8",
         "showlegend": false,
         "x": {
          "dtype": "f4",
          "bdata": "D9Svw80ircMOsaTDkrCmww/Ur8MzLa/DkrCmwzMtr8MzDqrDDrGkwzMOqsPNIq3D"
         },
         "y": {
          "dtype": "f4",
          "bdata": "NKk8wpWmQMIU0znCTAA4wjSpPMJMo/DBTAA4wkyj8ME4KvzBFNM5wjgq/MGVpkDC"
         },
         "z": {
          "dtype": "f4",
          "bdata": "nP8fQ5LcJ0NDgh5D3isYQ5z/H0Nh2RJD3isYQ2HZEkMa4CFDQ4IeQxrgIUOS3CdD"
         },
         "type": "scatter3d"
        },
        {
         "hovertemplate": "<br><b>x</b>:%{x:.2f}<br><b>y</b>:%{y:.2f}<br><b>z</b>:%{z:.2f}<br><b>Landmark</b>:%{text}",
         "legendgroup": "Vertebra_T9",
         "legendgrouptitle": {
          "text": "Vertebra_T9"
         },
         "marker": {
          "color": "#E2E2E2",
          "size": 1
         },
         "mode": "markers",
         "name": " ",
         "text": [
          "Ped_Inf_R",
          "Ped_Inf_L",
          "Ped_Sup_R",
          "Ped_Sup_L",
          "Plat_Inf_Cent",
          "Plat_Sup_Cent"
         ],
         "x": [
          -361.6842041015625,
          -342.27178955078125,
          -358.62701416015625,
          -338.594970703125,
          -357.434326171875,
          -352.1621398925781
         ],
         "y": [
          -45.355987548828125,
          -42.6268310546875,
          -46.50002670288086,
          -43.60177230834961,
          -26.511695861816406,
          -28.633636474609375
         ],
         "z": [
          133.87527465820312,
          130.63449096679688,
          143.0848388671875,
          139.29476928710938,
          123.80142211914062,
          141.33746337890625
         ],
         "type": "scatter3d"
        },
        {
         "legendgroup": "Vertebra_T9",
         "legendgrouptitle": {
          "text": "Vertebra_T9"
         },
         "line": {
          "color": "#E2E2E2",
          "width": 5.0
         },
         "mode": "lines",
         "name": "Vertebra_T9",
         "showlegend": false,
         "x": {
          "dtype": "f4",
          "bdata": "lNe0w0JQs8MoTKnDyiKrw5TXtMOYt7LDyiKrw5i3ssPBFLDDKEypw8EUsMNCULPD"
         },
         "y": {
          "dtype": "f4",
          "bdata": "iGw1wgcAOsI3aC7C4IEqwohsNcL0F9TB4IEqwvQX1MGwEeXBN2guwrAR5cEHADrC"
         },
         "z": {
          "dtype": "f4",
          "bdata": "EuAFQ7gVD0N2SwtDbqICQxLgBUNUmvdCbqICQ1Sa90JkVg1DdksLQ2RWDUO4FQ9D"
         },
         "type": "scatter3d"
        },
        {
         "hovertemplate": "<br><b>x</b>:%{x:.2f}<br><b>y</b>:%{y:.2f}<br><b>z</b>:%{z:.2f}<br><b>Landmark</b>:%{text}",
         "legendgroup": "Vertebra_T10",
         "legendgrouptitle": {
          "text": "Vertebra_T10"
         },
         "marker": {
          "color": "#1CBE4F",
          "size": 1
         },
         "mode": "markers",
         "name": " ",
         "text": [
          "Ped_Inf_R",
          "Ped_Inf_L",
          "Ped_Sup_R",
          "Ped_Sup_L",
          "Plat_Inf_Cent",
          "Plat_Sup_Cent"
         ],
         "x": [
          -364.53961181640625,
          -343.273193359375,
          -365.16107177734375,
          -343.2690734863281,
          -355.20367431640625,
          -356.4705810546875
         ],
         "y": [
          -42.24284744262695,
          -38.62165069580078,
          -43.796424865722656,
          -40.04046630859375,
          -22.78737449645996,
          -25.743677139282227
         ],
         "z": [
          107.9098129272461,
          113.38287353515625,
          119.38286590576172,
          123.14579772949219,
          100.52852630615234,
          118.82464599609375
         ],
         "type": "scatter3d"
        },
        {
         "legendgroup": "Vertebra_T10",
         "legendgrouptitle": {
          "text": "Vertebra_T10"
         },
         "line": {
          "color": "#1CBE4F",
          "width": 5.0
         },
         "mode": "lines",
         "name": "Vertebra_T10",
         "showlegend": false,
         "x": {
          "dtype": "f4",
          "bdata": "EkW2w56UtsNxoqvD+KKrwxJFtsMSmrHD+KKrwxKascM8PLLDcaKrwzw8ssOelLbD"
         },
         "y": {
          "dtype": "f4",
          "bdata": "rfgowoovL8JwKSDCknwawq34KMKLTLbBknwawotMtsEN883BcCkgwg3zzcGKLy/C"
         },
         "z": {
          "dtype": "f4",
          "bdata": "09HXQgfE7kKmSvZCCMTiQtPR10KbDslCCMTiQpsOyUI4pu1Cpkr2Qjim7UIHxO5C"
         },
         "type": "scatter3d"
        },
        {
         "hovertemplate": "<br><b>x</b>:%{x:.2f}<br><b>y</b>:%{y:.2f}<br><b>z</b>:%{z:.2f}<br><b>Landmark</b>:%{text}",
         "legendgroup": "Vertebra_T11",
         "legendgrouptitle": {
          "text": "Vertebra_T11"
         },
         "marker": {
          "color": "#C4451C",
          "size": 1
         },
         "mode": "markers",
         "name": " ",
         "text": [
          "Ped_Inf_R",
          "Ped_Inf_L",
          "Ped_Sup_R",
          "Ped_Sup_L",
          "Plat_Inf_Cent",
          "Plat_Sup_Cent"
         ],
         "x": [
          -357.3273010253906,
          -336.596923828125,
          -362.0908203125,
          -341.6408386230469,
          -342.83514404296875,
          -353.50006103515625
         ],
         "y": [
          -36.33604049682617,
          -35.62103271484375,
          -38.84577941894531,
          -37.571475982666016,
          -17.362226486206055,
          -21.61980628967285
         ],
         "z": [
          80.38343811035156,
          91.14385986328125,
          92.92337799072266,
          100.77594757080078,
          77.68194580078125,
          96.4653549194336
         ],
         "type": "scatter3d"
        },
        {
         "legendgroup": "Vertebra_T11",
         "legendgrouptitle": {
          "text": "Vertebra_T11"
         },
         "line": {
          "color": "#C4451C",
          "width": 5.0
         },
         "mode": "lines",
         "name": "Vertebra_T11",
         "showlegend": false,
         "x": {
          "dtype": "f4",
          "bdata": "5amyw6ALtcMH0qrDaEyow+WpssPmaqvDaEyow+Zqq8MCwLDDB9KqwwLAsMOgC7XD"
         },
         "y": {
          "dtype": "f4",
          "bdata": "G1gRwhRiG8IxSRbC8HsOwhtYEcLX5YrB8HsOwtflisFd9azBMUkWwl31rMEUYhvC"
         },
         "z": {
          "dtype": "f4",
          "bdata": "UsSgQsXYuUJJjclCqEm2QlLEoEIoXZtCqEm2Qihdm0JD7sBCSY3JQkPuwELF2LlC"
         },
         "type": "scatter3d"
        },
        {
         "hovertemplate": "<br><b>x</b>:%{x:.2f}<br><b>y</b>:%{y:.2f}<br><b>z</b>:%{z:.2f}<br><b>Landmark</b>:%{text}",
         "legendgroup": "Vertebra_T12",
         "legendgrouptitle": {
          "text": "Vertebra_T12"
         },
         "marker": {
          "color": "#DEA0FD",
          "size": 1
         },
         "mode": "markers",
         "name": " ",
         "text": [
          "Ped_Inf_R",
          "Ped_Inf_L",
          "Ped_Sup_R",
          "Ped_Sup_L",
          "Plat_Inf_Cent",
          "Plat_Sup_Cent"
         ],
         "x": [
          -342.13641357421875,
          -322.75830078125,
          -348.9166259765625,
          -329.4717102050781,
          -326.4007263183594,
          -340.46124267578125
         ],
         "y": [
          -25.96113395690918,
          -29.78495979309082,
          -28.894433975219727,
          -31.80830192565918,
          -9.789311408996582,
          -15.858673095703125
         ],
         "z": [
          54.95454025268555,
          69.58411407470703,
          65.52931213378906,
          78.02876281738281,
          56.295738220214844,
          73.74700927734375
         ],
         "type": "scatter3d"
        },
        {
         "legendgroup": "Vertebra_T12",
         "legendgrouptitle": {
          "text": "Vertebra_T12"
         },
         "line": {
          "color": "#DEA0FD",
          "width": 5.0
         },
         "mode": "lines",
         "name": "Vertebra_T12",
         "showlegend": false,
         "x": {
          "dtype": "f4",
          "bdata": "dhGrw1R1rsNhvKTDEGGhw3YRq8NLM6PDEGGhw0szo8MKO6rDYbykwwo7qsNUda7D"
         },
         "y": {
          "dtype": "f4",
          "bdata": "Z7DPwc0n58Fnd/7BmUfuwWewz8EFoRzBmUfuwQWhHMEgvX3BZ3f+wSC9fcHNJ+fB"
         },
         "z": {
          "dtype": "f4",
          "bdata": "c9FbQgIPg0K6DpxCESuLQnPRW0LWLmFCESuLQtYuYUJ4fpNCug6cQnh+k0ICD4NC"
         },
         "type": "scatter3d"
        },
        {
         "hovertemplate": "<br><b>x</b>:%{x:.2f}<br><b>y</b>:%{y:.2f}<br><b>z</b>:%{z:.2f}<br><b>Landmark</b>:%{text}",
         "legendgroup": "Vertebra_L1",
         "legendgrouptitle": {
          "text": "Vertebra_L1"
         },
         "marker": {
          "color": "#FE00FA",
          "size": 1
         },
         "mode": "markers",
         "name": " ",
         "text": [
          "Ped_Inf_R",
          "Ped_Inf_L",
          "Ped_Sup_R",
          "Ped_Sup_L",
          "Plat_Inf_Cent",
          "Plat_Sup_Cent"
         ],
         "x": [
          -323.6464538574219,
          -304.9962463378906,
          -332.3348083496094,
          -311.715576171875,
          -309.3560791015625,
          -323.69610595703125
         ],
         "y": [
          -19.991239547729492,
          -24.102249145507812,
          -22.070711135864258,
          -26.86032485961914,
          -2.4771053791046143,
          -8.510092735290527
         ],
         "z": [
          33.05727767944336,
          48.56702423095703,
          42.771602630615234,
          57.400245666503906,
          34.54550552368164,
          53.143226623535156
         ],
         "type": "scatter3d"
        },
        {
         "legendgroup": "Vertebra_L1",
         "legendgrouptitle": {
          "text": "Vertebra_L1"
         },
         "line": {
          "color": "#FE00FA",
          "width": 5.0
         },
         "mode": "lines",
         "name": "Vertebra_L1",
         "showlegend": false,
         "x": {
          "dtype": "f4",
          "bdata": "v9Khw9sqpsOY25vDhX+Yw7/SocOUrZrDhX+Yw5StmsMa2aHDmNubwxrZocPbKqbD"
         },
         "y": {
          "dtype": "f4",
          "bdata": "D+6fwdGQsMHy4dbBaNHAwQ/un8HliB7AaNHAweWIHsBXKQjB8uHWwVcpCMHRkLDB"
         },
         "z": {
          "dtype": "f4",
          "bdata": "pzoEQh8WK0LamWVCokRCQqc6BEKZLgpCokRCQpkuCkKqklRC2pllQqqSVEIfFitC"
         },
         "type": "scatter3d"
        },
        {
         "hovertemplate": "<br><b>x</b>:%{x:.2f}<br><b>y</b>:%{y:.2f}<br><b>z</b>:%{z:.2f}<br><b>Landmark</b>:%{text}",
         "legendgroup": "Vertebra_L2",
         "legendgrouptitle": {
          "text": "Vertebra_L2"
         },
         "marker": {
          "color": "#325A9B",
          "size": 1
         },
         "mode": "markers",
         "name": " ",
         "text": [
          "Ped_Inf_R",
          "Ped_Inf_L",
          "Ped_Sup_R",
          "Ped_Sup_L",
          "Plat_Inf_Cent",
          "Plat_Sup_Cent"
         ],
         "x": [
          -307.5096130371094,
          -286.327392578125,
          -313.53436279296875,
          -291.6578369140625,
          -291.4641418457031,
          -305.6885070800781
         ],
         "y": [
          -13.105247497558594,
          -18.521902084350586,
          -15.315887451171875,
          -20.41239356994629,
          4.741544246673584,
          -0.8498897552490234
         ],
         "z": [
          12.060005187988281,
          24.7144832611084,
          20.8133544921875,
          33.25845718383789,
          11.166893005371094,
          30.22263526916504
         ],
         "type": "scatter3d"
        },
        {
         "legendgroup": "Vertebra_L2",
         "legendgrouptitle": {
          "text": "Vertebra_L2"
         },
         "line": {
          "color": "#325A9B",
          "width": 5.0
         },
         "mode": "lines",
         "name": "Vertebra_L2",
         "showlegend": false,
         "x": {
          "dtype": "f4",
          "bdata": "O8GZw2bEnMM01JHD6CmPwzvBmcNpu5HD6CmPw2m7kcMh2JjDNNSRwyHYmMNmxJzD"
         },
         "y": {
          "dtype": "f4",
          "bdata": "GK9RweANdcGVTKPB2yyUwRivUcG7updA2yyUwbu6l0Bgklm/lUyjwWCSWb/gDXXB"
         },
         "z": {
          "dtype": "f4",
          "bdata": "yPVAQcCBpkGpCAVCQ7fFQcj1QEGYqzJBQ7fFQZirMkH1x/FBqQgFQvXH8UHAgaZB"
         },
         "type": "scatter3d"
        },
        {
         "hovertemplate": "<br><b>x</b>:%{x:.2f}<br><b>y</b>:%{y:.2f}<br><b>z</b>:%{z:.2f}<br><b>Landmark</b>:%{text}",
         "legendgroup": "Vertebra_L3",
         "legendgrouptitle": {
          "text": "Vertebra_L3"
         },
         "marker": {
          "color": "#FEAF16",
          "size": 1
         },
         "mode": "markers",
         "name": " ",
         "text": [
          "Ped_Inf_R",
          "Ped_Inf_L",
          "Ped_Sup_R",
          "Ped_Sup_L",
          "Plat_Inf_Cent",
          "Plat_Sup_Cent"
         ],
         "x": [
          -296.157470703125,
          -271.3125305175781,
          -298.8209533691406,
          -275.29998779296875,
          -279.93280029296875,
          -288.466552734375
         ],
         "y": [
          -8.614299774169922,
          -11.035443305969238,
          -9.58397388458252,
          -12.679368019104004,
          9.457439422607422,
          6.734692573547363
         ],
         "z": [
          -11.740338325500488,
          -5.094034671783447,
          -4.385720252990723,
          4.216736793518066,
          -17.77915382385254,
          4.869556903839111
         ],
         "type": "scatter3d"
        },
        {
         "legendgroup": "Vertebra_L3",
         "legendgrouptitle": {
          "text": "Vertebra_L3"
         },
         "line": {
          "color": "#FEAF16",
          "width": 5.0
         },
         "mode": "lines",
         "name": "Vertebra_L3",
         "showlegend": false,
         "x": {
          "dtype": "f4",
          "bdata": "KBSUwxVplcNmponDAaiHwygUlMNm94vDAaiHw2b3i8O4O5DDZqaJw7g7kMMVaZXD"
         },
         "y": {
          "dtype": "f4",
          "bdata": "LNQJwfVXGcGx3krBLZEwwSzUCcGsURdBLZEwwaxRF0GagtdAsd5KwZqC10D1VxnB"
         },
         "z": {
          "dtype": "f4",
          "bdata": "bdg7wdJXjMCC74ZAVQKjwG3YO8G1O47BVQKjwLU7jsFp05tAgu+GQGnTm0DSV4zA"
         },
         "type": "scatter3d"
        },
        {
         "hovertemplate": "<br><b>x</b>:%{x:.2f}<br><b>y</b>:%{y:.2f}<br><b>z</b>:%{z:.2f}<br><b>Landmark</b>:%{text}",
         "legendgroup": "Vertebra_L4",
         "legendgrouptitle": {
          "text": "Vertebra_L4"
         },
         "marker": {
          "color": "#F8A19F",
          "size": 1
         },
         "mode": "markers",
         "name": " ",
         "text": [
          "Ped_Inf_R",
          "Ped_Inf_L",
          "Ped_Sup_R",
          "Ped_Sup_L",
          "Plat_Inf_Cent",
          "Plat_Sup_Cent"
         ],
         "x": [
          -293.12603759765625,
          -263.3707275390625,
          -292.829833984375,
          -264.3655700683594,
          -276.3326416015625,
          -279.5842590332031
         ],
         "y": [
          -6.965254783630371,
          -8.720789909362793,
          -7.628842353820801,
          -9.052603721618652,
          10.167075157165527,
          10.127185821533203
         ],
         "z": [
          -40.745338439941406,
          -37.679988861083984,
          -30.183120727539062,
          -28.534921646118164,
          -50.56411361694336,
          -25.386066436767578
         ],
         "type": "scatter3d"
        },
        {
         "legendgroup": "Vertebra_L4",
         "legendgrouptitle": {
          "text": "Vertebra_L4"
         },
         "line": {
          "color": "#F8A19F",
          "width": 5.0
         },
         "mode": "lines",
         "name": "Vertebra_L4",
         "showlegend": false,
         "x": {
          "dtype": "f4",
          "bdata": "IpCSwzhqksPLLoTDdK+DwyKQksOUKorDdK+Dw5QqisPJyovDyy6Ew8nKi8M4apLD"
         },
         "y": {
          "dtype": "f4",
          "bdata": "XuPewHof9MB31xDBW4gLwV7j3sBXrCJBW4gLwVesIkH0CCJBd9cQwfQIIkF6H/TA"
         },
         "z": {
          "dtype": "f4",
          "bdata": "Ovsiwgh38cGFR+TBT7gWwjr7IsKnQUrCT7gWwqdBSsKqFsvBhUfkwaoWy8EId/HB"
         },
         "type": "scatter3d"
        },
        {
         "hovertemplate": "<br><b>x</b>:%{x:.2f}<br><b>y</b>:%{y:.2f}<br><b>z</b>:%{z:.2f}<br><b>Landmark</b>:%{text}",
         "legendgroup": "Vertebra_L5",
         "legendgrouptitle": {
          "text": "Vertebra_L5"
         },
         "marker": {
          "color": "#90AD1C",
          "size": 1
         },
         "mode": "markers",
         "name": " ",
         "text": [
          "Ped_Inf_R",
          "Ped_Inf_L",
          "Ped_Sup_R",
          "Ped_Sup_L",
          "Plat_Inf_Cent",
          "Plat_Sup_Cent"
         ],
         "x": [
          -295.8882141113281,
          -260.14251708984375,
          -293.819091796875,
          -262.0677490234375,
          -277.865478515625,
          -277.0164794921875
         ],
         "y": [
          -11.183375358581543,
          -13.08082389831543,
          -8.262181282043457,
          -9.730645179748535,
          0.8953563570976257,
          8.833442687988281
         ],
         "z": [
          -66.15413665771484,
          -68.30396270751953,
          -57.97608184814453,
          -58.356624603271484,
          -80.4219970703125,
          -57.34904861450195
         ],
         "type": "scatter3d"
        },
        {
         "legendgroup": "Vertebra_L5",
         "legendgrouptitle": {
          "text": "Vertebra_L5"
         },
         "line": {
          "color": "#90AD1C",
          "width": 5.0
         },
         "mode": "lines",
         "name": "Vertebra_L5",
         "showlegend": false,
         "x": {
          "dtype": "f4",
          "bdata": "sfGTw9joksOsCIPDPhKCw7Hxk8PI7orDPhKCw8juisMcgorDrAiDwxyCisPY6JLD"
         },
         "y": {
          "dtype": "f4",
          "bdata": "G+8yweUxBMG5sBvBDktRwRvvMsETNmU/DktRwRM2ZT/IVQ1BubAbwchVDUHlMQTB"
         },
         "z": {
          "dtype": "f4",
          "bdata": "606EwoLnZ8IvbWnCoZuIwutOhMIQ2KDCoZuIwhDYoMJtZWXCL21pwm1lZcKC52fC"
         },
         "type": "scatter3d"
        }
       ],
       "layout": {
        "scene": {
         "aspectmode": "data"
        },
        "template": {
         "data": {
          "histogram2dcontour": [
           {
            "type": "histogram2dcontour",
            "colorbar": {
             "outlinewidth": 0,
             "ticks": ""
            },
            "colorscale": [
             [
              0.0,
              "#0d0887"
             ],
             [
              0.1111111111111111,
              "#46039f"
             ],
             [
              0.2222222222222222,
              "#7201a8"
             ],
             [
              0.3333333333333333,
              "#9c179e"
             ],
             [
              0.4444444444444444,
              "#bd3786"
             ],
             [
              0.5555555555555556,
              "#d8576b"
             ],
             [
              0.6666666666666666,
              "#ed7953"
             ],
             [
              0.7777777777777778,
              "#fb9f3a"
             ],
             [
              0.8888888888888888,
              "#fdca26"
             ],
             [
              1.0,
              "#f0f921"
             ]
            ]
           }
          ],
          "choropleth": [
           {
            "type": "choropleth",
            "colorbar": {
             "outlinewidth": 0,
             "ticks": ""
            }
           }
          ],
          "histogram2d": [
           {
            "type": "histogram2d",
            "colorbar": {
             "outlinewidth": 0,
             "ticks": ""
            },
            "colorscale": [
             [
              0.0,
              "#0d0887"
             ],
             [
              0.1111111111111111,
              "#46039f"
             ],
             [
              0.2222222222222222,
              "#7201a8"
             ],
             [
              0.3333333333333333,
              "#9c179e"
             ],
             [
              0.4444444444444444,
              "#bd3786"
             ],
             [
              0.5555555555555556,
              "#d8576b"
             ],
             [
              0.6666666666666666,
              "#ed7953"
             ],
             [
              0.7777777777777778,
              "#fb9f3a"
             ],
             [
              0.8888888888888888,
              "#fdca26"
             ],
             [
              1.0,
              "#f0f921"
             ]
            ]
           }
          ],
          "heatmap": [
           {
            "type": "heatmap",
            "colorbar": {
             "outlinewidth": 0,
             "ticks": ""
            },
            "colorscale": [
             [
              0.0,
              "#0d0887"
             ],
             [
              0.1111111111111111,
              "#46039f"
             ],
             [
              0.2222222222222222,
              "#7201a8"
             ],
             [
              0.3333333333333333,
              "#9c179e"
             ],
             [
              0.4444444444444444,
              "#bd3786"
             ],
             [
              0.5555555555555556,
              "#d8576b"
             ],
             [
              0.6666666666666666,
              "#ed7953"
             ],
             [
              0.7777777777777778,
              "#fb9f3a"
             ],
             [
              0.8888888888888888,
              "#fdca26"
             ],
             [
              1.0,
              "#f0f921"
             ]
            ]
           }
          ],
          "contourcarpet": [
           {
            "type": "contourcarpet",
            "colorbar": {
             "outlinewidth": 0,
             "ticks": ""
            }
           }
          ],
          "contour": [
           {
            "type": "contour",
            "colorbar": {
             "outlinewidth": 0,
             "ticks": ""
            },
            "colorscale": [
             [
              0.0,
              "#0d0887"
             ],
             [
              0.1111111111111111,
              "#46039f"
             ],
             [
              0.2222222222222222,
              "#7201a8"
             ],
             [
              0.3333333333333333,
              "#9c179e"
             ],
             [
              0.4444444444444444,
              "#bd3786"
             ],
             [
              0.5555555555555556,
              "#d8576b"
             ],
             [
              0.6666666666666666,
              "#ed7953"
             ],
             [
              0.7777777777777778,
              "#fb9f3a"
             ],
             [
              0.8888888888888888,
              "#fdca26"
             ],
             [
              1.0,
              "#f0f921"
             ]
            ]
           }
          ],
          "surface": [
           {
            "type": "surface",
            "colorbar": {
             "outlinewidth": 0,
             "ticks": ""
            },
            "colorscale": [
             [
              0.0,
              "#0d0887"
             ],
             [
              0.1111111111111111,
              "#46039f"
             ],
             [
              0.2222222222222222,
              "#7201a8"
             ],
             [
              0.3333333333333333,
              "#9c179e"
             ],
             [
              0.4444444444444444,
              "#bd3786"
             ],
             [
              0.5555555555555556,
              "#d8576b"
             ],
             [
              0.6666666666666666,
              "#ed7953"
             ],
             [
              0.7777777777777778,
              "#fb9f3a"
             ],
             [
              0.8888888888888888,
              "#fdca26"
             ],
             [
              1.0,
              "#f0f921"
             ]
            ]
           }
          ],
          "mesh3d": [
           {
            "type": "mesh3d",
            "colorbar": {
             "outlinewidth": 0,
             "ticks": ""
            }
           }
          ],
          "scatter": [
           {
            "fillpattern": {
             "fillmode": "overlay",
             "size": 10,
             "solidity": 0.2
            },
            "type": "scatter"
           }
          ],
          "parcoords": [
           {
            "type": "parcoords",
            "line": {
             "colorbar": {
              "outlinewidth": 0,
              "ticks": ""
             }
            }
           }
          ],
          "scatterpolargl": [
           {
            "type": "scatterpolargl",
            "marker": {
             "colorbar": {
              "outlinewidth": 0,
              "ticks": ""
             }
            }
           }
          ],
          "bar": [
           {
            "error_x": {
             "color": "#2a3f5f"
            },
            "error_y": {
             "color": "#2a3f5f"
            },
            "marker": {
             "line": {
              "color": "#E5ECF6",
              "width": 0.5
             },
             "pattern": {
              "fillmode": "overlay",
              "size": 10,
              "solidity": 0.2
             }
            },
            "type": "bar"
           }
          ],
          "scattergeo": [
           {
            "type": "scattergeo",
            "marker": {
             "colorbar": {
              "outlinewidth": 0,
              "ticks": ""
             }
            }
           }
          ],
          "scatterpolar": [
           {
            "type": "scatterpolar",
            "marker": {
             "colorbar": {
              "outlinewidth": 0,
              "ticks": ""
             }
            }
           }
          ],
          "histogram": [
           {
            "marker": {
             "pattern": {
              "fillmode": "overlay",
              "size": 10,
              "solidity": 0.2
             }
            },
            "type": "histogram"
           }
          ],
          "scattergl": [
           {
            "type": "scattergl",
            "marker": {
             "colorbar": {
              "outlinewidth": 0,
              "ticks": ""
             }
            }
           }
          ],
          "scatter3d": [
           {
            "type": "scatter3d",
            "line": {
             "colorbar": {
              "outlinewidth": 0,
              "ticks": ""
             }
            },
            "marker": {
             "colorbar": {
              "outlinewidth": 0,
              "ticks": ""
             }
            }
           }
          ],
          "scattermap": [
           {
            "type": "scattermap",
            "marker": {
             "colorbar": {
              "outlinewidth": 0,
              "ticks": ""
             }
            }
           }
          ],
          "scattermapbox": [
           {
            "type": "scattermapbox",
            "marker": {
             "colorbar": {
              "outlinewidth": 0,
              "ticks": ""
             }
            }
           }
          ],
          "scatterternary": [
           {
            "type": "scatterternary",
            "marker": {
             "colorbar": {
              "outlinewidth": 0,
              "ticks": ""
             }
            }
           }
          ],
          "scattercarpet": [
           {
            "type": "scattercarpet",
            "marker": {
             "colorbar": {
              "outlinewidth": 0,
              "ticks": ""
             }
            }
           }
          ],
          "carpet": [
           {
            "aaxis": {
             "endlinecolor": "#2a3f5f",
             "gridcolor": "white",
             "linecolor": "white",
             "minorgridcolor": "white",
             "startlinecolor": "#2a3f5f"
            },
            "baxis": {
             "endlinecolor": "#2a3f5f",
             "gridcolor": "white",
             "linecolor": "white",
             "minorgridcolor": "white",
             "startlinecolor": "#2a3f5f"
            },
            "type": "carpet"
           }
          ],
          "table": [
           {
            "cells": {
             "fill": {
              "color": "#EBF0F8"
             },
             "line": {
              "color": "white"
             }
            },
            "header": {
             "fill": {
              "color": "#C8D4E3"
             },
             "line": {
              "color": "white"
             }
            },
            "type": "table"
           }
          ],
          "barpolar": [
           {
            "marker": {
             "line": {
              "color": "#E5ECF6",
              "width": 0.5
             },
             "pattern": {
              "fillmode": "overlay",
              "size": 10,
              "solidity": 0.2
             }
            },
            "type": "barpolar"
           }
          ],
          "pie": [
           {
            "automargin": true,
            "type": "pie"
           }
          ]
         },
         "layout": {
          "autotypenumbers": "strict",
          "colorway": [
           "#636efa",
           "#EF553B",
           "#00cc96",
           "#ab63fa",
           "#FFA15A",
           "#19d3f3",
           "#FF6692",
           "#B6E880",
           "#FF97FF",
           "#FECB52"
          ],
          "font": {
           "color": "#2a3f5f"
          },
          "hovermode": "closest",
          "hoverlabel": {
           "align": "left"
          },
          "paper_bgcolor": "white",
          "plot_bgcolor": "#E5ECF6",
          "polar": {
           "bgcolor": "#E5ECF6",
           "angularaxis": {
            "gridcolor": "white",
            "linecolor": "white",
            "ticks": ""
           },
           "radialaxis": {
            "gridcolor": "white",
            "linecolor": "white",
            "ticks": ""
           }
          },
          "ternary": {
           "bgcolor": "#E5ECF6",
           "aaxis": {
            "gridcolor": "white",
            "linecolor": "white",
            "ticks": ""
           },
           "baxis": {
            "gridcolor": "white",
            "linecolor": "white",
            "ticks": ""
           },
           "caxis": {
            "gridcolor": "white",
            "linecolor": "white",
            "ticks": ""
           }
          },
          "coloraxis": {
           "colorbar": {
            "outlinewidth": 0,
            "ticks": ""
           }
          },
          "colorscale": {
           "sequential": [
            [
             0.0,
             "#0d0887"
            ],
            [
             0.1111111111111111,
             "#46039f"
            ],
            [
             0.2222222222222222,
             "#7201a8"
            ],
            [
             0.3333333333333333,
             "#9c179e"
            ],
            [
             0.4444444444444444,
             "#bd3786"
            ],
            [
             0.5555555555555556,
             "#d8576b"
            ],
            [
             0.6666666666666666,
             "#ed7953"
            ],
            [
             0.7777777777777778,
             "#fb9f3a"
            ],
            [
             0.8888888888888888,
             "#fdca26"
            ],
            [
             1.0,
             "#f0f921"
            ]
           ],
           "sequentialminus": [
            [
             0.0,
             "#0d0887"
            ],
            [
             0.1111111111111111,
             "#46039f"
            ],
            [
             0.2222222222222222,
             "#7201a8"
            ],
            [
             0.3333333333333333,
             "#9c179e"
            ],
            [
             0.4444444444444444,
             "#bd3786"
            ],
            [
             0.5555555555555556,
             "#d8576b"
            ],
            [
             0.6666666666666666,
             "#ed7953"
            ],
            [
             0.7777777777777778,
             "#fb9f3a"
            ],
            [
             0.8888888888888888,
             "#fdca26"
            ],
            [
             1.0,
             "#f0f921"
            ]
           ],
           "diverging": [
            [
             0,
             "#8e0152"
            ],
            [
             0.1,
             "#c51b7d"
            ],
            [
             0.2,
             "#de77ae"
            ],
            [
             0.3,
             "#f1b6da"
            ],
            [
             0.4,
             "#fde0ef"
            ],
            [
             0.5,
             "#f7f7f7"
            ],
            [
             0.6,
             "#e6f5d0"
            ],
            [
             0.7,
             "#b8e186"
            ],
            [
             0.8,
             "#7fbc41"
            ],
            [
             0.9,
             "#4d9221"
            ],
            [
             1,
             "#276419"
            ]
           ]
          },
          "xaxis": {
           "gridcolor": "white",
           "linecolor": "white",
           "ticks": "",
           "title": {
            "standoff": 15
           },
           "zerolinecolor": "white",
           "automargin": true,
           "zerolinewidth": 2
          },
          "yaxis": {
           "gridcolor": "white",
           "linecolor": "white",
           "ticks": "",
           "title": {
            "standoff": 15
           },
           "zerolinecolor": "white",
           "automargin": true,
           "zerolinewidth": 2
          },
          "scene": {
           "xaxis": {
            "backgroundcolor": "#E5ECF6",
            "gridcolor": "white",
            "linecolor": "white",
            "showbackground": true,
            "ticks": "",
            "zerolinecolor": "white",
            "gridwidth": 2
           },
           "yaxis": {
            "backgroundcolor": "#E5ECF6",
            "gridcolor": "white",
            "linecolor": "white",
            "showbackground": true,
            "ticks": "",
            "zerolinecolor": "white",
            "gridwidth": 2
           },
           "zaxis": {
            "backgroundcolor": "#E5ECF6",
            "gridcolor": "white",
            "linecolor": "white",
            "showbackground": true,
            "ticks": "",
            "zerolinecolor": "white",
            "gridwidth": 2
           }
          },
          "shapedefaults": {
           "line": {
            "color": "#2a3f5f"
           }
          },
          "annotationdefaults": {
           "arrowcolor": "#2a3f5f",
           "arrowhead": 0,
           "arrowwidth": 1
          },
          "geo": {
           "bgcolor": "white",
           "landcolor": "#E5ECF6",
           "subunitcolor": "white",
           "showland": true,
           "showlakes": true,
           "lakecolor": "white"
          },
          "title": {
           "x": 0.05
          },
          "mapbox": {
           "style": "light"
          }
         }
        },
        "autosize": false,
        "width": 500,
        "height": 700
       },
       "config": {
        "plotlyServerURL": "https://plot.ly"
       }
      }
     },
     "metadata": {},
     "output_type": "display_data",
     "jetTransient": {
      "display_id": null
     }
    }
   ],
   "execution_count": 12
  },
  {
   "cell_type": "markdown",
   "metadata": {},
   "source": [
    "# Question 2.1"
   ]
  },
  {
   "cell_type": "markdown",
   "metadata": {},
   "source": [
    "Here I recommend you write a function that samples `n_beads` in the full set, and returns the subset. A code skeleton and some hints can be found below."
   ]
  },
  {
   "cell_type": "code",
   "metadata": {
    "ExecuteTime": {
     "end_time": "2025-09-22T12:41:28.702349Z",
     "start_time": "2025-09-22T12:41:28.679297Z"
    }
   },
   "source": [
    "def sample_n_beads(original_beads:dict, n_beads:int) -> dict:\n",
    "    \"\"\"\n",
    "    Samples n_beads beads from the original beads set\n",
    "\n",
    "    Parameters\n",
    "    ----------\n",
    "    original_beads : dict\n",
    "        Dictionnary containing information on 2D and 3D position of the whole set of calibration beads\n",
    "    n_beads : int\n",
    "        Number of beads to select\n",
    "\n",
    "    Returns\n",
    "    -------\n",
    "    dict\n",
    "        Dictionnary containing information on 2D and 3D position of the subsampled of calibration beads\n",
    "    \"\"\"\n",
    "    output = deepcopy(original_beads) # ? First we deepcopy the original beads data, to avoid modifying it by mistake\n",
    "    selected_beads = []\n",
    "    \"\"\"\n",
    "    Let's modify our output until we reach the desired number of beads.\n",
    "    You want n beads sampled across both plates A & B (remember that plates C & D are just A & B rotated):\n",
    "    1. So you're gonna sample n_beads // 2 beads on plate A, and n_beads - (n_beads // 2) beads on plate B.\n",
    "    2. Add all these beads' names in the selected_beads list.\n",
    "    3. Then for each A & B bead, you want to add it's counterpart of plate C & D.\n",
    "    The selection step is already done :)\n",
    "    \"\"\"\n",
    "    A = original_beads['2d']['bead'][original_beads['2d']['bead'].str.contains(\"A\")]\n",
    "    A = random.sample(A.tolist(), n_beads // 2)\n",
    "\n",
    "    B = original_beads['2d']['bead'][original_beads['2d']['bead'].str.contains(\"B\")]\n",
    "    B = random.sample(B.tolist(), n_beads - (n_beads // 2))\n",
    "\n",
    "    C = deepcopy(A)\n",
    "    D = deepcopy(B)\n",
    "    for i in range(len(C)):\n",
    "        C[i] = C[i].replace(\"A\", \"C\")\n",
    "    for i in range(len(D)):\n",
    "        D[i] = D[i].replace(\"B\", \"D\")\n",
    "\n",
    "    selected_beads.extend(A)\n",
    "    selected_beads.extend(B)\n",
    "    selected_beads.extend(C)\n",
    "    selected_beads.extend(D)\n",
    "    output['2d'] = output['2d'][output['2d']['bead'].isin(selected_beads)].sort_values(by = 'bead', ignore_index = True)\n",
    "    output['3d'] = output['3d'][output['3d']['bead'].isin(selected_beads)].sort_values(by = 'bead', ignore_index = True)\n",
    "    return output\n",
    "\n",
    "sample_n_beads(beads_data, 10)"
   ],
   "outputs": [
    {
     "data": {
      "text/plain": [
       "{'2d':            view   bead  x_2d  y_2d\n",
       " 0   Beads2D_PA0  A_1_1  -373   858\n",
       " 1   Beads2D_PA0  A_1_6  -367  -179\n",
       " 2   Beads2D_PA0  A_2_2  -274   784\n",
       " 3   Beads2D_PA0  A_4_2   264   786\n",
       " 4   Beads2D_PA0  A_4_4   267   193\n",
       " 5   Beads2D_PA0  B_1_2  -325   377\n",
       " 6   Beads2D_PA0  B_2_3  -179     0\n",
       " 7   Beads2D_PA0  B_3_4     0  -378\n",
       " 8   Beads2D_PA0  B_4_3   178    -1\n",
       " 9   Beads2D_PA0  B_5_2   324   376\n",
       " 10  Beads2D_LAT  C_1_1  -374   858\n",
       " 11  Beads2D_LAT  C_1_6  -367  -179\n",
       " 12  Beads2D_LAT  C_2_2  -274   784\n",
       " 13  Beads2D_LAT  C_4_2   263   787\n",
       " 14  Beads2D_LAT  C_4_4   267   193\n",
       " 15  Beads2D_LAT  D_1_2  -326   377\n",
       " 16  Beads2D_LAT  D_2_3  -179     0\n",
       " 17  Beads2D_LAT  D_3_4     0  -378\n",
       " 18  Beads2D_LAT  D_4_3   178    -1\n",
       " 19  Beads2D_LAT  D_5_2   325   377,\n",
       " '3d':              view   bead      x_3d      y_3d     z_3d\n",
       " 0   Calib_Beads3D  A_1_1 -602.6390   95.5440  213.567\n",
       " 1   Calib_Beads3D  A_1_6 -603.3100   94.4660  -55.071\n",
       " 2   Calib_Beads3D  A_2_2 -602.8810   69.9800  194.518\n",
       " 3   Calib_Beads3D  A_4_2 -602.3180  -69.5830  195.252\n",
       " 4   Calib_Beads3D  A_4_4 -602.3360  -70.5250   41.966\n",
       " 5   Calib_Beads3D  B_1_2   -0.7640  126.4760  146.064\n",
       " 6   Calib_Beads3D  B_2_3   -0.0370   69.6220    0.027\n",
       " 7   Calib_Beads3D  B_3_4    0.4130    0.1940 -146.530\n",
       " 8   Calib_Beads3D  B_4_3    0.6450  -69.5940   -0.045\n",
       " 9   Calib_Beads3D  B_5_2    0.9170 -126.4370  146.030\n",
       " 10  Calib_Beads3D  C_1_1 -193.6837  301.5655  213.567\n",
       " 11  Calib_Beads3D  C_1_6 -194.7314  302.2829  -55.071\n",
       " 12  Calib_Beads3D  C_2_2 -219.2128  302.9224  194.518\n",
       " 13  Calib_Beads3D  C_4_2 -358.6675  308.4476  195.252\n",
       " 14  Calib_Beads3D  C_4_4 -359.6078  308.5067   41.966\n",
       " 15  Calib_Beads3D  D_1_2 -189.0346 -301.0859  146.064\n",
       " 16  Calib_Beads3D  D_2_3 -245.8662 -299.3322    0.027\n",
       " 17  Calib_Beads3D  D_3_4 -315.2477 -296.7534 -146.530\n",
       " 18  Calib_Beads3D  D_4_3 -384.9794 -293.9411   -0.045\n",
       " 19  Calib_Beads3D  D_5_2 -441.7802 -291.7333  146.030}"
      ]
     },
     "execution_count": 40,
     "metadata": {},
     "output_type": "execute_result"
    }
   ],
   "execution_count": 40
  },
  {
   "cell_type": "code",
   "metadata": {
    "ExecuteTime": {
     "end_time": "2025-09-22T13:20:49.158603Z",
     "start_time": "2025-09-22T13:20:48.964461Z"
    }
   },
   "source": [
    "# Let's increase the number of calibration beads gradually\n",
    "spine = lab_1.structures.Spine(os.path.join(root_directory,'Vertebrae2D.mat')) # Initialize the vertebrae structure\n",
    "\n",
    "# Create a dictionnary to store the results. Access a dictionnary key with brackets, for instance rms_measurements['x']\n",
    "rms_measurements = {\n",
    "        'x' : [],\n",
    "        'y' : [],\n",
    "        'z' : [],\n",
    "        '3d' : [],\n",
    "        'n_beads':[]\n",
    "    }\n",
    "\n",
    "\"\"\"\n",
    "PSEUDOCODE\n",
    "for n_beads in [1...N], do:\n",
    "    computed_points_3d <- list\n",
    "    beads_subset <- sample_n_beads(beads_data, n_beads)\n",
    "    A_view_0 <- get_a(view_0, beads_subset)\n",
    "    l_view_0 <- dlt(A_view_0)\n",
    "    A_view_1 <- get_a(view_1, beads_subset)\n",
    "    l_view_1 <- dlt(A_view_1)\n",
    "    for each vertebra in vertebrae:\n",
    "        for each anatomical_landmark in vertebra_points:\n",
    "        x_point, y_point, z_point <- calculate_3d_point(anatomical_landmark, l_view0, l_view1)\n",
    "        Append (x_point, y_point, z_point) to computed_points_3d\n",
    "    for each axis in ['x', ..., '3d']:\n",
    "        Append rms(SPINE_3D_POINTS, computed_points_3d) to rms_measurements[axis]\n",
    "    Append n_beads to rms_measurements['n_beads']\n",
    "\"\"\"\n",
    "for n_beads in range(10, 0, -1):\n",
    "    computed_points_3d = []\n",
    "    beads_subset = sample_n_beads(beads_data, n_beads)\n",
    "    A_view_0 = get_a('Beads2D_'+view_0, beads_subset)\n",
    "    l_view_0 = lab_1.solver.dlt(A_view_0)\n",
    "    A_view_1 = get_a('Beads2D_'+view_1, beads_subset)\n",
    "    l_view_1 = lab_1.solver.dlt(A_view_1)\n",
    "    for i, v_name in enumerate(spine.vertebrae):\n",
    "\n",
    "        vert = spine.get(v_name).data # Returns the vertebra data\n",
    "\n",
    "        for datum in vert.iterrows():\n",
    "            data = datum[1]\n",
    "            u0 = data[\"x_Vertebrae_LAT\"]\n",
    "            v0 = data[\"y_Vertebrae_LAT\"]\n",
    "            u1 = data[\"x_Vertebrae_PA0\"]\n",
    "            v1 = data[\"y_Vertebrae_PA0\"]\n",
    "            point = calculate_3d_point(u0, v0, u1, v1, l_view_0, l_view_1)\n",
    "            computed_points_3d.append(point)\n",
    "    computed_points_3d = np.array(computed_points_3d)\n",
    "    x_rms = rms(SPINE_3D_POINTS[:,0], computed_points_3d[:,0])\n",
    "    y_rms = rms(SPINE_3D_POINTS[:,1], computed_points_3d[:,1])\n",
    "    z_rms = rms(SPINE_3D_POINTS[:,2], computed_points_3d[:,2])\n",
    "\n",
    "    three_d = rms(SPINE_3D_POINTS, computed_points_3d)\n",
    "    rms_measurements['x'].append(x_rms)\n",
    "    rms_measurements['y'].append(y_rms)\n",
    "    rms_measurements['z'].append(z_rms)\n",
    "    rms_measurements['3d'].append(three_d)\n",
    "    rms_measurements['n_beads'].append(n_beads)\n"
   ],
   "outputs": [],
   "execution_count": 133
  },
  {
   "cell_type": "markdown",
   "metadata": {},
   "source": [
    "# Plotly interlude"
   ]
  },
  {
   "cell_type": "code",
   "execution_count": null,
   "metadata": {},
   "outputs": [],
   "source": [
    "\"\"\"\n",
    "Here is a basic plotly example. Use it to plot your RMS values !\n",
    "\"\"\"\n",
    "fig = go.Figure()\n",
    "fig.update_layout(title = 'Various functions plot',\n",
    "                  yaxis_title = 'f(x)',\n",
    "                  xaxis_title = 'x')\n",
    "x_values = np.linspace(0, 10, 1001)\n",
    "y_values_0 = np.sin(x_values) * np.sin(2*x_values)\n",
    "y_values_1 = np.cos(x_values) * np.sin(0.5*np.power(x_values, 2))\n",
    "fig.add_trace(go.Scatter(\n",
    "    x = x_values,\n",
    "    y = y_values_0,\n",
    "    name = 'sin(x) * sin(2x)'\n",
    "))\n",
    "fig.add_trace(go.Scatter(\n",
    "    x = x_values,\n",
    "    y = y_values_1,\n",
    "    name = 'cos(x) * sin(0.5 * x^2))'\n",
    "))\n",
    "fig.show()"
   ]
  },
  {
   "cell_type": "code",
   "metadata": {
    "ExecuteTime": {
     "end_time": "2025-09-22T13:01:47.709051Z",
     "start_time": "2025-09-22T13:01:47.659949Z"
    }
   },
   "source": [
    "# TODO : On the same graph, plot all your RMS values wrt. the number of used calibration beads !\n",
    "fig = go.Figure()\n",
    "fig.update_layout(title = 'RMS Error with varying number of calibration beads',\n",
    "                  yaxis_title = 'RMS Error',\n",
    "                  xaxis_title = 'Number of calibration beads')\n",
    "\n",
    "fig.add_trace(go.Scatter(\n",
    "    x = rms_measurements['n_beads'],\n",
    "    y = rms_measurements['x'],\n",
    "    name = 'X Axis'\n",
    "))\n",
    "fig.add_trace(go.Scatter(\n",
    "    x = rms_measurements['n_beads'],\n",
    "    y = rms_measurements['y'],\n",
    "    name = 'Y axis'\n",
    "))\n",
    "fig.add_trace(go.Scatter(\n",
    "    x = rms_measurements['n_beads'],\n",
    "    y = rms_measurements['z'],\n",
    "    name = 'Z axis'\n",
    "))\n",
    "fig.add_trace(go.Scatter(\n",
    "    x = rms_measurements['n_beads'],\n",
    "    y = rms_measurements['3d'],\n",
    "    name = '3D Model'\n",
    "))\n",
    "fig.show()"
   ],
   "outputs": [
    {
     "data": {
      "application/vnd.plotly.v1+json": {
       "data": [
        {
         "name": "X Axis",
         "x": [
          10,
          9,
          8,
          7,
          6,
          5,
          4,
          3,
          2,
          1
         ],
         "y": [
          0.1636708961609999,
          0.1686043669811909,
          0.07570698887424512,
          0.8159376238661423,
          0.2864233855826581,
          33.27644463835654,
          48.29169944508184,
          25.13106270136621,
          66.50847653480264,
          1.4678074472725294E10
         ],
         "type": "scatter"
        },
        {
         "name": "Y axis",
         "x": [
          10,
          9,
          8,
          7,
          6,
          5,
          4,
          3,
          2,
          1
         ],
         "y": [
          0.23035085850642287,
          0.05117028583216714,
          0.12392227407666748,
          0.20060281459492393,
          0.22262729473560652,
          0.89984500356505,
          77.26703996974567,
          299.21080836617057,
          340.0745737132879,
          1.562809946944904E10
         ],
         "type": "scatter"
        },
        {
         "name": "Z axis",
         "x": [
          10,
          9,
          8,
          7,
          6,
          5,
          4,
          3,
          2,
          1
         ],
         "y": [
          0.09818217160725184,
          0.11760736682943344,
          0.0344180209773758,
          0.31011491022301535,
          0.11297195334436161,
          7.245963210170009,
          118.99138521297229,
          326.88609577013693,
          376.17870961635697,
          2460659.3872368564
         ],
         "type": "scatter"
        },
        {
         "name": "3D Model",
         "x": [
          10,
          9,
          8,
          7,
          6,
          5,
          4,
          3,
          2,
          1
         ],
         "y": [
          0.29914782732365325,
          0.21184267458411823,
          0.14924100195557508,
          0.8956377796180889,
          0.37995252013437614,
          34.06809969262546,
          149.8707204331028,
          443.8617078395866,
          511.45336935013717,
          2.1440230260801937E10
         ],
         "type": "scatter"
        }
       ],
       "layout": {
        "template": {
         "data": {
          "histogram2dcontour": [
           {
            "type": "histogram2dcontour",
            "colorbar": {
             "outlinewidth": 0,
             "ticks": ""
            },
            "colorscale": [
             [
              0.0,
              "#0d0887"
             ],
             [
              0.1111111111111111,
              "#46039f"
             ],
             [
              0.2222222222222222,
              "#7201a8"
             ],
             [
              0.3333333333333333,
              "#9c179e"
             ],
             [
              0.4444444444444444,
              "#bd3786"
             ],
             [
              0.5555555555555556,
              "#d8576b"
             ],
             [
              0.6666666666666666,
              "#ed7953"
             ],
             [
              0.7777777777777778,
              "#fb9f3a"
             ],
             [
              0.8888888888888888,
              "#fdca26"
             ],
             [
              1.0,
              "#f0f921"
             ]
            ]
           }
          ],
          "choropleth": [
           {
            "type": "choropleth",
            "colorbar": {
             "outlinewidth": 0,
             "ticks": ""
            }
           }
          ],
          "histogram2d": [
           {
            "type": "histogram2d",
            "colorbar": {
             "outlinewidth": 0,
             "ticks": ""
            },
            "colorscale": [
             [
              0.0,
              "#0d0887"
             ],
             [
              0.1111111111111111,
              "#46039f"
             ],
             [
              0.2222222222222222,
              "#7201a8"
             ],
             [
              0.3333333333333333,
              "#9c179e"
             ],
             [
              0.4444444444444444,
              "#bd3786"
             ],
             [
              0.5555555555555556,
              "#d8576b"
             ],
             [
              0.6666666666666666,
              "#ed7953"
             ],
             [
              0.7777777777777778,
              "#fb9f3a"
             ],
             [
              0.8888888888888888,
              "#fdca26"
             ],
             [
              1.0,
              "#f0f921"
             ]
            ]
           }
          ],
          "heatmap": [
           {
            "type": "heatmap",
            "colorbar": {
             "outlinewidth": 0,
             "ticks": ""
            },
            "colorscale": [
             [
              0.0,
              "#0d0887"
             ],
             [
              0.1111111111111111,
              "#46039f"
             ],
             [
              0.2222222222222222,
              "#7201a8"
             ],
             [
              0.3333333333333333,
              "#9c179e"
             ],
             [
              0.4444444444444444,
              "#bd3786"
             ],
             [
              0.5555555555555556,
              "#d8576b"
             ],
             [
              0.6666666666666666,
              "#ed7953"
             ],
             [
              0.7777777777777778,
              "#fb9f3a"
             ],
             [
              0.8888888888888888,
              "#fdca26"
             ],
             [
              1.0,
              "#f0f921"
             ]
            ]
           }
          ],
          "contourcarpet": [
           {
            "type": "contourcarpet",
            "colorbar": {
             "outlinewidth": 0,
             "ticks": ""
            }
           }
          ],
          "contour": [
           {
            "type": "contour",
            "colorbar": {
             "outlinewidth": 0,
             "ticks": ""
            },
            "colorscale": [
             [
              0.0,
              "#0d0887"
             ],
             [
              0.1111111111111111,
              "#46039f"
             ],
             [
              0.2222222222222222,
              "#7201a8"
             ],
             [
              0.3333333333333333,
              "#9c179e"
             ],
             [
              0.4444444444444444,
              "#bd3786"
             ],
             [
              0.5555555555555556,
              "#d8576b"
             ],
             [
              0.6666666666666666,
              "#ed7953"
             ],
             [
              0.7777777777777778,
              "#fb9f3a"
             ],
             [
              0.8888888888888888,
              "#fdca26"
             ],
             [
              1.0,
              "#f0f921"
             ]
            ]
           }
          ],
          "surface": [
           {
            "type": "surface",
            "colorbar": {
             "outlinewidth": 0,
             "ticks": ""
            },
            "colorscale": [
             [
              0.0,
              "#0d0887"
             ],
             [
              0.1111111111111111,
              "#46039f"
             ],
             [
              0.2222222222222222,
              "#7201a8"
             ],
             [
              0.3333333333333333,
              "#9c179e"
             ],
             [
              0.4444444444444444,
              "#bd3786"
             ],
             [
              0.5555555555555556,
              "#d8576b"
             ],
             [
              0.6666666666666666,
              "#ed7953"
             ],
             [
              0.7777777777777778,
              "#fb9f3a"
             ],
             [
              0.8888888888888888,
              "#fdca26"
             ],
             [
              1.0,
              "#f0f921"
             ]
            ]
           }
          ],
          "mesh3d": [
           {
            "type": "mesh3d",
            "colorbar": {
             "outlinewidth": 0,
             "ticks": ""
            }
           }
          ],
          "scatter": [
           {
            "fillpattern": {
             "fillmode": "overlay",
             "size": 10,
             "solidity": 0.2
            },
            "type": "scatter"
           }
          ],
          "parcoords": [
           {
            "type": "parcoords",
            "line": {
             "colorbar": {
              "outlinewidth": 0,
              "ticks": ""
             }
            }
           }
          ],
          "scatterpolargl": [
           {
            "type": "scatterpolargl",
            "marker": {
             "colorbar": {
              "outlinewidth": 0,
              "ticks": ""
             }
            }
           }
          ],
          "bar": [
           {
            "error_x": {
             "color": "#2a3f5f"
            },
            "error_y": {
             "color": "#2a3f5f"
            },
            "marker": {
             "line": {
              "color": "#E5ECF6",
              "width": 0.5
             },
             "pattern": {
              "fillmode": "overlay",
              "size": 10,
              "solidity": 0.2
             }
            },
            "type": "bar"
           }
          ],
          "scattergeo": [
           {
            "type": "scattergeo",
            "marker": {
             "colorbar": {
              "outlinewidth": 0,
              "ticks": ""
             }
            }
           }
          ],
          "scatterpolar": [
           {
            "type": "scatterpolar",
            "marker": {
             "colorbar": {
              "outlinewidth": 0,
              "ticks": ""
             }
            }
           }
          ],
          "histogram": [
           {
            "marker": {
             "pattern": {
              "fillmode": "overlay",
              "size": 10,
              "solidity": 0.2
             }
            },
            "type": "histogram"
           }
          ],
          "scattergl": [
           {
            "type": "scattergl",
            "marker": {
             "colorbar": {
              "outlinewidth": 0,
              "ticks": ""
             }
            }
           }
          ],
          "scatter3d": [
           {
            "type": "scatter3d",
            "line": {
             "colorbar": {
              "outlinewidth": 0,
              "ticks": ""
             }
            },
            "marker": {
             "colorbar": {
              "outlinewidth": 0,
              "ticks": ""
             }
            }
           }
          ],
          "scattermap": [
           {
            "type": "scattermap",
            "marker": {
             "colorbar": {
              "outlinewidth": 0,
              "ticks": ""
             }
            }
           }
          ],
          "scattermapbox": [
           {
            "type": "scattermapbox",
            "marker": {
             "colorbar": {
              "outlinewidth": 0,
              "ticks": ""
             }
            }
           }
          ],
          "scatterternary": [
           {
            "type": "scatterternary",
            "marker": {
             "colorbar": {
              "outlinewidth": 0,
              "ticks": ""
             }
            }
           }
          ],
          "scattercarpet": [
           {
            "type": "scattercarpet",
            "marker": {
             "colorbar": {
              "outlinewidth": 0,
              "ticks": ""
             }
            }
           }
          ],
          "carpet": [
           {
            "aaxis": {
             "endlinecolor": "#2a3f5f",
             "gridcolor": "white",
             "linecolor": "white",
             "minorgridcolor": "white",
             "startlinecolor": "#2a3f5f"
            },
            "baxis": {
             "endlinecolor": "#2a3f5f",
             "gridcolor": "white",
             "linecolor": "white",
             "minorgridcolor": "white",
             "startlinecolor": "#2a3f5f"
            },
            "type": "carpet"
           }
          ],
          "table": [
           {
            "cells": {
             "fill": {
              "color": "#EBF0F8"
             },
             "line": {
              "color": "white"
             }
            },
            "header": {
             "fill": {
              "color": "#C8D4E3"
             },
             "line": {
              "color": "white"
             }
            },
            "type": "table"
           }
          ],
          "barpolar": [
           {
            "marker": {
             "line": {
              "color": "#E5ECF6",
              "width": 0.5
             },
             "pattern": {
              "fillmode": "overlay",
              "size": 10,
              "solidity": 0.2
             }
            },
            "type": "barpolar"
           }
          ],
          "pie": [
           {
            "automargin": true,
            "type": "pie"
           }
          ]
         },
         "layout": {
          "autotypenumbers": "strict",
          "colorway": [
           "#636efa",
           "#EF553B",
           "#00cc96",
           "#ab63fa",
           "#FFA15A",
           "#19d3f3",
           "#FF6692",
           "#B6E880",
           "#FF97FF",
           "#FECB52"
          ],
          "font": {
           "color": "#2a3f5f"
          },
          "hovermode": "closest",
          "hoverlabel": {
           "align": "left"
          },
          "paper_bgcolor": "white",
          "plot_bgcolor": "#E5ECF6",
          "polar": {
           "bgcolor": "#E5ECF6",
           "angularaxis": {
            "gridcolor": "white",
            "linecolor": "white",
            "ticks": ""
           },
           "radialaxis": {
            "gridcolor": "white",
            "linecolor": "white",
            "ticks": ""
           }
          },
          "ternary": {
           "bgcolor": "#E5ECF6",
           "aaxis": {
            "gridcolor": "white",
            "linecolor": "white",
            "ticks": ""
           },
           "baxis": {
            "gridcolor": "white",
            "linecolor": "white",
            "ticks": ""
           },
           "caxis": {
            "gridcolor": "white",
            "linecolor": "white",
            "ticks": ""
           }
          },
          "coloraxis": {
           "colorbar": {
            "outlinewidth": 0,
            "ticks": ""
           }
          },
          "colorscale": {
           "sequential": [
            [
             0.0,
             "#0d0887"
            ],
            [
             0.1111111111111111,
             "#46039f"
            ],
            [
             0.2222222222222222,
             "#7201a8"
            ],
            [
             0.3333333333333333,
             "#9c179e"
            ],
            [
             0.4444444444444444,
             "#bd3786"
            ],
            [
             0.5555555555555556,
             "#d8576b"
            ],
            [
             0.6666666666666666,
             "#ed7953"
            ],
            [
             0.7777777777777778,
             "#fb9f3a"
            ],
            [
             0.8888888888888888,
             "#fdca26"
            ],
            [
             1.0,
             "#f0f921"
            ]
           ],
           "sequentialminus": [
            [
             0.0,
             "#0d0887"
            ],
            [
             0.1111111111111111,
             "#46039f"
            ],
            [
             0.2222222222222222,
             "#7201a8"
            ],
            [
             0.3333333333333333,
             "#9c179e"
            ],
            [
             0.4444444444444444,
             "#bd3786"
            ],
            [
             0.5555555555555556,
             "#d8576b"
            ],
            [
             0.6666666666666666,
             "#ed7953"
            ],
            [
             0.7777777777777778,
             "#fb9f3a"
            ],
            [
             0.8888888888888888,
             "#fdca26"
            ],
            [
             1.0,
             "#f0f921"
            ]
           ],
           "diverging": [
            [
             0,
             "#8e0152"
            ],
            [
             0.1,
             "#c51b7d"
            ],
            [
             0.2,
             "#de77ae"
            ],
            [
             0.3,
             "#f1b6da"
            ],
            [
             0.4,
             "#fde0ef"
            ],
            [
             0.5,
             "#f7f7f7"
            ],
            [
             0.6,
             "#e6f5d0"
            ],
            [
             0.7,
             "#b8e186"
            ],
            [
             0.8,
             "#7fbc41"
            ],
            [
             0.9,
             "#4d9221"
            ],
            [
             1,
             "#276419"
            ]
           ]
          },
          "xaxis": {
           "gridcolor": "white",
           "linecolor": "white",
           "ticks": "",
           "title": {
            "standoff": 15
           },
           "zerolinecolor": "white",
           "automargin": true,
           "zerolinewidth": 2
          },
          "yaxis": {
           "gridcolor": "white",
           "linecolor": "white",
           "ticks": "",
           "title": {
            "standoff": 15
           },
           "zerolinecolor": "white",
           "automargin": true,
           "zerolinewidth": 2
          },
          "scene": {
           "xaxis": {
            "backgroundcolor": "#E5ECF6",
            "gridcolor": "white",
            "linecolor": "white",
            "showbackground": true,
            "ticks": "",
            "zerolinecolor": "white",
            "gridwidth": 2
           },
           "yaxis": {
            "backgroundcolor": "#E5ECF6",
            "gridcolor": "white",
            "linecolor": "white",
            "showbackground": true,
            "ticks": "",
            "zerolinecolor": "white",
            "gridwidth": 2
           },
           "zaxis": {
            "backgroundcolor": "#E5ECF6",
            "gridcolor": "white",
            "linecolor": "white",
            "showbackground": true,
            "ticks": "",
            "zerolinecolor": "white",
            "gridwidth": 2
           }
          },
          "shapedefaults": {
           "line": {
            "color": "#2a3f5f"
           }
          },
          "annotationdefaults": {
           "arrowcolor": "#2a3f5f",
           "arrowhead": 0,
           "arrowwidth": 1
          },
          "geo": {
           "bgcolor": "white",
           "landcolor": "#E5ECF6",
           "subunitcolor": "white",
           "showland": true,
           "showlakes": true,
           "lakecolor": "white"
          },
          "title": {
           "x": 0.05
          },
          "mapbox": {
           "style": "light"
          }
         }
        },
        "title": {
         "text": "RMS Error with varying number of calibration beads"
        },
        "yaxis": {
         "title": {
          "text": "RMS Error"
         }
        },
        "xaxis": {
         "title": {
          "text": "Number of calibration beads"
         }
        }
       },
       "config": {
        "plotlyServerURL": "https://plot.ly"
       }
      }
     },
     "metadata": {},
     "output_type": "display_data",
     "jetTransient": {
      "display_id": null
     }
    }
   ],
   "execution_count": 94
  },
  {
   "cell_type": "markdown",
   "metadata": {},
   "source": [
    "# Question 2.2"
   ]
  },
  {
   "cell_type": "markdown",
   "metadata": {},
   "source": [
    "Here are 4 sets of 8 calibration beads. For each set, determine which one is which (same plate, small volume, medium volume, large volume) and plot calibration error curves.  \n",
    "Don't hesitate to use the function `plot_selected_beads` from `lab_1.render`to vizualize the selected beads to sort out the subsets !"
   ]
  },
  {
   "cell_type": "code",
   "metadata": {
    "ExecuteTime": {
     "end_time": "2025-09-22T13:28:06.535778Z",
     "start_time": "2025-09-22T13:28:06.398560Z"
    }
   },
   "source": [
    "set_0 = ['A_1_6', 'A_4_6', 'A_1_2', 'A_4_2', 'B_1_5', 'B_5_5', 'B_1_1', 'B_5_1', 'C_1_6', 'C_4_6', 'C_1_2', 'C_4_2', 'D_1_5', 'D_5_5', 'D_1_1', 'D_5_1']\n",
    "set_1 = ['B_1_1', 'B_2_2', 'B_4_2', 'B_5_3', 'B_1_4', 'B_2_5', 'B_4_3', 'B_5_5', 'D_1_1', 'D_2_2', 'D_4_2', 'D_5_3', 'D_1_4', 'D_2_5', 'D_4_3', 'D_5_5']\n",
    "set_2 = ['A_1_4', 'A_2_4', 'A_1_5', 'A_2_5', 'B_1_3', 'B_2_3', 'B_1_4', 'B_2_4', 'C_1_4', 'C_2_4', 'C_1_5', 'C_2_5', 'D_1_3', 'D_2_3', 'D_1_4', 'D_2_4']\n",
    "set_3 = ['A_1_4', 'A_3_4', 'A_1_5', 'A_3_5', 'B_1_3', 'B_3_3', 'B_1_4', 'B_3_4', 'C_1_4', 'C_3_4', 'C_1_5', 'C_3_5', 'D_1_3', 'D_3_3', 'D_1_4', 'D_3_4']\n",
    "\n",
    "rms_measurements = {\n",
    "        'x' : [],\n",
    "        'y' : [],\n",
    "        'z' : [],\n",
    "        '3d' : [],\n",
    "        'plate':[]\n",
    "    }\n",
    "\n",
    "large = beads_data[\"2d\"][beads_data['2d']['bead'].isin(set_0)]\n",
    "same_plate = beads_data[\"2d\"][beads_data['2d']['bead'].isin(set_1)]\n",
    "small = beads_data[\"2d\"][beads_data['2d']['bead'].isin(set_2)]\n",
    "medium = beads_data[\"2d\"][beads_data['2d']['bead'].isin(set_3)]\n",
    "\n",
    "large = {\"2d\":large}\n",
    "same_plate = {\"2d\":same_plate}\n",
    "small = {\"2d\":small}\n",
    "medium = {\"2d\":medium}\n",
    "\n",
    "three_large = beads_data[\"3d\"][beads_data['3d']['bead'].isin(set_0)]\n",
    "three_same_plate = beads_data[\"3d\"][beads_data['3d']['bead'].isin(set_1)]\n",
    "three_small = beads_data[\"3d\"][beads_data['3d']['bead'].isin(set_2)]\n",
    "three_medium = beads_data[\"3d\"][beads_data['3d']['bead'].isin(set_3)]\n",
    "\n",
    "large[\"3d\"] = three_large\n",
    "same_plate[\"3d\"] = three_same_plate\n",
    "small[\"3d\"] = three_small\n",
    "medium[\"3d\"] = three_medium\n",
    "\n",
    "names = [\"same\", \"small\", \"medium\", \"large\"]\n",
    "plates = [same_plate, small, medium, large]\n",
    "\n",
    "for j, plate in enumerate(plates):\n",
    "    computed_points_3d = []\n",
    "    beads_subset = plate\n",
    "    A_view_0 = get_a('Beads2D_'+view_0, beads_subset)\n",
    "    l_view_0 = lab_1.solver.dlt(A_view_0)\n",
    "    A_view_1 = get_a('Beads2D_'+view_1, beads_subset)\n",
    "    l_view_1 = lab_1.solver.dlt(A_view_1)\n",
    "    for i, v_name in enumerate(spine.vertebrae):\n",
    "\n",
    "        vert = spine.get(v_name).data # Returns the vertebra data\n",
    "\n",
    "        for datum in vert.iterrows():\n",
    "            data = datum[1]\n",
    "            u0 = data[\"x_Vertebrae_LAT\"]\n",
    "            v0 = data[\"y_Vertebrae_LAT\"]\n",
    "            u1 = data[\"x_Vertebrae_PA0\"]\n",
    "            v1 = data[\"y_Vertebrae_PA0\"]\n",
    "            point = calculate_3d_point(u0, v0, u1, v1, l_view_0, l_view_1)\n",
    "            computed_points_3d.append(point)\n",
    "    computed_points_3d = np.array(computed_points_3d)\n",
    "    x_rms = rms(SPINE_3D_POINTS[:,0], computed_points_3d[:,0])\n",
    "    y_rms = rms(SPINE_3D_POINTS[:,1], computed_points_3d[:,1])\n",
    "    z_rms = rms(SPINE_3D_POINTS[:,2], computed_points_3d[:,2])\n",
    "\n",
    "    three_d = rms(SPINE_3D_POINTS, computed_points_3d)\n",
    "    rms_measurements['x'].append(x_rms)\n",
    "    rms_measurements['y'].append(y_rms)\n",
    "    rms_measurements['z'].append(z_rms)\n",
    "    rms_measurements['3d'].append(three_d)\n",
    "    rms_measurements['plate'].append(names[j])"
   ],
   "outputs": [],
   "execution_count": 144
  },
  {
   "metadata": {
    "ExecuteTime": {
     "end_time": "2025-09-22T13:28:47.273300Z",
     "start_time": "2025-09-22T13:28:47.231787Z"
    }
   },
   "cell_type": "code",
   "source": [
    "fig = go.Figure()\n",
    "fig.update_layout(title = 'RMS Error with varying calibration size',\n",
    "                  yaxis_title = 'RMS Error',\n",
    "                  xaxis_title = 'Bead Size')\n",
    "\n",
    "fig.add_trace(go.Scatter(\n",
    "    x = rms_measurements['plate'],\n",
    "    y = rms_measurements['x'],\n",
    "    name = 'X Axis'\n",
    "))\n",
    "fig.add_trace(go.Scatter(\n",
    "    x = rms_measurements['plate'],\n",
    "    y = rms_measurements['y'],\n",
    "    name = 'Y axis'\n",
    "))\n",
    "fig.add_trace(go.Scatter(\n",
    "    x = rms_measurements['plate'],\n",
    "    y = rms_measurements['z'],\n",
    "    name = 'Z axis'\n",
    "))\n",
    "fig.add_trace(go.Scatter(\n",
    "    x = rms_measurements['plate'],\n",
    "    y = rms_measurements['3d'],\n",
    "    name = '3D Model'\n",
    "))\n",
    "fig.show()"
   ],
   "outputs": [
    {
     "data": {
      "application/vnd.plotly.v1+json": {
       "data": [
        {
         "name": "X Axis",
         "x": [
          "same",
          "small",
          "medium",
          "large"
         ],
         "y": [
          282.08899478780125,
          0.8317178513287673,
          0.13397024576599825,
          0.11114162469416815
         ],
         "type": "scatter"
        },
        {
         "name": "Y axis",
         "x": [
          "same",
          "small",
          "medium",
          "large"
         ],
         "y": [
          49.5455032609656,
          0.7610166909420367,
          0.056473617967437086,
          0.032522421019270914
         ],
         "type": "scatter"
        },
        {
         "name": "Z axis",
         "x": [
          "same",
          "small",
          "medium",
          "large"
         ],
         "y": [
          97.57341064904043,
          2.4384063063790817,
          0.29031947832181215,
          0.0801111715934466
         ],
         "type": "scatter"
        },
        {
         "name": "3D Model",
         "x": [
          "same",
          "small",
          "medium",
          "large"
         ],
         "y": [
          302.5715115602312,
          2.6863964091916346,
          0.32468863829808225,
          0.14081182100236841
         ],
         "type": "scatter"
        }
       ],
       "layout": {
        "template": {
         "data": {
          "histogram2dcontour": [
           {
            "type": "histogram2dcontour",
            "colorbar": {
             "outlinewidth": 0,
             "ticks": ""
            },
            "colorscale": [
             [
              0.0,
              "#0d0887"
             ],
             [
              0.1111111111111111,
              "#46039f"
             ],
             [
              0.2222222222222222,
              "#7201a8"
             ],
             [
              0.3333333333333333,
              "#9c179e"
             ],
             [
              0.4444444444444444,
              "#bd3786"
             ],
             [
              0.5555555555555556,
              "#d8576b"
             ],
             [
              0.6666666666666666,
              "#ed7953"
             ],
             [
              0.7777777777777778,
              "#fb9f3a"
             ],
             [
              0.8888888888888888,
              "#fdca26"
             ],
             [
              1.0,
              "#f0f921"
             ]
            ]
           }
          ],
          "choropleth": [
           {
            "type": "choropleth",
            "colorbar": {
             "outlinewidth": 0,
             "ticks": ""
            }
           }
          ],
          "histogram2d": [
           {
            "type": "histogram2d",
            "colorbar": {
             "outlinewidth": 0,
             "ticks": ""
            },
            "colorscale": [
             [
              0.0,
              "#0d0887"
             ],
             [
              0.1111111111111111,
              "#46039f"
             ],
             [
              0.2222222222222222,
              "#7201a8"
             ],
             [
              0.3333333333333333,
              "#9c179e"
             ],
             [
              0.4444444444444444,
              "#bd3786"
             ],
             [
              0.5555555555555556,
              "#d8576b"
             ],
             [
              0.6666666666666666,
              "#ed7953"
             ],
             [
              0.7777777777777778,
              "#fb9f3a"
             ],
             [
              0.8888888888888888,
              "#fdca26"
             ],
             [
              1.0,
              "#f0f921"
             ]
            ]
           }
          ],
          "heatmap": [
           {
            "type": "heatmap",
            "colorbar": {
             "outlinewidth": 0,
             "ticks": ""
            },
            "colorscale": [
             [
              0.0,
              "#0d0887"
             ],
             [
              0.1111111111111111,
              "#46039f"
             ],
             [
              0.2222222222222222,
              "#7201a8"
             ],
             [
              0.3333333333333333,
              "#9c179e"
             ],
             [
              0.4444444444444444,
              "#bd3786"
             ],
             [
              0.5555555555555556,
              "#d8576b"
             ],
             [
              0.6666666666666666,
              "#ed7953"
             ],
             [
              0.7777777777777778,
              "#fb9f3a"
             ],
             [
              0.8888888888888888,
              "#fdca26"
             ],
             [
              1.0,
              "#f0f921"
             ]
            ]
           }
          ],
          "contourcarpet": [
           {
            "type": "contourcarpet",
            "colorbar": {
             "outlinewidth": 0,
             "ticks": ""
            }
           }
          ],
          "contour": [
           {
            "type": "contour",
            "colorbar": {
             "outlinewidth": 0,
             "ticks": ""
            },
            "colorscale": [
             [
              0.0,
              "#0d0887"
             ],
             [
              0.1111111111111111,
              "#46039f"
             ],
             [
              0.2222222222222222,
              "#7201a8"
             ],
             [
              0.3333333333333333,
              "#9c179e"
             ],
             [
              0.4444444444444444,
              "#bd3786"
             ],
             [
              0.5555555555555556,
              "#d8576b"
             ],
             [
              0.6666666666666666,
              "#ed7953"
             ],
             [
              0.7777777777777778,
              "#fb9f3a"
             ],
             [
              0.8888888888888888,
              "#fdca26"
             ],
             [
              1.0,
              "#f0f921"
             ]
            ]
           }
          ],
          "surface": [
           {
            "type": "surface",
            "colorbar": {
             "outlinewidth": 0,
             "ticks": ""
            },
            "colorscale": [
             [
              0.0,
              "#0d0887"
             ],
             [
              0.1111111111111111,
              "#46039f"
             ],
             [
              0.2222222222222222,
              "#7201a8"
             ],
             [
              0.3333333333333333,
              "#9c179e"
             ],
             [
              0.4444444444444444,
              "#bd3786"
             ],
             [
              0.5555555555555556,
              "#d8576b"
             ],
             [
              0.6666666666666666,
              "#ed7953"
             ],
             [
              0.7777777777777778,
              "#fb9f3a"
             ],
             [
              0.8888888888888888,
              "#fdca26"
             ],
             [
              1.0,
              "#f0f921"
             ]
            ]
           }
          ],
          "mesh3d": [
           {
            "type": "mesh3d",
            "colorbar": {
             "outlinewidth": 0,
             "ticks": ""
            }
           }
          ],
          "scatter": [
           {
            "fillpattern": {
             "fillmode": "overlay",
             "size": 10,
             "solidity": 0.2
            },
            "type": "scatter"
           }
          ],
          "parcoords": [
           {
            "type": "parcoords",
            "line": {
             "colorbar": {
              "outlinewidth": 0,
              "ticks": ""
             }
            }
           }
          ],
          "scatterpolargl": [
           {
            "type": "scatterpolargl",
            "marker": {
             "colorbar": {
              "outlinewidth": 0,
              "ticks": ""
             }
            }
           }
          ],
          "bar": [
           {
            "error_x": {
             "color": "#2a3f5f"
            },
            "error_y": {
             "color": "#2a3f5f"
            },
            "marker": {
             "line": {
              "color": "#E5ECF6",
              "width": 0.5
             },
             "pattern": {
              "fillmode": "overlay",
              "size": 10,
              "solidity": 0.2
             }
            },
            "type": "bar"
           }
          ],
          "scattergeo": [
           {
            "type": "scattergeo",
            "marker": {
             "colorbar": {
              "outlinewidth": 0,
              "ticks": ""
             }
            }
           }
          ],
          "scatterpolar": [
           {
            "type": "scatterpolar",
            "marker": {
             "colorbar": {
              "outlinewidth": 0,
              "ticks": ""
             }
            }
           }
          ],
          "histogram": [
           {
            "marker": {
             "pattern": {
              "fillmode": "overlay",
              "size": 10,
              "solidity": 0.2
             }
            },
            "type": "histogram"
           }
          ],
          "scattergl": [
           {
            "type": "scattergl",
            "marker": {
             "colorbar": {
              "outlinewidth": 0,
              "ticks": ""
             }
            }
           }
          ],
          "scatter3d": [
           {
            "type": "scatter3d",
            "line": {
             "colorbar": {
              "outlinewidth": 0,
              "ticks": ""
             }
            },
            "marker": {
             "colorbar": {
              "outlinewidth": 0,
              "ticks": ""
             }
            }
           }
          ],
          "scattermap": [
           {
            "type": "scattermap",
            "marker": {
             "colorbar": {
              "outlinewidth": 0,
              "ticks": ""
             }
            }
           }
          ],
          "scattermapbox": [
           {
            "type": "scattermapbox",
            "marker": {
             "colorbar": {
              "outlinewidth": 0,
              "ticks": ""
             }
            }
           }
          ],
          "scatterternary": [
           {
            "type": "scatterternary",
            "marker": {
             "colorbar": {
              "outlinewidth": 0,
              "ticks": ""
             }
            }
           }
          ],
          "scattercarpet": [
           {
            "type": "scattercarpet",
            "marker": {
             "colorbar": {
              "outlinewidth": 0,
              "ticks": ""
             }
            }
           }
          ],
          "carpet": [
           {
            "aaxis": {
             "endlinecolor": "#2a3f5f",
             "gridcolor": "white",
             "linecolor": "white",
             "minorgridcolor": "white",
             "startlinecolor": "#2a3f5f"
            },
            "baxis": {
             "endlinecolor": "#2a3f5f",
             "gridcolor": "white",
             "linecolor": "white",
             "minorgridcolor": "white",
             "startlinecolor": "#2a3f5f"
            },
            "type": "carpet"
           }
          ],
          "table": [
           {
            "cells": {
             "fill": {
              "color": "#EBF0F8"
             },
             "line": {
              "color": "white"
             }
            },
            "header": {
             "fill": {
              "color": "#C8D4E3"
             },
             "line": {
              "color": "white"
             }
            },
            "type": "table"
           }
          ],
          "barpolar": [
           {
            "marker": {
             "line": {
              "color": "#E5ECF6",
              "width": 0.5
             },
             "pattern": {
              "fillmode": "overlay",
              "size": 10,
              "solidity": 0.2
             }
            },
            "type": "barpolar"
           }
          ],
          "pie": [
           {
            "automargin": true,
            "type": "pie"
           }
          ]
         },
         "layout": {
          "autotypenumbers": "strict",
          "colorway": [
           "#636efa",
           "#EF553B",
           "#00cc96",
           "#ab63fa",
           "#FFA15A",
           "#19d3f3",
           "#FF6692",
           "#B6E880",
           "#FF97FF",
           "#FECB52"
          ],
          "font": {
           "color": "#2a3f5f"
          },
          "hovermode": "closest",
          "hoverlabel": {
           "align": "left"
          },
          "paper_bgcolor": "white",
          "plot_bgcolor": "#E5ECF6",
          "polar": {
           "bgcolor": "#E5ECF6",
           "angularaxis": {
            "gridcolor": "white",
            "linecolor": "white",
            "ticks": ""
           },
           "radialaxis": {
            "gridcolor": "white",
            "linecolor": "white",
            "ticks": ""
           }
          },
          "ternary": {
           "bgcolor": "#E5ECF6",
           "aaxis": {
            "gridcolor": "white",
            "linecolor": "white",
            "ticks": ""
           },
           "baxis": {
            "gridcolor": "white",
            "linecolor": "white",
            "ticks": ""
           },
           "caxis": {
            "gridcolor": "white",
            "linecolor": "white",
            "ticks": ""
           }
          },
          "coloraxis": {
           "colorbar": {
            "outlinewidth": 0,
            "ticks": ""
           }
          },
          "colorscale": {
           "sequential": [
            [
             0.0,
             "#0d0887"
            ],
            [
             0.1111111111111111,
             "#46039f"
            ],
            [
             0.2222222222222222,
             "#7201a8"
            ],
            [
             0.3333333333333333,
             "#9c179e"
            ],
            [
             0.4444444444444444,
             "#bd3786"
            ],
            [
             0.5555555555555556,
             "#d8576b"
            ],
            [
             0.6666666666666666,
             "#ed7953"
            ],
            [
             0.7777777777777778,
             "#fb9f3a"
            ],
            [
             0.8888888888888888,
             "#fdca26"
            ],
            [
             1.0,
             "#f0f921"
            ]
           ],
           "sequentialminus": [
            [
             0.0,
             "#0d0887"
            ],
            [
             0.1111111111111111,
             "#46039f"
            ],
            [
             0.2222222222222222,
             "#7201a8"
            ],
            [
             0.3333333333333333,
             "#9c179e"
            ],
            [
             0.4444444444444444,
             "#bd3786"
            ],
            [
             0.5555555555555556,
             "#d8576b"
            ],
            [
             0.6666666666666666,
             "#ed7953"
            ],
            [
             0.7777777777777778,
             "#fb9f3a"
            ],
            [
             0.8888888888888888,
             "#fdca26"
            ],
            [
             1.0,
             "#f0f921"
            ]
           ],
           "diverging": [
            [
             0,
             "#8e0152"
            ],
            [
             0.1,
             "#c51b7d"
            ],
            [
             0.2,
             "#de77ae"
            ],
            [
             0.3,
             "#f1b6da"
            ],
            [
             0.4,
             "#fde0ef"
            ],
            [
             0.5,
             "#f7f7f7"
            ],
            [
             0.6,
             "#e6f5d0"
            ],
            [
             0.7,
             "#b8e186"
            ],
            [
             0.8,
             "#7fbc41"
            ],
            [
             0.9,
             "#4d9221"
            ],
            [
             1,
             "#276419"
            ]
           ]
          },
          "xaxis": {
           "gridcolor": "white",
           "linecolor": "white",
           "ticks": "",
           "title": {
            "standoff": 15
           },
           "zerolinecolor": "white",
           "automargin": true,
           "zerolinewidth": 2
          },
          "yaxis": {
           "gridcolor": "white",
           "linecolor": "white",
           "ticks": "",
           "title": {
            "standoff": 15
           },
           "zerolinecolor": "white",
           "automargin": true,
           "zerolinewidth": 2
          },
          "scene": {
           "xaxis": {
            "backgroundcolor": "#E5ECF6",
            "gridcolor": "white",
            "linecolor": "white",
            "showbackground": true,
            "ticks": "",
            "zerolinecolor": "white",
            "gridwidth": 2
           },
           "yaxis": {
            "backgroundcolor": "#E5ECF6",
            "gridcolor": "white",
            "linecolor": "white",
            "showbackground": true,
            "ticks": "",
            "zerolinecolor": "white",
            "gridwidth": 2
           },
           "zaxis": {
            "backgroundcolor": "#E5ECF6",
            "gridcolor": "white",
            "linecolor": "white",
            "showbackground": true,
            "ticks": "",
            "zerolinecolor": "white",
            "gridwidth": 2
           }
          },
          "shapedefaults": {
           "line": {
            "color": "#2a3f5f"
           }
          },
          "annotationdefaults": {
           "arrowcolor": "#2a3f5f",
           "arrowhead": 0,
           "arrowwidth": 1
          },
          "geo": {
           "bgcolor": "white",
           "landcolor": "#E5ECF6",
           "subunitcolor": "white",
           "showland": true,
           "showlakes": true,
           "lakecolor": "white"
          },
          "title": {
           "x": 0.05
          },
          "mapbox": {
           "style": "light"
          }
         }
        },
        "title": {
         "text": "RMS Error with varying calibration size"
        },
        "yaxis": {
         "title": {
          "text": "RMS Error"
         }
        },
        "xaxis": {
         "title": {
          "text": "Bead Size"
         }
        }
       },
       "config": {
        "plotlyServerURL": "https://plot.ly"
       }
      }
     },
     "metadata": {},
     "output_type": "display_data",
     "jetTransient": {
      "display_id": null
     }
    }
   ],
   "execution_count": 145
  },
  {
   "cell_type": "markdown",
   "metadata": {},
   "source": [
    "TODO : same thing as before, but now you have to select the provided beads ! Look at the function `sample_n_beads` from Q2.1 if you need some help on how to do this."
   ]
  },
  {
   "cell_type": "code",
   "execution_count": null,
   "metadata": {},
   "outputs": [],
   "source": []
  },
  {
   "cell_type": "markdown",
   "metadata": {},
   "source": [
    "# Question 2.3"
   ]
  },
  {
   "cell_type": "markdown",
   "metadata": {},
   "source": [
    "Using the **small** calibration volume from previous question, plot reconstruction error with respect to the center of gravity of the calibration volume !"
   ]
  },
  {
   "cell_type": "code",
   "execution_count": null,
   "metadata": {},
   "outputs": [],
   "source": []
  },
  {
   "cell_type": "markdown",
   "metadata": {},
   "source": [
    "# Question 3.1 "
   ]
  },
  {
   "cell_type": "markdown",
   "metadata": {},
   "source": [
    "Here you have to code the function that allow us to add noise to the calibration beads coordinates. Hint : you should take a look at the documentation of `np.random.normal` :)"
   ]
  },
  {
   "cell_type": "code",
   "execution_count": null,
   "metadata": {},
   "outputs": [],
   "source": [
    "def add_noise_2d(original_beads:dict, std:float) -> dict:\n",
    "    \"\"\"\n",
    "    Adds noise to the 2D coordinates of the beads\n",
    "\n",
    "    Parameters\n",
    "    ----------\n",
    "    original_beads : dict\n",
    "        Dictionnary containing information on 2D and 3D position of the a set of calibration beads\n",
    "    std : float\n",
    "        Standard deviation for the noise added.\n",
    "\n",
    "    Returns\n",
    "    -------\n",
    "    dict\n",
    "        Noised beads set\n",
    "    \"\"\"\n",
    "    output = deepcopy(original_beads) # ? First we deepcopy the original beads data, to avoid modifying it by mistake\n",
    "    # TODO : select 2D beads and add noise to them\n",
    "    \n",
    "    return output\n",
    "\n",
    "def add_noise_3d(original_beads:dict, std:float) -> dict:\n",
    "    \"\"\"\n",
    "    Adds noise to the 3D coordinates of the beads\n",
    "\n",
    "    Parameters\n",
    "    ----------\n",
    "    original_beads : dict\n",
    "        Dictionnary containing information on 2D and 3D position of the a set of calibration beads\n",
    "    std : float\n",
    "        Standard deviation for the noise added.\n",
    "\n",
    "    Returns\n",
    "    -------\n",
    "    dict\n",
    "        Noised beads set\n",
    "    \"\"\"\n",
    "    output = deepcopy(original_beads) # ? First we deepcopy the original beads data, to avoid modifying it by mistake\n",
    "    # TODO : select 3D beads and add noise to them\n",
    "    \n",
    "    return output"
   ]
  },
  {
   "cell_type": "code",
   "execution_count": null,
   "metadata": {},
   "outputs": [],
   "source": []
  },
  {
   "cell_type": "markdown",
   "metadata": {},
   "source": [
    "# Question 3.2"
   ]
  },
  {
   "cell_type": "code",
   "execution_count": null,
   "metadata": {},
   "outputs": [],
   "source": []
  },
  {
   "cell_type": "markdown",
   "metadata": {},
   "source": [
    "# Question 4.1"
   ]
  },
  {
   "cell_type": "code",
   "execution_count": null,
   "metadata": {},
   "outputs": [],
   "source": []
  },
  {
   "cell_type": "markdown",
   "metadata": {},
   "source": [
    "# Question 4.2"
   ]
  },
  {
   "cell_type": "markdown",
   "metadata": {},
   "source": [
    "This question is a bit tricky, as you have to get measurements for couples of values of standard deviation for 2D and 3D noise. A line plot is not very adapted for this, but we could use a heatmap ! Here is a small example :"
   ]
  },
  {
   "cell_type": "code",
   "execution_count": null,
   "metadata": {},
   "outputs": [],
   "source": [
    "fig = go.Figure()\n",
    "heatmap = np.random.rand(11, 11)\n",
    "fig.add_trace(\n",
    "    go.Heatmap(\n",
    "        z = heatmap,\n",
    "        x = np.linspace(0., 10., 11),\n",
    "        y = np.linspace(0., 10., 11),\n",
    "        text = heatmap.round(2),\n",
    "        texttemplate=\"%{text}\",\n",
    "        colorscale='turbo'\n",
    "    ))\n",
    "fig.update_xaxes(title_text='Axis 1')\n",
    "fig.update_yaxes(title_text='Axis 2')\n",
    "fig.update_layout(title = 'Plot title')\n",
    "fig.update_traces(showscale=False)\n",
    "fig.show()"
   ]
  }
 ],
 "metadata": {
  "kernelspec": {
   "display_name": "gbm",
   "language": "python",
   "name": "python3"
  },
  "language_info": {
   "codemirror_mode": {
    "name": "ipython",
    "version": 3
   },
   "file_extension": ".py",
   "mimetype": "text/x-python",
   "name": "python",
   "nbconvert_exporter": "python",
   "pygments_lexer": "ipython3",
   "version": "3.8.20"
  }
 },
 "nbformat": 4,
 "nbformat_minor": 2
}
