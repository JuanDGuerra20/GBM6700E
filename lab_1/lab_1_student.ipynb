{
 "cells": [
  {
   "metadata": {
    "ExecuteTime": {
     "end_time": "2025-10-02T17:52:25.568995Z",
     "start_time": "2025-10-02T17:52:23.928008Z"
    }
   },
   "cell_type": "code",
   "source": [
    "!pip install plotly numpy pandas ipykernel nbformat\n",
    "!pip install plotly numpy pandas ipykernel nbformat"
   ],
   "outputs": [
    {
     "name": "stdout",
     "output_type": "stream",
     "text": [
      "Requirement already satisfied: plotly in c:\\users\\preda\\pycharmprojects\\gbm6700e\\.venv\\lib\\site-packages (6.3.1)\n",
      "Requirement already satisfied: numpy in c:\\users\\preda\\pycharmprojects\\gbm6700e\\.venv\\lib\\site-packages (1.26.4)\n",
      "Requirement already satisfied: pandas in c:\\users\\preda\\pycharmprojects\\gbm6700e\\.venv\\lib\\site-packages (2.3.3)\n",
      "Requirement already satisfied: ipykernel in c:\\users\\preda\\pycharmprojects\\gbm6700e\\.venv\\lib\\site-packages (6.30.1)\n",
      "Requirement already satisfied: nbformat in c:\\users\\preda\\pycharmprojects\\gbm6700e\\.venv\\lib\\site-packages (5.10.4)\n",
      "Requirement already satisfied: narwhals>=1.15.1 in c:\\users\\preda\\pycharmprojects\\gbm6700e\\.venv\\lib\\site-packages (from plotly) (2.6.0)\n",
      "Requirement already satisfied: packaging in c:\\users\\preda\\pycharmprojects\\gbm6700e\\.venv\\lib\\site-packages (from plotly) (25.0)\n",
      "Requirement already satisfied: python-dateutil>=2.8.2 in c:\\users\\preda\\pycharmprojects\\gbm6700e\\.venv\\lib\\site-packages (from pandas) (2.9.0.post0)\n",
      "Requirement already satisfied: pytz>=2020.1 in c:\\users\\preda\\pycharmprojects\\gbm6700e\\.venv\\lib\\site-packages (from pandas) (2025.2)\n",
      "Requirement already satisfied: tzdata>=2022.7 in c:\\users\\preda\\pycharmprojects\\gbm6700e\\.venv\\lib\\site-packages (from pandas) (2025.2)\n",
      "Requirement already satisfied: comm>=0.1.1 in c:\\users\\preda\\pycharmprojects\\gbm6700e\\.venv\\lib\\site-packages (from ipykernel) (0.2.3)\n",
      "Requirement already satisfied: debugpy>=1.6.5 in c:\\users\\preda\\pycharmprojects\\gbm6700e\\.venv\\lib\\site-packages (from ipykernel) (1.8.17)\n",
      "Requirement already satisfied: ipython>=7.23.1 in c:\\users\\preda\\pycharmprojects\\gbm6700e\\.venv\\lib\\site-packages (from ipykernel) (8.18.1)\n",
      "Requirement already satisfied: jupyter-client>=8.0.0 in c:\\users\\preda\\pycharmprojects\\gbm6700e\\.venv\\lib\\site-packages (from ipykernel) (8.6.3)\n",
      "Requirement already satisfied: jupyter-core!=5.0.*,>=4.12 in c:\\users\\preda\\pycharmprojects\\gbm6700e\\.venv\\lib\\site-packages (from ipykernel) (5.8.1)\n",
      "Requirement already satisfied: matplotlib-inline>=0.1 in c:\\users\\preda\\pycharmprojects\\gbm6700e\\.venv\\lib\\site-packages (from ipykernel) (0.1.7)\n",
      "Requirement already satisfied: nest-asyncio>=1.4 in c:\\users\\preda\\pycharmprojects\\gbm6700e\\.venv\\lib\\site-packages (from ipykernel) (1.6.0)\n",
      "Requirement already satisfied: psutil>=5.7 in c:\\users\\preda\\pycharmprojects\\gbm6700e\\.venv\\lib\\site-packages (from ipykernel) (7.1.0)\n",
      "Requirement already satisfied: pyzmq>=25 in c:\\users\\preda\\pycharmprojects\\gbm6700e\\.venv\\lib\\site-packages (from ipykernel) (27.1.0)\n",
      "Requirement already satisfied: tornado>=6.2 in c:\\users\\preda\\pycharmprojects\\gbm6700e\\.venv\\lib\\site-packages (from ipykernel) (6.5.2)\n",
      "Requirement already satisfied: traitlets>=5.4.0 in c:\\users\\preda\\pycharmprojects\\gbm6700e\\.venv\\lib\\site-packages (from ipykernel) (5.14.3)\n",
      "Requirement already satisfied: fastjsonschema>=2.15 in c:\\users\\preda\\pycharmprojects\\gbm6700e\\.venv\\lib\\site-packages (from nbformat) (2.21.2)\n",
      "Requirement already satisfied: jsonschema>=2.6 in c:\\users\\preda\\pycharmprojects\\gbm6700e\\.venv\\lib\\site-packages (from nbformat) (4.25.1)\n",
      "Requirement already satisfied: decorator in c:\\users\\preda\\pycharmprojects\\gbm6700e\\.venv\\lib\\site-packages (from ipython>=7.23.1->ipykernel) (5.2.1)\n",
      "Requirement already satisfied: jedi>=0.16 in c:\\users\\preda\\pycharmprojects\\gbm6700e\\.venv\\lib\\site-packages (from ipython>=7.23.1->ipykernel) (0.19.2)\n",
      "Requirement already satisfied: prompt-toolkit<3.1.0,>=3.0.41 in c:\\users\\preda\\pycharmprojects\\gbm6700e\\.venv\\lib\\site-packages (from ipython>=7.23.1->ipykernel) (3.0.52)\n",
      "Requirement already satisfied: pygments>=2.4.0 in c:\\users\\preda\\pycharmprojects\\gbm6700e\\.venv\\lib\\site-packages (from ipython>=7.23.1->ipykernel) (2.19.2)\n",
      "Requirement already satisfied: stack-data in c:\\users\\preda\\pycharmprojects\\gbm6700e\\.venv\\lib\\site-packages (from ipython>=7.23.1->ipykernel) (0.6.3)\n",
      "Requirement already satisfied: typing-extensions in c:\\users\\preda\\pycharmprojects\\gbm6700e\\.venv\\lib\\site-packages (from ipython>=7.23.1->ipykernel) (4.15.0)\n",
      "Requirement already satisfied: exceptiongroup in c:\\users\\preda\\pycharmprojects\\gbm6700e\\.venv\\lib\\site-packages (from ipython>=7.23.1->ipykernel) (1.3.0)\n",
      "Requirement already satisfied: colorama in c:\\users\\preda\\pycharmprojects\\gbm6700e\\.venv\\lib\\site-packages (from ipython>=7.23.1->ipykernel) (0.4.6)\n",
      "Requirement already satisfied: wcwidth in c:\\users\\preda\\pycharmprojects\\gbm6700e\\.venv\\lib\\site-packages (from prompt-toolkit<3.1.0,>=3.0.41->ipython>=7.23.1->ipykernel) (0.2.14)\n",
      "Requirement already satisfied: parso<0.9.0,>=0.8.4 in c:\\users\\preda\\pycharmprojects\\gbm6700e\\.venv\\lib\\site-packages (from jedi>=0.16->ipython>=7.23.1->ipykernel) (0.8.5)\n",
      "Requirement already satisfied: attrs>=22.2.0 in c:\\users\\preda\\pycharmprojects\\gbm6700e\\.venv\\lib\\site-packages (from jsonschema>=2.6->nbformat) (25.3.0)\n",
      "Requirement already satisfied: jsonschema-specifications>=2023.03.6 in c:\\users\\preda\\pycharmprojects\\gbm6700e\\.venv\\lib\\site-packages (from jsonschema>=2.6->nbformat) (2025.9.1)\n",
      "Requirement already satisfied: referencing>=0.28.4 in c:\\users\\preda\\pycharmprojects\\gbm6700e\\.venv\\lib\\site-packages (from jsonschema>=2.6->nbformat) (0.36.2)\n",
      "Requirement already satisfied: rpds-py>=0.7.1 in c:\\users\\preda\\pycharmprojects\\gbm6700e\\.venv\\lib\\site-packages (from jsonschema>=2.6->nbformat) (0.27.1)\n",
      "Requirement already satisfied: importlib-metadata>=4.8.3 in c:\\users\\preda\\pycharmprojects\\gbm6700e\\.venv\\lib\\site-packages (from jupyter-client>=8.0.0->ipykernel) (8.7.0)\n",
      "Requirement already satisfied: zipp>=3.20 in c:\\users\\preda\\pycharmprojects\\gbm6700e\\.venv\\lib\\site-packages (from importlib-metadata>=4.8.3->jupyter-client>=8.0.0->ipykernel) (3.23.0)\n",
      "Requirement already satisfied: platformdirs>=2.5 in c:\\users\\preda\\pycharmprojects\\gbm6700e\\.venv\\lib\\site-packages (from jupyter-core!=5.0.*,>=4.12->ipykernel) (4.4.0)\n",
      "Requirement already satisfied: pywin32>=300 in c:\\users\\preda\\pycharmprojects\\gbm6700e\\.venv\\lib\\site-packages (from jupyter-core!=5.0.*,>=4.12->ipykernel) (311)\n",
      "Requirement already satisfied: six>=1.5 in c:\\users\\preda\\pycharmprojects\\gbm6700e\\.venv\\lib\\site-packages (from python-dateutil>=2.8.2->pandas) (1.17.0)\n",
      "Requirement already satisfied: executing>=1.2.0 in c:\\users\\preda\\pycharmprojects\\gbm6700e\\.venv\\lib\\site-packages (from stack-data->ipython>=7.23.1->ipykernel) (2.2.1)\n",
      "Requirement already satisfied: asttokens>=2.1.0 in c:\\users\\preda\\pycharmprojects\\gbm6700e\\.venv\\lib\\site-packages (from stack-data->ipython>=7.23.1->ipykernel) (3.0.0)\n",
      "Requirement already satisfied: pure-eval in c:\\users\\preda\\pycharmprojects\\gbm6700e\\.venv\\lib\\site-packages (from stack-data->ipython>=7.23.1->ipykernel) (0.2.3)\n"
     ]
    },
    {
     "name": "stderr",
     "output_type": "stream",
     "text": [
      "\n",
      "[notice] A new release of pip is available: 25.1.1 -> 25.2\n",
      "[notice] To update, run: python.exe -m pip install --upgrade pip\n"
     ]
    },
    {
     "name": "stdout",
     "output_type": "stream",
     "text": [
      "Requirement already satisfied: plotly in c:\\users\\preda\\pycharmprojects\\gbm6700e\\.venv\\lib\\site-packages (6.3.1)\n",
      "Requirement already satisfied: numpy in c:\\users\\preda\\pycharmprojects\\gbm6700e\\.venv\\lib\\site-packages (1.26.4)\n",
      "Requirement already satisfied: pandas in c:\\users\\preda\\pycharmprojects\\gbm6700e\\.venv\\lib\\site-packages (2.3.3)\n",
      "Requirement already satisfied: ipykernel in c:\\users\\preda\\pycharmprojects\\gbm6700e\\.venv\\lib\\site-packages (6.30.1)\n",
      "Requirement already satisfied: nbformat in c:\\users\\preda\\pycharmprojects\\gbm6700e\\.venv\\lib\\site-packages (5.10.4)\n",
      "Requirement already satisfied: narwhals>=1.15.1 in c:\\users\\preda\\pycharmprojects\\gbm6700e\\.venv\\lib\\site-packages (from plotly) (2.6.0)\n",
      "Requirement already satisfied: packaging in c:\\users\\preda\\pycharmprojects\\gbm6700e\\.venv\\lib\\site-packages (from plotly) (25.0)\n",
      "Requirement already satisfied: python-dateutil>=2.8.2 in c:\\users\\preda\\pycharmprojects\\gbm6700e\\.venv\\lib\\site-packages (from pandas) (2.9.0.post0)\n",
      "Requirement already satisfied: pytz>=2020.1 in c:\\users\\preda\\pycharmprojects\\gbm6700e\\.venv\\lib\\site-packages (from pandas) (2025.2)\n",
      "Requirement already satisfied: tzdata>=2022.7 in c:\\users\\preda\\pycharmprojects\\gbm6700e\\.venv\\lib\\site-packages (from pandas) (2025.2)\n",
      "Requirement already satisfied: comm>=0.1.1 in c:\\users\\preda\\pycharmprojects\\gbm6700e\\.venv\\lib\\site-packages (from ipykernel) (0.2.3)\n",
      "Requirement already satisfied: debugpy>=1.6.5 in c:\\users\\preda\\pycharmprojects\\gbm6700e\\.venv\\lib\\site-packages (from ipykernel) (1.8.17)\n",
      "Requirement already satisfied: ipython>=7.23.1 in c:\\users\\preda\\pycharmprojects\\gbm6700e\\.venv\\lib\\site-packages (from ipykernel) (8.18.1)\n",
      "Requirement already satisfied: jupyter-client>=8.0.0 in c:\\users\\preda\\pycharmprojects\\gbm6700e\\.venv\\lib\\site-packages (from ipykernel) (8.6.3)\n",
      "Requirement already satisfied: jupyter-core!=5.0.*,>=4.12 in c:\\users\\preda\\pycharmprojects\\gbm6700e\\.venv\\lib\\site-packages (from ipykernel) (5.8.1)\n",
      "Requirement already satisfied: matplotlib-inline>=0.1 in c:\\users\\preda\\pycharmprojects\\gbm6700e\\.venv\\lib\\site-packages (from ipykernel) (0.1.7)\n",
      "Requirement already satisfied: nest-asyncio>=1.4 in c:\\users\\preda\\pycharmprojects\\gbm6700e\\.venv\\lib\\site-packages (from ipykernel) (1.6.0)\n",
      "Requirement already satisfied: psutil>=5.7 in c:\\users\\preda\\pycharmprojects\\gbm6700e\\.venv\\lib\\site-packages (from ipykernel) (7.1.0)\n",
      "Requirement already satisfied: pyzmq>=25 in c:\\users\\preda\\pycharmprojects\\gbm6700e\\.venv\\lib\\site-packages (from ipykernel) (27.1.0)\n",
      "Requirement already satisfied: tornado>=6.2 in c:\\users\\preda\\pycharmprojects\\gbm6700e\\.venv\\lib\\site-packages (from ipykernel) (6.5.2)\n",
      "Requirement already satisfied: traitlets>=5.4.0 in c:\\users\\preda\\pycharmprojects\\gbm6700e\\.venv\\lib\\site-packages (from ipykernel) (5.14.3)\n",
      "Requirement already satisfied: fastjsonschema>=2.15 in c:\\users\\preda\\pycharmprojects\\gbm6700e\\.venv\\lib\\site-packages (from nbformat) (2.21.2)\n",
      "Requirement already satisfied: jsonschema>=2.6 in c:\\users\\preda\\pycharmprojects\\gbm6700e\\.venv\\lib\\site-packages (from nbformat) (4.25.1)\n",
      "Requirement already satisfied: decorator in c:\\users\\preda\\pycharmprojects\\gbm6700e\\.venv\\lib\\site-packages (from ipython>=7.23.1->ipykernel) (5.2.1)\n",
      "Requirement already satisfied: jedi>=0.16 in c:\\users\\preda\\pycharmprojects\\gbm6700e\\.venv\\lib\\site-packages (from ipython>=7.23.1->ipykernel) (0.19.2)\n",
      "Requirement already satisfied: prompt-toolkit<3.1.0,>=3.0.41 in c:\\users\\preda\\pycharmprojects\\gbm6700e\\.venv\\lib\\site-packages (from ipython>=7.23.1->ipykernel) (3.0.52)\n",
      "Requirement already satisfied: pygments>=2.4.0 in c:\\users\\preda\\pycharmprojects\\gbm6700e\\.venv\\lib\\site-packages (from ipython>=7.23.1->ipykernel) (2.19.2)\n",
      "Requirement already satisfied: stack-data in c:\\users\\preda\\pycharmprojects\\gbm6700e\\.venv\\lib\\site-packages (from ipython>=7.23.1->ipykernel) (0.6.3)\n",
      "Requirement already satisfied: typing-extensions in c:\\users\\preda\\pycharmprojects\\gbm6700e\\.venv\\lib\\site-packages (from ipython>=7.23.1->ipykernel) (4.15.0)\n",
      "Requirement already satisfied: exceptiongroup in c:\\users\\preda\\pycharmprojects\\gbm6700e\\.venv\\lib\\site-packages (from ipython>=7.23.1->ipykernel) (1.3.0)\n",
      "Requirement already satisfied: colorama in c:\\users\\preda\\pycharmprojects\\gbm6700e\\.venv\\lib\\site-packages (from ipython>=7.23.1->ipykernel) (0.4.6)\n",
      "Requirement already satisfied: wcwidth in c:\\users\\preda\\pycharmprojects\\gbm6700e\\.venv\\lib\\site-packages (from prompt-toolkit<3.1.0,>=3.0.41->ipython>=7.23.1->ipykernel) (0.2.14)\n",
      "Requirement already satisfied: parso<0.9.0,>=0.8.4 in c:\\users\\preda\\pycharmprojects\\gbm6700e\\.venv\\lib\\site-packages (from jedi>=0.16->ipython>=7.23.1->ipykernel) (0.8.5)\n",
      "Requirement already satisfied: attrs>=22.2.0 in c:\\users\\preda\\pycharmprojects\\gbm6700e\\.venv\\lib\\site-packages (from jsonschema>=2.6->nbformat) (25.3.0)\n",
      "Requirement already satisfied: jsonschema-specifications>=2023.03.6 in c:\\users\\preda\\pycharmprojects\\gbm6700e\\.venv\\lib\\site-packages (from jsonschema>=2.6->nbformat) (2025.9.1)\n",
      "Requirement already satisfied: referencing>=0.28.4 in c:\\users\\preda\\pycharmprojects\\gbm6700e\\.venv\\lib\\site-packages (from jsonschema>=2.6->nbformat) (0.36.2)\n",
      "Requirement already satisfied: rpds-py>=0.7.1 in c:\\users\\preda\\pycharmprojects\\gbm6700e\\.venv\\lib\\site-packages (from jsonschema>=2.6->nbformat) (0.27.1)\n",
      "Requirement already satisfied: importlib-metadata>=4.8.3 in c:\\users\\preda\\pycharmprojects\\gbm6700e\\.venv\\lib\\site-packages (from jupyter-client>=8.0.0->ipykernel) (8.7.0)\n",
      "Requirement already satisfied: zipp>=3.20 in c:\\users\\preda\\pycharmprojects\\gbm6700e\\.venv\\lib\\site-packages (from importlib-metadata>=4.8.3->jupyter-client>=8.0.0->ipykernel) (3.23.0)\n",
      "Requirement already satisfied: platformdirs>=2.5 in c:\\users\\preda\\pycharmprojects\\gbm6700e\\.venv\\lib\\site-packages (from jupyter-core!=5.0.*,>=4.12->ipykernel) (4.4.0)\n",
      "Requirement already satisfied: pywin32>=300 in c:\\users\\preda\\pycharmprojects\\gbm6700e\\.venv\\lib\\site-packages (from jupyter-core!=5.0.*,>=4.12->ipykernel) (311)\n",
      "Requirement already satisfied: six>=1.5 in c:\\users\\preda\\pycharmprojects\\gbm6700e\\.venv\\lib\\site-packages (from python-dateutil>=2.8.2->pandas) (1.17.0)\n",
      "Requirement already satisfied: executing>=1.2.0 in c:\\users\\preda\\pycharmprojects\\gbm6700e\\.venv\\lib\\site-packages (from stack-data->ipython>=7.23.1->ipykernel) (2.2.1)\n",
      "Requirement already satisfied: asttokens>=2.1.0 in c:\\users\\preda\\pycharmprojects\\gbm6700e\\.venv\\lib\\site-packages (from stack-data->ipython>=7.23.1->ipykernel) (3.0.0)\n",
      "Requirement already satisfied: pure-eval in c:\\users\\preda\\pycharmprojects\\gbm6700e\\.venv\\lib\\site-packages (from stack-data->ipython>=7.23.1->ipykernel) (0.2.3)\n"
     ]
    },
    {
     "name": "stderr",
     "output_type": "stream",
     "text": [
      "\n",
      "[notice] A new release of pip is available: 25.1.1 -> 25.2\n",
      "[notice] To update, run: python.exe -m pip install --upgrade pip\n"
     ]
    }
   ],
   "execution_count": 96
  },
  {
   "cell_type": "code",
   "metadata": {
    "ExecuteTime": {
     "end_time": "2025-10-02T17:52:25.584569Z",
     "start_time": "2025-10-02T17:52:25.579042Z"
    }
   },
   "source": [
    "from pyGBM6700e import lab_1\n",
    "import os\n",
    "import numpy as np\n",
    "import plotly.graph_objects as go\n",
    "import plotly.express as px\n",
    "from copy import deepcopy\n",
    "import random\n",
    "import pandas as pd\n",
    "from plotly.subplots import make_subplots\n",
    "\n",
    "np.set_printoptions(precision=2)\n",
    "\n",
    "\n",
    "root_directory = \"lab_data\"\n",
    "view_0 = 'PA0'\n",
    "view_1 = 'LAT'"
   ],
   "outputs": [],
   "execution_count": 97
  },
  {
   "cell_type": "markdown",
   "metadata": {},
   "source": [
    "# Preamble\n",
    "Please write the RMS calculation function here. You will need this function throughout the assignment, so craft it with care !"
   ]
  },
  {
   "cell_type": "code",
   "metadata": {
    "ExecuteTime": {
     "end_time": "2025-10-02T17:52:25.600242Z",
     "start_time": "2025-10-02T17:52:25.591557Z"
    }
   },
   "source": [
    "def rms(reference:np.ndarray, prediction:np.ndarray) -> float:\n",
    "    \"\"\"\n",
    "    Calculates RMS\n",
    "\n",
    "    Parameters\n",
    "    ----------\n",
    "    reference : np.ndarray\n",
    "        Reference value\n",
    "    prediction : np.ndarray\n",
    "        Calculated/predicted value\n",
    "\n",
    "    Returns\n",
    "    -------\n",
    "    float\n",
    "        RMS metric\n",
    "    \"\"\"\n",
    "    if reference.shape != prediction.shape:\n",
    "        raise ValueError('Please provide arrays that are shaped the same ! Reference has shape {refshape} whereas prediction has shape {predshape}'.format(refshape = reference.shape, predshape = prediction.shape))\n",
    "    rms_value = 0.\n",
    "    if len(reference.shape) == 2: # Array of shape N, 3:\n",
    "        rms_value = np.sqrt(np.sum(np.linalg.norm(prediction - reference, axis=1)**2)/(reference.shape[0]))\n",
    "    else: # Array of shape N, :\n",
    "        rms_value = np.sqrt(np.sum((prediction - reference)**2)/(reference.shape[0]))\n",
    "    return rms_value"
   ],
   "outputs": [],
   "execution_count": 98
  },
  {
   "cell_type": "markdown",
   "metadata": {},
   "source": [
    "# Question 1.1\n",
    "Write the code for finding the over determined system matrix A. Then use the dlt function from lab_1.solver to extract the L parameters vector for each view."
   ]
  },
  {
   "cell_type": "code",
   "metadata": {
    "ExecuteTime": {
     "end_time": "2025-10-02T17:52:25.631711Z",
     "start_time": "2025-10-02T17:52:25.609252Z"
    }
   },
   "source": [
    "beads_data = lab_1.io.process_files(root_directory)\n",
    "# ? Filter out non redundant beads\n",
    "unique_beads = beads_data['2d']['bead'].tolist()\n",
    "unique_beads = [x.replace('C', 'A') for x in unique_beads]\n",
    "unique_beads = [x.replace('D', 'B') for x in unique_beads]\n",
    "\n",
    "# ? Count values\n",
    "value_count = {}\n",
    "for k in unique_beads:\n",
    "    if k in value_count.keys():\n",
    "        value_count[k] += 1\n",
    "    else:\n",
    "        value_count[k] = 1\n",
    "\n",
    "# ? Exclude the ones that aren't visible from everywhere\n",
    "for k, v in zip(list(value_count.keys()), list(value_count.values())):\n",
    "    if v == 1:\n",
    "        print('Dropped', k)\n",
    "        del value_count[k]\n",
    "\n",
    "unique_beads = list(value_count.keys())\n",
    "unique_beads.extend([x.replace('A', 'C') if 'A' in x else x.replace('B', 'D') for x in unique_beads])\n",
    "beads_data['2d'] = beads_data['2d'][beads_data['2d']['bead'].isin(unique_beads)]\n",
    "beads_data['3d'] = beads_data['3d'][beads_data['3d']['bead'].isin(unique_beads)]"
   ],
   "outputs": [
    {
     "name": "stdout",
     "output_type": "stream",
     "text": [
      "Dropped A_4_1\n",
      "Dropped B_3_5\n"
     ]
    }
   ],
   "execution_count": 99
  },
  {
   "cell_type": "code",
   "metadata": {
    "ExecuteTime": {
     "end_time": "2025-10-02T17:52:25.647151Z",
     "start_time": "2025-10-02T17:52:25.638700Z"
    }
   },
   "source": [
    "from pyGBM6700e.lab_1.data import select_view, join_dataframes\n",
    "\n",
    "def get_a(view:str, data:dict) -> np.ndarray:\n",
    "    \"\"\"\n",
    "    Uses the view name and existing data for pre calculating the system matrix for calculating the 11 DLT coefficients\n",
    "\n",
    "    Parameters\n",
    "    ----------\n",
    "    view : str\n",
    "        View name\n",
    "    data : dict\n",
    "        Data as a dict, with two keys ['2d', '3d']. Each key is associated to a table giving points location in 2d/3d, bead identifier and view name.\n",
    "\n",
    "    Returns\n",
    "    -------\n",
    "    np.ndarray\n",
    "        A matrix, for the DLT\n",
    "    \"\"\"\n",
    "    A = []\n",
    "    joint_data = join_dataframes(select_view(data['2d'], view), data['3d'], 'bead')\n",
    "    # TODO : Using the equations from Appendix 1, write a function to turn pairs of 2D/3D beads data to an overdeterminated system.\n",
    "    for datum in joint_data.iterrows():\n",
    "        u_i = datum[1][\"x_2d\"]\n",
    "        v_i = datum[1][\"y_2d\"]\n",
    "        x_i = datum[1][\"x_3d\"]\n",
    "        y_i = datum[1][\"y_3d\"]\n",
    "        z_i = datum[1][\"z_3d\"]\n",
    "        A.append([x_i, y_i, z_i, 1, 0, 0, 0, 0, -u_i*x_i, -u_i*y_i, -u_i*z_i, -u_i])\n",
    "        A.append([0, 0, 0, 0, x_i, y_i, z_i, 1, -v_i*x_i, -v_i*y_i, -v_i*z_i, -v_i])\n",
    "    # HINT 1 : we want to end up with some system AM = 0 where M is a vector containing [L0, L1... L10, 1]. So you just need to return A !\n",
    "    # HINT 2 : I gave you 'joint_data'. It's a dataframe, so check the columns names !\n",
    "    return np.array(A)\n"
   ],
   "outputs": [],
   "execution_count": 100
  },
  {
   "cell_type": "code",
   "metadata": {
    "ExecuteTime": {
     "end_time": "2025-10-02T17:52:25.663220Z",
     "start_time": "2025-10-02T17:52:25.653219Z"
    }
   },
   "source": [
    "l_view0 = lab_1.solver.dlt(get_a('Beads2D_'+view_0, beads_data))\n",
    "l_view1 = lab_1.solver.dlt(get_a('Beads2D_'+view_1, beads_data))"
   ],
   "outputs": [],
   "execution_count": 101
  },
  {
   "cell_type": "code",
   "metadata": {
    "ExecuteTime": {
     "end_time": "2025-10-02T17:52:25.679221Z",
     "start_time": "2025-10-02T17:52:25.672221Z"
    }
   },
   "source": [
    "print(\"DLT parameters for %s : \"%view_0, l_view0)\n",
    "print(\"DLT parameters for %s : \"%view_1, l_view1)"
   ],
   "outputs": [
    {
     "name": "stdout",
     "output_type": "stream",
     "text": [
      "DLT parameters for PA0 :  [ 4.09e-03 -2.57e+00 -2.44e-03 -4.16e-03 -3.60e-02  3.18e-03  2.58e+00\n",
      " -5.67e-01  5.50e-04  1.57e-06 -9.44e-06]\n",
      "DLT parameters for LAT :  [-3.09e+00  1.29e-01 -1.93e-03 -9.36e+02  4.54e-03  4.34e-02  3.10e+00\n",
      "  1.39e+01 -2.36e-05 -6.61e-04 -1.22e-05]\n"
     ]
    }
   ],
   "execution_count": 102
  },
  {
   "cell_type": "markdown",
   "metadata": {},
   "source": [
    "# Question 1.2"
   ]
  },
  {
   "cell_type": "code",
   "metadata": {
    "ExecuteTime": {
     "end_time": "2025-10-02T17:52:25.709895Z",
     "start_time": "2025-10-02T17:52:25.695894Z"
    }
   },
   "source": [
    "def get_parameters(dlt_params:np.ndarray) -> dict:\n",
    "    \"\"\"\n",
    "    Outputs a dictionnary containing the intrinsic and extrinsic parameters of the system based on the DLT parameters.\n",
    "\n",
    "    Parameters\n",
    "    ----------\n",
    "    dlt_params : np.ndarray\n",
    "        _description_\n",
    "\n",
    "    Returns\n",
    "    -------\n",
    "    dict\n",
    "        Dict with keys ['u0', 'v0', 'c_u', 'c_v', 'R', 'source_coordinates']\n",
    "    \"\"\"\n",
    "    out = {}\n",
    "    l1, l2, l3, l4, l5, l6, l7, l8, l9, l10, l11 = dlt_params\n",
    "    d = -1/(np.sqrt(l9**2 + l10**2 + l11**2))\n",
    "    u0 = (l1 * l9 + l2 * l10 + l3 * l11) * d**2\n",
    "    v0 = (l5 * l9 + l6 * l10 + l7 * l11) * d**2\n",
    "\n",
    "    cu = np.sqrt(d**2 * ((u0*l9 - l1)**2 + (u0*l10 - l2)**2 + (u0*l11 - l3)**2))\n",
    "    cv = np.sqrt(d**2 * ((v0*l9 - l5)**2 + (v0*l10 - l6)**2 + (v0*l11 - l7)**2))\n",
    "\n",
    "    R = []\n",
    "    r1 = [d/cu *(u0*l9 - l1), d/cu *(u0*l10 - l2), d/cu *(u0*l11 - l3)]\n",
    "    r2 = [d/cv *(v0*l9 - l5), d/cv *(v0*l10 - l6), d/cv *(v0*l11 - l7)]\n",
    "    r3 = [l9 * d, l10 * d, l11 * d]\n",
    "    R.append(r1)\n",
    "    R.append(r2)\n",
    "    R.append(r3)\n",
    "\n",
    "    A = [[l1, l2, l3], [l5, l6, l7], [l9, l10, l11]]\n",
    "    B = [-l4, -l8, -1]\n",
    "\n",
    "    A = np.array(A)\n",
    "    B = np.array(B)\n",
    "    A_inv = np.linalg.inv(A)\n",
    "    x,y,z = A_inv.dot(B.T)\n",
    "\n",
    "    out['u0'] = u0\n",
    "    out['v0'] = v0\n",
    "    out['c_u'] = cu\n",
    "    out['c_v'] = cv\n",
    "    out['R'] = R\n",
    "    out['source_coordinates'] = [x,y,z]\n",
    "\n",
    "    # TODO : Using the equations from Appendix 2, write a function to calculate intrinsic and extrinsic parameters of a system based on the DLT parameters\n",
    "    return out\n",
    "\n",
    "print('View %s :'%view_0)\n",
    "for k, v in get_parameters(l_view0).items():\n",
    "    print('\\t {variable} = {value}'.format(variable = k, value = v))\n",
    "print('-------------------------------------------------------------')\n",
    "print('View %s :'%view_1)\n",
    "for k, v in get_parameters(l_view1).items():\n",
    "    print('\\t {variable} = {value}'.format(variable = k, value = v))"
   ],
   "outputs": [
    {
     "name": "stdout",
     "output_type": "stream",
     "text": [
      "View PA0 :\n",
      "\t u0 = -5.818320392632722\n",
      "\t v0 = -145.91496533853473\n",
      "\t c_u = 4667.8104535235125\n",
      "\t c_v = 4684.955368831336\n",
      "\t R = [[0.0028383099743994737, -0.9999955009676524, -0.000970587936685526], [0.01716201640537952, 0.0013246258755954304, 0.9998518443045407], [-0.999848582937606, -0.0028545538049507243, 0.01716574263571952]]\n",
      "\t source_coordinates = [-1818.7181445750196, -2.8731517662001194, -25.190174003060392]\n",
      "-------------------------------------------------------------\n",
      "View LAT :\n",
      "\t u0 = -29.21576695254617\n",
      "\t v0 = -152.70327971664815\n",
      "\t c_u = 4673.68335022721\n",
      "\t c_v = 4690.201491353493\n",
      "\t R = [[-0.9993648633679075, 0.0356275622757363, -0.0007393726612318864], [0.0003038194953656494, -0.01852736445514756, 0.9998283074908714], [0.0356077967353628, 0.999194504191617, 0.01850479951043856]]\n",
      "\t source_coordinates = [-239.20815295327685, 1522.1804797429031, -25.44596310813415]\n"
     ]
    }
   ],
   "execution_count": 103
  },
  {
   "cell_type": "markdown",
   "metadata": {},
   "source": [
    "# Question 1.3"
   ]
  },
  {
   "cell_type": "code",
   "metadata": {
    "ExecuteTime": {
     "end_time": "2025-10-02T17:52:25.724985Z",
     "start_time": "2025-10-02T17:52:25.718979Z"
    }
   },
   "source": [
    "def calculate_3d_point(u0:float, v0:float, u1:float, v1:float, L0:np.ndarray, L1:np.ndarray) -> np.ndarray:\n",
    "    \"\"\"\n",
    "    Calculates a 3D point from 2 2D coordinates pairs and L0 & L1 DLT calibration coefficients\n",
    "\n",
    "    Parameters\n",
    "    ----------\n",
    "    u0 : float\n",
    "        point 1 x-coordinate\n",
    "    v0 : float\n",
    "        point 1 y-coordinate\n",
    "    u1 : float\n",
    "        point 2 x-coordinate\n",
    "    v1 : float\n",
    "        point 2 y-coordinate\n",
    "    L0 : np.ndarray\n",
    "        DLT coefficients for view 1\n",
    "    L1 : np.ndarray\n",
    "        DLT coefficients for view 2\n",
    "    \"\"\"\n",
    "    A = []\n",
    "    # TODO : using Appendix A, write a function that takes 2 pairs of 2D coordinates and 2 11-parameters vectors as an input to return the corresponding 3D point. \n",
    "    # HINT 1 : It's the exact same problem as in question 1.1, but now the unknowns are x,y and z !\n",
    "    # HINT 2 : Refactor the pair of equation in order to have a 4 equations system (2 equations per view, 2 views) for finding a triplet of coordinates : AM = 0 where M = [x, y, z, 1]\n",
    "    l1, l2, l3, l4, l5, l6, l7, l8, l9, l10, l11 = L0\n",
    "    A.append([u0*l9 - l1, u0*l10 - l2, u0*l11 - l3, u0-l4])\n",
    "    A.append([v0*l9 - l5, v0*l10 - l6, v0*l11 - l7, v0-l8])\n",
    "\n",
    "    l1, l2, l3, l4, l5, l6, l7, l8, l9, l10, l11 = L1\n",
    "    A.append([u1*l9 - l1, u1*l10 - l2, u1*l11 - l3, u1-l4])\n",
    "    A.append([v1*l9 - l5, v1*l10 - l6, v1*l11 - l7, v1-l8])\n",
    "    return lab_1.solver.dlt(np.array(A))"
   ],
   "outputs": [],
   "execution_count": 104
  },
  {
   "cell_type": "code",
   "metadata": {
    "ExecuteTime": {
     "end_time": "2025-10-02T17:52:25.808923Z",
     "start_time": "2025-10-02T17:52:25.733980Z"
    }
   },
   "source": [
    "spine = lab_1.structures.Spine(os.path.join(root_directory,'Vertebrae2D.mat'))\n",
    "colors = px.colors.qualitative.Alphabet\n",
    "fig = lab_1.render.Plot3D()\n",
    "\n",
    "\n",
    "for i, v_name in enumerate(spine.vertebrae):\n",
    "    # TODO : for each vertebra, calculate the location of each anatomical landmark and add its x,y,z coordinates to vert_x, vert_y, vert_z. Each vertebra will then be added to the 3D plot and plotted in the end.\n",
    "    vert = spine.get(v_name).data # Returns the vertebra data\n",
    "    \"\"\"\n",
    "    HINT : the data is a table containing the landmark name and the x,y coordinates for each view (so 5 columns)\n",
    "    HINT : Print the variable vert, and add a 'break' instruction to get out of the loop\n",
    "    For each vertebra, you should have 6 points. Each point is linked to 2 pairs of 2D coordinates, one in each view. These coordinates, with the two 11-DLT parameters will allow you to calculate the 3D position of the 6 anatomical landmarks on the vertebra.\n",
    "    \"\"\"\n",
    "    vert_x, vert_y, vert_z = [], [], []\n",
    "\n",
    "    for datum in vert.iterrows():\n",
    "        datum = datum[1]\n",
    "        u0 = datum[\"x_Vertebrae_LAT\"]\n",
    "        v0 = datum[\"y_Vertebrae_LAT\"]\n",
    "        u1 = datum[\"x_Vertebrae_PA0\"]\n",
    "        v1 = datum[\"y_Vertebrae_PA0\"]\n",
    "        point = calculate_3d_point(u0, v0, u1, v1, l_view0, l_view1)\n",
    "        vert_x.append(point[0])\n",
    "        vert_y.append(point[1])\n",
    "        vert_z.append(point[2])\n",
    "    \"\"\"\n",
    "    PSEUDOCODE\n",
    "    for each anatomical_landmark in vertebra_points:\n",
    "        x_point, y_point, z_point <- calculate_3d_point(anatomical_landmark, l_view0, l_view1)\n",
    "        Append x_point to vert_x\n",
    "        Append y_point to vert_y\n",
    "        Append z_point to vert_z\n",
    "    \"\"\"\n",
    "    fig.scatter_vertebrae(vert_x, vert_y, vert_z, v_name, colors[i]) # Adds the landmarks to the figure\n",
    "SPINE_3D_POINTS = fig.points # Access all the figure points as an array this way, will be useful in the rest of this assignment\n",
    "fig.show() # Shows the figure"
   ],
   "outputs": [
    {
     "data": {
      "application/vnd.plotly.v1+json": {
       "data": [
        {
         "hovertemplate": "<br><b>x</b>:%{x:.2f}<br><b>y</b>:%{y:.2f}<br><b>z</b>:%{z:.2f}<br><b>Landmark</b>:%{text}",
         "legendgroup": "Vertebra_T1",
         "legendgrouptitle": {
          "text": "Vertebra_T1"
         },
         "marker": {
          "color": "#AA0DFE",
          "size": 1
         },
         "mode": "markers",
         "name": " ",
         "text": [
          "Ped_Inf_R",
          "Ped_Inf_L",
          "Ped_Sup_R",
          "Ped_Sup_L",
          "Plat_Inf_Cent",
          "Plat_Sup_Cent"
         ],
         "x": [
          -314.3667297363281,
          -290.9049377441406,
          -315.3137512207031,
          -291.8697509765625,
          -300.04010009765625,
          -303.6982116699219
         ],
         "y": [
          -25.9996280670166,
          -24.855815887451172,
          -24.43302345275879,
          -23.25383949279785,
          -16.001670837402344,
          -13.446990966796875
         ],
         "z": [
          272.5718078613281,
          280.6470947265625,
          277.1153259277344,
          285.076171875,
          269.71624755859375,
          282.0858154296875
         ],
         "type": "scatter3d"
        },
        {
         "legendgroup": "Vertebra_T1",
         "legendgrouptitle": {
          "text": "Vertebra_T1"
         },
         "line": {
          "color": "#AA0DFE",
          "width": 5.0
         },
         "mode": "lines",
         "name": "Vertebra_T1",
         "showlegend": false,
         "x": {
          "dtype": "f4",
          "bdata": "8S6dwymoncNU75HD1XORw/EuncMiBZbD1XORwyIFlsNf2ZfDVO+Rw1/Zl8MpqJ3D"
         },
         "y": {
          "dtype": "f4",
          "bdata": "Pf/PwdV2w8HdB7rBttjGwT3/z8FsA4DBttjGwWwDgMHgJlfB3Qe6weAmV8HVdsPB"
         },
         "z": {
          "dtype": "f4",
          "bdata": "MUmIQ8OOikPAiY5D1FKMQzFJiEOu24ZD1FKMQ67bhkP8Co1DwImOQ/wKjUPDjopD"
         },
         "type": "scatter3d"
        },
        {
         "hovertemplate": "<br><b>x</b>:%{x:.2f}<br><b>y</b>:%{y:.2f}<br><b>z</b>:%{z:.2f}<br><b>Landmark</b>:%{text}",
         "legendgroup": "Vertebra_T2",
         "legendgrouptitle": {
          "text": "Vertebra_T2"
         },
         "marker": {
          "color": "#3283FE",
          "size": 1
         },
         "mode": "markers",
         "name": " ",
         "text": [
          "Ped_Inf_R",
          "Ped_Inf_L",
          "Ped_Sup_R",
          "Ped_Sup_L",
          "Plat_Inf_Cent",
          "Plat_Sup_Cent"
         ],
         "x": [
          -307.9307861328125,
          -286.81585693359375,
          -309.40887451171875,
          -288.0790710449219,
          -294.6184997558594,
          -298.9604187011719
         ],
         "y": [
          -31.6629638671875,
          -30.211641311645508,
          -29.868135452270508,
          -28.226810455322266,
          -21.220783233642578,
          -17.72123146057129
         ],
         "z": [
          256.9100036621094,
          265.0438537597656,
          262.3979187011719,
          270.2857360839844,
          253.5318603515625,
          265.9583435058594
         ],
         "type": "scatter3d"
        },
        {
         "legendgroup": "Vertebra_T2",
         "legendgrouptitle": {
          "text": "Vertebra_T2"
         },
         "line": {
          "color": "#3283FE",
          "width": 5.0
         },
         "mode": "lines",
         "name": "Vertebra_T2",
         "showlegend": false,
         "x": {
          "dtype": "f4",
          "bdata": "JPeZw1a0msMfCpDDbmiPwyT3mcMrT5PDbmiPwytPk8PvepXDHwqQw+96lcNWtJrD"
         },
         "y": {
          "dtype": "f4",
          "bdata": "wE39wfHx7sGC0OHBcbHxwcBN/cEqxKnBcbHxwSrEqcEVxY3BgtDhwRXFjcHx8e7B"
         },
         "z": {
          "dtype": "f4",
          "bdata": "e3SAQ+8yg0OTJIdDnYWEQ3t0gEMoiH1DnYWEQyiIfUOr+oRDkySHQ6v6hEPvMoND"
         },
         "type": "scatter3d"
        },
        {
         "hovertemplate": "<br><b>x</b>:%{x:.2f}<br><b>y</b>:%{y:.2f}<br><b>z</b>:%{z:.2f}<br><b>Landmark</b>:%{text}",
         "legendgroup": "Vertebra_T3",
         "legendgrouptitle": {
          "text": "Vertebra_T3"
         },
         "marker": {
          "color": "#85660D",
          "size": 1
         },
         "mode": "markers",
         "name": " ",
         "text": [
          "Ped_Inf_R",
          "Ped_Inf_L",
          "Ped_Sup_R",
          "Ped_Sup_L",
          "Plat_Inf_Cent",
          "Plat_Sup_Cent"
         ],
         "x": [
          -301.5083923339844,
          -282.2652282714844,
          -303.0833740234375,
          -282.93707275390625,
          -290.3846740722656,
          -293.08392333984375
         ],
         "y": [
          -36.36541748046875,
          -36.410709381103516,
          -34.984283447265625,
          -35.14276123046875,
          -25.703168869018555,
          -22.482656478881836
         ],
         "z": [
          243.1013946533203,
          247.14553833007812,
          249.0574951171875,
          254.453125,
          235.04306030273438,
          250.04190063476562
         ],
         "type": "scatter3d"
        },
        {
         "legendgroup": "Vertebra_T3",
         "legendgrouptitle": {
          "text": "Vertebra_T3"
         },
         "line": {
          "color": "#85660D",
          "width": 5.0
         },
         "mode": "lines",
         "name": "Vertebra_T3",
         "showlegend": false,
         "x": {
          "dtype": "f4",
          "bdata": "E8GWw6yKl8Pyd43D8yGNwxPBlsM9MZHD8yGNwz0xkcO+ipLD8neNw76KksOsipfD"
         },
         "y": {
          "dtype": "f4",
          "bdata": "MHYRwujvC8IwkgzCkaQRwjB2EcIXoM3BkaQRwhegzcF73LPBMJIMwnvcs8Ho7wvC"
         },
         "z": {
          "dtype": "f4",
          "bdata": "9RlzQ7gOeUMAdH5DQiV3Q/UZc0MGC2tDQiV3QwYLa0O6CnpDAHR+Q7oKekO4DnlD"
         },
         "type": "scatter3d"
        },
        {
         "hovertemplate": "<br><b>x</b>:%{x:.2f}<br><b>y</b>:%{y:.2f}<br><b>z</b>:%{z:.2f}<br><b>Landmark</b>:%{text}",
         "legendgroup": "Vertebra_T4",
         "legendgrouptitle": {
          "text": "Vertebra_T4"
         },
         "marker": {
          "color": "#782AB6",
          "size": 1
         },
         "mode": "markers",
         "name": " ",
         "text": [
          "Ped_Inf_R",
          "Ped_Inf_L",
          "Ped_Sup_R",
          "Ped_Sup_L",
          "Plat_Inf_Cent",
          "Plat_Sup_Cent"
         ],
         "x": [
          -300.43536376953125,
          -282.05291748046875,
          -299.1623840332031,
          -280.76763916015625,
          -294.9972839355469,
          -290.00714111328125
         ],
         "y": [
          -38.90815353393555,
          -41.32866668701172,
          -38.10517501831055,
          -40.16276168823242,
          -28.711008071899414,
          -26.265968322753906
         ],
         "z": [
          228.7109375,
          227.59901428222656,
          234.47564697265625,
          235.5348358154297,
          217.01759338378906,
          231.46092224121094
         ],
         "type": "scatter3d"
        },
        {
         "legendgroup": "Vertebra_T4",
         "legendgrouptitle": {
          "text": "Vertebra_T4"
         },
         "line": {
          "color": "#782AB6",
          "width": 5.0
         },
         "mode": "lines",
         "name": "Vertebra_T4",
         "showlegend": false,
         "x": {
          "dtype": "f4",
          "bdata": "ujeWw8mUlcNCYozDxgaNw7o3lsOnf5PDxgaNw6d/k8PqAJHDQmKMw+oAkcPJlJXD"
         },
         "y": {
          "dtype": "f4",
          "bdata": "86EbwrNrGMKrpiDCjlAlwvOhG8IlsOXBjlAlwiWw5cG0INLBq6YgwrQg0sGzaxjC"
         },
         "z": {
          "dtype": "f4",
          "bdata": "ALZkQ8R5akPriGtDWZljQwC2ZEOBBFlDWZljQ4EEWUP/dWdD64hrQ/91Z0PEeWpD"
         },
         "type": "scatter3d"
        },
        {
         "hovertemplate": "<br><b>x</b>:%{x:.2f}<br><b>y</b>:%{y:.2f}<br><b>z</b>:%{z:.2f}<br><b>Landmark</b>:%{text}",
         "legendgroup": "Vertebra_T5",
         "legendgrouptitle": {
          "text": "Vertebra_T5"
         },
         "marker": {
          "color": "#565656",
          "size": 1
         },
         "mode": "markers",
         "name": " ",
         "text": [
          "Ped_Inf_R",
          "Ped_Inf_L",
          "Ped_Sup_R",
          "Ped_Sup_L",
          "Plat_Inf_Cent",
          "Plat_Sup_Cent"
         ],
         "x": [
          -306.28399658203125,
          -290.6771240234375,
          -303.42437744140625,
          -287.0540771484375,
          -305.8825988769531,
          -296.61602783203125
         ],
         "y": [
          -41.87061309814453,
          -44.779903411865234,
          -40.950782775878906,
          -44.02127456665039,
          -30.89334487915039,
          -29.24742889404297
         ],
         "z": [
          211.8760986328125,
          206.0106658935547,
          218.70448303222656,
          213.13055419921875,
          199.54696655273438,
          213.76797485351562
         ],
         "type": "scatter3d"
        },
        {
         "legendgroup": "Vertebra_T5",
         "legendgrouptitle": {
          "text": "Vertebra_T5"
         },
         "line": {
          "color": "#565656",
          "width": 5.0
         },
         "mode": "lines",
         "name": "Vertebra_T5",
         "showlegend": false,
         "x": {
          "dtype": "f4",
          "bdata": "WiSZw1K2l8Psho/DrFaRw1okmcP58JjDrFaRw/nwmMPaTpTD7IaPw9pOlMNStpfD"
         },
         "y": {
          "dtype": "f4",
          "bdata": "gnsnwprNI8LJFTDCnx4zwoJ7J8KSJffBnx4zwpIl98G8+unByRUwwrz66cGazSPC"
         },
         "z": {
          "dtype": "f4",
          "bdata": "SOBTQ1m0WkNsIVVDuwJOQ0jgU0MGjEdDuwJOQwaMR0OaxFVDbCFVQ5rEVUNZtFpD"
         },
         "type": "scatter3d"
        },
        {
         "hovertemplate": "<br><b>x</b>:%{x:.2f}<br><b>y</b>:%{y:.2f}<br><b>z</b>:%{z:.2f}<br><b>Landmark</b>:%{text}",
         "legendgroup": "Vertebra_T6",
         "legendgrouptitle": {
          "text": "Vertebra_T6"
         },
         "marker": {
          "color": "#1C8356",
          "size": 1
         },
         "mode": "markers",
         "name": " ",
         "text": [
          "Ped_Inf_R",
          "Ped_Inf_L",
          "Ped_Sup_R",
          "Ped_Sup_L",
          "Plat_Inf_Cent",
          "Plat_Sup_Cent"
         ],
         "x": [
          -320.33636474609375,
          -304.6777038574219,
          -314.3232421875,
          -299.00927734375,
          -321.0058898925781,
          -308.8153991699219
         ],
         "y": [
          -45.06561279296875,
          -46.449668884277344,
          -44.37093734741211,
          -45.73501968383789,
          -31.584474563598633,
          -30.761796951293945
         ],
         "z": [
          196.99095153808594,
          186.46533203125,
          203.40274047851562,
          193.2057647705078,
          181.60720825195312,
          195.20034790039062
         ],
         "type": "scatter3d"
        },
        {
         "legendgroup": "Vertebra_T6",
         "legendgrouptitle": {
          "text": "Vertebra_T6"
         },
         "line": {
          "color": "#1C8356",
          "width": 5.0
         },
         "mode": "lines",
         "name": "Vertebra_T6",
         "showlegend": false,
         "x": {
          "dtype": "f4",
          "bdata": "Diugw2ApncMwgZXDv1aYww4roMPBgKDDv1aYw8GAoMNfaJrDMIGVw19omsNgKZ3D"
         },
         "y": {
          "dtype": "f4",
          "bdata": "MEM0wtd7McKp8DbCdsw5wjBDNMIBrfzBdsw5wgGt/MEpGPbBqfA2wikY9sHXezHC"
         },
         "z": {
          "dtype": "f4",
          "bdata": "r/1EQxpnS0OtNEFDIHc6Q6/9RENymzVDIHc6Q3KbNUNKM0NDrTRBQ0ozQ0MaZ0tD"
         },
         "type": "scatter3d"
        },
        {
         "hovertemplate": "<br><b>x</b>:%{x:.2f}<br><b>y</b>:%{y:.2f}<br><b>z</b>:%{z:.2f}<br><b>Landmark</b>:%{text}",
         "legendgroup": "Vertebra_T7",
         "legendgrouptitle": {
          "text": "Vertebra_T7"
         },
         "marker": {
          "color": "#16FF32",
          "size": 1
         },
         "mode": "markers",
         "name": " ",
         "text": [
          "Ped_Inf_R",
          "Ped_Inf_L",
          "Ped_Sup_R",
          "Ped_Sup_L",
          "Plat_Inf_Cent",
          "Plat_Sup_Cent"
         ],
         "x": [
          -335.783203125,
          -319.7242126464844,
          -329.383056640625,
          -314.7132568359375,
          -337.1454162597656,
          -324.6082763671875
         ],
         "y": [
          -46.956993103027344,
          -47.438201904296875,
          -46.25147247314453,
          -47.027381896972656,
          -31.624208450317383,
          -31.72918128967285
         ],
         "z": [
          178.93954467773438,
          168.10633850097656,
          186.63221740722656,
          174.9258270263672,
          165.83792114257812,
          178.12380981445312
         ],
         "type": "scatter3d"
        },
        {
         "legendgroup": "Vertebra_T7",
         "legendgrouptitle": {
          "text": "Vertebra_T7"
         },
         "line": {
          "color": "#16FF32",
          "width": 5.0
         },
         "mode": "lines",
         "name": "Vertebra_T7",
         "showlegend": false,
         "x": {
          "dtype": "f4",
          "bdata": "QOSnwwixpMNMW53Ds9yfw0Dkp8OdkqjDs9yfw52SqMPcTaLDTFudw9xNosMIsaTD"
         },
         "y": {
          "dtype": "f4",
          "bdata": "9tM7woIBOcIKHDzCuMA9wvbTO8Jh/vzBuMA9wmH+/MFd1f3BChw8wl3V/cGCATnC"
         },
         "z": {
          "dtype": "f4",
          "bdata": "hvAyQ9mhOkMD7S5DORsoQ4bwMkOC1iVDORsoQ4LWJUOyHzJDA+0uQ7IfMkPZoTpD"
         },
         "type": "scatter3d"
        },
        {
         "hovertemplate": "<br><b>x</b>:%{x:.2f}<br><b>y</b>:%{y:.2f}<br><b>z</b>:%{z:.2f}<br><b>Landmark</b>:%{text}",
         "legendgroup": "Vertebra_T8",
         "legendgrouptitle": {
          "text": "Vertebra_T8"
         },
         "marker": {
          "color": "#F7E1A0",
          "size": 1
         },
         "mode": "markers",
         "name": " ",
         "text": [
          "Ped_Inf_R",
          "Ped_Inf_L",
          "Ped_Sup_R",
          "Ped_Sup_L",
          "Plat_Inf_Cent",
          "Plat_Sup_Cent"
         ],
         "x": [
          -351.6567077636719,
          -333.37945556640625,
          -346.2718811035156,
          -329.38323974609375,
          -350.3531188964844,
          -340.1109313964844
         ],
         "y": [
          -47.16523742675781,
          -46.00028991699219,
          -48.16267776489258,
          -46.45613098144531,
          -30.079734802246094,
          -31.520614624023438
         ],
         "z": [
          159.99847412109375,
          152.17135620117188,
          167.86160278320312,
          158.5088348388672,
          146.84913635253906,
          161.87539672851562
         ],
         "type": "scatter3d"
        },
        {
         "legendgroup": "Vertebra_T8",
         "legendgrouptitle": {
          "text": "Vertebra_T8"
         },
         "line": {
          "color": "#F7E1A0",
          "width": 5.0
         },
         "mode": "lines",
         "name": "Vertebra_T8",
         "showlegend": false,
         "x": {
          "dtype": "f4",
          "bdata": "D9Svw80ircMOsaTDkrCmww/Ur8MzLa/DkrCmwzMtr8MzDqrDDrGkwzMOqsPNIq3D"
         },
         "y": {
          "dtype": "f4",
          "bdata": "NKk8wpWmQMIU0znCTAA4wjSpPMJMo/DBTAA4wkyj8ME4KvzBFNM5wjgq/MGVpkDC"
         },
         "z": {
          "dtype": "f4",
          "bdata": "nP8fQ5LcJ0NDgh5D3isYQ5z/H0Nh2RJD3isYQ2HZEkMa4CFDQ4IeQxrgIUOS3CdD"
         },
         "type": "scatter3d"
        },
        {
         "hovertemplate": "<br><b>x</b>:%{x:.2f}<br><b>y</b>:%{y:.2f}<br><b>z</b>:%{z:.2f}<br><b>Landmark</b>:%{text}",
         "legendgroup": "Vertebra_T9",
         "legendgrouptitle": {
          "text": "Vertebra_T9"
         },
         "marker": {
          "color": "#E2E2E2",
          "size": 1
         },
         "mode": "markers",
         "name": " ",
         "text": [
          "Ped_Inf_R",
          "Ped_Inf_L",
          "Ped_Sup_R",
          "Ped_Sup_L",
          "Plat_Inf_Cent",
          "Plat_Sup_Cent"
         ],
         "x": [
          -361.6842041015625,
          -342.27178955078125,
          -358.62701416015625,
          -338.594970703125,
          -357.434326171875,
          -352.1621398925781
         ],
         "y": [
          -45.355987548828125,
          -42.6268310546875,
          -46.50002670288086,
          -43.60177230834961,
          -26.511695861816406,
          -28.633636474609375
         ],
         "z": [
          133.87527465820312,
          130.63449096679688,
          143.0848388671875,
          139.29476928710938,
          123.80142211914062,
          141.33746337890625
         ],
         "type": "scatter3d"
        },
        {
         "legendgroup": "Vertebra_T9",
         "legendgrouptitle": {
          "text": "Vertebra_T9"
         },
         "line": {
          "color": "#E2E2E2",
          "width": 5.0
         },
         "mode": "lines",
         "name": "Vertebra_T9",
         "showlegend": false,
         "x": {
          "dtype": "f4",
          "bdata": "lNe0w0JQs8MoTKnDyiKrw5TXtMOYt7LDyiKrw5i3ssPBFLDDKEypw8EUsMNCULPD"
         },
         "y": {
          "dtype": "f4",
          "bdata": "iGw1wgcAOsI3aC7C4IEqwohsNcL0F9TB4IEqwvQX1MGwEeXBN2guwrAR5cEHADrC"
         },
         "z": {
          "dtype": "f4",
          "bdata": "EuAFQ7gVD0N2SwtDbqICQxLgBUNUmvdCbqICQ1Sa90JkVg1DdksLQ2RWDUO4FQ9D"
         },
         "type": "scatter3d"
        },
        {
         "hovertemplate": "<br><b>x</b>:%{x:.2f}<br><b>y</b>:%{y:.2f}<br><b>z</b>:%{z:.2f}<br><b>Landmark</b>:%{text}",
         "legendgroup": "Vertebra_T10",
         "legendgrouptitle": {
          "text": "Vertebra_T10"
         },
         "marker": {
          "color": "#1CBE4F",
          "size": 1
         },
         "mode": "markers",
         "name": " ",
         "text": [
          "Ped_Inf_R",
          "Ped_Inf_L",
          "Ped_Sup_R",
          "Ped_Sup_L",
          "Plat_Inf_Cent",
          "Plat_Sup_Cent"
         ],
         "x": [
          -364.53961181640625,
          -343.273193359375,
          -365.16107177734375,
          -343.2690734863281,
          -355.20367431640625,
          -356.4705810546875
         ],
         "y": [
          -42.24284744262695,
          -38.62165069580078,
          -43.796424865722656,
          -40.04046630859375,
          -22.78737449645996,
          -25.743677139282227
         ],
         "z": [
          107.9098129272461,
          113.38287353515625,
          119.38286590576172,
          123.14579772949219,
          100.52852630615234,
          118.82464599609375
         ],
         "type": "scatter3d"
        },
        {
         "legendgroup": "Vertebra_T10",
         "legendgrouptitle": {
          "text": "Vertebra_T10"
         },
         "line": {
          "color": "#1CBE4F",
          "width": 5.0
         },
         "mode": "lines",
         "name": "Vertebra_T10",
         "showlegend": false,
         "x": {
          "dtype": "f4",
          "bdata": "EkW2w56UtsNxoqvD+KKrwxJFtsMSmrHD+KKrwxKascM8PLLDcaKrwzw8ssOelLbD"
         },
         "y": {
          "dtype": "f4",
          "bdata": "rfgowoovL8JwKSDCknwawq34KMKLTLbBknwawotMtsEN883BcCkgwg3zzcGKLy/C"
         },
         "z": {
          "dtype": "f4",
          "bdata": "09HXQgfE7kKmSvZCCMTiQtPR10KbDslCCMTiQpsOyUI4pu1Cpkr2Qjim7UIHxO5C"
         },
         "type": "scatter3d"
        },
        {
         "hovertemplate": "<br><b>x</b>:%{x:.2f}<br><b>y</b>:%{y:.2f}<br><b>z</b>:%{z:.2f}<br><b>Landmark</b>:%{text}",
         "legendgroup": "Vertebra_T11",
         "legendgrouptitle": {
          "text": "Vertebra_T11"
         },
         "marker": {
          "color": "#C4451C",
          "size": 1
         },
         "mode": "markers",
         "name": " ",
         "text": [
          "Ped_Inf_R",
          "Ped_Inf_L",
          "Ped_Sup_R",
          "Ped_Sup_L",
          "Plat_Inf_Cent",
          "Plat_Sup_Cent"
         ],
         "x": [
          -357.3273010253906,
          -336.596923828125,
          -362.0908203125,
          -341.6408386230469,
          -342.83514404296875,
          -353.50006103515625
         ],
         "y": [
          -36.33604049682617,
          -35.62103271484375,
          -38.84577941894531,
          -37.571475982666016,
          -17.362226486206055,
          -21.61980628967285
         ],
         "z": [
          80.38343811035156,
          91.14385986328125,
          92.92337799072266,
          100.77594757080078,
          77.68194580078125,
          96.4653549194336
         ],
         "type": "scatter3d"
        },
        {
         "legendgroup": "Vertebra_T11",
         "legendgrouptitle": {
          "text": "Vertebra_T11"
         },
         "line": {
          "color": "#C4451C",
          "width": 5.0
         },
         "mode": "lines",
         "name": "Vertebra_T11",
         "showlegend": false,
         "x": {
          "dtype": "f4",
          "bdata": "5amyw6ALtcMH0qrDaEyow+WpssPmaqvDaEyow+Zqq8MCwLDDB9KqwwLAsMOgC7XD"
         },
         "y": {
          "dtype": "f4",
          "bdata": "G1gRwhRiG8IxSRbC8HsOwhtYEcLX5YrB8HsOwtflisFd9azBMUkWwl31rMEUYhvC"
         },
         "z": {
          "dtype": "f4",
          "bdata": "UsSgQsXYuUJJjclCqEm2QlLEoEIoXZtCqEm2Qihdm0JD7sBCSY3JQkPuwELF2LlC"
         },
         "type": "scatter3d"
        },
        {
         "hovertemplate": "<br><b>x</b>:%{x:.2f}<br><b>y</b>:%{y:.2f}<br><b>z</b>:%{z:.2f}<br><b>Landmark</b>:%{text}",
         "legendgroup": "Vertebra_T12",
         "legendgrouptitle": {
          "text": "Vertebra_T12"
         },
         "marker": {
          "color": "#DEA0FD",
          "size": 1
         },
         "mode": "markers",
         "name": " ",
         "text": [
          "Ped_Inf_R",
          "Ped_Inf_L",
          "Ped_Sup_R",
          "Ped_Sup_L",
          "Plat_Inf_Cent",
          "Plat_Sup_Cent"
         ],
         "x": [
          -342.13641357421875,
          -322.75830078125,
          -348.9166259765625,
          -329.4717102050781,
          -326.4007263183594,
          -340.46124267578125
         ],
         "y": [
          -25.96113395690918,
          -29.78495979309082,
          -28.894433975219727,
          -31.80830192565918,
          -9.789311408996582,
          -15.858673095703125
         ],
         "z": [
          54.95454025268555,
          69.58411407470703,
          65.52931213378906,
          78.02876281738281,
          56.295738220214844,
          73.74700927734375
         ],
         "type": "scatter3d"
        },
        {
         "legendgroup": "Vertebra_T12",
         "legendgrouptitle": {
          "text": "Vertebra_T12"
         },
         "line": {
          "color": "#DEA0FD",
          "width": 5.0
         },
         "mode": "lines",
         "name": "Vertebra_T12",
         "showlegend": false,
         "x": {
          "dtype": "f4",
          "bdata": "dhGrw1R1rsNhvKTDEGGhw3YRq8NLM6PDEGGhw0szo8MKO6rDYbykwwo7qsNUda7D"
         },
         "y": {
          "dtype": "f4",
          "bdata": "Z7DPwc0n58Fnd/7BmUfuwWewz8EFoRzBmUfuwQWhHMEgvX3BZ3f+wSC9fcHNJ+fB"
         },
         "z": {
          "dtype": "f4",
          "bdata": "c9FbQgIPg0K6DpxCESuLQnPRW0LWLmFCESuLQtYuYUJ4fpNCug6cQnh+k0ICD4NC"
         },
         "type": "scatter3d"
        },
        {
         "hovertemplate": "<br><b>x</b>:%{x:.2f}<br><b>y</b>:%{y:.2f}<br><b>z</b>:%{z:.2f}<br><b>Landmark</b>:%{text}",
         "legendgroup": "Vertebra_L1",
         "legendgrouptitle": {
          "text": "Vertebra_L1"
         },
         "marker": {
          "color": "#FE00FA",
          "size": 1
         },
         "mode": "markers",
         "name": " ",
         "text": [
          "Ped_Inf_R",
          "Ped_Inf_L",
          "Ped_Sup_R",
          "Ped_Sup_L",
          "Plat_Inf_Cent",
          "Plat_Sup_Cent"
         ],
         "x": [
          -323.6464538574219,
          -304.9962463378906,
          -332.3348083496094,
          -311.715576171875,
          -309.3560791015625,
          -323.69610595703125
         ],
         "y": [
          -19.991239547729492,
          -24.102249145507812,
          -22.070711135864258,
          -26.86032485961914,
          -2.4771053791046143,
          -8.510092735290527
         ],
         "z": [
          33.05727767944336,
          48.56702423095703,
          42.771602630615234,
          57.400245666503906,
          34.54550552368164,
          53.143226623535156
         ],
         "type": "scatter3d"
        },
        {
         "legendgroup": "Vertebra_L1",
         "legendgrouptitle": {
          "text": "Vertebra_L1"
         },
         "line": {
          "color": "#FE00FA",
          "width": 5.0
         },
         "mode": "lines",
         "name": "Vertebra_L1",
         "showlegend": false,
         "x": {
          "dtype": "f4",
          "bdata": "v9Khw9sqpsOY25vDhX+Yw7/SocOUrZrDhX+Yw5StmsMa2aHDmNubwxrZocPbKqbD"
         },
         "y": {
          "dtype": "f4",
          "bdata": "D+6fwdGQsMHy4dbBaNHAwQ/un8HliB7AaNHAweWIHsBXKQjB8uHWwVcpCMHRkLDB"
         },
         "z": {
          "dtype": "f4",
          "bdata": "pzoEQh8WK0LamWVCokRCQqc6BEKZLgpCokRCQpkuCkKqklRC2pllQqqSVEIfFitC"
         },
         "type": "scatter3d"
        },
        {
         "hovertemplate": "<br><b>x</b>:%{x:.2f}<br><b>y</b>:%{y:.2f}<br><b>z</b>:%{z:.2f}<br><b>Landmark</b>:%{text}",
         "legendgroup": "Vertebra_L2",
         "legendgrouptitle": {
          "text": "Vertebra_L2"
         },
         "marker": {
          "color": "#325A9B",
          "size": 1
         },
         "mode": "markers",
         "name": " ",
         "text": [
          "Ped_Inf_R",
          "Ped_Inf_L",
          "Ped_Sup_R",
          "Ped_Sup_L",
          "Plat_Inf_Cent",
          "Plat_Sup_Cent"
         ],
         "x": [
          -307.5096130371094,
          -286.327392578125,
          -313.53436279296875,
          -291.6578369140625,
          -291.4641418457031,
          -305.6885070800781
         ],
         "y": [
          -13.105247497558594,
          -18.521902084350586,
          -15.315887451171875,
          -20.41239356994629,
          4.741544246673584,
          -0.8498897552490234
         ],
         "z": [
          12.060005187988281,
          24.7144832611084,
          20.8133544921875,
          33.25845718383789,
          11.166893005371094,
          30.22263526916504
         ],
         "type": "scatter3d"
        },
        {
         "legendgroup": "Vertebra_L2",
         "legendgrouptitle": {
          "text": "Vertebra_L2"
         },
         "line": {
          "color": "#325A9B",
          "width": 5.0
         },
         "mode": "lines",
         "name": "Vertebra_L2",
         "showlegend": false,
         "x": {
          "dtype": "f4",
          "bdata": "O8GZw2bEnMM01JHD6CmPwzvBmcNpu5HD6CmPw2m7kcMh2JjDNNSRwyHYmMNmxJzD"
         },
         "y": {
          "dtype": "f4",
          "bdata": "GK9RweANdcGVTKPB2yyUwRivUcG7updA2yyUwbu6l0Bgklm/lUyjwWCSWb/gDXXB"
         },
         "z": {
          "dtype": "f4",
          "bdata": "yPVAQcCBpkGpCAVCQ7fFQcj1QEGYqzJBQ7fFQZirMkH1x/FBqQgFQvXH8UHAgaZB"
         },
         "type": "scatter3d"
        },
        {
         "hovertemplate": "<br><b>x</b>:%{x:.2f}<br><b>y</b>:%{y:.2f}<br><b>z</b>:%{z:.2f}<br><b>Landmark</b>:%{text}",
         "legendgroup": "Vertebra_L3",
         "legendgrouptitle": {
          "text": "Vertebra_L3"
         },
         "marker": {
          "color": "#FEAF16",
          "size": 1
         },
         "mode": "markers",
         "name": " ",
         "text": [
          "Ped_Inf_R",
          "Ped_Inf_L",
          "Ped_Sup_R",
          "Ped_Sup_L",
          "Plat_Inf_Cent",
          "Plat_Sup_Cent"
         ],
         "x": [
          -296.157470703125,
          -271.3125305175781,
          -298.8209533691406,
          -275.29998779296875,
          -279.93280029296875,
          -288.466552734375
         ],
         "y": [
          -8.614299774169922,
          -11.035443305969238,
          -9.58397388458252,
          -12.679368019104004,
          9.457439422607422,
          6.734692573547363
         ],
         "z": [
          -11.740338325500488,
          -5.094034671783447,
          -4.385720252990723,
          4.216736793518066,
          -17.77915382385254,
          4.869556903839111
         ],
         "type": "scatter3d"
        },
        {
         "legendgroup": "Vertebra_L3",
         "legendgrouptitle": {
          "text": "Vertebra_L3"
         },
         "line": {
          "color": "#FEAF16",
          "width": 5.0
         },
         "mode": "lines",
         "name": "Vertebra_L3",
         "showlegend": false,
         "x": {
          "dtype": "f4",
          "bdata": "KBSUwxVplcNmponDAaiHwygUlMNm94vDAaiHw2b3i8O4O5DDZqaJw7g7kMMVaZXD"
         },
         "y": {
          "dtype": "f4",
          "bdata": "LNQJwfVXGcGx3krBLZEwwSzUCcGsURdBLZEwwaxRF0GagtdAsd5KwZqC10D1VxnB"
         },
         "z": {
          "dtype": "f4",
          "bdata": "bdg7wdJXjMCC74ZAVQKjwG3YO8G1O47BVQKjwLU7jsFp05tAgu+GQGnTm0DSV4zA"
         },
         "type": "scatter3d"
        },
        {
         "hovertemplate": "<br><b>x</b>:%{x:.2f}<br><b>y</b>:%{y:.2f}<br><b>z</b>:%{z:.2f}<br><b>Landmark</b>:%{text}",
         "legendgroup": "Vertebra_L4",
         "legendgrouptitle": {
          "text": "Vertebra_L4"
         },
         "marker": {
          "color": "#F8A19F",
          "size": 1
         },
         "mode": "markers",
         "name": " ",
         "text": [
          "Ped_Inf_R",
          "Ped_Inf_L",
          "Ped_Sup_R",
          "Ped_Sup_L",
          "Plat_Inf_Cent",
          "Plat_Sup_Cent"
         ],
         "x": [
          -293.12603759765625,
          -263.3707275390625,
          -292.829833984375,
          -264.3655700683594,
          -276.3326416015625,
          -279.5842590332031
         ],
         "y": [
          -6.965254783630371,
          -8.720789909362793,
          -7.628842353820801,
          -9.052603721618652,
          10.167075157165527,
          10.127185821533203
         ],
         "z": [
          -40.745338439941406,
          -37.679988861083984,
          -30.183120727539062,
          -28.534921646118164,
          -50.56411361694336,
          -25.386066436767578
         ],
         "type": "scatter3d"
        },
        {
         "legendgroup": "Vertebra_L4",
         "legendgrouptitle": {
          "text": "Vertebra_L4"
         },
         "line": {
          "color": "#F8A19F",
          "width": 5.0
         },
         "mode": "lines",
         "name": "Vertebra_L4",
         "showlegend": false,
         "x": {
          "dtype": "f4",
          "bdata": "IpCSwzhqksPLLoTDdK+DwyKQksOUKorDdK+Dw5QqisPJyovDyy6Ew8nKi8M4apLD"
         },
         "y": {
          "dtype": "f4",
          "bdata": "XuPewHof9MB31xDBW4gLwV7j3sBXrCJBW4gLwVesIkH0CCJBd9cQwfQIIkF6H/TA"
         },
         "z": {
          "dtype": "f4",
          "bdata": "Ovsiwgh38cGFR+TBT7gWwjr7IsKnQUrCT7gWwqdBSsKqFsvBhUfkwaoWy8EId/HB"
         },
         "type": "scatter3d"
        },
        {
         "hovertemplate": "<br><b>x</b>:%{x:.2f}<br><b>y</b>:%{y:.2f}<br><b>z</b>:%{z:.2f}<br><b>Landmark</b>:%{text}",
         "legendgroup": "Vertebra_L5",
         "legendgrouptitle": {
          "text": "Vertebra_L5"
         },
         "marker": {
          "color": "#90AD1C",
          "size": 1
         },
         "mode": "markers",
         "name": " ",
         "text": [
          "Ped_Inf_R",
          "Ped_Inf_L",
          "Ped_Sup_R",
          "Ped_Sup_L",
          "Plat_Inf_Cent",
          "Plat_Sup_Cent"
         ],
         "x": [
          -295.8882141113281,
          -260.14251708984375,
          -293.819091796875,
          -262.0677490234375,
          -277.865478515625,
          -277.0164794921875
         ],
         "y": [
          -11.183375358581543,
          -13.08082389831543,
          -8.262181282043457,
          -9.730645179748535,
          0.8953563570976257,
          8.833442687988281
         ],
         "z": [
          -66.15413665771484,
          -68.30396270751953,
          -57.97608184814453,
          -58.356624603271484,
          -80.4219970703125,
          -57.34904861450195
         ],
         "type": "scatter3d"
        },
        {
         "legendgroup": "Vertebra_L5",
         "legendgrouptitle": {
          "text": "Vertebra_L5"
         },
         "line": {
          "color": "#90AD1C",
          "width": 5.0
         },
         "mode": "lines",
         "name": "Vertebra_L5",
         "showlegend": false,
         "x": {
          "dtype": "f4",
          "bdata": "sfGTw9joksOsCIPDPhKCw7Hxk8PI7orDPhKCw8juisMcgorDrAiDwxyCisPY6JLD"
         },
         "y": {
          "dtype": "f4",
          "bdata": "G+8yweUxBMG5sBvBDktRwRvvMsETNmU/DktRwRM2ZT/IVQ1BubAbwchVDUHlMQTB"
         },
         "z": {
          "dtype": "f4",
          "bdata": "606EwoLnZ8IvbWnCoZuIwutOhMIQ2KDCoZuIwhDYoMJtZWXCL21pwm1lZcKC52fC"
         },
         "type": "scatter3d"
        }
       ],
       "layout": {
        "scene": {
         "aspectmode": "data"
        },
        "template": {
         "data": {
          "histogram2dcontour": [
           {
            "type": "histogram2dcontour",
            "colorbar": {
             "outlinewidth": 0,
             "ticks": ""
            },
            "colorscale": [
             [
              0.0,
              "#0d0887"
             ],
             [
              0.1111111111111111,
              "#46039f"
             ],
             [
              0.2222222222222222,
              "#7201a8"
             ],
             [
              0.3333333333333333,
              "#9c179e"
             ],
             [
              0.4444444444444444,
              "#bd3786"
             ],
             [
              0.5555555555555556,
              "#d8576b"
             ],
             [
              0.6666666666666666,
              "#ed7953"
             ],
             [
              0.7777777777777778,
              "#fb9f3a"
             ],
             [
              0.8888888888888888,
              "#fdca26"
             ],
             [
              1.0,
              "#f0f921"
             ]
            ]
           }
          ],
          "choropleth": [
           {
            "type": "choropleth",
            "colorbar": {
             "outlinewidth": 0,
             "ticks": ""
            }
           }
          ],
          "histogram2d": [
           {
            "type": "histogram2d",
            "colorbar": {
             "outlinewidth": 0,
             "ticks": ""
            },
            "colorscale": [
             [
              0.0,
              "#0d0887"
             ],
             [
              0.1111111111111111,
              "#46039f"
             ],
             [
              0.2222222222222222,
              "#7201a8"
             ],
             [
              0.3333333333333333,
              "#9c179e"
             ],
             [
              0.4444444444444444,
              "#bd3786"
             ],
             [
              0.5555555555555556,
              "#d8576b"
             ],
             [
              0.6666666666666666,
              "#ed7953"
             ],
             [
              0.7777777777777778,
              "#fb9f3a"
             ],
             [
              0.8888888888888888,
              "#fdca26"
             ],
             [
              1.0,
              "#f0f921"
             ]
            ]
           }
          ],
          "heatmap": [
           {
            "type": "heatmap",
            "colorbar": {
             "outlinewidth": 0,
             "ticks": ""
            },
            "colorscale": [
             [
              0.0,
              "#0d0887"
             ],
             [
              0.1111111111111111,
              "#46039f"
             ],
             [
              0.2222222222222222,
              "#7201a8"
             ],
             [
              0.3333333333333333,
              "#9c179e"
             ],
             [
              0.4444444444444444,
              "#bd3786"
             ],
             [
              0.5555555555555556,
              "#d8576b"
             ],
             [
              0.6666666666666666,
              "#ed7953"
             ],
             [
              0.7777777777777778,
              "#fb9f3a"
             ],
             [
              0.8888888888888888,
              "#fdca26"
             ],
             [
              1.0,
              "#f0f921"
             ]
            ]
           }
          ],
          "contourcarpet": [
           {
            "type": "contourcarpet",
            "colorbar": {
             "outlinewidth": 0,
             "ticks": ""
            }
           }
          ],
          "contour": [
           {
            "type": "contour",
            "colorbar": {
             "outlinewidth": 0,
             "ticks": ""
            },
            "colorscale": [
             [
              0.0,
              "#0d0887"
             ],
             [
              0.1111111111111111,
              "#46039f"
             ],
             [
              0.2222222222222222,
              "#7201a8"
             ],
             [
              0.3333333333333333,
              "#9c179e"
             ],
             [
              0.4444444444444444,
              "#bd3786"
             ],
             [
              0.5555555555555556,
              "#d8576b"
             ],
             [
              0.6666666666666666,
              "#ed7953"
             ],
             [
              0.7777777777777778,
              "#fb9f3a"
             ],
             [
              0.8888888888888888,
              "#fdca26"
             ],
             [
              1.0,
              "#f0f921"
             ]
            ]
           }
          ],
          "surface": [
           {
            "type": "surface",
            "colorbar": {
             "outlinewidth": 0,
             "ticks": ""
            },
            "colorscale": [
             [
              0.0,
              "#0d0887"
             ],
             [
              0.1111111111111111,
              "#46039f"
             ],
             [
              0.2222222222222222,
              "#7201a8"
             ],
             [
              0.3333333333333333,
              "#9c179e"
             ],
             [
              0.4444444444444444,
              "#bd3786"
             ],
             [
              0.5555555555555556,
              "#d8576b"
             ],
             [
              0.6666666666666666,
              "#ed7953"
             ],
             [
              0.7777777777777778,
              "#fb9f3a"
             ],
             [
              0.8888888888888888,
              "#fdca26"
             ],
             [
              1.0,
              "#f0f921"
             ]
            ]
           }
          ],
          "mesh3d": [
           {
            "type": "mesh3d",
            "colorbar": {
             "outlinewidth": 0,
             "ticks": ""
            }
           }
          ],
          "scatter": [
           {
            "fillpattern": {
             "fillmode": "overlay",
             "size": 10,
             "solidity": 0.2
            },
            "type": "scatter"
           }
          ],
          "parcoords": [
           {
            "type": "parcoords",
            "line": {
             "colorbar": {
              "outlinewidth": 0,
              "ticks": ""
             }
            }
           }
          ],
          "scatterpolargl": [
           {
            "type": "scatterpolargl",
            "marker": {
             "colorbar": {
              "outlinewidth": 0,
              "ticks": ""
             }
            }
           }
          ],
          "bar": [
           {
            "error_x": {
             "color": "#2a3f5f"
            },
            "error_y": {
             "color": "#2a3f5f"
            },
            "marker": {
             "line": {
              "color": "#E5ECF6",
              "width": 0.5
             },
             "pattern": {
              "fillmode": "overlay",
              "size": 10,
              "solidity": 0.2
             }
            },
            "type": "bar"
           }
          ],
          "scattergeo": [
           {
            "type": "scattergeo",
            "marker": {
             "colorbar": {
              "outlinewidth": 0,
              "ticks": ""
             }
            }
           }
          ],
          "scatterpolar": [
           {
            "type": "scatterpolar",
            "marker": {
             "colorbar": {
              "outlinewidth": 0,
              "ticks": ""
             }
            }
           }
          ],
          "histogram": [
           {
            "marker": {
             "pattern": {
              "fillmode": "overlay",
              "size": 10,
              "solidity": 0.2
             }
            },
            "type": "histogram"
           }
          ],
          "scattergl": [
           {
            "type": "scattergl",
            "marker": {
             "colorbar": {
              "outlinewidth": 0,
              "ticks": ""
             }
            }
           }
          ],
          "scatter3d": [
           {
            "type": "scatter3d",
            "line": {
             "colorbar": {
              "outlinewidth": 0,
              "ticks": ""
             }
            },
            "marker": {
             "colorbar": {
              "outlinewidth": 0,
              "ticks": ""
             }
            }
           }
          ],
          "scattermap": [
           {
            "type": "scattermap",
            "marker": {
             "colorbar": {
              "outlinewidth": 0,
              "ticks": ""
             }
            }
           }
          ],
          "scattermapbox": [
           {
            "type": "scattermapbox",
            "marker": {
             "colorbar": {
              "outlinewidth": 0,
              "ticks": ""
             }
            }
           }
          ],
          "scatterternary": [
           {
            "type": "scatterternary",
            "marker": {
             "colorbar": {
              "outlinewidth": 0,
              "ticks": ""
             }
            }
           }
          ],
          "scattercarpet": [
           {
            "type": "scattercarpet",
            "marker": {
             "colorbar": {
              "outlinewidth": 0,
              "ticks": ""
             }
            }
           }
          ],
          "carpet": [
           {
            "aaxis": {
             "endlinecolor": "#2a3f5f",
             "gridcolor": "white",
             "linecolor": "white",
             "minorgridcolor": "white",
             "startlinecolor": "#2a3f5f"
            },
            "baxis": {
             "endlinecolor": "#2a3f5f",
             "gridcolor": "white",
             "linecolor": "white",
             "minorgridcolor": "white",
             "startlinecolor": "#2a3f5f"
            },
            "type": "carpet"
           }
          ],
          "table": [
           {
            "cells": {
             "fill": {
              "color": "#EBF0F8"
             },
             "line": {
              "color": "white"
             }
            },
            "header": {
             "fill": {
              "color": "#C8D4E3"
             },
             "line": {
              "color": "white"
             }
            },
            "type": "table"
           }
          ],
          "barpolar": [
           {
            "marker": {
             "line": {
              "color": "#E5ECF6",
              "width": 0.5
             },
             "pattern": {
              "fillmode": "overlay",
              "size": 10,
              "solidity": 0.2
             }
            },
            "type": "barpolar"
           }
          ],
          "pie": [
           {
            "automargin": true,
            "type": "pie"
           }
          ]
         },
         "layout": {
          "autotypenumbers": "strict",
          "colorway": [
           "#636efa",
           "#EF553B",
           "#00cc96",
           "#ab63fa",
           "#FFA15A",
           "#19d3f3",
           "#FF6692",
           "#B6E880",
           "#FF97FF",
           "#FECB52"
          ],
          "font": {
           "color": "#2a3f5f"
          },
          "hovermode": "closest",
          "hoverlabel": {
           "align": "left"
          },
          "paper_bgcolor": "white",
          "plot_bgcolor": "#E5ECF6",
          "polar": {
           "bgcolor": "#E5ECF6",
           "angularaxis": {
            "gridcolor": "white",
            "linecolor": "white",
            "ticks": ""
           },
           "radialaxis": {
            "gridcolor": "white",
            "linecolor": "white",
            "ticks": ""
           }
          },
          "ternary": {
           "bgcolor": "#E5ECF6",
           "aaxis": {
            "gridcolor": "white",
            "linecolor": "white",
            "ticks": ""
           },
           "baxis": {
            "gridcolor": "white",
            "linecolor": "white",
            "ticks": ""
           },
           "caxis": {
            "gridcolor": "white",
            "linecolor": "white",
            "ticks": ""
           }
          },
          "coloraxis": {
           "colorbar": {
            "outlinewidth": 0,
            "ticks": ""
           }
          },
          "colorscale": {
           "sequential": [
            [
             0.0,
             "#0d0887"
            ],
            [
             0.1111111111111111,
             "#46039f"
            ],
            [
             0.2222222222222222,
             "#7201a8"
            ],
            [
             0.3333333333333333,
             "#9c179e"
            ],
            [
             0.4444444444444444,
             "#bd3786"
            ],
            [
             0.5555555555555556,
             "#d8576b"
            ],
            [
             0.6666666666666666,
             "#ed7953"
            ],
            [
             0.7777777777777778,
             "#fb9f3a"
            ],
            [
             0.8888888888888888,
             "#fdca26"
            ],
            [
             1.0,
             "#f0f921"
            ]
           ],
           "sequentialminus": [
            [
             0.0,
             "#0d0887"
            ],
            [
             0.1111111111111111,
             "#46039f"
            ],
            [
             0.2222222222222222,
             "#7201a8"
            ],
            [
             0.3333333333333333,
             "#9c179e"
            ],
            [
             0.4444444444444444,
             "#bd3786"
            ],
            [
             0.5555555555555556,
             "#d8576b"
            ],
            [
             0.6666666666666666,
             "#ed7953"
            ],
            [
             0.7777777777777778,
             "#fb9f3a"
            ],
            [
             0.8888888888888888,
             "#fdca26"
            ],
            [
             1.0,
             "#f0f921"
            ]
           ],
           "diverging": [
            [
             0,
             "#8e0152"
            ],
            [
             0.1,
             "#c51b7d"
            ],
            [
             0.2,
             "#de77ae"
            ],
            [
             0.3,
             "#f1b6da"
            ],
            [
             0.4,
             "#fde0ef"
            ],
            [
             0.5,
             "#f7f7f7"
            ],
            [
             0.6,
             "#e6f5d0"
            ],
            [
             0.7,
             "#b8e186"
            ],
            [
             0.8,
             "#7fbc41"
            ],
            [
             0.9,
             "#4d9221"
            ],
            [
             1,
             "#276419"
            ]
           ]
          },
          "xaxis": {
           "gridcolor": "white",
           "linecolor": "white",
           "ticks": "",
           "title": {
            "standoff": 15
           },
           "zerolinecolor": "white",
           "automargin": true,
           "zerolinewidth": 2
          },
          "yaxis": {
           "gridcolor": "white",
           "linecolor": "white",
           "ticks": "",
           "title": {
            "standoff": 15
           },
           "zerolinecolor": "white",
           "automargin": true,
           "zerolinewidth": 2
          },
          "scene": {
           "xaxis": {
            "backgroundcolor": "#E5ECF6",
            "gridcolor": "white",
            "linecolor": "white",
            "showbackground": true,
            "ticks": "",
            "zerolinecolor": "white",
            "gridwidth": 2
           },
           "yaxis": {
            "backgroundcolor": "#E5ECF6",
            "gridcolor": "white",
            "linecolor": "white",
            "showbackground": true,
            "ticks": "",
            "zerolinecolor": "white",
            "gridwidth": 2
           },
           "zaxis": {
            "backgroundcolor": "#E5ECF6",
            "gridcolor": "white",
            "linecolor": "white",
            "showbackground": true,
            "ticks": "",
            "zerolinecolor": "white",
            "gridwidth": 2
           }
          },
          "shapedefaults": {
           "line": {
            "color": "#2a3f5f"
           }
          },
          "annotationdefaults": {
           "arrowcolor": "#2a3f5f",
           "arrowhead": 0,
           "arrowwidth": 1
          },
          "geo": {
           "bgcolor": "white",
           "landcolor": "#E5ECF6",
           "subunitcolor": "white",
           "showland": true,
           "showlakes": true,
           "lakecolor": "white"
          },
          "title": {
           "x": 0.05
          },
          "mapbox": {
           "style": "light"
          }
         }
        },
        "autosize": false,
        "width": 500,
        "height": 700
       },
       "config": {
        "plotlyServerURL": "https://plot.ly"
       }
      }
     },
     "metadata": {},
     "output_type": "display_data",
     "jetTransient": {
      "display_id": null
     }
    }
   ],
   "execution_count": 105
  },
  {
   "cell_type": "markdown",
   "metadata": {},
   "source": [
    "# Question 2.1"
   ]
  },
  {
   "cell_type": "markdown",
   "metadata": {},
   "source": [
    "Here I recommend you write a function that samples `n_beads` in the full set, and returns the subset. A code skeleton and some hints can be found below."
   ]
  },
  {
   "cell_type": "code",
   "metadata": {
    "ExecuteTime": {
     "end_time": "2025-10-02T17:52:25.856087Z",
     "start_time": "2025-10-02T17:52:25.828988Z"
    }
   },
   "source": [
    "def sample_n_beads(original_beads:dict, n_beads:int) -> dict:\n",
    "    \"\"\"\n",
    "    Samples n_beads beads from the original beads set\n",
    "\n",
    "    Parameters\n",
    "    ----------\n",
    "    original_beads : dict\n",
    "        Dictionnary containing information on 2D and 3D position of the whole set of calibration beads\n",
    "    n_beads : int\n",
    "        Number of beads to select\n",
    "\n",
    "    Returns\n",
    "    -------\n",
    "    dict\n",
    "        Dictionnary containing information on 2D and 3D position of the subsampled of calibration beads\n",
    "    \"\"\"\n",
    "    output = deepcopy(original_beads) # ? First we deepcopy the original beads data, to avoid modifying it by mistake\n",
    "    selected_beads = []\n",
    "    \"\"\"\n",
    "    Let's modify our output until we reach the desired number of beads.\n",
    "    You want n beads sampled across both plates A & B (remember that plates C & D are just A & B rotated):\n",
    "    1. So you're gonna sample n_beads // 2 beads on plate A, and n_beads - (n_beads // 2) beads on plate B.\n",
    "    2. Add all these beads' names in the selected_beads list.\n",
    "    3. Then for each A & B bead, you want to add it's counterpart of plate C & D.\n",
    "    The selection step is already done :)\n",
    "    \"\"\"\n",
    "    A = original_beads['2d']['bead'][original_beads['2d']['bead'].str.contains(\"A\")]\n",
    "    A = random.sample(A.tolist(), n_beads // 2)\n",
    "\n",
    "    B = original_beads['2d']['bead'][original_beads['2d']['bead'].str.contains(\"B\")]\n",
    "    B = random.sample(B.tolist(), n_beads - (n_beads // 2))\n",
    "\n",
    "    C = deepcopy(A)\n",
    "    D = deepcopy(B)\n",
    "    for i in range(len(C)):\n",
    "        C[i] = C[i].replace(\"A\", \"C\")\n",
    "    for i in range(len(D)):\n",
    "        D[i] = D[i].replace(\"B\", \"D\")\n",
    "\n",
    "    selected_beads.extend(A)\n",
    "    selected_beads.extend(B)\n",
    "    selected_beads.extend(C)\n",
    "    selected_beads.extend(D)\n",
    "    output['2d'] = output['2d'][output['2d']['bead'].isin(selected_beads)].sort_values(by = 'bead', ignore_index = True)\n",
    "    output['3d'] = output['3d'][output['3d']['bead'].isin(selected_beads)].sort_values(by = 'bead', ignore_index = True)\n",
    "    return output\n",
    "\n",
    "sample_n_beads(beads_data, 10)"
   ],
   "outputs": [
    {
     "data": {
      "text/plain": [
       "{'2d':            view   bead  x_2d  y_2d\n",
       " 0   Beads2D_PA0  A_1_1  -373   858\n",
       " 1   Beads2D_PA0  A_1_2  -373   784\n",
       " 2   Beads2D_PA0  A_2_1  -274   858\n",
       " 3   Beads2D_PA0  A_3_6     1  -178\n",
       " 4   Beads2D_PA0  A_4_2   264   786\n",
       " 5   Beads2D_PA0  B_2_1  -179   689\n",
       " 6   Beads2D_PA0  B_3_4     0  -378\n",
       " 7   Beads2D_PA0  B_4_2   178   376\n",
       " 8   Beads2D_PA0  B_4_4   178  -378\n",
       " 9   Beads2D_PA0  B_5_4   324  -378\n",
       " 10  Beads2D_LAT  C_1_1  -374   858\n",
       " 11  Beads2D_LAT  C_1_2  -373   785\n",
       " 12  Beads2D_LAT  C_2_1  -274   859\n",
       " 13  Beads2D_LAT  C_3_6     1  -178\n",
       " 14  Beads2D_LAT  C_4_2   263   787\n",
       " 15  Beads2D_LAT  D_2_1  -178   689\n",
       " 16  Beads2D_LAT  D_3_4     0  -378\n",
       " 17  Beads2D_LAT  D_4_2   177   377\n",
       " 18  Beads2D_LAT  D_4_4   177  -377\n",
       " 19  Beads2D_LAT  D_5_4   325  -378,\n",
       " '3d':              view   bead      x_3d      y_3d     z_3d\n",
       " 0   Calib_Beads3D  A_1_1 -602.6390   95.5440  213.567\n",
       " 1   Calib_Beads3D  A_1_2 -602.6580   95.3980  194.395\n",
       " 2   Calib_Beads3D  A_2_1 -602.5950   70.1790  213.700\n",
       " 3   Calib_Beads3D  A_3_6 -602.8670   -1.1310  -54.609\n",
       " 4   Calib_Beads3D  A_4_2 -602.3180  -69.5830  195.252\n",
       " 5   Calib_Beads3D  B_2_1   -0.1540   69.4450  266.716\n",
       " 6   Calib_Beads3D  B_3_4    0.4130    0.1940 -146.530\n",
       " 7   Calib_Beads3D  B_4_2   -0.0390  -69.3170  146.011\n",
       " 8   Calib_Beads3D  B_4_4    0.0080  -69.2660 -146.398\n",
       " 9   Calib_Beads3D  B_5_4    1.1420 -126.4540 -146.473\n",
       " 10  Calib_Beads3D  C_1_1 -193.6837  301.5655  213.567\n",
       " 11  Calib_Beads3D  C_1_2 -193.8287  301.5909  194.395\n",
       " 12  Calib_Beads3D  C_2_1 -219.0265  302.6280  213.700\n",
       " 13  Calib_Beads3D  C_3_6 -290.2567  306.0102  -54.609\n",
       " 14  Calib_Beads3D  C_4_2 -358.6675  308.4476  195.252\n",
       " 15  Calib_Beads3D  D_2_1 -246.0379 -299.2076  266.716\n",
       " 16  Calib_Beads3D  D_3_4 -315.2477 -296.7534 -146.530\n",
       " 17  Calib_Beads3D  D_4_2 -384.6728 -293.2698  146.011\n",
       " 18  Calib_Beads3D  D_4_4 -384.6239 -293.3190 -146.398\n",
       " 19  Calib_Beads3D  D_5_4 -441.8070 -291.9574 -146.473}"
      ]
     },
     "execution_count": 106,
     "metadata": {},
     "output_type": "execute_result"
    }
   ],
   "execution_count": 106
  },
  {
   "cell_type": "code",
   "metadata": {
    "ExecuteTime": {
     "end_time": "2025-10-02T17:52:26.029312Z",
     "start_time": "2025-10-02T17:52:25.866087Z"
    }
   },
   "source": [
    "# Let's increase the number of calibration beads gradually\n",
    "spine = lab_1.structures.Spine(os.path.join(root_directory,'Vertebrae2D.mat')) # Initialize the vertebrae structure\n",
    "\n",
    "# Create a dictionnary to store the results. Access a dictionnary key with brackets, for instance rms_measurements['x']\n",
    "rms_measurements = {\n",
    "        'x' : [],\n",
    "        'y' : [],\n",
    "        'z' : [],\n",
    "        '3d' : [],\n",
    "        'n_beads':[]\n",
    "    }\n",
    "\n",
    "\"\"\"\n",
    "PSEUDOCODE\n",
    "for n_beads in [1...N], do:\n",
    "    computed_points_3d <- list\n",
    "    beads_subset <- sample_n_beads(beads_data, n_beads)\n",
    "    A_view_0 <- get_a(view_0, beads_subset)\n",
    "    l_view_0 <- dlt(A_view_0)\n",
    "    A_view_1 <- get_a(view_1, beads_subset)\n",
    "    l_view_1 <- dlt(A_view_1)\n",
    "    for each vertebra in vertebrae:\n",
    "        for each anatomical_landmark in vertebra_points:\n",
    "        x_point, y_point, z_point <- calculate_3d_point(anatomical_landmark, l_view0, l_view1)\n",
    "        Append (x_point, y_point, z_point) to computed_points_3d\n",
    "    for each axis in ['x', ..., '3d']:\n",
    "        Append rms(SPINE_3D_POINTS, computed_points_3d) to rms_measurements[axis]\n",
    "    Append n_beads to rms_measurements['n_beads']\n",
    "\"\"\"\n",
    "for n_beads in range(10, 0, -1):\n",
    "    computed_points_3d = []\n",
    "    beads_subset = sample_n_beads(beads_data, n_beads)\n",
    "    A_view_0 = get_a('Beads2D_'+view_0, beads_subset)\n",
    "    l_view_0 = lab_1.solver.dlt(A_view_0)\n",
    "    A_view_1 = get_a('Beads2D_'+view_1, beads_subset)\n",
    "    l_view_1 = lab_1.solver.dlt(A_view_1)\n",
    "    for i, v_name in enumerate(spine.vertebrae):\n",
    "\n",
    "        vert = spine.get(v_name).data # Returns the vertebra data\n",
    "\n",
    "        for datum in vert.iterrows():\n",
    "            data = datum[1]\n",
    "            u0 = data[\"x_Vertebrae_LAT\"]\n",
    "            v0 = data[\"y_Vertebrae_LAT\"]\n",
    "            u1 = data[\"x_Vertebrae_PA0\"]\n",
    "            v1 = data[\"y_Vertebrae_PA0\"]\n",
    "            point = calculate_3d_point(u0, v0, u1, v1, l_view_0, l_view_1)\n",
    "            computed_points_3d.append(point)\n",
    "    computed_points_3d = np.array(computed_points_3d)\n",
    "    x_rms = rms(SPINE_3D_POINTS[:,0], computed_points_3d[:,0])\n",
    "    y_rms = rms(SPINE_3D_POINTS[:,1], computed_points_3d[:,1])\n",
    "    z_rms = rms(SPINE_3D_POINTS[:,2], computed_points_3d[:,2])\n",
    "\n",
    "    three_d = rms(SPINE_3D_POINTS, computed_points_3d)\n",
    "    rms_measurements['x'].append(x_rms)\n",
    "    rms_measurements['y'].append(y_rms)\n",
    "    rms_measurements['z'].append(z_rms)\n",
    "    rms_measurements['3d'].append(three_d)\n",
    "    rms_measurements['n_beads'].append(n_beads)\n"
   ],
   "outputs": [],
   "execution_count": 107
  },
  {
   "cell_type": "markdown",
   "metadata": {},
   "source": [
    "# Plotly interlude"
   ]
  },
  {
   "cell_type": "code",
   "metadata": {
    "ExecuteTime": {
     "end_time": "2025-10-02T17:52:26.061311Z",
     "start_time": "2025-10-02T17:52:26.039307Z"
    }
   },
   "source": [
    "\"\"\"\n",
    "Here is a basic plotly example. Use it to plot your RMS values !\n",
    "\"\"\"\n",
    "fig = go.Figure()\n",
    "fig.update_layout(title = 'Various functions plot',\n",
    "                  yaxis_title = 'f(x)',\n",
    "                  xaxis_title = 'x')\n",
    "x_values = np.linspace(0, 10, 1001)\n",
    "y_values_0 = np.sin(x_values) * np.sin(2*x_values)\n",
    "y_values_1 = np.cos(x_values) * np.sin(0.5*np.power(x_values, 2))\n",
    "fig.add_trace(go.Scatter(\n",
    "    x = x_values,\n",
    "    y = y_values_0,\n",
    "    name = 'sin(x) * sin(2x)'\n",
    "))\n",
    "fig.add_trace(go.Scatter(\n",
    "    x = x_values,\n",
    "    y = y_values_1,\n",
    "    name = 'cos(x) * sin(0.5 * x^2))'\n",
    "))\n",
    "fig.show()"
   ],
   "outputs": [
    {
     "data": {
      "application/vnd.plotly.v1+json": {
       "data": [
        {
         "name": "sin(x) * sin(2x)",
         "x": {
          "dtype": "f8",
          "bdata": "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"
         },
         "y": {
          "dtype": "f8",
          "bdata": "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"
         },
         "type": "scatter"
        },
        {
         "name": "cos(x) * sin(0.5 * x^2))",
         "x": {
          "dtype": "f8",
          "bdata": "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"
         },
         "y": {
          "dtype": "f8",
          "bdata": "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"
         },
         "type": "scatter"
        }
       ],
       "layout": {
        "template": {
         "data": {
          "histogram2dcontour": [
           {
            "type": "histogram2dcontour",
            "colorbar": {
             "outlinewidth": 0,
             "ticks": ""
            },
            "colorscale": [
             [
              0.0,
              "#0d0887"
             ],
             [
              0.1111111111111111,
              "#46039f"
             ],
             [
              0.2222222222222222,
              "#7201a8"
             ],
             [
              0.3333333333333333,
              "#9c179e"
             ],
             [
              0.4444444444444444,
              "#bd3786"
             ],
             [
              0.5555555555555556,
              "#d8576b"
             ],
             [
              0.6666666666666666,
              "#ed7953"
             ],
             [
              0.7777777777777778,
              "#fb9f3a"
             ],
             [
              0.8888888888888888,
              "#fdca26"
             ],
             [
              1.0,
              "#f0f921"
             ]
            ]
           }
          ],
          "choropleth": [
           {
            "type": "choropleth",
            "colorbar": {
             "outlinewidth": 0,
             "ticks": ""
            }
           }
          ],
          "histogram2d": [
           {
            "type": "histogram2d",
            "colorbar": {
             "outlinewidth": 0,
             "ticks": ""
            },
            "colorscale": [
             [
              0.0,
              "#0d0887"
             ],
             [
              0.1111111111111111,
              "#46039f"
             ],
             [
              0.2222222222222222,
              "#7201a8"
             ],
             [
              0.3333333333333333,
              "#9c179e"
             ],
             [
              0.4444444444444444,
              "#bd3786"
             ],
             [
              0.5555555555555556,
              "#d8576b"
             ],
             [
              0.6666666666666666,
              "#ed7953"
             ],
             [
              0.7777777777777778,
              "#fb9f3a"
             ],
             [
              0.8888888888888888,
              "#fdca26"
             ],
             [
              1.0,
              "#f0f921"
             ]
            ]
           }
          ],
          "heatmap": [
           {
            "type": "heatmap",
            "colorbar": {
             "outlinewidth": 0,
             "ticks": ""
            },
            "colorscale": [
             [
              0.0,
              "#0d0887"
             ],
             [
              0.1111111111111111,
              "#46039f"
             ],
             [
              0.2222222222222222,
              "#7201a8"
             ],
             [
              0.3333333333333333,
              "#9c179e"
             ],
             [
              0.4444444444444444,
              "#bd3786"
             ],
             [
              0.5555555555555556,
              "#d8576b"
             ],
             [
              0.6666666666666666,
              "#ed7953"
             ],
             [
              0.7777777777777778,
              "#fb9f3a"
             ],
             [
              0.8888888888888888,
              "#fdca26"
             ],
             [
              1.0,
              "#f0f921"
             ]
            ]
           }
          ],
          "contourcarpet": [
           {
            "type": "contourcarpet",
            "colorbar": {
             "outlinewidth": 0,
             "ticks": ""
            }
           }
          ],
          "contour": [
           {
            "type": "contour",
            "colorbar": {
             "outlinewidth": 0,
             "ticks": ""
            },
            "colorscale": [
             [
              0.0,
              "#0d0887"
             ],
             [
              0.1111111111111111,
              "#46039f"
             ],
             [
              0.2222222222222222,
              "#7201a8"
             ],
             [
              0.3333333333333333,
              "#9c179e"
             ],
             [
              0.4444444444444444,
              "#bd3786"
             ],
             [
              0.5555555555555556,
              "#d8576b"
             ],
             [
              0.6666666666666666,
              "#ed7953"
             ],
             [
              0.7777777777777778,
              "#fb9f3a"
             ],
             [
              0.8888888888888888,
              "#fdca26"
             ],
             [
              1.0,
              "#f0f921"
             ]
            ]
           }
          ],
          "surface": [
           {
            "type": "surface",
            "colorbar": {
             "outlinewidth": 0,
             "ticks": ""
            },
            "colorscale": [
             [
              0.0,
              "#0d0887"
             ],
             [
              0.1111111111111111,
              "#46039f"
             ],
             [
              0.2222222222222222,
              "#7201a8"
             ],
             [
              0.3333333333333333,
              "#9c179e"
             ],
             [
              0.4444444444444444,
              "#bd3786"
             ],
             [
              0.5555555555555556,
              "#d8576b"
             ],
             [
              0.6666666666666666,
              "#ed7953"
             ],
             [
              0.7777777777777778,
              "#fb9f3a"
             ],
             [
              0.8888888888888888,
              "#fdca26"
             ],
             [
              1.0,
              "#f0f921"
             ]
            ]
           }
          ],
          "mesh3d": [
           {
            "type": "mesh3d",
            "colorbar": {
             "outlinewidth": 0,
             "ticks": ""
            }
           }
          ],
          "scatter": [
           {
            "fillpattern": {
             "fillmode": "overlay",
             "size": 10,
             "solidity": 0.2
            },
            "type": "scatter"
           }
          ],
          "parcoords": [
           {
            "type": "parcoords",
            "line": {
             "colorbar": {
              "outlinewidth": 0,
              "ticks": ""
             }
            }
           }
          ],
          "scatterpolargl": [
           {
            "type": "scatterpolargl",
            "marker": {
             "colorbar": {
              "outlinewidth": 0,
              "ticks": ""
             }
            }
           }
          ],
          "bar": [
           {
            "error_x": {
             "color": "#2a3f5f"
            },
            "error_y": {
             "color": "#2a3f5f"
            },
            "marker": {
             "line": {
              "color": "#E5ECF6",
              "width": 0.5
             },
             "pattern": {
              "fillmode": "overlay",
              "size": 10,
              "solidity": 0.2
             }
            },
            "type": "bar"
           }
          ],
          "scattergeo": [
           {
            "type": "scattergeo",
            "marker": {
             "colorbar": {
              "outlinewidth": 0,
              "ticks": ""
             }
            }
           }
          ],
          "scatterpolar": [
           {
            "type": "scatterpolar",
            "marker": {
             "colorbar": {
              "outlinewidth": 0,
              "ticks": ""
             }
            }
           }
          ],
          "histogram": [
           {
            "marker": {
             "pattern": {
              "fillmode": "overlay",
              "size": 10,
              "solidity": 0.2
             }
            },
            "type": "histogram"
           }
          ],
          "scattergl": [
           {
            "type": "scattergl",
            "marker": {
             "colorbar": {
              "outlinewidth": 0,
              "ticks": ""
             }
            }
           }
          ],
          "scatter3d": [
           {
            "type": "scatter3d",
            "line": {
             "colorbar": {
              "outlinewidth": 0,
              "ticks": ""
             }
            },
            "marker": {
             "colorbar": {
              "outlinewidth": 0,
              "ticks": ""
             }
            }
           }
          ],
          "scattermap": [
           {
            "type": "scattermap",
            "marker": {
             "colorbar": {
              "outlinewidth": 0,
              "ticks": ""
             }
            }
           }
          ],
          "scattermapbox": [
           {
            "type": "scattermapbox",
            "marker": {
             "colorbar": {
              "outlinewidth": 0,
              "ticks": ""
             }
            }
           }
          ],
          "scatterternary": [
           {
            "type": "scatterternary",
            "marker": {
             "colorbar": {
              "outlinewidth": 0,
              "ticks": ""
             }
            }
           }
          ],
          "scattercarpet": [
           {
            "type": "scattercarpet",
            "marker": {
             "colorbar": {
              "outlinewidth": 0,
              "ticks": ""
             }
            }
           }
          ],
          "carpet": [
           {
            "aaxis": {
             "endlinecolor": "#2a3f5f",
             "gridcolor": "white",
             "linecolor": "white",
             "minorgridcolor": "white",
             "startlinecolor": "#2a3f5f"
            },
            "baxis": {
             "endlinecolor": "#2a3f5f",
             "gridcolor": "white",
             "linecolor": "white",
             "minorgridcolor": "white",
             "startlinecolor": "#2a3f5f"
            },
            "type": "carpet"
           }
          ],
          "table": [
           {
            "cells": {
             "fill": {
              "color": "#EBF0F8"
             },
             "line": {
              "color": "white"
             }
            },
            "header": {
             "fill": {
              "color": "#C8D4E3"
             },
             "line": {
              "color": "white"
             }
            },
            "type": "table"
           }
          ],
          "barpolar": [
           {
            "marker": {
             "line": {
              "color": "#E5ECF6",
              "width": 0.5
             },
             "pattern": {
              "fillmode": "overlay",
              "size": 10,
              "solidity": 0.2
             }
            },
            "type": "barpolar"
           }
          ],
          "pie": [
           {
            "automargin": true,
            "type": "pie"
           }
          ]
         },
         "layout": {
          "autotypenumbers": "strict",
          "colorway": [
           "#636efa",
           "#EF553B",
           "#00cc96",
           "#ab63fa",
           "#FFA15A",
           "#19d3f3",
           "#FF6692",
           "#B6E880",
           "#FF97FF",
           "#FECB52"
          ],
          "font": {
           "color": "#2a3f5f"
          },
          "hovermode": "closest",
          "hoverlabel": {
           "align": "left"
          },
          "paper_bgcolor": "white",
          "plot_bgcolor": "#E5ECF6",
          "polar": {
           "bgcolor": "#E5ECF6",
           "angularaxis": {
            "gridcolor": "white",
            "linecolor": "white",
            "ticks": ""
           },
           "radialaxis": {
            "gridcolor": "white",
            "linecolor": "white",
            "ticks": ""
           }
          },
          "ternary": {
           "bgcolor": "#E5ECF6",
           "aaxis": {
            "gridcolor": "white",
            "linecolor": "white",
            "ticks": ""
           },
           "baxis": {
            "gridcolor": "white",
            "linecolor": "white",
            "ticks": ""
           },
           "caxis": {
            "gridcolor": "white",
            "linecolor": "white",
            "ticks": ""
           }
          },
          "coloraxis": {
           "colorbar": {
            "outlinewidth": 0,
            "ticks": ""
           }
          },
          "colorscale": {
           "sequential": [
            [
             0.0,
             "#0d0887"
            ],
            [
             0.1111111111111111,
             "#46039f"
            ],
            [
             0.2222222222222222,
             "#7201a8"
            ],
            [
             0.3333333333333333,
             "#9c179e"
            ],
            [
             0.4444444444444444,
             "#bd3786"
            ],
            [
             0.5555555555555556,
             "#d8576b"
            ],
            [
             0.6666666666666666,
             "#ed7953"
            ],
            [
             0.7777777777777778,
             "#fb9f3a"
            ],
            [
             0.8888888888888888,
             "#fdca26"
            ],
            [
             1.0,
             "#f0f921"
            ]
           ],
           "sequentialminus": [
            [
             0.0,
             "#0d0887"
            ],
            [
             0.1111111111111111,
             "#46039f"
            ],
            [
             0.2222222222222222,
             "#7201a8"
            ],
            [
             0.3333333333333333,
             "#9c179e"
            ],
            [
             0.4444444444444444,
             "#bd3786"
            ],
            [
             0.5555555555555556,
             "#d8576b"
            ],
            [
             0.6666666666666666,
             "#ed7953"
            ],
            [
             0.7777777777777778,
             "#fb9f3a"
            ],
            [
             0.8888888888888888,
             "#fdca26"
            ],
            [
             1.0,
             "#f0f921"
            ]
           ],
           "diverging": [
            [
             0,
             "#8e0152"
            ],
            [
             0.1,
             "#c51b7d"
            ],
            [
             0.2,
             "#de77ae"
            ],
            [
             0.3,
             "#f1b6da"
            ],
            [
             0.4,
             "#fde0ef"
            ],
            [
             0.5,
             "#f7f7f7"
            ],
            [
             0.6,
             "#e6f5d0"
            ],
            [
             0.7,
             "#b8e186"
            ],
            [
             0.8,
             "#7fbc41"
            ],
            [
             0.9,
             "#4d9221"
            ],
            [
             1,
             "#276419"
            ]
           ]
          },
          "xaxis": {
           "gridcolor": "white",
           "linecolor": "white",
           "ticks": "",
           "title": {
            "standoff": 15
           },
           "zerolinecolor": "white",
           "automargin": true,
           "zerolinewidth": 2
          },
          "yaxis": {
           "gridcolor": "white",
           "linecolor": "white",
           "ticks": "",
           "title": {
            "standoff": 15
           },
           "zerolinecolor": "white",
           "automargin": true,
           "zerolinewidth": 2
          },
          "scene": {
           "xaxis": {
            "backgroundcolor": "#E5ECF6",
            "gridcolor": "white",
            "linecolor": "white",
            "showbackground": true,
            "ticks": "",
            "zerolinecolor": "white",
            "gridwidth": 2
           },
           "yaxis": {
            "backgroundcolor": "#E5ECF6",
            "gridcolor": "white",
            "linecolor": "white",
            "showbackground": true,
            "ticks": "",
            "zerolinecolor": "white",
            "gridwidth": 2
           },
           "zaxis": {
            "backgroundcolor": "#E5ECF6",
            "gridcolor": "white",
            "linecolor": "white",
            "showbackground": true,
            "ticks": "",
            "zerolinecolor": "white",
            "gridwidth": 2
           }
          },
          "shapedefaults": {
           "line": {
            "color": "#2a3f5f"
           }
          },
          "annotationdefaults": {
           "arrowcolor": "#2a3f5f",
           "arrowhead": 0,
           "arrowwidth": 1
          },
          "geo": {
           "bgcolor": "white",
           "landcolor": "#E5ECF6",
           "subunitcolor": "white",
           "showland": true,
           "showlakes": true,
           "lakecolor": "white"
          },
          "title": {
           "x": 0.05
          },
          "mapbox": {
           "style": "light"
          }
         }
        },
        "title": {
         "text": "Various functions plot"
        },
        "yaxis": {
         "title": {
          "text": "f(x)"
         }
        },
        "xaxis": {
         "title": {
          "text": "x"
         }
        }
       },
       "config": {
        "plotlyServerURL": "https://plot.ly"
       }
      }
     },
     "metadata": {},
     "output_type": "display_data",
     "jetTransient": {
      "display_id": null
     }
    }
   ],
   "execution_count": 108
  },
  {
   "cell_type": "code",
   "metadata": {
    "ExecuteTime": {
     "end_time": "2025-10-02T17:52:26.109314Z",
     "start_time": "2025-10-02T17:52:26.079306Z"
    }
   },
   "source": [
    "# TODO : On the same graph, plot all your RMS values wrt. the number of used calibration beads !\n",
    "fig = go.Figure()\n",
    "fig.update_layout(title = 'RMS Error with varying number of calibration beads',\n",
    "                  yaxis_title = 'RMS Error',\n",
    "                  xaxis_title = 'Number of calibration beads')\n",
    "\n",
    "fig.add_trace(go.Scatter(\n",
    "    x = rms_measurements['n_beads'],\n",
    "    y = rms_measurements['x'],\n",
    "    name = 'X Axis'\n",
    "))\n",
    "fig.add_trace(go.Scatter(\n",
    "    x = rms_measurements['n_beads'],\n",
    "    y = rms_measurements['y'],\n",
    "    name = 'Y axis'\n",
    "))\n",
    "fig.add_trace(go.Scatter(\n",
    "    x = rms_measurements['n_beads'],\n",
    "    y = rms_measurements['z'],\n",
    "    name = 'Z axis'\n",
    "))\n",
    "fig.add_trace(go.Scatter(\n",
    "    x = rms_measurements['n_beads'],\n",
    "    y = rms_measurements['3d'],\n",
    "    name = '3D Model'\n",
    "))\n",
    "fig.show()"
   ],
   "outputs": [
    {
     "data": {
      "application/vnd.plotly.v1+json": {
       "data": [
        {
         "name": "X Axis",
         "x": [
          10,
          9,
          8,
          7,
          6,
          5,
          4,
          3,
          2,
          1
         ],
         "y": [
          0.14267420291673982,
          0.0754702877999441,
          0.10163200957190957,
          0.08790631123105087,
          0.5862982383717713,
          14.841438803559576,
          118.59389636445023,
          30.72797812590152,
          206.3481020404265,
          1.166192790792397E10
         ],
         "type": "scatter"
        },
        {
         "name": "Y axis",
         "x": [
          10,
          9,
          8,
          7,
          6,
          5,
          4,
          3,
          2,
          1
         ],
         "y": [
          0.026758580178385897,
          0.05079251160179866,
          0.0888339216508011,
          0.08060675985692334,
          0.16225046010861055,
          1.024877614432268,
          102.66261013440015,
          34.09598439641807,
          1141.701173086658,
          7.770607643614581E9
         ],
         "type": "scatter"
        },
        {
         "name": "Z axis",
         "x": [
          10,
          9,
          8,
          7,
          6,
          5,
          4,
          3,
          2,
          1
         ],
         "y": [
          0.023618397375393306,
          0.05445749871865305,
          0.23208532954198247,
          0.1158190997824322,
          1.0370199042981845,
          12.792922782341453,
          121.32897670480574,
          104.3063925625451,
          1087.069671450839,
          3.762511137614353E9
         ],
         "type": "scatter"
        },
        {
         "name": "3D Model",
         "x": [
          10,
          9,
          8,
          7,
          6,
          5,
          4,
          3,
          2,
          1
         ],
         "y": [
          0.14707065515980153,
          0.1060248227270245,
          0.26848487422560774,
          0.16624989946697782,
          1.2022816203616953,
          19.620844016357086,
          198.30493700161801,
          113.95863220020314,
          1589.8999351913844,
          1.450997730094731E10
         ],
         "type": "scatter"
        }
       ],
       "layout": {
        "template": {
         "data": {
          "histogram2dcontour": [
           {
            "type": "histogram2dcontour",
            "colorbar": {
             "outlinewidth": 0,
             "ticks": ""
            },
            "colorscale": [
             [
              0.0,
              "#0d0887"
             ],
             [
              0.1111111111111111,
              "#46039f"
             ],
             [
              0.2222222222222222,
              "#7201a8"
             ],
             [
              0.3333333333333333,
              "#9c179e"
             ],
             [
              0.4444444444444444,
              "#bd3786"
             ],
             [
              0.5555555555555556,
              "#d8576b"
             ],
             [
              0.6666666666666666,
              "#ed7953"
             ],
             [
              0.7777777777777778,
              "#fb9f3a"
             ],
             [
              0.8888888888888888,
              "#fdca26"
             ],
             [
              1.0,
              "#f0f921"
             ]
            ]
           }
          ],
          "choropleth": [
           {
            "type": "choropleth",
            "colorbar": {
             "outlinewidth": 0,
             "ticks": ""
            }
           }
          ],
          "histogram2d": [
           {
            "type": "histogram2d",
            "colorbar": {
             "outlinewidth": 0,
             "ticks": ""
            },
            "colorscale": [
             [
              0.0,
              "#0d0887"
             ],
             [
              0.1111111111111111,
              "#46039f"
             ],
             [
              0.2222222222222222,
              "#7201a8"
             ],
             [
              0.3333333333333333,
              "#9c179e"
             ],
             [
              0.4444444444444444,
              "#bd3786"
             ],
             [
              0.5555555555555556,
              "#d8576b"
             ],
             [
              0.6666666666666666,
              "#ed7953"
             ],
             [
              0.7777777777777778,
              "#fb9f3a"
             ],
             [
              0.8888888888888888,
              "#fdca26"
             ],
             [
              1.0,
              "#f0f921"
             ]
            ]
           }
          ],
          "heatmap": [
           {
            "type": "heatmap",
            "colorbar": {
             "outlinewidth": 0,
             "ticks": ""
            },
            "colorscale": [
             [
              0.0,
              "#0d0887"
             ],
             [
              0.1111111111111111,
              "#46039f"
             ],
             [
              0.2222222222222222,
              "#7201a8"
             ],
             [
              0.3333333333333333,
              "#9c179e"
             ],
             [
              0.4444444444444444,
              "#bd3786"
             ],
             [
              0.5555555555555556,
              "#d8576b"
             ],
             [
              0.6666666666666666,
              "#ed7953"
             ],
             [
              0.7777777777777778,
              "#fb9f3a"
             ],
             [
              0.8888888888888888,
              "#fdca26"
             ],
             [
              1.0,
              "#f0f921"
             ]
            ]
           }
          ],
          "contourcarpet": [
           {
            "type": "contourcarpet",
            "colorbar": {
             "outlinewidth": 0,
             "ticks": ""
            }
           }
          ],
          "contour": [
           {
            "type": "contour",
            "colorbar": {
             "outlinewidth": 0,
             "ticks": ""
            },
            "colorscale": [
             [
              0.0,
              "#0d0887"
             ],
             [
              0.1111111111111111,
              "#46039f"
             ],
             [
              0.2222222222222222,
              "#7201a8"
             ],
             [
              0.3333333333333333,
              "#9c179e"
             ],
             [
              0.4444444444444444,
              "#bd3786"
             ],
             [
              0.5555555555555556,
              "#d8576b"
             ],
             [
              0.6666666666666666,
              "#ed7953"
             ],
             [
              0.7777777777777778,
              "#fb9f3a"
             ],
             [
              0.8888888888888888,
              "#fdca26"
             ],
             [
              1.0,
              "#f0f921"
             ]
            ]
           }
          ],
          "surface": [
           {
            "type": "surface",
            "colorbar": {
             "outlinewidth": 0,
             "ticks": ""
            },
            "colorscale": [
             [
              0.0,
              "#0d0887"
             ],
             [
              0.1111111111111111,
              "#46039f"
             ],
             [
              0.2222222222222222,
              "#7201a8"
             ],
             [
              0.3333333333333333,
              "#9c179e"
             ],
             [
              0.4444444444444444,
              "#bd3786"
             ],
             [
              0.5555555555555556,
              "#d8576b"
             ],
             [
              0.6666666666666666,
              "#ed7953"
             ],
             [
              0.7777777777777778,
              "#fb9f3a"
             ],
             [
              0.8888888888888888,
              "#fdca26"
             ],
             [
              1.0,
              "#f0f921"
             ]
            ]
           }
          ],
          "mesh3d": [
           {
            "type": "mesh3d",
            "colorbar": {
             "outlinewidth": 0,
             "ticks": ""
            }
           }
          ],
          "scatter": [
           {
            "fillpattern": {
             "fillmode": "overlay",
             "size": 10,
             "solidity": 0.2
            },
            "type": "scatter"
           }
          ],
          "parcoords": [
           {
            "type": "parcoords",
            "line": {
             "colorbar": {
              "outlinewidth": 0,
              "ticks": ""
             }
            }
           }
          ],
          "scatterpolargl": [
           {
            "type": "scatterpolargl",
            "marker": {
             "colorbar": {
              "outlinewidth": 0,
              "ticks": ""
             }
            }
           }
          ],
          "bar": [
           {
            "error_x": {
             "color": "#2a3f5f"
            },
            "error_y": {
             "color": "#2a3f5f"
            },
            "marker": {
             "line": {
              "color": "#E5ECF6",
              "width": 0.5
             },
             "pattern": {
              "fillmode": "overlay",
              "size": 10,
              "solidity": 0.2
             }
            },
            "type": "bar"
           }
          ],
          "scattergeo": [
           {
            "type": "scattergeo",
            "marker": {
             "colorbar": {
              "outlinewidth": 0,
              "ticks": ""
             }
            }
           }
          ],
          "scatterpolar": [
           {
            "type": "scatterpolar",
            "marker": {
             "colorbar": {
              "outlinewidth": 0,
              "ticks": ""
             }
            }
           }
          ],
          "histogram": [
           {
            "marker": {
             "pattern": {
              "fillmode": "overlay",
              "size": 10,
              "solidity": 0.2
             }
            },
            "type": "histogram"
           }
          ],
          "scattergl": [
           {
            "type": "scattergl",
            "marker": {
             "colorbar": {
              "outlinewidth": 0,
              "ticks": ""
             }
            }
           }
          ],
          "scatter3d": [
           {
            "type": "scatter3d",
            "line": {
             "colorbar": {
              "outlinewidth": 0,
              "ticks": ""
             }
            },
            "marker": {
             "colorbar": {
              "outlinewidth": 0,
              "ticks": ""
             }
            }
           }
          ],
          "scattermap": [
           {
            "type": "scattermap",
            "marker": {
             "colorbar": {
              "outlinewidth": 0,
              "ticks": ""
             }
            }
           }
          ],
          "scattermapbox": [
           {
            "type": "scattermapbox",
            "marker": {
             "colorbar": {
              "outlinewidth": 0,
              "ticks": ""
             }
            }
           }
          ],
          "scatterternary": [
           {
            "type": "scatterternary",
            "marker": {
             "colorbar": {
              "outlinewidth": 0,
              "ticks": ""
             }
            }
           }
          ],
          "scattercarpet": [
           {
            "type": "scattercarpet",
            "marker": {
             "colorbar": {
              "outlinewidth": 0,
              "ticks": ""
             }
            }
           }
          ],
          "carpet": [
           {
            "aaxis": {
             "endlinecolor": "#2a3f5f",
             "gridcolor": "white",
             "linecolor": "white",
             "minorgridcolor": "white",
             "startlinecolor": "#2a3f5f"
            },
            "baxis": {
             "endlinecolor": "#2a3f5f",
             "gridcolor": "white",
             "linecolor": "white",
             "minorgridcolor": "white",
             "startlinecolor": "#2a3f5f"
            },
            "type": "carpet"
           }
          ],
          "table": [
           {
            "cells": {
             "fill": {
              "color": "#EBF0F8"
             },
             "line": {
              "color": "white"
             }
            },
            "header": {
             "fill": {
              "color": "#C8D4E3"
             },
             "line": {
              "color": "white"
             }
            },
            "type": "table"
           }
          ],
          "barpolar": [
           {
            "marker": {
             "line": {
              "color": "#E5ECF6",
              "width": 0.5
             },
             "pattern": {
              "fillmode": "overlay",
              "size": 10,
              "solidity": 0.2
             }
            },
            "type": "barpolar"
           }
          ],
          "pie": [
           {
            "automargin": true,
            "type": "pie"
           }
          ]
         },
         "layout": {
          "autotypenumbers": "strict",
          "colorway": [
           "#636efa",
           "#EF553B",
           "#00cc96",
           "#ab63fa",
           "#FFA15A",
           "#19d3f3",
           "#FF6692",
           "#B6E880",
           "#FF97FF",
           "#FECB52"
          ],
          "font": {
           "color": "#2a3f5f"
          },
          "hovermode": "closest",
          "hoverlabel": {
           "align": "left"
          },
          "paper_bgcolor": "white",
          "plot_bgcolor": "#E5ECF6",
          "polar": {
           "bgcolor": "#E5ECF6",
           "angularaxis": {
            "gridcolor": "white",
            "linecolor": "white",
            "ticks": ""
           },
           "radialaxis": {
            "gridcolor": "white",
            "linecolor": "white",
            "ticks": ""
           }
          },
          "ternary": {
           "bgcolor": "#E5ECF6",
           "aaxis": {
            "gridcolor": "white",
            "linecolor": "white",
            "ticks": ""
           },
           "baxis": {
            "gridcolor": "white",
            "linecolor": "white",
            "ticks": ""
           },
           "caxis": {
            "gridcolor": "white",
            "linecolor": "white",
            "ticks": ""
           }
          },
          "coloraxis": {
           "colorbar": {
            "outlinewidth": 0,
            "ticks": ""
           }
          },
          "colorscale": {
           "sequential": [
            [
             0.0,
             "#0d0887"
            ],
            [
             0.1111111111111111,
             "#46039f"
            ],
            [
             0.2222222222222222,
             "#7201a8"
            ],
            [
             0.3333333333333333,
             "#9c179e"
            ],
            [
             0.4444444444444444,
             "#bd3786"
            ],
            [
             0.5555555555555556,
             "#d8576b"
            ],
            [
             0.6666666666666666,
             "#ed7953"
            ],
            [
             0.7777777777777778,
             "#fb9f3a"
            ],
            [
             0.8888888888888888,
             "#fdca26"
            ],
            [
             1.0,
             "#f0f921"
            ]
           ],
           "sequentialminus": [
            [
             0.0,
             "#0d0887"
            ],
            [
             0.1111111111111111,
             "#46039f"
            ],
            [
             0.2222222222222222,
             "#7201a8"
            ],
            [
             0.3333333333333333,
             "#9c179e"
            ],
            [
             0.4444444444444444,
             "#bd3786"
            ],
            [
             0.5555555555555556,
             "#d8576b"
            ],
            [
             0.6666666666666666,
             "#ed7953"
            ],
            [
             0.7777777777777778,
             "#fb9f3a"
            ],
            [
             0.8888888888888888,
             "#fdca26"
            ],
            [
             1.0,
             "#f0f921"
            ]
           ],
           "diverging": [
            [
             0,
             "#8e0152"
            ],
            [
             0.1,
             "#c51b7d"
            ],
            [
             0.2,
             "#de77ae"
            ],
            [
             0.3,
             "#f1b6da"
            ],
            [
             0.4,
             "#fde0ef"
            ],
            [
             0.5,
             "#f7f7f7"
            ],
            [
             0.6,
             "#e6f5d0"
            ],
            [
             0.7,
             "#b8e186"
            ],
            [
             0.8,
             "#7fbc41"
            ],
            [
             0.9,
             "#4d9221"
            ],
            [
             1,
             "#276419"
            ]
           ]
          },
          "xaxis": {
           "gridcolor": "white",
           "linecolor": "white",
           "ticks": "",
           "title": {
            "standoff": 15
           },
           "zerolinecolor": "white",
           "automargin": true,
           "zerolinewidth": 2
          },
          "yaxis": {
           "gridcolor": "white",
           "linecolor": "white",
           "ticks": "",
           "title": {
            "standoff": 15
           },
           "zerolinecolor": "white",
           "automargin": true,
           "zerolinewidth": 2
          },
          "scene": {
           "xaxis": {
            "backgroundcolor": "#E5ECF6",
            "gridcolor": "white",
            "linecolor": "white",
            "showbackground": true,
            "ticks": "",
            "zerolinecolor": "white",
            "gridwidth": 2
           },
           "yaxis": {
            "backgroundcolor": "#E5ECF6",
            "gridcolor": "white",
            "linecolor": "white",
            "showbackground": true,
            "ticks": "",
            "zerolinecolor": "white",
            "gridwidth": 2
           },
           "zaxis": {
            "backgroundcolor": "#E5ECF6",
            "gridcolor": "white",
            "linecolor": "white",
            "showbackground": true,
            "ticks": "",
            "zerolinecolor": "white",
            "gridwidth": 2
           }
          },
          "shapedefaults": {
           "line": {
            "color": "#2a3f5f"
           }
          },
          "annotationdefaults": {
           "arrowcolor": "#2a3f5f",
           "arrowhead": 0,
           "arrowwidth": 1
          },
          "geo": {
           "bgcolor": "white",
           "landcolor": "#E5ECF6",
           "subunitcolor": "white",
           "showland": true,
           "showlakes": true,
           "lakecolor": "white"
          },
          "title": {
           "x": 0.05
          },
          "mapbox": {
           "style": "light"
          }
         }
        },
        "title": {
         "text": "RMS Error with varying number of calibration beads"
        },
        "yaxis": {
         "title": {
          "text": "RMS Error"
         }
        },
        "xaxis": {
         "title": {
          "text": "Number of calibration beads"
         }
        }
       },
       "config": {
        "plotlyServerURL": "https://plot.ly"
       }
      }
     },
     "metadata": {},
     "output_type": "display_data",
     "jetTransient": {
      "display_id": null
     }
    }
   ],
   "execution_count": 109
  },
  {
   "cell_type": "markdown",
   "metadata": {},
   "source": [
    "# Question 2.2"
   ]
  },
  {
   "cell_type": "markdown",
   "metadata": {},
   "source": [
    "Here are 4 sets of 8 calibration beads. For each set, determine which one is which (same plate, small volume, medium volume, large volume) and plot calibration error curves.  \n",
    "Don't hesitate to use the function `plot_selected_beads` from `lab_1.render`to vizualize the selected beads to sort out the subsets !"
   ]
  },
  {
   "cell_type": "code",
   "metadata": {
    "ExecuteTime": {
     "end_time": "2025-10-02T17:52:26.189312Z",
     "start_time": "2025-10-02T17:52:26.123307Z"
    }
   },
   "source": [
    "set_0 = ['A_1_6', 'A_4_6', 'A_1_2', 'A_4_2', 'B_1_5', 'B_5_5', 'B_1_1', 'B_5_1', 'C_1_6', 'C_4_6', 'C_1_2', 'C_4_2', 'D_1_5', 'D_5_5', 'D_1_1', 'D_5_1']\n",
    "set_1 = ['B_1_1', 'B_2_2', 'B_4_2', 'B_5_3', 'B_1_4', 'B_2_5', 'B_4_3', 'B_5_5', 'D_1_1', 'D_2_2', 'D_4_2', 'D_5_3', 'D_1_4', 'D_2_5', 'D_4_3', 'D_5_5']\n",
    "set_2 = ['A_1_4', 'A_2_4', 'A_1_5', 'A_2_5', 'B_1_3', 'B_2_3', 'B_1_4', 'B_2_4', 'C_1_4', 'C_2_4', 'C_1_5', 'C_2_5', 'D_1_3', 'D_2_3', 'D_1_4', 'D_2_4']\n",
    "set_3 = ['A_1_4', 'A_3_4', 'A_1_5', 'A_3_5', 'B_1_3', 'B_3_3', 'B_1_4', 'B_3_4', 'C_1_4', 'C_3_4', 'C_1_5', 'C_3_5', 'D_1_3', 'D_3_3', 'D_1_4', 'D_3_4']\n",
    "\n",
    "rms_measurements = {\n",
    "        'x' : [],\n",
    "        'y' : [],\n",
    "        'z' : [],\n",
    "        '3d' : [],\n",
    "        'plate':[]\n",
    "    }\n",
    "\n",
    "large = beads_data[\"2d\"][beads_data['2d']['bead'].isin(set_0)]\n",
    "same_plate = beads_data[\"2d\"][beads_data['2d']['bead'].isin(set_1)]\n",
    "small = beads_data[\"2d\"][beads_data['2d']['bead'].isin(set_2)]\n",
    "medium = beads_data[\"2d\"][beads_data['2d']['bead'].isin(set_3)]\n",
    "\n",
    "large = {\"2d\":large}\n",
    "same_plate = {\"2d\":same_plate}\n",
    "small = {\"2d\":small}\n",
    "medium = {\"2d\":medium}\n",
    "\n",
    "three_large = beads_data[\"3d\"][beads_data['3d']['bead'].isin(set_0)]\n",
    "three_same_plate = beads_data[\"3d\"][beads_data['3d']['bead'].isin(set_1)]\n",
    "three_small = beads_data[\"3d\"][beads_data['3d']['bead'].isin(set_2)]\n",
    "three_medium = beads_data[\"3d\"][beads_data['3d']['bead'].isin(set_3)]\n",
    "\n",
    "large[\"3d\"] = three_large\n",
    "same_plate[\"3d\"] = three_same_plate\n",
    "small[\"3d\"] = three_small\n",
    "medium[\"3d\"] = three_medium\n",
    "\n",
    "names = [\"same\", \"small\", \"medium\", \"large\"]\n",
    "plates = [same_plate, small, medium, large]\n",
    "\n",
    "for j, plate in enumerate(plates):\n",
    "    computed_points_3d = []\n",
    "    beads_subset = plate\n",
    "    A_view_0 = get_a('Beads2D_'+view_0, beads_subset)\n",
    "    l_view_0 = lab_1.solver.dlt(A_view_0)\n",
    "    A_view_1 = get_a('Beads2D_'+view_1, beads_subset)\n",
    "    l_view_1 = lab_1.solver.dlt(A_view_1)\n",
    "    for i, v_name in enumerate(spine.vertebrae):\n",
    "\n",
    "        vert = spine.get(v_name).data # Returns the vertebra data\n",
    "\n",
    "        for datum in vert.iterrows():\n",
    "            data = datum[1]\n",
    "            u0 = data[\"x_Vertebrae_LAT\"]\n",
    "            v0 = data[\"y_Vertebrae_LAT\"]\n",
    "            u1 = data[\"x_Vertebrae_PA0\"]\n",
    "            v1 = data[\"y_Vertebrae_PA0\"]\n",
    "            point = calculate_3d_point(u0, v0, u1, v1, l_view_0, l_view_1)\n",
    "            computed_points_3d.append(point)\n",
    "    computed_points_3d = np.array(computed_points_3d)\n",
    "    x_rms = rms(SPINE_3D_POINTS[:,0], computed_points_3d[:,0])\n",
    "    y_rms = rms(SPINE_3D_POINTS[:,1], computed_points_3d[:,1])\n",
    "    z_rms = rms(SPINE_3D_POINTS[:,2], computed_points_3d[:,2])\n",
    "\n",
    "    three_d = rms(SPINE_3D_POINTS, computed_points_3d)\n",
    "    rms_measurements['x'].append(x_rms)\n",
    "    rms_measurements['y'].append(y_rms)\n",
    "    rms_measurements['z'].append(z_rms)\n",
    "    rms_measurements['3d'].append(three_d)\n",
    "    rms_measurements['plate'].append(names[j])"
   ],
   "outputs": [],
   "execution_count": 110
  },
  {
   "metadata": {
    "ExecuteTime": {
     "end_time": "2025-10-02T17:52:26.221307Z",
     "start_time": "2025-10-02T17:52:26.198306Z"
    }
   },
   "cell_type": "code",
   "source": [
    "fig = go.Figure()\n",
    "fig.update_layout(title = 'RMS Error with varying calibration size',\n",
    "                  yaxis_title = 'RMS Error',\n",
    "                  xaxis_title = 'Bead Size')\n",
    "\n",
    "fig.add_trace(go.Scatter(\n",
    "    x = rms_measurements['plate'],\n",
    "    y = rms_measurements['x'],\n",
    "    name = 'X Axis'\n",
    "))\n",
    "fig.add_trace(go.Scatter(\n",
    "    x = rms_measurements['plate'],\n",
    "    y = rms_measurements['y'],\n",
    "    name = 'Y axis'\n",
    "))\n",
    "fig.add_trace(go.Scatter(\n",
    "    x = rms_measurements['plate'],\n",
    "    y = rms_measurements['z'],\n",
    "    name = 'Z axis'\n",
    "))\n",
    "fig.add_trace(go.Scatter(\n",
    "    x = rms_measurements['plate'],\n",
    "    y = rms_measurements['3d'],\n",
    "    name = '3D Model'\n",
    "))\n",
    "fig.show()"
   ],
   "outputs": [
    {
     "data": {
      "application/vnd.plotly.v1+json": {
       "data": [
        {
         "name": "X Axis",
         "x": [
          "same",
          "small",
          "medium",
          "large"
         ],
         "y": [
          282.08899478780125,
          0.8317178513287673,
          0.13397024576599825,
          0.11114162469416815
         ],
         "type": "scatter"
        },
        {
         "name": "Y axis",
         "x": [
          "same",
          "small",
          "medium",
          "large"
         ],
         "y": [
          49.5455032609656,
          0.7610166909420367,
          0.056473617967437086,
          0.032522421019270914
         ],
         "type": "scatter"
        },
        {
         "name": "Z axis",
         "x": [
          "same",
          "small",
          "medium",
          "large"
         ],
         "y": [
          97.57341064904043,
          2.4384063063790817,
          0.29031947832181215,
          0.0801111715934466
         ],
         "type": "scatter"
        },
        {
         "name": "3D Model",
         "x": [
          "same",
          "small",
          "medium",
          "large"
         ],
         "y": [
          302.5715115602312,
          2.6863964091916346,
          0.32468863829808225,
          0.14081182100236841
         ],
         "type": "scatter"
        }
       ],
       "layout": {
        "template": {
         "data": {
          "histogram2dcontour": [
           {
            "type": "histogram2dcontour",
            "colorbar": {
             "outlinewidth": 0,
             "ticks": ""
            },
            "colorscale": [
             [
              0.0,
              "#0d0887"
             ],
             [
              0.1111111111111111,
              "#46039f"
             ],
             [
              0.2222222222222222,
              "#7201a8"
             ],
             [
              0.3333333333333333,
              "#9c179e"
             ],
             [
              0.4444444444444444,
              "#bd3786"
             ],
             [
              0.5555555555555556,
              "#d8576b"
             ],
             [
              0.6666666666666666,
              "#ed7953"
             ],
             [
              0.7777777777777778,
              "#fb9f3a"
             ],
             [
              0.8888888888888888,
              "#fdca26"
             ],
             [
              1.0,
              "#f0f921"
             ]
            ]
           }
          ],
          "choropleth": [
           {
            "type": "choropleth",
            "colorbar": {
             "outlinewidth": 0,
             "ticks": ""
            }
           }
          ],
          "histogram2d": [
           {
            "type": "histogram2d",
            "colorbar": {
             "outlinewidth": 0,
             "ticks": ""
            },
            "colorscale": [
             [
              0.0,
              "#0d0887"
             ],
             [
              0.1111111111111111,
              "#46039f"
             ],
             [
              0.2222222222222222,
              "#7201a8"
             ],
             [
              0.3333333333333333,
              "#9c179e"
             ],
             [
              0.4444444444444444,
              "#bd3786"
             ],
             [
              0.5555555555555556,
              "#d8576b"
             ],
             [
              0.6666666666666666,
              "#ed7953"
             ],
             [
              0.7777777777777778,
              "#fb9f3a"
             ],
             [
              0.8888888888888888,
              "#fdca26"
             ],
             [
              1.0,
              "#f0f921"
             ]
            ]
           }
          ],
          "heatmap": [
           {
            "type": "heatmap",
            "colorbar": {
             "outlinewidth": 0,
             "ticks": ""
            },
            "colorscale": [
             [
              0.0,
              "#0d0887"
             ],
             [
              0.1111111111111111,
              "#46039f"
             ],
             [
              0.2222222222222222,
              "#7201a8"
             ],
             [
              0.3333333333333333,
              "#9c179e"
             ],
             [
              0.4444444444444444,
              "#bd3786"
             ],
             [
              0.5555555555555556,
              "#d8576b"
             ],
             [
              0.6666666666666666,
              "#ed7953"
             ],
             [
              0.7777777777777778,
              "#fb9f3a"
             ],
             [
              0.8888888888888888,
              "#fdca26"
             ],
             [
              1.0,
              "#f0f921"
             ]
            ]
           }
          ],
          "contourcarpet": [
           {
            "type": "contourcarpet",
            "colorbar": {
             "outlinewidth": 0,
             "ticks": ""
            }
           }
          ],
          "contour": [
           {
            "type": "contour",
            "colorbar": {
             "outlinewidth": 0,
             "ticks": ""
            },
            "colorscale": [
             [
              0.0,
              "#0d0887"
             ],
             [
              0.1111111111111111,
              "#46039f"
             ],
             [
              0.2222222222222222,
              "#7201a8"
             ],
             [
              0.3333333333333333,
              "#9c179e"
             ],
             [
              0.4444444444444444,
              "#bd3786"
             ],
             [
              0.5555555555555556,
              "#d8576b"
             ],
             [
              0.6666666666666666,
              "#ed7953"
             ],
             [
              0.7777777777777778,
              "#fb9f3a"
             ],
             [
              0.8888888888888888,
              "#fdca26"
             ],
             [
              1.0,
              "#f0f921"
             ]
            ]
           }
          ],
          "surface": [
           {
            "type": "surface",
            "colorbar": {
             "outlinewidth": 0,
             "ticks": ""
            },
            "colorscale": [
             [
              0.0,
              "#0d0887"
             ],
             [
              0.1111111111111111,
              "#46039f"
             ],
             [
              0.2222222222222222,
              "#7201a8"
             ],
             [
              0.3333333333333333,
              "#9c179e"
             ],
             [
              0.4444444444444444,
              "#bd3786"
             ],
             [
              0.5555555555555556,
              "#d8576b"
             ],
             [
              0.6666666666666666,
              "#ed7953"
             ],
             [
              0.7777777777777778,
              "#fb9f3a"
             ],
             [
              0.8888888888888888,
              "#fdca26"
             ],
             [
              1.0,
              "#f0f921"
             ]
            ]
           }
          ],
          "mesh3d": [
           {
            "type": "mesh3d",
            "colorbar": {
             "outlinewidth": 0,
             "ticks": ""
            }
           }
          ],
          "scatter": [
           {
            "fillpattern": {
             "fillmode": "overlay",
             "size": 10,
             "solidity": 0.2
            },
            "type": "scatter"
           }
          ],
          "parcoords": [
           {
            "type": "parcoords",
            "line": {
             "colorbar": {
              "outlinewidth": 0,
              "ticks": ""
             }
            }
           }
          ],
          "scatterpolargl": [
           {
            "type": "scatterpolargl",
            "marker": {
             "colorbar": {
              "outlinewidth": 0,
              "ticks": ""
             }
            }
           }
          ],
          "bar": [
           {
            "error_x": {
             "color": "#2a3f5f"
            },
            "error_y": {
             "color": "#2a3f5f"
            },
            "marker": {
             "line": {
              "color": "#E5ECF6",
              "width": 0.5
             },
             "pattern": {
              "fillmode": "overlay",
              "size": 10,
              "solidity": 0.2
             }
            },
            "type": "bar"
           }
          ],
          "scattergeo": [
           {
            "type": "scattergeo",
            "marker": {
             "colorbar": {
              "outlinewidth": 0,
              "ticks": ""
             }
            }
           }
          ],
          "scatterpolar": [
           {
            "type": "scatterpolar",
            "marker": {
             "colorbar": {
              "outlinewidth": 0,
              "ticks": ""
             }
            }
           }
          ],
          "histogram": [
           {
            "marker": {
             "pattern": {
              "fillmode": "overlay",
              "size": 10,
              "solidity": 0.2
             }
            },
            "type": "histogram"
           }
          ],
          "scattergl": [
           {
            "type": "scattergl",
            "marker": {
             "colorbar": {
              "outlinewidth": 0,
              "ticks": ""
             }
            }
           }
          ],
          "scatter3d": [
           {
            "type": "scatter3d",
            "line": {
             "colorbar": {
              "outlinewidth": 0,
              "ticks": ""
             }
            },
            "marker": {
             "colorbar": {
              "outlinewidth": 0,
              "ticks": ""
             }
            }
           }
          ],
          "scattermap": [
           {
            "type": "scattermap",
            "marker": {
             "colorbar": {
              "outlinewidth": 0,
              "ticks": ""
             }
            }
           }
          ],
          "scattermapbox": [
           {
            "type": "scattermapbox",
            "marker": {
             "colorbar": {
              "outlinewidth": 0,
              "ticks": ""
             }
            }
           }
          ],
          "scatterternary": [
           {
            "type": "scatterternary",
            "marker": {
             "colorbar": {
              "outlinewidth": 0,
              "ticks": ""
             }
            }
           }
          ],
          "scattercarpet": [
           {
            "type": "scattercarpet",
            "marker": {
             "colorbar": {
              "outlinewidth": 0,
              "ticks": ""
             }
            }
           }
          ],
          "carpet": [
           {
            "aaxis": {
             "endlinecolor": "#2a3f5f",
             "gridcolor": "white",
             "linecolor": "white",
             "minorgridcolor": "white",
             "startlinecolor": "#2a3f5f"
            },
            "baxis": {
             "endlinecolor": "#2a3f5f",
             "gridcolor": "white",
             "linecolor": "white",
             "minorgridcolor": "white",
             "startlinecolor": "#2a3f5f"
            },
            "type": "carpet"
           }
          ],
          "table": [
           {
            "cells": {
             "fill": {
              "color": "#EBF0F8"
             },
             "line": {
              "color": "white"
             }
            },
            "header": {
             "fill": {
              "color": "#C8D4E3"
             },
             "line": {
              "color": "white"
             }
            },
            "type": "table"
           }
          ],
          "barpolar": [
           {
            "marker": {
             "line": {
              "color": "#E5ECF6",
              "width": 0.5
             },
             "pattern": {
              "fillmode": "overlay",
              "size": 10,
              "solidity": 0.2
             }
            },
            "type": "barpolar"
           }
          ],
          "pie": [
           {
            "automargin": true,
            "type": "pie"
           }
          ]
         },
         "layout": {
          "autotypenumbers": "strict",
          "colorway": [
           "#636efa",
           "#EF553B",
           "#00cc96",
           "#ab63fa",
           "#FFA15A",
           "#19d3f3",
           "#FF6692",
           "#B6E880",
           "#FF97FF",
           "#FECB52"
          ],
          "font": {
           "color": "#2a3f5f"
          },
          "hovermode": "closest",
          "hoverlabel": {
           "align": "left"
          },
          "paper_bgcolor": "white",
          "plot_bgcolor": "#E5ECF6",
          "polar": {
           "bgcolor": "#E5ECF6",
           "angularaxis": {
            "gridcolor": "white",
            "linecolor": "white",
            "ticks": ""
           },
           "radialaxis": {
            "gridcolor": "white",
            "linecolor": "white",
            "ticks": ""
           }
          },
          "ternary": {
           "bgcolor": "#E5ECF6",
           "aaxis": {
            "gridcolor": "white",
            "linecolor": "white",
            "ticks": ""
           },
           "baxis": {
            "gridcolor": "white",
            "linecolor": "white",
            "ticks": ""
           },
           "caxis": {
            "gridcolor": "white",
            "linecolor": "white",
            "ticks": ""
           }
          },
          "coloraxis": {
           "colorbar": {
            "outlinewidth": 0,
            "ticks": ""
           }
          },
          "colorscale": {
           "sequential": [
            [
             0.0,
             "#0d0887"
            ],
            [
             0.1111111111111111,
             "#46039f"
            ],
            [
             0.2222222222222222,
             "#7201a8"
            ],
            [
             0.3333333333333333,
             "#9c179e"
            ],
            [
             0.4444444444444444,
             "#bd3786"
            ],
            [
             0.5555555555555556,
             "#d8576b"
            ],
            [
             0.6666666666666666,
             "#ed7953"
            ],
            [
             0.7777777777777778,
             "#fb9f3a"
            ],
            [
             0.8888888888888888,
             "#fdca26"
            ],
            [
             1.0,
             "#f0f921"
            ]
           ],
           "sequentialminus": [
            [
             0.0,
             "#0d0887"
            ],
            [
             0.1111111111111111,
             "#46039f"
            ],
            [
             0.2222222222222222,
             "#7201a8"
            ],
            [
             0.3333333333333333,
             "#9c179e"
            ],
            [
             0.4444444444444444,
             "#bd3786"
            ],
            [
             0.5555555555555556,
             "#d8576b"
            ],
            [
             0.6666666666666666,
             "#ed7953"
            ],
            [
             0.7777777777777778,
             "#fb9f3a"
            ],
            [
             0.8888888888888888,
             "#fdca26"
            ],
            [
             1.0,
             "#f0f921"
            ]
           ],
           "diverging": [
            [
             0,
             "#8e0152"
            ],
            [
             0.1,
             "#c51b7d"
            ],
            [
             0.2,
             "#de77ae"
            ],
            [
             0.3,
             "#f1b6da"
            ],
            [
             0.4,
             "#fde0ef"
            ],
            [
             0.5,
             "#f7f7f7"
            ],
            [
             0.6,
             "#e6f5d0"
            ],
            [
             0.7,
             "#b8e186"
            ],
            [
             0.8,
             "#7fbc41"
            ],
            [
             0.9,
             "#4d9221"
            ],
            [
             1,
             "#276419"
            ]
           ]
          },
          "xaxis": {
           "gridcolor": "white",
           "linecolor": "white",
           "ticks": "",
           "title": {
            "standoff": 15
           },
           "zerolinecolor": "white",
           "automargin": true,
           "zerolinewidth": 2
          },
          "yaxis": {
           "gridcolor": "white",
           "linecolor": "white",
           "ticks": "",
           "title": {
            "standoff": 15
           },
           "zerolinecolor": "white",
           "automargin": true,
           "zerolinewidth": 2
          },
          "scene": {
           "xaxis": {
            "backgroundcolor": "#E5ECF6",
            "gridcolor": "white",
            "linecolor": "white",
            "showbackground": true,
            "ticks": "",
            "zerolinecolor": "white",
            "gridwidth": 2
           },
           "yaxis": {
            "backgroundcolor": "#E5ECF6",
            "gridcolor": "white",
            "linecolor": "white",
            "showbackground": true,
            "ticks": "",
            "zerolinecolor": "white",
            "gridwidth": 2
           },
           "zaxis": {
            "backgroundcolor": "#E5ECF6",
            "gridcolor": "white",
            "linecolor": "white",
            "showbackground": true,
            "ticks": "",
            "zerolinecolor": "white",
            "gridwidth": 2
           }
          },
          "shapedefaults": {
           "line": {
            "color": "#2a3f5f"
           }
          },
          "annotationdefaults": {
           "arrowcolor": "#2a3f5f",
           "arrowhead": 0,
           "arrowwidth": 1
          },
          "geo": {
           "bgcolor": "white",
           "landcolor": "#E5ECF6",
           "subunitcolor": "white",
           "showland": true,
           "showlakes": true,
           "lakecolor": "white"
          },
          "title": {
           "x": 0.05
          },
          "mapbox": {
           "style": "light"
          }
         }
        },
        "title": {
         "text": "RMS Error with varying calibration size"
        },
        "yaxis": {
         "title": {
          "text": "RMS Error"
         }
        },
        "xaxis": {
         "title": {
          "text": "Bead Size"
         }
        }
       },
       "config": {
        "plotlyServerURL": "https://plot.ly"
       }
      }
     },
     "metadata": {},
     "output_type": "display_data",
     "jetTransient": {
      "display_id": null
     }
    }
   ],
   "execution_count": 111
  },
  {
   "cell_type": "markdown",
   "metadata": {},
   "source": [
    "TODO : same thing as before, but now you have to select the provided beads ! Look at the function `sample_n_beads` from Q2.1 if you need some help on how to do this."
   ]
  },
  {
   "metadata": {
    "ExecuteTime": {
     "end_time": "2025-10-02T17:52:26.237307Z",
     "start_time": "2025-10-02T17:52:26.232305Z"
    }
   },
   "cell_type": "code",
   "source": "",
   "outputs": [],
   "execution_count": null
  },
  {
   "cell_type": "code",
   "metadata": {
    "ExecuteTime": {
     "end_time": "2025-10-02T17:52:26.253305Z",
     "start_time": "2025-10-02T17:52:26.244307Z"
    }
   },
   "source": [
    "def sample_8_beads(original_beads:dict, n_beads:int) -> dict:\n",
    "    \"\"\"\n",
    "    Samples n_beads beads from the original beads set\n",
    "\n",
    "    Parameters\n",
    "    ----------\n",
    "    original_beads : dict\n",
    "        Dictionnary containing information on 2D and 3D position of the whole set of calibration beads\n",
    "    n_beads : int\n",
    "        Number of beads to select\n",
    "\n",
    "    Returns\n",
    "    -------\n",
    "    dict\n",
    "        Dictionnary containing information on 2D and 3D position of the subsampled of calibration beads\n",
    "    \"\"\"\n",
    "    output = deepcopy(original_beads) # ? First we deepcopy the original beads data, to avoid modifying it by mistake\n",
    "    selected_beads = []\n",
    "    \"\"\"\n",
    "    Let's modify our output until we reach the desired number of beads.\n",
    "    You want n beads sampled across both plates A & B (remember that plates C & D are just A & B rotated):\n",
    "    1. So you're gonna sample n_beads // 2 beads on plate A, and n_beads - (n_beads // 2) beads on plate B.\n",
    "    2. Add all these beads' names in the selected_beads list.\n",
    "    3. Then for each A & B bead, you want to add it's counterpart of plate C & D.\n",
    "    The selection step is already done :)\n",
    "    \"\"\"\n",
    "    A = original_beads['2d']['bead'][original_beads['2d']['bead'].str.contains(\"A\")]\n",
    "    A = random.sample(A.tolist(), n_beads // 2)\n",
    "\n",
    "    B = original_beads['2d']['bead'][original_beads['2d']['bead'].str.contains(\"B\")]\n",
    "    B = random.sample(B.tolist(), n_beads - (n_beads // 2))\n",
    "\n",
    "    C = deepcopy(A)\n",
    "    D = deepcopy(B)\n",
    "    for i in range(len(C)):\n",
    "        C[i] = C[i].replace(\"A\", \"C\")\n",
    "    for i in range(len(D)):\n",
    "        D[i] = D[i].replace(\"B\", \"D\")\n",
    "\n",
    "    selected_beads.extend(A)\n",
    "    selected_beads.extend(B)\n",
    "    selected_beads.extend(C)\n",
    "    selected_beads.extend(D)\n",
    "    output['2d'] = output['2d'][output['2d']['bead'].isin(selected_beads)].sort_values(by = 'bead', ignore_index = True)\n",
    "    output['3d'] = output['3d'][output['3d']['bead'].isin(selected_beads)].sort_values(by = 'bead', ignore_index = True)\n",
    "    return output\n"
   ],
   "outputs": [],
   "execution_count": 112
  },
  {
   "cell_type": "markdown",
   "metadata": {},
   "source": [
    "# Question 2.3"
   ]
  },
  {
   "cell_type": "markdown",
   "metadata": {},
   "source": [
    "Using the **small** calibration volume from previous question, plot reconstruction error with respect to the center of gravity of the calibration volume !"
   ]
  },
  {
   "cell_type": "code",
   "metadata": {
    "ExecuteTime": {
     "end_time": "2025-10-02T17:52:26.285311Z",
     "start_time": "2025-10-02T17:52:26.262317Z"
    }
   },
   "source": [
    "rms_measurements = {\n",
    "    'rms' : [],\n",
    "    'distance' : []\n",
    "}\n",
    "\n",
    "computed_points_3d = []\n",
    "beads_subset = small\n",
    "A_view_0 = get_a('Beads2D_'+view_0, beads_subset)\n",
    "l_view_0 = lab_1.solver.dlt(A_view_0)\n",
    "A_view_1 = get_a('Beads2D_'+view_1, beads_subset)\n",
    "l_view_1 = lab_1.solver.dlt(A_view_1)\n",
    "\n",
    "center_mass = [beads_subset['3d']['x_3d'].mean(), beads_subset['3d']['y_3d'].mean(),beads_subset['3d']['z_3d'].mean()]\n",
    "\n",
    "for i, v_name in enumerate(spine.vertebrae):\n",
    "\n",
    "    vert = spine.get(v_name).data # Returns the vertebra data\n",
    "\n",
    "    for datum in vert.iterrows():\n",
    "        data = datum[1]\n",
    "        u0 = data[\"x_Vertebrae_LAT\"]\n",
    "        v0 = data[\"y_Vertebrae_LAT\"]\n",
    "        u1 = data[\"x_Vertebrae_PA0\"]\n",
    "        v1 = data[\"y_Vertebrae_PA0\"]\n",
    "        point = calculate_3d_point(u0, v0, u1, v1, l_view_0, l_view_1)\n",
    "        computed_points_3d.append(point)\n",
    "computed_points_3d = np.array(computed_points_3d)\n",
    "for i in range(len(computed_points_3d)):\n",
    "\n",
    "    three_d = rms(SPINE_3D_POINTS[i,:], computed_points_3d[i,:])\n",
    "    distance = np.linalg.norm(SPINE_3D_POINTS[i,:] - center_mass)\n",
    "\n",
    "    rms_measurements['rms'].append(three_d)\n",
    "    rms_measurements['distance'].append(distance)"
   ],
   "outputs": [],
   "execution_count": 113
  },
  {
   "metadata": {
    "ExecuteTime": {
     "end_time": "2025-10-02T17:52:26.317312Z",
     "start_time": "2025-10-02T17:52:26.293304Z"
    }
   },
   "cell_type": "code",
   "source": [
    "rms_measurements = pd.DataFrame(rms_measurements)\n",
    "rms_measurements = rms_measurements.sort_values(by='distance', ascending=True)\n",
    "fig = go.Figure()\n",
    "fig.update_layout(title = 'RMS Error with varying distance from center of mass to prediction',\n",
    "                  yaxis_title = 'RMS Error',\n",
    "                  xaxis_title = 'Distance from center of mass')\n",
    "\n",
    "fig.add_trace(go.Scatter(\n",
    "    x = rms_measurements['distance'],\n",
    "    y = rms_measurements['rms'],\n",
    "    name = '3D Model'\n",
    "))\n",
    "fig.show()"
   ],
   "outputs": [
    {
     "data": {
      "application/vnd.plotly.v1+json": {
       "data": [
        {
         "name": "3D Model",
         "x": {
          "dtype": "f8",
          "bdata": "ps10b9EtRUDsAengIX1FQOawINUOFUlAQ8fZJxXKS0DSs1oxm9pLQAKih1Q9JkxA03WKt9SfTEBKnev7hUVOQFj+/US4L09AQG5dhMg5UEC9HYT8kIRQQAD5oEbqt1BAO3ikbHXDUEBmffjm8ONQQLw3pH5Qz1FAGZE4XrnHUkBDeP9q7eJSQHvzD54eWFNAJtDd3ZacVED/iEs5AgBVQJqAdlLHDVVAx4ATtNEiVUBAqlghxItWQOczpC4SC1dA4mzm70ZCV0Ao1PX/TABbQN58XfTBYFtARyISs3pbXED/MuctS2xdQKPmjjxs6l1A8IfIruf6XUB5r3/SQNVgQFc5HeIr3WBATtyjao+MYUB8bkeNeSFiQNAXlmTOI2JAqofU6+tRYkAg8bRuYfVjQDZVRRL4jmRAefRHArDFZEAKUgX/dj9lQAJqcQV6UGVAEiUJISoPZkCl7N1ujY9mQAaQDr0WOWdASH9Du/qPZ0BRTjfh0q1nQGIoLo9Cy2dAlkJlU95faEC2a2StPM5oQEyqB4tzFmlA07D5IBFHaUCEA8f2uMtpQH/CrZXC+mlAR92texxGakCcPojmfLlqQLL48Prsx2pANBsE6ePiakB6TBmUhixrQDWBiTOceWtAMafDm8j+a0Bgq1KyqAVsQGMHqh1yCGxATe5eKOI+bEDkIepSyZxsQPk6mS1B+mxAyHahw9U8bUCa3WmZ5V5tQITN4OyPkG1AJihHi7nGbUBvLEu1gcxtQIWSjyAEi25APUuaHTbRbkD0mygPxwtvQCkBmu63Lm9AidhTCYqDb0DZ8nVKDoxvQB9y0Z+mr29A/0qYd/YucECTn0Tf2YZwQIIVE/X+hnBAfWmQzgaxcEC90vWZD7xwQADgdyyW9nBAqWwFBCoAcUCohdRNjX9xQFwuDmm2lnFAeAQXMZCacUA3Or+Pss5xQJWdSCk513FA9MyKQ20BckBAZo62v0xyQMQdc8uHi3JAFYS0vLSUckCx7JkA4JxyQEcZJlRmwnJAIZ9RApjfckDwrbalVjdzQKUDHR3dd3NAKqTcfuJ5c0DLRC3dxYJzQMEJ3kyEuHNA"
         },
         "y": {
          "dtype": "f8",
          "bdata": "N0kO9Cwx2D8VG+U3Bm/WP2aCMEvbJd8/LKgbb+Xp4D/69Sz7Nx7fPzC1+LtoX9I/OsXwxxbd4D9a0c8TZ3jZP3CXwMdD5NE/+GTIEiiW4D991ASGaMLXP40Aj1xRJOI/G2NUgWhv5D/GbgG1EVDcPwEDHQep4do/Ot227ptq5T8K5pGj2u3mP/WITMqEuuY/9LM6Qvm75z8v/t008MfVP9qWtAXvFNk/P5LA956Y0j8dAj+8vmXTP+GhI5whm9U/rgsye+wG2T9yGu6t0wPbP80epu1C1tc/a2rmIKdD2T9jAalfeKLaP25rDiTIfN0/Vn9j985w2j9N+GHf/iXhP6KKeEQj2t8/vTW5i3ND4j+3Aew2byjiPxu4XMf9buM/LWMH9iiN4z9I80luR8blPzYrxe+Qyec/73Us7DSD6T/jllcKBMDoP8cRL0t21eo/whT1E4ko6z+83Lu67SHsP2TLWGePF/A/udAYbpbY7j8Q2FZTkivvP3KzsG/78fA/ZfxLvoOH8D+Bh+Zi+zHxP7Fk5kOBjfE/xy3yyaAw8z/1F1ejO+DzPwOXe+6uBPM/zFT3JXE48z/cvVRJAjH0PxB2HzZ/BvQ/lVA7Iqqu9T9c8aojyC72P7glsCASHPU/zLtiKJeo9z9uSrVQyh32P4toHSWEU/Y/SzliZrMd+D9WPMrIP1T3P5HKDMcq7fc/JCHeTCmm+D8tjWfi0Ur6P0L0WKUUGfk/CNatt2fF+T+G6yH6ahr7P8xHaiXoaPs/vQCjQpSm+z+KKqzrhH78P8xNX6ZqA/4/WTbZREe7/j+aMoMZ2TP9PynEV+n1DP4/5StHgLKK/z89C8H1WFgAQFNmngnmHgFApW9w1fX7AEA5oskyWJsBQBUSH+MOYAFAZNWmHMW2AUAqBTqKrQEDQEenqXwlDQNAUJ53q0zNA0DRj5yPnFMEQJ5lKvKD5wNACpGzNrceBEDlp6UDQDQFQBqbw5dXUwZAJuyNo9zOBUCirCmM2BUGQBe2wnhf7QZAfFiDnJOmBkD7DG8JMNUHQN0CE6bmXghAogZaGy2VCEBnLNV6DgMJQPVo6Ml1HQlA"
         },
         "type": "scatter"
        }
       ],
       "layout": {
        "template": {
         "data": {
          "histogram2dcontour": [
           {
            "type": "histogram2dcontour",
            "colorbar": {
             "outlinewidth": 0,
             "ticks": ""
            },
            "colorscale": [
             [
              0.0,
              "#0d0887"
             ],
             [
              0.1111111111111111,
              "#46039f"
             ],
             [
              0.2222222222222222,
              "#7201a8"
             ],
             [
              0.3333333333333333,
              "#9c179e"
             ],
             [
              0.4444444444444444,
              "#bd3786"
             ],
             [
              0.5555555555555556,
              "#d8576b"
             ],
             [
              0.6666666666666666,
              "#ed7953"
             ],
             [
              0.7777777777777778,
              "#fb9f3a"
             ],
             [
              0.8888888888888888,
              "#fdca26"
             ],
             [
              1.0,
              "#f0f921"
             ]
            ]
           }
          ],
          "choropleth": [
           {
            "type": "choropleth",
            "colorbar": {
             "outlinewidth": 0,
             "ticks": ""
            }
           }
          ],
          "histogram2d": [
           {
            "type": "histogram2d",
            "colorbar": {
             "outlinewidth": 0,
             "ticks": ""
            },
            "colorscale": [
             [
              0.0,
              "#0d0887"
             ],
             [
              0.1111111111111111,
              "#46039f"
             ],
             [
              0.2222222222222222,
              "#7201a8"
             ],
             [
              0.3333333333333333,
              "#9c179e"
             ],
             [
              0.4444444444444444,
              "#bd3786"
             ],
             [
              0.5555555555555556,
              "#d8576b"
             ],
             [
              0.6666666666666666,
              "#ed7953"
             ],
             [
              0.7777777777777778,
              "#fb9f3a"
             ],
             [
              0.8888888888888888,
              "#fdca26"
             ],
             [
              1.0,
              "#f0f921"
             ]
            ]
           }
          ],
          "heatmap": [
           {
            "type": "heatmap",
            "colorbar": {
             "outlinewidth": 0,
             "ticks": ""
            },
            "colorscale": [
             [
              0.0,
              "#0d0887"
             ],
             [
              0.1111111111111111,
              "#46039f"
             ],
             [
              0.2222222222222222,
              "#7201a8"
             ],
             [
              0.3333333333333333,
              "#9c179e"
             ],
             [
              0.4444444444444444,
              "#bd3786"
             ],
             [
              0.5555555555555556,
              "#d8576b"
             ],
             [
              0.6666666666666666,
              "#ed7953"
             ],
             [
              0.7777777777777778,
              "#fb9f3a"
             ],
             [
              0.8888888888888888,
              "#fdca26"
             ],
             [
              1.0,
              "#f0f921"
             ]
            ]
           }
          ],
          "contourcarpet": [
           {
            "type": "contourcarpet",
            "colorbar": {
             "outlinewidth": 0,
             "ticks": ""
            }
           }
          ],
          "contour": [
           {
            "type": "contour",
            "colorbar": {
             "outlinewidth": 0,
             "ticks": ""
            },
            "colorscale": [
             [
              0.0,
              "#0d0887"
             ],
             [
              0.1111111111111111,
              "#46039f"
             ],
             [
              0.2222222222222222,
              "#7201a8"
             ],
             [
              0.3333333333333333,
              "#9c179e"
             ],
             [
              0.4444444444444444,
              "#bd3786"
             ],
             [
              0.5555555555555556,
              "#d8576b"
             ],
             [
              0.6666666666666666,
              "#ed7953"
             ],
             [
              0.7777777777777778,
              "#fb9f3a"
             ],
             [
              0.8888888888888888,
              "#fdca26"
             ],
             [
              1.0,
              "#f0f921"
             ]
            ]
           }
          ],
          "surface": [
           {
            "type": "surface",
            "colorbar": {
             "outlinewidth": 0,
             "ticks": ""
            },
            "colorscale": [
             [
              0.0,
              "#0d0887"
             ],
             [
              0.1111111111111111,
              "#46039f"
             ],
             [
              0.2222222222222222,
              "#7201a8"
             ],
             [
              0.3333333333333333,
              "#9c179e"
             ],
             [
              0.4444444444444444,
              "#bd3786"
             ],
             [
              0.5555555555555556,
              "#d8576b"
             ],
             [
              0.6666666666666666,
              "#ed7953"
             ],
             [
              0.7777777777777778,
              "#fb9f3a"
             ],
             [
              0.8888888888888888,
              "#fdca26"
             ],
             [
              1.0,
              "#f0f921"
             ]
            ]
           }
          ],
          "mesh3d": [
           {
            "type": "mesh3d",
            "colorbar": {
             "outlinewidth": 0,
             "ticks": ""
            }
           }
          ],
          "scatter": [
           {
            "fillpattern": {
             "fillmode": "overlay",
             "size": 10,
             "solidity": 0.2
            },
            "type": "scatter"
           }
          ],
          "parcoords": [
           {
            "type": "parcoords",
            "line": {
             "colorbar": {
              "outlinewidth": 0,
              "ticks": ""
             }
            }
           }
          ],
          "scatterpolargl": [
           {
            "type": "scatterpolargl",
            "marker": {
             "colorbar": {
              "outlinewidth": 0,
              "ticks": ""
             }
            }
           }
          ],
          "bar": [
           {
            "error_x": {
             "color": "#2a3f5f"
            },
            "error_y": {
             "color": "#2a3f5f"
            },
            "marker": {
             "line": {
              "color": "#E5ECF6",
              "width": 0.5
             },
             "pattern": {
              "fillmode": "overlay",
              "size": 10,
              "solidity": 0.2
             }
            },
            "type": "bar"
           }
          ],
          "scattergeo": [
           {
            "type": "scattergeo",
            "marker": {
             "colorbar": {
              "outlinewidth": 0,
              "ticks": ""
             }
            }
           }
          ],
          "scatterpolar": [
           {
            "type": "scatterpolar",
            "marker": {
             "colorbar": {
              "outlinewidth": 0,
              "ticks": ""
             }
            }
           }
          ],
          "histogram": [
           {
            "marker": {
             "pattern": {
              "fillmode": "overlay",
              "size": 10,
              "solidity": 0.2
             }
            },
            "type": "histogram"
           }
          ],
          "scattergl": [
           {
            "type": "scattergl",
            "marker": {
             "colorbar": {
              "outlinewidth": 0,
              "ticks": ""
             }
            }
           }
          ],
          "scatter3d": [
           {
            "type": "scatter3d",
            "line": {
             "colorbar": {
              "outlinewidth": 0,
              "ticks": ""
             }
            },
            "marker": {
             "colorbar": {
              "outlinewidth": 0,
              "ticks": ""
             }
            }
           }
          ],
          "scattermap": [
           {
            "type": "scattermap",
            "marker": {
             "colorbar": {
              "outlinewidth": 0,
              "ticks": ""
             }
            }
           }
          ],
          "scattermapbox": [
           {
            "type": "scattermapbox",
            "marker": {
             "colorbar": {
              "outlinewidth": 0,
              "ticks": ""
             }
            }
           }
          ],
          "scatterternary": [
           {
            "type": "scatterternary",
            "marker": {
             "colorbar": {
              "outlinewidth": 0,
              "ticks": ""
             }
            }
           }
          ],
          "scattercarpet": [
           {
            "type": "scattercarpet",
            "marker": {
             "colorbar": {
              "outlinewidth": 0,
              "ticks": ""
             }
            }
           }
          ],
          "carpet": [
           {
            "aaxis": {
             "endlinecolor": "#2a3f5f",
             "gridcolor": "white",
             "linecolor": "white",
             "minorgridcolor": "white",
             "startlinecolor": "#2a3f5f"
            },
            "baxis": {
             "endlinecolor": "#2a3f5f",
             "gridcolor": "white",
             "linecolor": "white",
             "minorgridcolor": "white",
             "startlinecolor": "#2a3f5f"
            },
            "type": "carpet"
           }
          ],
          "table": [
           {
            "cells": {
             "fill": {
              "color": "#EBF0F8"
             },
             "line": {
              "color": "white"
             }
            },
            "header": {
             "fill": {
              "color": "#C8D4E3"
             },
             "line": {
              "color": "white"
             }
            },
            "type": "table"
           }
          ],
          "barpolar": [
           {
            "marker": {
             "line": {
              "color": "#E5ECF6",
              "width": 0.5
             },
             "pattern": {
              "fillmode": "overlay",
              "size": 10,
              "solidity": 0.2
             }
            },
            "type": "barpolar"
           }
          ],
          "pie": [
           {
            "automargin": true,
            "type": "pie"
           }
          ]
         },
         "layout": {
          "autotypenumbers": "strict",
          "colorway": [
           "#636efa",
           "#EF553B",
           "#00cc96",
           "#ab63fa",
           "#FFA15A",
           "#19d3f3",
           "#FF6692",
           "#B6E880",
           "#FF97FF",
           "#FECB52"
          ],
          "font": {
           "color": "#2a3f5f"
          },
          "hovermode": "closest",
          "hoverlabel": {
           "align": "left"
          },
          "paper_bgcolor": "white",
          "plot_bgcolor": "#E5ECF6",
          "polar": {
           "bgcolor": "#E5ECF6",
           "angularaxis": {
            "gridcolor": "white",
            "linecolor": "white",
            "ticks": ""
           },
           "radialaxis": {
            "gridcolor": "white",
            "linecolor": "white",
            "ticks": ""
           }
          },
          "ternary": {
           "bgcolor": "#E5ECF6",
           "aaxis": {
            "gridcolor": "white",
            "linecolor": "white",
            "ticks": ""
           },
           "baxis": {
            "gridcolor": "white",
            "linecolor": "white",
            "ticks": ""
           },
           "caxis": {
            "gridcolor": "white",
            "linecolor": "white",
            "ticks": ""
           }
          },
          "coloraxis": {
           "colorbar": {
            "outlinewidth": 0,
            "ticks": ""
           }
          },
          "colorscale": {
           "sequential": [
            [
             0.0,
             "#0d0887"
            ],
            [
             0.1111111111111111,
             "#46039f"
            ],
            [
             0.2222222222222222,
             "#7201a8"
            ],
            [
             0.3333333333333333,
             "#9c179e"
            ],
            [
             0.4444444444444444,
             "#bd3786"
            ],
            [
             0.5555555555555556,
             "#d8576b"
            ],
            [
             0.6666666666666666,
             "#ed7953"
            ],
            [
             0.7777777777777778,
             "#fb9f3a"
            ],
            [
             0.8888888888888888,
             "#fdca26"
            ],
            [
             1.0,
             "#f0f921"
            ]
           ],
           "sequentialminus": [
            [
             0.0,
             "#0d0887"
            ],
            [
             0.1111111111111111,
             "#46039f"
            ],
            [
             0.2222222222222222,
             "#7201a8"
            ],
            [
             0.3333333333333333,
             "#9c179e"
            ],
            [
             0.4444444444444444,
             "#bd3786"
            ],
            [
             0.5555555555555556,
             "#d8576b"
            ],
            [
             0.6666666666666666,
             "#ed7953"
            ],
            [
             0.7777777777777778,
             "#fb9f3a"
            ],
            [
             0.8888888888888888,
             "#fdca26"
            ],
            [
             1.0,
             "#f0f921"
            ]
           ],
           "diverging": [
            [
             0,
             "#8e0152"
            ],
            [
             0.1,
             "#c51b7d"
            ],
            [
             0.2,
             "#de77ae"
            ],
            [
             0.3,
             "#f1b6da"
            ],
            [
             0.4,
             "#fde0ef"
            ],
            [
             0.5,
             "#f7f7f7"
            ],
            [
             0.6,
             "#e6f5d0"
            ],
            [
             0.7,
             "#b8e186"
            ],
            [
             0.8,
             "#7fbc41"
            ],
            [
             0.9,
             "#4d9221"
            ],
            [
             1,
             "#276419"
            ]
           ]
          },
          "xaxis": {
           "gridcolor": "white",
           "linecolor": "white",
           "ticks": "",
           "title": {
            "standoff": 15
           },
           "zerolinecolor": "white",
           "automargin": true,
           "zerolinewidth": 2
          },
          "yaxis": {
           "gridcolor": "white",
           "linecolor": "white",
           "ticks": "",
           "title": {
            "standoff": 15
           },
           "zerolinecolor": "white",
           "automargin": true,
           "zerolinewidth": 2
          },
          "scene": {
           "xaxis": {
            "backgroundcolor": "#E5ECF6",
            "gridcolor": "white",
            "linecolor": "white",
            "showbackground": true,
            "ticks": "",
            "zerolinecolor": "white",
            "gridwidth": 2
           },
           "yaxis": {
            "backgroundcolor": "#E5ECF6",
            "gridcolor": "white",
            "linecolor": "white",
            "showbackground": true,
            "ticks": "",
            "zerolinecolor": "white",
            "gridwidth": 2
           },
           "zaxis": {
            "backgroundcolor": "#E5ECF6",
            "gridcolor": "white",
            "linecolor": "white",
            "showbackground": true,
            "ticks": "",
            "zerolinecolor": "white",
            "gridwidth": 2
           }
          },
          "shapedefaults": {
           "line": {
            "color": "#2a3f5f"
           }
          },
          "annotationdefaults": {
           "arrowcolor": "#2a3f5f",
           "arrowhead": 0,
           "arrowwidth": 1
          },
          "geo": {
           "bgcolor": "white",
           "landcolor": "#E5ECF6",
           "subunitcolor": "white",
           "showland": true,
           "showlakes": true,
           "lakecolor": "white"
          },
          "title": {
           "x": 0.05
          },
          "mapbox": {
           "style": "light"
          }
         }
        },
        "title": {
         "text": "RMS Error with varying distance from center of mass to prediction"
        },
        "yaxis": {
         "title": {
          "text": "RMS Error"
         }
        },
        "xaxis": {
         "title": {
          "text": "Distance from center of mass"
         }
        }
       },
       "config": {
        "plotlyServerURL": "https://plot.ly"
       }
      }
     },
     "metadata": {},
     "output_type": "display_data",
     "jetTransient": {
      "display_id": null
     }
    }
   ],
   "execution_count": 114
  },
  {
   "cell_type": "markdown",
   "metadata": {},
   "source": [
    "# Question 3.1 "
   ]
  },
  {
   "cell_type": "markdown",
   "metadata": {},
   "source": [
    "Here you have to code the function that allow us to add noise to the calibration beads coordinates. Hint : you should take a look at the documentation of `np.random.normal` :)"
   ]
  },
  {
   "cell_type": "code",
   "metadata": {
    "ExecuteTime": {
     "end_time": "2025-10-02T17:52:26.348321Z",
     "start_time": "2025-10-02T17:52:26.328306Z"
    }
   },
   "source": [
    "def add_noise_2d(original_beads:dict, std:float) -> dict:\n",
    "    \"\"\"\n",
    "    Adds noise to the 2D coordinates of the beads\n",
    "\n",
    "    Parameters\n",
    "    ----------\n",
    "    original_beads : dict\n",
    "        Dictionnary containing information on 2D and 3D position of the a set of calibration beads\n",
    "    std : float\n",
    "        Standard deviation for the noise added.\n",
    "\n",
    "    Returns\n",
    "    -------\n",
    "    dict\n",
    "        Noised beads set\n",
    "    \"\"\"\n",
    "    output = deepcopy(original_beads) # ? First we deepcopy the original beads data, to avoid modifying it by mistake\n",
    "    # TODO : select 2D beads and add noise to them\n",
    "    output['2d']['x_2d'] += np.random.normal(0, std, output['2d']['x_2d'].shape)\n",
    "    output['2d']['y_2d'] += np.random.normal(0, std, output['2d']['y_2d'].shape)\n",
    "\n",
    "    return output\n",
    "\n",
    "def add_noise_3d(original_beads:dict, std:float) -> dict:\n",
    "    \"\"\"\n",
    "    Adds noise to the 3D coordinates of the beads\n",
    "\n",
    "    Parameters\n",
    "    ----------\n",
    "    original_beads : dict\n",
    "        Dictionnary containing information on 2D and 3D position of the a set of calibration beads\n",
    "    std : float\n",
    "        Standard deviation for the noise added.\n",
    "\n",
    "    Returns\n",
    "    -------\n",
    "    dict\n",
    "        Noised beads set\n",
    "    \"\"\"\n",
    "    output = deepcopy(original_beads) # ? First we deepcopy the original beads data, to avoid modifying it by mistake\n",
    "    # TODO : select 3D beads and add noise to them\n",
    "    output['3d']['x_3d'] += np.random.normal(0, std, output['3d']['x_3d'].shape)\n",
    "    output['3d']['y_3d'] += np.random.normal(0, std, output['3d']['y_3d'].shape)\n",
    "    output['3d']['z_3d'] += np.random.normal(0, std, output['3d']['z_3d'].shape)\n",
    "\n",
    "    return output\n"
   ],
   "outputs": [],
   "execution_count": 115
  },
  {
   "cell_type": "code",
   "metadata": {
    "ExecuteTime": {
     "end_time": "2025-10-02T17:52:26.536481Z",
     "start_time": "2025-10-02T17:52:26.357319Z"
    }
   },
   "source": [
    "# Let's increase the number of calibration beads gradually\n",
    "spine = lab_1.structures.Spine(os.path.join(root_directory,'Vertebrae2D.mat')) # Initialize the vertebrae structure\n",
    "\n",
    "# Create a dictionnary to store the results. Access a dictionnary key with brackets, for instance rms_measurements['x']\n",
    "rms_measurements = {\n",
    "        'x' : [],\n",
    "        'y' : [],\n",
    "        'z' : [],\n",
    "        '3d' : [],\n",
    "        'std':[]\n",
    "    }\n",
    "\n",
    "\"\"\"\n",
    "PSEUDOCODE\n",
    "for n_beads in [1...N], do:\n",
    "    computed_points_3d <- list\n",
    "    beads_subset <- sample_n_beads(beads_data, n_beads)\n",
    "    A_view_0 <- get_a(view_0, beads_subset)\n",
    "    l_view_0 <- dlt(A_view_0)\n",
    "    A_view_1 <- get_a(view_1, beads_subset)\n",
    "    l_view_1 <- dlt(A_view_1)\n",
    "    for each vertebra in vertebrae:\n",
    "        for each anatomical_landmark in vertebra_points:\n",
    "        x_point, y_point, z_point <- calculate_3d_point(anatomical_landmark, l_view0, l_view1)\n",
    "        Append (x_point, y_point, z_point) to computed_points_3d\n",
    "    for each axis in ['x', ..., '3d']:\n",
    "        Append rms(SPINE_3D_POINTS, computed_points_3d) to rms_measurements[axis]\n",
    "    Append n_beads to rms_measurements['n_beads']\n",
    "\"\"\"\n",
    "\n",
    "for i in range(0, 110, 10):\n",
    "    std = i / 100\n",
    "    computed_points_3d = []\n",
    "    noised_data = add_noise_2d(beads_data, std)\n",
    "    #noised_data = add_noise_3d(noised_data, std)\n",
    "\n",
    "    A_view_0 = get_a('Beads2D_'+view_0, noised_data)\n",
    "    l_view_0 = lab_1.solver.dlt(A_view_0)\n",
    "    A_view_1 = get_a('Beads2D_'+view_1, noised_data)\n",
    "    l_view_1 = lab_1.solver.dlt(A_view_1)\n",
    "\n",
    "    for i, v_name in enumerate(spine.vertebrae):\n",
    "\n",
    "        vert = spine.get(v_name).data # Returns the vertebra data\n",
    "\n",
    "        for datum in vert.iterrows():\n",
    "            data = datum[1]\n",
    "            u0 = data[\"x_Vertebrae_LAT\"]\n",
    "            v0 = data[\"y_Vertebrae_LAT\"]\n",
    "            u1 = data[\"x_Vertebrae_PA0\"]\n",
    "            v1 = data[\"y_Vertebrae_PA0\"]\n",
    "            point = calculate_3d_point(u0, v0, u1, v1, l_view_0, l_view_1)\n",
    "            computed_points_3d.append(point)\n",
    "    computed_points_3d = np.array(computed_points_3d)\n",
    "    x_rms = rms(SPINE_3D_POINTS[:,0], computed_points_3d[:,0])\n",
    "    y_rms = rms(SPINE_3D_POINTS[:,1], computed_points_3d[:,1])\n",
    "    z_rms = rms(SPINE_3D_POINTS[:,2], computed_points_3d[:,2])\n",
    "\n",
    "    three_d = rms(SPINE_3D_POINTS, computed_points_3d)\n",
    "    rms_measurements['x'].append(x_rms)\n",
    "    rms_measurements['y'].append(y_rms)\n",
    "    rms_measurements['z'].append(z_rms)\n",
    "    rms_measurements['3d'].append(three_d)\n",
    "    rms_measurements['std'].append(std)"
   ],
   "outputs": [],
   "execution_count": 116
  },
  {
   "metadata": {
    "ExecuteTime": {
     "end_time": "2025-10-02T17:52:26.567489Z",
     "start_time": "2025-10-02T17:52:26.544489Z"
    }
   },
   "cell_type": "code",
   "source": [
    "fig = go.Figure()\n",
    "fig.update_layout(title = 'RMS Error with varying 2D noise',\n",
    "                  yaxis_title = 'RMS Error',\n",
    "                  xaxis_title = 'STD of Gaussian Noise')\n",
    "\n",
    "fig.add_trace(go.Scatter(\n",
    "    x = rms_measurements['std'],\n",
    "    y = rms_measurements['x'],\n",
    "    name = 'X Axis'\n",
    "))\n",
    "fig.add_trace(go.Scatter(\n",
    "    x = rms_measurements['std'],\n",
    "    y = rms_measurements['y'],\n",
    "    name = 'Y axis'\n",
    "))\n",
    "fig.add_trace(go.Scatter(\n",
    "    x = rms_measurements['std'],\n",
    "    y = rms_measurements['z'],\n",
    "    name = 'Z axis'\n",
    "))\n",
    "fig.add_trace(go.Scatter(\n",
    "    x = rms_measurements['std'],\n",
    "    y = rms_measurements['3d'],\n",
    "    name = '3D Model'\n",
    "))\n",
    "fig.show()"
   ],
   "outputs": [
    {
     "data": {
      "application/vnd.plotly.v1+json": {
       "data": [
        {
         "name": "X Axis",
         "x": [
          0.0,
          0.1,
          0.2,
          0.3,
          0.4,
          0.5,
          0.6,
          0.7,
          0.8,
          0.9,
          1.0
         ],
         "y": [
          0.0,
          0.013368865793941817,
          0.004325954952026397,
          0.01421379314886415,
          0.034199890876128874,
          0.037223897062733304,
          0.030490538342532264,
          0.02980049937338469,
          0.05180548907571168,
          0.05658680162053668,
          0.1095288527591481
         ],
         "type": "scatter"
        },
        {
         "name": "Y axis",
         "x": [
          0.0,
          0.1,
          0.2,
          0.3,
          0.4,
          0.5,
          0.6,
          0.7,
          0.8,
          0.9,
          1.0
         ],
         "y": [
          0.0,
          0.005954091998643013,
          0.006006787832048786,
          0.036489908452486064,
          0.0185627127693319,
          0.045303881485215386,
          0.013798901608928646,
          0.024929877652959374,
          0.15067191321614218,
          0.1014201459742477,
          0.06859289508606971
         ],
         "type": "scatter"
        },
        {
         "name": "Z axis",
         "x": [
          0.0,
          0.1,
          0.2,
          0.3,
          0.4,
          0.5,
          0.6,
          0.7,
          0.8,
          0.9,
          1.0
         ],
         "y": [
          0.0,
          0.001189159809084132,
          0.009763605713107196,
          0.006578960677958687,
          0.03822221535441933,
          0.013252363585955877,
          0.042662732706361055,
          0.023177436898193182,
          0.0731584895990186,
          0.03137465350155888,
          0.032393920223362356
         ],
         "type": "scatter"
        },
        {
         "name": "3D Model",
         "x": [
          0.0,
          0.1,
          0.2,
          0.3,
          0.4,
          0.5,
          0.6,
          0.7,
          0.8,
          0.9,
          1.0
         ],
         "y": [
          0.0,
          0.014683047403688516,
          0.012252484388752228,
          0.03970929573436174,
          0.05454487996587103,
          0.06011393578858479,
          0.05422353140236724,
          0.0452411586505472,
          0.17532254875337455,
          0.12030161572078082,
          0.13323257872578456
         ],
         "type": "scatter"
        }
       ],
       "layout": {
        "template": {
         "data": {
          "histogram2dcontour": [
           {
            "type": "histogram2dcontour",
            "colorbar": {
             "outlinewidth": 0,
             "ticks": ""
            },
            "colorscale": [
             [
              0.0,
              "#0d0887"
             ],
             [
              0.1111111111111111,
              "#46039f"
             ],
             [
              0.2222222222222222,
              "#7201a8"
             ],
             [
              0.3333333333333333,
              "#9c179e"
             ],
             [
              0.4444444444444444,
              "#bd3786"
             ],
             [
              0.5555555555555556,
              "#d8576b"
             ],
             [
              0.6666666666666666,
              "#ed7953"
             ],
             [
              0.7777777777777778,
              "#fb9f3a"
             ],
             [
              0.8888888888888888,
              "#fdca26"
             ],
             [
              1.0,
              "#f0f921"
             ]
            ]
           }
          ],
          "choropleth": [
           {
            "type": "choropleth",
            "colorbar": {
             "outlinewidth": 0,
             "ticks": ""
            }
           }
          ],
          "histogram2d": [
           {
            "type": "histogram2d",
            "colorbar": {
             "outlinewidth": 0,
             "ticks": ""
            },
            "colorscale": [
             [
              0.0,
              "#0d0887"
             ],
             [
              0.1111111111111111,
              "#46039f"
             ],
             [
              0.2222222222222222,
              "#7201a8"
             ],
             [
              0.3333333333333333,
              "#9c179e"
             ],
             [
              0.4444444444444444,
              "#bd3786"
             ],
             [
              0.5555555555555556,
              "#d8576b"
             ],
             [
              0.6666666666666666,
              "#ed7953"
             ],
             [
              0.7777777777777778,
              "#fb9f3a"
             ],
             [
              0.8888888888888888,
              "#fdca26"
             ],
             [
              1.0,
              "#f0f921"
             ]
            ]
           }
          ],
          "heatmap": [
           {
            "type": "heatmap",
            "colorbar": {
             "outlinewidth": 0,
             "ticks": ""
            },
            "colorscale": [
             [
              0.0,
              "#0d0887"
             ],
             [
              0.1111111111111111,
              "#46039f"
             ],
             [
              0.2222222222222222,
              "#7201a8"
             ],
             [
              0.3333333333333333,
              "#9c179e"
             ],
             [
              0.4444444444444444,
              "#bd3786"
             ],
             [
              0.5555555555555556,
              "#d8576b"
             ],
             [
              0.6666666666666666,
              "#ed7953"
             ],
             [
              0.7777777777777778,
              "#fb9f3a"
             ],
             [
              0.8888888888888888,
              "#fdca26"
             ],
             [
              1.0,
              "#f0f921"
             ]
            ]
           }
          ],
          "contourcarpet": [
           {
            "type": "contourcarpet",
            "colorbar": {
             "outlinewidth": 0,
             "ticks": ""
            }
           }
          ],
          "contour": [
           {
            "type": "contour",
            "colorbar": {
             "outlinewidth": 0,
             "ticks": ""
            },
            "colorscale": [
             [
              0.0,
              "#0d0887"
             ],
             [
              0.1111111111111111,
              "#46039f"
             ],
             [
              0.2222222222222222,
              "#7201a8"
             ],
             [
              0.3333333333333333,
              "#9c179e"
             ],
             [
              0.4444444444444444,
              "#bd3786"
             ],
             [
              0.5555555555555556,
              "#d8576b"
             ],
             [
              0.6666666666666666,
              "#ed7953"
             ],
             [
              0.7777777777777778,
              "#fb9f3a"
             ],
             [
              0.8888888888888888,
              "#fdca26"
             ],
             [
              1.0,
              "#f0f921"
             ]
            ]
           }
          ],
          "surface": [
           {
            "type": "surface",
            "colorbar": {
             "outlinewidth": 0,
             "ticks": ""
            },
            "colorscale": [
             [
              0.0,
              "#0d0887"
             ],
             [
              0.1111111111111111,
              "#46039f"
             ],
             [
              0.2222222222222222,
              "#7201a8"
             ],
             [
              0.3333333333333333,
              "#9c179e"
             ],
             [
              0.4444444444444444,
              "#bd3786"
             ],
             [
              0.5555555555555556,
              "#d8576b"
             ],
             [
              0.6666666666666666,
              "#ed7953"
             ],
             [
              0.7777777777777778,
              "#fb9f3a"
             ],
             [
              0.8888888888888888,
              "#fdca26"
             ],
             [
              1.0,
              "#f0f921"
             ]
            ]
           }
          ],
          "mesh3d": [
           {
            "type": "mesh3d",
            "colorbar": {
             "outlinewidth": 0,
             "ticks": ""
            }
           }
          ],
          "scatter": [
           {
            "fillpattern": {
             "fillmode": "overlay",
             "size": 10,
             "solidity": 0.2
            },
            "type": "scatter"
           }
          ],
          "parcoords": [
           {
            "type": "parcoords",
            "line": {
             "colorbar": {
              "outlinewidth": 0,
              "ticks": ""
             }
            }
           }
          ],
          "scatterpolargl": [
           {
            "type": "scatterpolargl",
            "marker": {
             "colorbar": {
              "outlinewidth": 0,
              "ticks": ""
             }
            }
           }
          ],
          "bar": [
           {
            "error_x": {
             "color": "#2a3f5f"
            },
            "error_y": {
             "color": "#2a3f5f"
            },
            "marker": {
             "line": {
              "color": "#E5ECF6",
              "width": 0.5
             },
             "pattern": {
              "fillmode": "overlay",
              "size": 10,
              "solidity": 0.2
             }
            },
            "type": "bar"
           }
          ],
          "scattergeo": [
           {
            "type": "scattergeo",
            "marker": {
             "colorbar": {
              "outlinewidth": 0,
              "ticks": ""
             }
            }
           }
          ],
          "scatterpolar": [
           {
            "type": "scatterpolar",
            "marker": {
             "colorbar": {
              "outlinewidth": 0,
              "ticks": ""
             }
            }
           }
          ],
          "histogram": [
           {
            "marker": {
             "pattern": {
              "fillmode": "overlay",
              "size": 10,
              "solidity": 0.2
             }
            },
            "type": "histogram"
           }
          ],
          "scattergl": [
           {
            "type": "scattergl",
            "marker": {
             "colorbar": {
              "outlinewidth": 0,
              "ticks": ""
             }
            }
           }
          ],
          "scatter3d": [
           {
            "type": "scatter3d",
            "line": {
             "colorbar": {
              "outlinewidth": 0,
              "ticks": ""
             }
            },
            "marker": {
             "colorbar": {
              "outlinewidth": 0,
              "ticks": ""
             }
            }
           }
          ],
          "scattermap": [
           {
            "type": "scattermap",
            "marker": {
             "colorbar": {
              "outlinewidth": 0,
              "ticks": ""
             }
            }
           }
          ],
          "scattermapbox": [
           {
            "type": "scattermapbox",
            "marker": {
             "colorbar": {
              "outlinewidth": 0,
              "ticks": ""
             }
            }
           }
          ],
          "scatterternary": [
           {
            "type": "scatterternary",
            "marker": {
             "colorbar": {
              "outlinewidth": 0,
              "ticks": ""
             }
            }
           }
          ],
          "scattercarpet": [
           {
            "type": "scattercarpet",
            "marker": {
             "colorbar": {
              "outlinewidth": 0,
              "ticks": ""
             }
            }
           }
          ],
          "carpet": [
           {
            "aaxis": {
             "endlinecolor": "#2a3f5f",
             "gridcolor": "white",
             "linecolor": "white",
             "minorgridcolor": "white",
             "startlinecolor": "#2a3f5f"
            },
            "baxis": {
             "endlinecolor": "#2a3f5f",
             "gridcolor": "white",
             "linecolor": "white",
             "minorgridcolor": "white",
             "startlinecolor": "#2a3f5f"
            },
            "type": "carpet"
           }
          ],
          "table": [
           {
            "cells": {
             "fill": {
              "color": "#EBF0F8"
             },
             "line": {
              "color": "white"
             }
            },
            "header": {
             "fill": {
              "color": "#C8D4E3"
             },
             "line": {
              "color": "white"
             }
            },
            "type": "table"
           }
          ],
          "barpolar": [
           {
            "marker": {
             "line": {
              "color": "#E5ECF6",
              "width": 0.5
             },
             "pattern": {
              "fillmode": "overlay",
              "size": 10,
              "solidity": 0.2
             }
            },
            "type": "barpolar"
           }
          ],
          "pie": [
           {
            "automargin": true,
            "type": "pie"
           }
          ]
         },
         "layout": {
          "autotypenumbers": "strict",
          "colorway": [
           "#636efa",
           "#EF553B",
           "#00cc96",
           "#ab63fa",
           "#FFA15A",
           "#19d3f3",
           "#FF6692",
           "#B6E880",
           "#FF97FF",
           "#FECB52"
          ],
          "font": {
           "color": "#2a3f5f"
          },
          "hovermode": "closest",
          "hoverlabel": {
           "align": "left"
          },
          "paper_bgcolor": "white",
          "plot_bgcolor": "#E5ECF6",
          "polar": {
           "bgcolor": "#E5ECF6",
           "angularaxis": {
            "gridcolor": "white",
            "linecolor": "white",
            "ticks": ""
           },
           "radialaxis": {
            "gridcolor": "white",
            "linecolor": "white",
            "ticks": ""
           }
          },
          "ternary": {
           "bgcolor": "#E5ECF6",
           "aaxis": {
            "gridcolor": "white",
            "linecolor": "white",
            "ticks": ""
           },
           "baxis": {
            "gridcolor": "white",
            "linecolor": "white",
            "ticks": ""
           },
           "caxis": {
            "gridcolor": "white",
            "linecolor": "white",
            "ticks": ""
           }
          },
          "coloraxis": {
           "colorbar": {
            "outlinewidth": 0,
            "ticks": ""
           }
          },
          "colorscale": {
           "sequential": [
            [
             0.0,
             "#0d0887"
            ],
            [
             0.1111111111111111,
             "#46039f"
            ],
            [
             0.2222222222222222,
             "#7201a8"
            ],
            [
             0.3333333333333333,
             "#9c179e"
            ],
            [
             0.4444444444444444,
             "#bd3786"
            ],
            [
             0.5555555555555556,
             "#d8576b"
            ],
            [
             0.6666666666666666,
             "#ed7953"
            ],
            [
             0.7777777777777778,
             "#fb9f3a"
            ],
            [
             0.8888888888888888,
             "#fdca26"
            ],
            [
             1.0,
             "#f0f921"
            ]
           ],
           "sequentialminus": [
            [
             0.0,
             "#0d0887"
            ],
            [
             0.1111111111111111,
             "#46039f"
            ],
            [
             0.2222222222222222,
             "#7201a8"
            ],
            [
             0.3333333333333333,
             "#9c179e"
            ],
            [
             0.4444444444444444,
             "#bd3786"
            ],
            [
             0.5555555555555556,
             "#d8576b"
            ],
            [
             0.6666666666666666,
             "#ed7953"
            ],
            [
             0.7777777777777778,
             "#fb9f3a"
            ],
            [
             0.8888888888888888,
             "#fdca26"
            ],
            [
             1.0,
             "#f0f921"
            ]
           ],
           "diverging": [
            [
             0,
             "#8e0152"
            ],
            [
             0.1,
             "#c51b7d"
            ],
            [
             0.2,
             "#de77ae"
            ],
            [
             0.3,
             "#f1b6da"
            ],
            [
             0.4,
             "#fde0ef"
            ],
            [
             0.5,
             "#f7f7f7"
            ],
            [
             0.6,
             "#e6f5d0"
            ],
            [
             0.7,
             "#b8e186"
            ],
            [
             0.8,
             "#7fbc41"
            ],
            [
             0.9,
             "#4d9221"
            ],
            [
             1,
             "#276419"
            ]
           ]
          },
          "xaxis": {
           "gridcolor": "white",
           "linecolor": "white",
           "ticks": "",
           "title": {
            "standoff": 15
           },
           "zerolinecolor": "white",
           "automargin": true,
           "zerolinewidth": 2
          },
          "yaxis": {
           "gridcolor": "white",
           "linecolor": "white",
           "ticks": "",
           "title": {
            "standoff": 15
           },
           "zerolinecolor": "white",
           "automargin": true,
           "zerolinewidth": 2
          },
          "scene": {
           "xaxis": {
            "backgroundcolor": "#E5ECF6",
            "gridcolor": "white",
            "linecolor": "white",
            "showbackground": true,
            "ticks": "",
            "zerolinecolor": "white",
            "gridwidth": 2
           },
           "yaxis": {
            "backgroundcolor": "#E5ECF6",
            "gridcolor": "white",
            "linecolor": "white",
            "showbackground": true,
            "ticks": "",
            "zerolinecolor": "white",
            "gridwidth": 2
           },
           "zaxis": {
            "backgroundcolor": "#E5ECF6",
            "gridcolor": "white",
            "linecolor": "white",
            "showbackground": true,
            "ticks": "",
            "zerolinecolor": "white",
            "gridwidth": 2
           }
          },
          "shapedefaults": {
           "line": {
            "color": "#2a3f5f"
           }
          },
          "annotationdefaults": {
           "arrowcolor": "#2a3f5f",
           "arrowhead": 0,
           "arrowwidth": 1
          },
          "geo": {
           "bgcolor": "white",
           "landcolor": "#E5ECF6",
           "subunitcolor": "white",
           "showland": true,
           "showlakes": true,
           "lakecolor": "white"
          },
          "title": {
           "x": 0.05
          },
          "mapbox": {
           "style": "light"
          }
         }
        },
        "title": {
         "text": "RMS Error with varying 2D noise"
        },
        "yaxis": {
         "title": {
          "text": "RMS Error"
         }
        },
        "xaxis": {
         "title": {
          "text": "STD of Gaussian Noise"
         }
        }
       },
       "config": {
        "plotlyServerURL": "https://plot.ly"
       }
      }
     },
     "metadata": {},
     "output_type": "display_data",
     "jetTransient": {
      "display_id": null
     }
    }
   ],
   "execution_count": 117
  },
  {
   "cell_type": "markdown",
   "metadata": {},
   "source": [
    "# Question 3.2"
   ]
  },
  {
   "cell_type": "code",
   "metadata": {
    "ExecuteTime": {
     "end_time": "2025-10-02T17:52:26.741119Z",
     "start_time": "2025-10-02T17:52:26.579489Z"
    }
   },
   "source": [
    "beads_subset = sample_n_beads(beads_data, 8)\n",
    "# Let's increase the number of calibration beads gradually\n",
    "spine = lab_1.structures.Spine(os.path.join(root_directory,'Vertebrae2D.mat')) # Initialize the vertebrae structure\n",
    "\n",
    "# Create a dictionnary to store the results. Access a dictionnary key with brackets, for instance rms_measurements['x']\n",
    "rms_measurements = {\n",
    "        'x' : [],\n",
    "        'y' : [],\n",
    "        'z' : [],\n",
    "        '3d' : [],\n",
    "        'std':[]\n",
    "    }\n",
    "\n",
    "\"\"\"\n",
    "PSEUDOCODE\n",
    "for n_beads in [1...N], do:\n",
    "    computed_points_3d <- list\n",
    "    beads_subset <- sample_n_beads(beads_data, n_beads)\n",
    "    A_view_0 <- get_a(view_0, beads_subset)\n",
    "    l_view_0 <- dlt(A_view_0)\n",
    "    A_view_1 <- get_a(view_1, beads_subset)\n",
    "    l_view_1 <- dlt(A_view_1)\n",
    "    for each vertebra in vertebrae:\n",
    "        for each anatomical_landmark in vertebra_points:\n",
    "        x_point, y_point, z_point <- calculate_3d_point(anatomical_landmark, l_view0, l_view1)\n",
    "        Append (x_point, y_point, z_point) to computed_points_3d\n",
    "    for each axis in ['x', ..., '3d']:\n",
    "        Append rms(SPINE_3D_POINTS, computed_points_3d) to rms_measurements[axis]\n",
    "    Append n_beads to rms_measurements['n_beads']\n",
    "\"\"\"\n",
    "\n",
    "for i in range(0, 110, 10):\n",
    "    std = i / 100\n",
    "    computed_points_3d = []\n",
    "    noised_data = add_noise_2d(beads_subset, std)\n",
    "    #noised_data = add_noise_3d(noised_data, std)\n",
    "\n",
    "    A_view_0 = get_a('Beads2D_'+view_0, noised_data)\n",
    "    l_view_0 = lab_1.solver.dlt(A_view_0)\n",
    "    A_view_1 = get_a('Beads2D_'+view_1, noised_data)\n",
    "    l_view_1 = lab_1.solver.dlt(A_view_1)\n",
    "\n",
    "    for i, v_name in enumerate(spine.vertebrae):\n",
    "\n",
    "        vert = spine.get(v_name).data # Returns the vertebra data\n",
    "\n",
    "        for datum in vert.iterrows():\n",
    "            data = datum[1]\n",
    "            u0 = data[\"x_Vertebrae_LAT\"]\n",
    "            v0 = data[\"y_Vertebrae_LAT\"]\n",
    "            u1 = data[\"x_Vertebrae_PA0\"]\n",
    "            v1 = data[\"y_Vertebrae_PA0\"]\n",
    "            point = calculate_3d_point(u0, v0, u1, v1, l_view_0, l_view_1)\n",
    "            computed_points_3d.append(point)\n",
    "    computed_points_3d = np.array(computed_points_3d)\n",
    "    x_rms = rms(SPINE_3D_POINTS[:,0], computed_points_3d[:,0])\n",
    "    y_rms = rms(SPINE_3D_POINTS[:,1], computed_points_3d[:,1])\n",
    "    z_rms = rms(SPINE_3D_POINTS[:,2], computed_points_3d[:,2])\n",
    "\n",
    "    three_d = rms(SPINE_3D_POINTS, computed_points_3d)\n",
    "    rms_measurements['x'].append(x_rms)\n",
    "    rms_measurements['y'].append(y_rms)\n",
    "    rms_measurements['z'].append(z_rms)\n",
    "    rms_measurements['3d'].append(three_d)\n",
    "    rms_measurements['std'].append(std)\n"
   ],
   "outputs": [],
   "execution_count": 118
  },
  {
   "metadata": {
    "ExecuteTime": {
     "end_time": "2025-10-02T17:52:26.778790Z",
     "start_time": "2025-10-02T17:52:26.749237Z"
    }
   },
   "cell_type": "code",
   "source": [
    "fig = go.Figure()\n",
    "fig.update_layout(title = 'RMS Error with varying noise on 8 beads subset',\n",
    "                  yaxis_title = 'RMS Error',\n",
    "                  xaxis_title = 'STD of Gaussian Noise')\n",
    "\n",
    "fig.add_trace(go.Scatter(\n",
    "    x = rms_measurements['std'],\n",
    "    y = rms_measurements['x'],\n",
    "    name = 'X Axis'\n",
    "))\n",
    "fig.add_trace(go.Scatter(\n",
    "    x = rms_measurements['std'],\n",
    "    y = rms_measurements['y'],\n",
    "    name = 'Y axis'\n",
    "))\n",
    "fig.add_trace(go.Scatter(\n",
    "    x = rms_measurements['std'],\n",
    "    y = rms_measurements['z'],\n",
    "    name = 'Z axis'\n",
    "))\n",
    "fig.add_trace(go.Scatter(\n",
    "    x = rms_measurements['std'],\n",
    "    y = rms_measurements['3d'],\n",
    "    name = '3D Model'\n",
    "))\n",
    "fig.show()"
   ],
   "outputs": [
    {
     "data": {
      "application/vnd.plotly.v1+json": {
       "data": [
        {
         "name": "X Axis",
         "x": [
          0.0,
          0.1,
          0.2,
          0.3,
          0.4,
          0.5,
          0.6,
          0.7,
          0.8,
          0.9,
          1.0
         ],
         "y": [
          0.05665843959449742,
          0.07200331555422207,
          0.07140737056650834,
          0.0400944986873818,
          0.032519195623192707,
          0.14336772343496568,
          0.11226110108504066,
          0.286974523778321,
          0.1620403226536521,
          0.15116005900773968,
          0.39958657048344254
         ],
         "type": "scatter"
        },
        {
         "name": "Y axis",
         "x": [
          0.0,
          0.1,
          0.2,
          0.3,
          0.4,
          0.5,
          0.6,
          0.7,
          0.8,
          0.9,
          1.0
         ],
         "y": [
          0.02211724704862795,
          0.05377009324972925,
          0.031960643107156406,
          0.04289092361322811,
          0.095043969967204,
          0.09380762660316735,
          0.26803660093374587,
          0.03426861667620149,
          0.061837223384491914,
          0.33095977974342783,
          0.18904146464717378
         ],
         "type": "scatter"
        },
        {
         "name": "Z axis",
         "x": [
          0.0,
          0.1,
          0.2,
          0.3,
          0.4,
          0.5,
          0.6,
          0.7,
          0.8,
          0.9,
          1.0
         ],
         "y": [
          0.05592099244435168,
          0.06307985786761697,
          0.09698431686371523,
          0.12947345772265995,
          0.06595709809105853,
          0.09682301206684332,
          0.034328935182268754,
          0.24928956908139194,
          0.22394825451285655,
          0.15301020373147664,
          0.11933745333092419
         ],
         "type": "scatter"
        },
        {
         "name": "3D Model",
         "x": [
          0.0,
          0.1,
          0.2,
          0.3,
          0.4,
          0.5,
          0.6,
          0.7,
          0.8,
          0.9,
          1.0
         ],
         "y": [
          0.08262268976074007,
          0.10979421401805961,
          0.1246051911196775,
          0.142163917116285,
          0.12017151625420432,
          0.19679652079632953,
          0.2926168804524605,
          0.38167261569931854,
          0.28325559634240877,
          0.3947098360576772,
          0.45787285641303344
         ],
         "type": "scatter"
        }
       ],
       "layout": {
        "template": {
         "data": {
          "histogram2dcontour": [
           {
            "type": "histogram2dcontour",
            "colorbar": {
             "outlinewidth": 0,
             "ticks": ""
            },
            "colorscale": [
             [
              0.0,
              "#0d0887"
             ],
             [
              0.1111111111111111,
              "#46039f"
             ],
             [
              0.2222222222222222,
              "#7201a8"
             ],
             [
              0.3333333333333333,
              "#9c179e"
             ],
             [
              0.4444444444444444,
              "#bd3786"
             ],
             [
              0.5555555555555556,
              "#d8576b"
             ],
             [
              0.6666666666666666,
              "#ed7953"
             ],
             [
              0.7777777777777778,
              "#fb9f3a"
             ],
             [
              0.8888888888888888,
              "#fdca26"
             ],
             [
              1.0,
              "#f0f921"
             ]
            ]
           }
          ],
          "choropleth": [
           {
            "type": "choropleth",
            "colorbar": {
             "outlinewidth": 0,
             "ticks": ""
            }
           }
          ],
          "histogram2d": [
           {
            "type": "histogram2d",
            "colorbar": {
             "outlinewidth": 0,
             "ticks": ""
            },
            "colorscale": [
             [
              0.0,
              "#0d0887"
             ],
             [
              0.1111111111111111,
              "#46039f"
             ],
             [
              0.2222222222222222,
              "#7201a8"
             ],
             [
              0.3333333333333333,
              "#9c179e"
             ],
             [
              0.4444444444444444,
              "#bd3786"
             ],
             [
              0.5555555555555556,
              "#d8576b"
             ],
             [
              0.6666666666666666,
              "#ed7953"
             ],
             [
              0.7777777777777778,
              "#fb9f3a"
             ],
             [
              0.8888888888888888,
              "#fdca26"
             ],
             [
              1.0,
              "#f0f921"
             ]
            ]
           }
          ],
          "heatmap": [
           {
            "type": "heatmap",
            "colorbar": {
             "outlinewidth": 0,
             "ticks": ""
            },
            "colorscale": [
             [
              0.0,
              "#0d0887"
             ],
             [
              0.1111111111111111,
              "#46039f"
             ],
             [
              0.2222222222222222,
              "#7201a8"
             ],
             [
              0.3333333333333333,
              "#9c179e"
             ],
             [
              0.4444444444444444,
              "#bd3786"
             ],
             [
              0.5555555555555556,
              "#d8576b"
             ],
             [
              0.6666666666666666,
              "#ed7953"
             ],
             [
              0.7777777777777778,
              "#fb9f3a"
             ],
             [
              0.8888888888888888,
              "#fdca26"
             ],
             [
              1.0,
              "#f0f921"
             ]
            ]
           }
          ],
          "contourcarpet": [
           {
            "type": "contourcarpet",
            "colorbar": {
             "outlinewidth": 0,
             "ticks": ""
            }
           }
          ],
          "contour": [
           {
            "type": "contour",
            "colorbar": {
             "outlinewidth": 0,
             "ticks": ""
            },
            "colorscale": [
             [
              0.0,
              "#0d0887"
             ],
             [
              0.1111111111111111,
              "#46039f"
             ],
             [
              0.2222222222222222,
              "#7201a8"
             ],
             [
              0.3333333333333333,
              "#9c179e"
             ],
             [
              0.4444444444444444,
              "#bd3786"
             ],
             [
              0.5555555555555556,
              "#d8576b"
             ],
             [
              0.6666666666666666,
              "#ed7953"
             ],
             [
              0.7777777777777778,
              "#fb9f3a"
             ],
             [
              0.8888888888888888,
              "#fdca26"
             ],
             [
              1.0,
              "#f0f921"
             ]
            ]
           }
          ],
          "surface": [
           {
            "type": "surface",
            "colorbar": {
             "outlinewidth": 0,
             "ticks": ""
            },
            "colorscale": [
             [
              0.0,
              "#0d0887"
             ],
             [
              0.1111111111111111,
              "#46039f"
             ],
             [
              0.2222222222222222,
              "#7201a8"
             ],
             [
              0.3333333333333333,
              "#9c179e"
             ],
             [
              0.4444444444444444,
              "#bd3786"
             ],
             [
              0.5555555555555556,
              "#d8576b"
             ],
             [
              0.6666666666666666,
              "#ed7953"
             ],
             [
              0.7777777777777778,
              "#fb9f3a"
             ],
             [
              0.8888888888888888,
              "#fdca26"
             ],
             [
              1.0,
              "#f0f921"
             ]
            ]
           }
          ],
          "mesh3d": [
           {
            "type": "mesh3d",
            "colorbar": {
             "outlinewidth": 0,
             "ticks": ""
            }
           }
          ],
          "scatter": [
           {
            "fillpattern": {
             "fillmode": "overlay",
             "size": 10,
             "solidity": 0.2
            },
            "type": "scatter"
           }
          ],
          "parcoords": [
           {
            "type": "parcoords",
            "line": {
             "colorbar": {
              "outlinewidth": 0,
              "ticks": ""
             }
            }
           }
          ],
          "scatterpolargl": [
           {
            "type": "scatterpolargl",
            "marker": {
             "colorbar": {
              "outlinewidth": 0,
              "ticks": ""
             }
            }
           }
          ],
          "bar": [
           {
            "error_x": {
             "color": "#2a3f5f"
            },
            "error_y": {
             "color": "#2a3f5f"
            },
            "marker": {
             "line": {
              "color": "#E5ECF6",
              "width": 0.5
             },
             "pattern": {
              "fillmode": "overlay",
              "size": 10,
              "solidity": 0.2
             }
            },
            "type": "bar"
           }
          ],
          "scattergeo": [
           {
            "type": "scattergeo",
            "marker": {
             "colorbar": {
              "outlinewidth": 0,
              "ticks": ""
             }
            }
           }
          ],
          "scatterpolar": [
           {
            "type": "scatterpolar",
            "marker": {
             "colorbar": {
              "outlinewidth": 0,
              "ticks": ""
             }
            }
           }
          ],
          "histogram": [
           {
            "marker": {
             "pattern": {
              "fillmode": "overlay",
              "size": 10,
              "solidity": 0.2
             }
            },
            "type": "histogram"
           }
          ],
          "scattergl": [
           {
            "type": "scattergl",
            "marker": {
             "colorbar": {
              "outlinewidth": 0,
              "ticks": ""
             }
            }
           }
          ],
          "scatter3d": [
           {
            "type": "scatter3d",
            "line": {
             "colorbar": {
              "outlinewidth": 0,
              "ticks": ""
             }
            },
            "marker": {
             "colorbar": {
              "outlinewidth": 0,
              "ticks": ""
             }
            }
           }
          ],
          "scattermap": [
           {
            "type": "scattermap",
            "marker": {
             "colorbar": {
              "outlinewidth": 0,
              "ticks": ""
             }
            }
           }
          ],
          "scattermapbox": [
           {
            "type": "scattermapbox",
            "marker": {
             "colorbar": {
              "outlinewidth": 0,
              "ticks": ""
             }
            }
           }
          ],
          "scatterternary": [
           {
            "type": "scatterternary",
            "marker": {
             "colorbar": {
              "outlinewidth": 0,
              "ticks": ""
             }
            }
           }
          ],
          "scattercarpet": [
           {
            "type": "scattercarpet",
            "marker": {
             "colorbar": {
              "outlinewidth": 0,
              "ticks": ""
             }
            }
           }
          ],
          "carpet": [
           {
            "aaxis": {
             "endlinecolor": "#2a3f5f",
             "gridcolor": "white",
             "linecolor": "white",
             "minorgridcolor": "white",
             "startlinecolor": "#2a3f5f"
            },
            "baxis": {
             "endlinecolor": "#2a3f5f",
             "gridcolor": "white",
             "linecolor": "white",
             "minorgridcolor": "white",
             "startlinecolor": "#2a3f5f"
            },
            "type": "carpet"
           }
          ],
          "table": [
           {
            "cells": {
             "fill": {
              "color": "#EBF0F8"
             },
             "line": {
              "color": "white"
             }
            },
            "header": {
             "fill": {
              "color": "#C8D4E3"
             },
             "line": {
              "color": "white"
             }
            },
            "type": "table"
           }
          ],
          "barpolar": [
           {
            "marker": {
             "line": {
              "color": "#E5ECF6",
              "width": 0.5
             },
             "pattern": {
              "fillmode": "overlay",
              "size": 10,
              "solidity": 0.2
             }
            },
            "type": "barpolar"
           }
          ],
          "pie": [
           {
            "automargin": true,
            "type": "pie"
           }
          ]
         },
         "layout": {
          "autotypenumbers": "strict",
          "colorway": [
           "#636efa",
           "#EF553B",
           "#00cc96",
           "#ab63fa",
           "#FFA15A",
           "#19d3f3",
           "#FF6692",
           "#B6E880",
           "#FF97FF",
           "#FECB52"
          ],
          "font": {
           "color": "#2a3f5f"
          },
          "hovermode": "closest",
          "hoverlabel": {
           "align": "left"
          },
          "paper_bgcolor": "white",
          "plot_bgcolor": "#E5ECF6",
          "polar": {
           "bgcolor": "#E5ECF6",
           "angularaxis": {
            "gridcolor": "white",
            "linecolor": "white",
            "ticks": ""
           },
           "radialaxis": {
            "gridcolor": "white",
            "linecolor": "white",
            "ticks": ""
           }
          },
          "ternary": {
           "bgcolor": "#E5ECF6",
           "aaxis": {
            "gridcolor": "white",
            "linecolor": "white",
            "ticks": ""
           },
           "baxis": {
            "gridcolor": "white",
            "linecolor": "white",
            "ticks": ""
           },
           "caxis": {
            "gridcolor": "white",
            "linecolor": "white",
            "ticks": ""
           }
          },
          "coloraxis": {
           "colorbar": {
            "outlinewidth": 0,
            "ticks": ""
           }
          },
          "colorscale": {
           "sequential": [
            [
             0.0,
             "#0d0887"
            ],
            [
             0.1111111111111111,
             "#46039f"
            ],
            [
             0.2222222222222222,
             "#7201a8"
            ],
            [
             0.3333333333333333,
             "#9c179e"
            ],
            [
             0.4444444444444444,
             "#bd3786"
            ],
            [
             0.5555555555555556,
             "#d8576b"
            ],
            [
             0.6666666666666666,
             "#ed7953"
            ],
            [
             0.7777777777777778,
             "#fb9f3a"
            ],
            [
             0.8888888888888888,
             "#fdca26"
            ],
            [
             1.0,
             "#f0f921"
            ]
           ],
           "sequentialminus": [
            [
             0.0,
             "#0d0887"
            ],
            [
             0.1111111111111111,
             "#46039f"
            ],
            [
             0.2222222222222222,
             "#7201a8"
            ],
            [
             0.3333333333333333,
             "#9c179e"
            ],
            [
             0.4444444444444444,
             "#bd3786"
            ],
            [
             0.5555555555555556,
             "#d8576b"
            ],
            [
             0.6666666666666666,
             "#ed7953"
            ],
            [
             0.7777777777777778,
             "#fb9f3a"
            ],
            [
             0.8888888888888888,
             "#fdca26"
            ],
            [
             1.0,
             "#f0f921"
            ]
           ],
           "diverging": [
            [
             0,
             "#8e0152"
            ],
            [
             0.1,
             "#c51b7d"
            ],
            [
             0.2,
             "#de77ae"
            ],
            [
             0.3,
             "#f1b6da"
            ],
            [
             0.4,
             "#fde0ef"
            ],
            [
             0.5,
             "#f7f7f7"
            ],
            [
             0.6,
             "#e6f5d0"
            ],
            [
             0.7,
             "#b8e186"
            ],
            [
             0.8,
             "#7fbc41"
            ],
            [
             0.9,
             "#4d9221"
            ],
            [
             1,
             "#276419"
            ]
           ]
          },
          "xaxis": {
           "gridcolor": "white",
           "linecolor": "white",
           "ticks": "",
           "title": {
            "standoff": 15
           },
           "zerolinecolor": "white",
           "automargin": true,
           "zerolinewidth": 2
          },
          "yaxis": {
           "gridcolor": "white",
           "linecolor": "white",
           "ticks": "",
           "title": {
            "standoff": 15
           },
           "zerolinecolor": "white",
           "automargin": true,
           "zerolinewidth": 2
          },
          "scene": {
           "xaxis": {
            "backgroundcolor": "#E5ECF6",
            "gridcolor": "white",
            "linecolor": "white",
            "showbackground": true,
            "ticks": "",
            "zerolinecolor": "white",
            "gridwidth": 2
           },
           "yaxis": {
            "backgroundcolor": "#E5ECF6",
            "gridcolor": "white",
            "linecolor": "white",
            "showbackground": true,
            "ticks": "",
            "zerolinecolor": "white",
            "gridwidth": 2
           },
           "zaxis": {
            "backgroundcolor": "#E5ECF6",
            "gridcolor": "white",
            "linecolor": "white",
            "showbackground": true,
            "ticks": "",
            "zerolinecolor": "white",
            "gridwidth": 2
           }
          },
          "shapedefaults": {
           "line": {
            "color": "#2a3f5f"
           }
          },
          "annotationdefaults": {
           "arrowcolor": "#2a3f5f",
           "arrowhead": 0,
           "arrowwidth": 1
          },
          "geo": {
           "bgcolor": "white",
           "landcolor": "#E5ECF6",
           "subunitcolor": "white",
           "showland": true,
           "showlakes": true,
           "lakecolor": "white"
          },
          "title": {
           "x": 0.05
          },
          "mapbox": {
           "style": "light"
          }
         }
        },
        "title": {
         "text": "RMS Error with varying noise on 8 beads subset"
        },
        "yaxis": {
         "title": {
          "text": "RMS Error"
         }
        },
        "xaxis": {
         "title": {
          "text": "STD of Gaussian Noise"
         }
        }
       },
       "config": {
        "plotlyServerURL": "https://plot.ly"
       }
      }
     },
     "metadata": {},
     "output_type": "display_data",
     "jetTransient": {
      "display_id": null
     }
    }
   ],
   "execution_count": 119
  },
  {
   "cell_type": "markdown",
   "metadata": {},
   "source": [
    "# Question 4.1"
   ]
  },
  {
   "cell_type": "code",
   "metadata": {
    "ExecuteTime": {
     "end_time": "2025-10-02T17:52:26.970085Z",
     "start_time": "2025-10-02T17:52:26.791166Z"
    }
   },
   "source": [
    "# Let's increase the number of calibration beads gradually\n",
    "spine = lab_1.structures.Spine(os.path.join(root_directory, 'Vertebrae2D.mat'))  # Initialize the vertebrae structure\n",
    "\n",
    "# Create a dictionnary to store the results. Access a dictionnary key with brackets, for instance rms_measurements['x']\n",
    "rms_measurements = {\n",
    "    'x': [],\n",
    "    'y': [],\n",
    "    'z': [],\n",
    "    '3d': [],\n",
    "    'std': []\n",
    "}\n",
    "\n",
    "\"\"\"\n",
    "PSEUDOCODE\n",
    "for n_beads in [1...N], do:\n",
    "    computed_points_3d <- list\n",
    "    beads_subset <- sample_n_beads(beads_data, n_beads)\n",
    "    A_view_0 <- get_a(view_0, beads_subset)\n",
    "    l_view_0 <- dlt(A_view_0)\n",
    "    A_view_1 <- get_a(view_1, beads_subset)\n",
    "    l_view_1 <- dlt(A_view_1)\n",
    "    for each vertebra in vertebrae:\n",
    "        for each anatomical_landmark in vertebra_points:\n",
    "        x_point, y_point, z_point <- calculate_3d_point(anatomical_landmark, l_view0, l_view1)\n",
    "        Append (x_point, y_point, z_point) to computed_points_3d\n",
    "    for each axis in ['x', ..., '3d']:\n",
    "        Append rms(SPINE_3D_POINTS, computed_points_3d) to rms_measurements[axis]\n",
    "    Append n_beads to rms_measurements['n_beads']\n",
    "\"\"\"\n",
    "\n",
    "for i in range(0, 110, 10):\n",
    "    std = i / 100\n",
    "    computed_points_3d = []\n",
    "    #noised_data = add_noise_2d(beads_data, std)\n",
    "    noised_data = add_noise_3d(noised_data, std)\n",
    "\n",
    "    A_view_0 = get_a('Beads2D_' + view_0, noised_data)\n",
    "    l_view_0 = lab_1.solver.dlt(A_view_0)\n",
    "    A_view_1 = get_a('Beads2D_' + view_1, noised_data)\n",
    "    l_view_1 = lab_1.solver.dlt(A_view_1)\n",
    "\n",
    "    for i, v_name in enumerate(spine.vertebrae):\n",
    "\n",
    "        vert = spine.get(v_name).data  # Returns the vertebra data\n",
    "\n",
    "        for datum in vert.iterrows():\n",
    "            data = datum[1]\n",
    "            u0 = data[\"x_Vertebrae_LAT\"]\n",
    "            v0 = data[\"y_Vertebrae_LAT\"]\n",
    "            u1 = data[\"x_Vertebrae_PA0\"]\n",
    "            v1 = data[\"y_Vertebrae_PA0\"]\n",
    "            point = calculate_3d_point(u0, v0, u1, v1, l_view_0, l_view_1)\n",
    "            computed_points_3d.append(point)\n",
    "    computed_points_3d = np.array(computed_points_3d)\n",
    "    x_rms = rms(SPINE_3D_POINTS[:, 0], computed_points_3d[:, 0])\n",
    "    y_rms = rms(SPINE_3D_POINTS[:, 1], computed_points_3d[:, 1])\n",
    "    z_rms = rms(SPINE_3D_POINTS[:, 2], computed_points_3d[:, 2])\n",
    "\n",
    "    three_d = rms(SPINE_3D_POINTS, computed_points_3d)\n",
    "    rms_measurements['x'].append(x_rms)\n",
    "    rms_measurements['y'].append(y_rms)\n",
    "    rms_measurements['z'].append(z_rms)\n",
    "    rms_measurements['3d'].append(three_d)\n",
    "    rms_measurements['std'].append(std)\n",
    "fig = go.Figure()\n",
    "fig.update_layout(title='RMS Error with varying 3D noise',\n",
    "                  yaxis_title='RMS Error',\n",
    "                  xaxis_title='STD of Gaussian Noise')\n",
    "\n",
    "fig.add_trace(go.Scatter(\n",
    "    x=rms_measurements['std'],\n",
    "    y=rms_measurements['x'],\n",
    "    name='X Axis'\n",
    "))\n",
    "fig.add_trace(go.Scatter(\n",
    "    x=rms_measurements['std'],\n",
    "    y=rms_measurements['y'],\n",
    "    name='Y axis'\n",
    "))\n",
    "fig.add_trace(go.Scatter(\n",
    "    x=rms_measurements['std'],\n",
    "    y=rms_measurements['z'],\n",
    "    name='Z axis'\n",
    "))\n",
    "fig.add_trace(go.Scatter(\n",
    "    x=rms_measurements['std'],\n",
    "    y=rms_measurements['3d'],\n",
    "    name='3D Model'\n",
    "))\n",
    "fig.show()"
   ],
   "outputs": [
    {
     "data": {
      "application/vnd.plotly.v1+json": {
       "data": [
        {
         "name": "X Axis",
         "x": [
          0.0,
          0.1,
          0.2,
          0.3,
          0.4,
          0.5,
          0.6,
          0.7,
          0.8,
          0.9,
          1.0
         ],
         "y": [
          0.39958657048344254,
          0.4389424200890439,
          0.3391039475459683,
          0.26657455714154965,
          0.24350777736358073,
          0.4868816683320566,
          0.44180500659709865,
          0.9470165066225018,
          1.2803344082166623,
          1.2576542490990457,
          1.6077850929703559
         ],
         "type": "scatter"
        },
        {
         "name": "Y axis",
         "x": [
          0.0,
          0.1,
          0.2,
          0.3,
          0.4,
          0.5,
          0.6,
          0.7,
          0.8,
          0.9,
          1.0
         ],
         "y": [
          0.18904146464717378,
          0.21313230079007195,
          0.16488525219837907,
          0.10656634231860358,
          0.1646095650741031,
          0.22612241517920595,
          0.2623081820742535,
          0.5111614653446611,
          0.7774375613102209,
          0.15528779804916365,
          0.3976787072185837
         ],
         "type": "scatter"
        },
        {
         "name": "Z axis",
         "x": [
          0.0,
          0.1,
          0.2,
          0.3,
          0.4,
          0.5,
          0.6,
          0.7,
          0.8,
          0.9,
          1.0
         ],
         "y": [
          0.11933745333092419,
          0.13431318977585438,
          0.14691318752364507,
          0.1512956888329972,
          0.15747301500359662,
          0.4299966553341839,
          0.6037057455730861,
          0.9172188494789556,
          1.0286597339242889,
          1.1135090912686303,
          1.3485755536160706
         ],
         "type": "scatter"
        },
        {
         "name": "3D Model",
         "x": [
          0.0,
          0.1,
          0.2,
          0.3,
          0.4,
          0.5,
          0.6,
          0.7,
          0.8,
          0.9,
          1.0
         ],
         "y": [
          0.45787285641303344,
          0.5060986719541677,
          0.40467529278463743,
          0.3245131221669607,
          0.3334517876205232,
          0.6878097027005377,
          0.7927533261212627,
          1.4140073285907282,
          1.8170873894192903,
          1.6869235027085556,
          2.13583172377113
         ],
         "type": "scatter"
        }
       ],
       "layout": {
        "template": {
         "data": {
          "histogram2dcontour": [
           {
            "type": "histogram2dcontour",
            "colorbar": {
             "outlinewidth": 0,
             "ticks": ""
            },
            "colorscale": [
             [
              0.0,
              "#0d0887"
             ],
             [
              0.1111111111111111,
              "#46039f"
             ],
             [
              0.2222222222222222,
              "#7201a8"
             ],
             [
              0.3333333333333333,
              "#9c179e"
             ],
             [
              0.4444444444444444,
              "#bd3786"
             ],
             [
              0.5555555555555556,
              "#d8576b"
             ],
             [
              0.6666666666666666,
              "#ed7953"
             ],
             [
              0.7777777777777778,
              "#fb9f3a"
             ],
             [
              0.8888888888888888,
              "#fdca26"
             ],
             [
              1.0,
              "#f0f921"
             ]
            ]
           }
          ],
          "choropleth": [
           {
            "type": "choropleth",
            "colorbar": {
             "outlinewidth": 0,
             "ticks": ""
            }
           }
          ],
          "histogram2d": [
           {
            "type": "histogram2d",
            "colorbar": {
             "outlinewidth": 0,
             "ticks": ""
            },
            "colorscale": [
             [
              0.0,
              "#0d0887"
             ],
             [
              0.1111111111111111,
              "#46039f"
             ],
             [
              0.2222222222222222,
              "#7201a8"
             ],
             [
              0.3333333333333333,
              "#9c179e"
             ],
             [
              0.4444444444444444,
              "#bd3786"
             ],
             [
              0.5555555555555556,
              "#d8576b"
             ],
             [
              0.6666666666666666,
              "#ed7953"
             ],
             [
              0.7777777777777778,
              "#fb9f3a"
             ],
             [
              0.8888888888888888,
              "#fdca26"
             ],
             [
              1.0,
              "#f0f921"
             ]
            ]
           }
          ],
          "heatmap": [
           {
            "type": "heatmap",
            "colorbar": {
             "outlinewidth": 0,
             "ticks": ""
            },
            "colorscale": [
             [
              0.0,
              "#0d0887"
             ],
             [
              0.1111111111111111,
              "#46039f"
             ],
             [
              0.2222222222222222,
              "#7201a8"
             ],
             [
              0.3333333333333333,
              "#9c179e"
             ],
             [
              0.4444444444444444,
              "#bd3786"
             ],
             [
              0.5555555555555556,
              "#d8576b"
             ],
             [
              0.6666666666666666,
              "#ed7953"
             ],
             [
              0.7777777777777778,
              "#fb9f3a"
             ],
             [
              0.8888888888888888,
              "#fdca26"
             ],
             [
              1.0,
              "#f0f921"
             ]
            ]
           }
          ],
          "contourcarpet": [
           {
            "type": "contourcarpet",
            "colorbar": {
             "outlinewidth": 0,
             "ticks": ""
            }
           }
          ],
          "contour": [
           {
            "type": "contour",
            "colorbar": {
             "outlinewidth": 0,
             "ticks": ""
            },
            "colorscale": [
             [
              0.0,
              "#0d0887"
             ],
             [
              0.1111111111111111,
              "#46039f"
             ],
             [
              0.2222222222222222,
              "#7201a8"
             ],
             [
              0.3333333333333333,
              "#9c179e"
             ],
             [
              0.4444444444444444,
              "#bd3786"
             ],
             [
              0.5555555555555556,
              "#d8576b"
             ],
             [
              0.6666666666666666,
              "#ed7953"
             ],
             [
              0.7777777777777778,
              "#fb9f3a"
             ],
             [
              0.8888888888888888,
              "#fdca26"
             ],
             [
              1.0,
              "#f0f921"
             ]
            ]
           }
          ],
          "surface": [
           {
            "type": "surface",
            "colorbar": {
             "outlinewidth": 0,
             "ticks": ""
            },
            "colorscale": [
             [
              0.0,
              "#0d0887"
             ],
             [
              0.1111111111111111,
              "#46039f"
             ],
             [
              0.2222222222222222,
              "#7201a8"
             ],
             [
              0.3333333333333333,
              "#9c179e"
             ],
             [
              0.4444444444444444,
              "#bd3786"
             ],
             [
              0.5555555555555556,
              "#d8576b"
             ],
             [
              0.6666666666666666,
              "#ed7953"
             ],
             [
              0.7777777777777778,
              "#fb9f3a"
             ],
             [
              0.8888888888888888,
              "#fdca26"
             ],
             [
              1.0,
              "#f0f921"
             ]
            ]
           }
          ],
          "mesh3d": [
           {
            "type": "mesh3d",
            "colorbar": {
             "outlinewidth": 0,
             "ticks": ""
            }
           }
          ],
          "scatter": [
           {
            "fillpattern": {
             "fillmode": "overlay",
             "size": 10,
             "solidity": 0.2
            },
            "type": "scatter"
           }
          ],
          "parcoords": [
           {
            "type": "parcoords",
            "line": {
             "colorbar": {
              "outlinewidth": 0,
              "ticks": ""
             }
            }
           }
          ],
          "scatterpolargl": [
           {
            "type": "scatterpolargl",
            "marker": {
             "colorbar": {
              "outlinewidth": 0,
              "ticks": ""
             }
            }
           }
          ],
          "bar": [
           {
            "error_x": {
             "color": "#2a3f5f"
            },
            "error_y": {
             "color": "#2a3f5f"
            },
            "marker": {
             "line": {
              "color": "#E5ECF6",
              "width": 0.5
             },
             "pattern": {
              "fillmode": "overlay",
              "size": 10,
              "solidity": 0.2
             }
            },
            "type": "bar"
           }
          ],
          "scattergeo": [
           {
            "type": "scattergeo",
            "marker": {
             "colorbar": {
              "outlinewidth": 0,
              "ticks": ""
             }
            }
           }
          ],
          "scatterpolar": [
           {
            "type": "scatterpolar",
            "marker": {
             "colorbar": {
              "outlinewidth": 0,
              "ticks": ""
             }
            }
           }
          ],
          "histogram": [
           {
            "marker": {
             "pattern": {
              "fillmode": "overlay",
              "size": 10,
              "solidity": 0.2
             }
            },
            "type": "histogram"
           }
          ],
          "scattergl": [
           {
            "type": "scattergl",
            "marker": {
             "colorbar": {
              "outlinewidth": 0,
              "ticks": ""
             }
            }
           }
          ],
          "scatter3d": [
           {
            "type": "scatter3d",
            "line": {
             "colorbar": {
              "outlinewidth": 0,
              "ticks": ""
             }
            },
            "marker": {
             "colorbar": {
              "outlinewidth": 0,
              "ticks": ""
             }
            }
           }
          ],
          "scattermap": [
           {
            "type": "scattermap",
            "marker": {
             "colorbar": {
              "outlinewidth": 0,
              "ticks": ""
             }
            }
           }
          ],
          "scattermapbox": [
           {
            "type": "scattermapbox",
            "marker": {
             "colorbar": {
              "outlinewidth": 0,
              "ticks": ""
             }
            }
           }
          ],
          "scatterternary": [
           {
            "type": "scatterternary",
            "marker": {
             "colorbar": {
              "outlinewidth": 0,
              "ticks": ""
             }
            }
           }
          ],
          "scattercarpet": [
           {
            "type": "scattercarpet",
            "marker": {
             "colorbar": {
              "outlinewidth": 0,
              "ticks": ""
             }
            }
           }
          ],
          "carpet": [
           {
            "aaxis": {
             "endlinecolor": "#2a3f5f",
             "gridcolor": "white",
             "linecolor": "white",
             "minorgridcolor": "white",
             "startlinecolor": "#2a3f5f"
            },
            "baxis": {
             "endlinecolor": "#2a3f5f",
             "gridcolor": "white",
             "linecolor": "white",
             "minorgridcolor": "white",
             "startlinecolor": "#2a3f5f"
            },
            "type": "carpet"
           }
          ],
          "table": [
           {
            "cells": {
             "fill": {
              "color": "#EBF0F8"
             },
             "line": {
              "color": "white"
             }
            },
            "header": {
             "fill": {
              "color": "#C8D4E3"
             },
             "line": {
              "color": "white"
             }
            },
            "type": "table"
           }
          ],
          "barpolar": [
           {
            "marker": {
             "line": {
              "color": "#E5ECF6",
              "width": 0.5
             },
             "pattern": {
              "fillmode": "overlay",
              "size": 10,
              "solidity": 0.2
             }
            },
            "type": "barpolar"
           }
          ],
          "pie": [
           {
            "automargin": true,
            "type": "pie"
           }
          ]
         },
         "layout": {
          "autotypenumbers": "strict",
          "colorway": [
           "#636efa",
           "#EF553B",
           "#00cc96",
           "#ab63fa",
           "#FFA15A",
           "#19d3f3",
           "#FF6692",
           "#B6E880",
           "#FF97FF",
           "#FECB52"
          ],
          "font": {
           "color": "#2a3f5f"
          },
          "hovermode": "closest",
          "hoverlabel": {
           "align": "left"
          },
          "paper_bgcolor": "white",
          "plot_bgcolor": "#E5ECF6",
          "polar": {
           "bgcolor": "#E5ECF6",
           "angularaxis": {
            "gridcolor": "white",
            "linecolor": "white",
            "ticks": ""
           },
           "radialaxis": {
            "gridcolor": "white",
            "linecolor": "white",
            "ticks": ""
           }
          },
          "ternary": {
           "bgcolor": "#E5ECF6",
           "aaxis": {
            "gridcolor": "white",
            "linecolor": "white",
            "ticks": ""
           },
           "baxis": {
            "gridcolor": "white",
            "linecolor": "white",
            "ticks": ""
           },
           "caxis": {
            "gridcolor": "white",
            "linecolor": "white",
            "ticks": ""
           }
          },
          "coloraxis": {
           "colorbar": {
            "outlinewidth": 0,
            "ticks": ""
           }
          },
          "colorscale": {
           "sequential": [
            [
             0.0,
             "#0d0887"
            ],
            [
             0.1111111111111111,
             "#46039f"
            ],
            [
             0.2222222222222222,
             "#7201a8"
            ],
            [
             0.3333333333333333,
             "#9c179e"
            ],
            [
             0.4444444444444444,
             "#bd3786"
            ],
            [
             0.5555555555555556,
             "#d8576b"
            ],
            [
             0.6666666666666666,
             "#ed7953"
            ],
            [
             0.7777777777777778,
             "#fb9f3a"
            ],
            [
             0.8888888888888888,
             "#fdca26"
            ],
            [
             1.0,
             "#f0f921"
            ]
           ],
           "sequentialminus": [
            [
             0.0,
             "#0d0887"
            ],
            [
             0.1111111111111111,
             "#46039f"
            ],
            [
             0.2222222222222222,
             "#7201a8"
            ],
            [
             0.3333333333333333,
             "#9c179e"
            ],
            [
             0.4444444444444444,
             "#bd3786"
            ],
            [
             0.5555555555555556,
             "#d8576b"
            ],
            [
             0.6666666666666666,
             "#ed7953"
            ],
            [
             0.7777777777777778,
             "#fb9f3a"
            ],
            [
             0.8888888888888888,
             "#fdca26"
            ],
            [
             1.0,
             "#f0f921"
            ]
           ],
           "diverging": [
            [
             0,
             "#8e0152"
            ],
            [
             0.1,
             "#c51b7d"
            ],
            [
             0.2,
             "#de77ae"
            ],
            [
             0.3,
             "#f1b6da"
            ],
            [
             0.4,
             "#fde0ef"
            ],
            [
             0.5,
             "#f7f7f7"
            ],
            [
             0.6,
             "#e6f5d0"
            ],
            [
             0.7,
             "#b8e186"
            ],
            [
             0.8,
             "#7fbc41"
            ],
            [
             0.9,
             "#4d9221"
            ],
            [
             1,
             "#276419"
            ]
           ]
          },
          "xaxis": {
           "gridcolor": "white",
           "linecolor": "white",
           "ticks": "",
           "title": {
            "standoff": 15
           },
           "zerolinecolor": "white",
           "automargin": true,
           "zerolinewidth": 2
          },
          "yaxis": {
           "gridcolor": "white",
           "linecolor": "white",
           "ticks": "",
           "title": {
            "standoff": 15
           },
           "zerolinecolor": "white",
           "automargin": true,
           "zerolinewidth": 2
          },
          "scene": {
           "xaxis": {
            "backgroundcolor": "#E5ECF6",
            "gridcolor": "white",
            "linecolor": "white",
            "showbackground": true,
            "ticks": "",
            "zerolinecolor": "white",
            "gridwidth": 2
           },
           "yaxis": {
            "backgroundcolor": "#E5ECF6",
            "gridcolor": "white",
            "linecolor": "white",
            "showbackground": true,
            "ticks": "",
            "zerolinecolor": "white",
            "gridwidth": 2
           },
           "zaxis": {
            "backgroundcolor": "#E5ECF6",
            "gridcolor": "white",
            "linecolor": "white",
            "showbackground": true,
            "ticks": "",
            "zerolinecolor": "white",
            "gridwidth": 2
           }
          },
          "shapedefaults": {
           "line": {
            "color": "#2a3f5f"
           }
          },
          "annotationdefaults": {
           "arrowcolor": "#2a3f5f",
           "arrowhead": 0,
           "arrowwidth": 1
          },
          "geo": {
           "bgcolor": "white",
           "landcolor": "#E5ECF6",
           "subunitcolor": "white",
           "showland": true,
           "showlakes": true,
           "lakecolor": "white"
          },
          "title": {
           "x": 0.05
          },
          "mapbox": {
           "style": "light"
          }
         }
        },
        "title": {
         "text": "RMS Error with varying 3D noise"
        },
        "yaxis": {
         "title": {
          "text": "RMS Error"
         }
        },
        "xaxis": {
         "title": {
          "text": "STD of Gaussian Noise"
         }
        }
       },
       "config": {
        "plotlyServerURL": "https://plot.ly"
       }
      }
     },
     "metadata": {},
     "output_type": "display_data",
     "jetTransient": {
      "display_id": null
     }
    }
   ],
   "execution_count": 120
  },
  {
   "cell_type": "markdown",
   "metadata": {},
   "source": [
    "# Question 4.2"
   ]
  },
  {
   "cell_type": "markdown",
   "metadata": {},
   "source": [
    "This question is a bit tricky, as you have to get measurements for couples of values of standard deviation for 2D and 3D noise. A line plot is not very adapted for this, but we could use a heatmap ! Here is a small example :"
   ]
  },
  {
   "metadata": {
    "ExecuteTime": {
     "end_time": "2025-10-02T17:52:28.348688Z",
     "start_time": "2025-10-02T17:52:26.978078Z"
    }
   },
   "cell_type": "code",
   "source": [
    "beads_subset = sample_n_beads(beads_data, 8)\n",
    "# Let's increase the number of calibration beads gradually\n",
    "spine = lab_1.structures.Spine(os.path.join(root_directory,'Vertebrae2D.mat')) # Initialize the vertebrae structure\n",
    "\n",
    "# Create a dictionnary to store the results. Access a dictionnary key with brackets, for instance rms_measurements['x']\n",
    "rms_measurements = {\n",
    "        'x' : [],\n",
    "        'y' : [],\n",
    "        'z' : [],\n",
    "        '3d' : []\n",
    "    }\n",
    "\n",
    "\"\"\"\n",
    "PSEUDOCODE\n",
    "for n_beads in [1...N], do:\n",
    "    computed_points_3d <- list\n",
    "    beads_subset <- sample_n_beads(beads_data, n_beads)\n",
    "    A_view_0 <- get_a(view_0, beads_subset)\n",
    "    l_view_0 <- dlt(A_view_0)\n",
    "    A_view_1 <- get_a(view_1, beads_subset)\n",
    "    l_view_1 <- dlt(A_view_1)\n",
    "    for each vertebra in vertebrae:\n",
    "        for each anatomical_landmark in vertebra_points:\n",
    "        x_point, y_point, z_point <- calculate_3d_point(anatomical_landmark, l_view0, l_view1)\n",
    "        Append (x_point, y_point, z_point) to computed_points_3d\n",
    "    for each axis in ['x', ..., '3d']:\n",
    "        Append rms(SPINE_3D_POINTS, computed_points_3d) to rms_measurements[axis]\n",
    "    Append n_beads to rms_measurements['n_beads']\n",
    "\"\"\"\n",
    "\n",
    "for i in range(0, 110, 10):\n",
    "    over_x = []\n",
    "    over_y = []\n",
    "    over_z = []\n",
    "    over_3d = []\n",
    "    std_2d = i / 100\n",
    "    for j in range(0, 110, 10):\n",
    "\n",
    "\n",
    "        std_3d = j / 100\n",
    "        computed_points_3d = []\n",
    "        noised_data = add_noise_2d(beads_subset, std_2d)\n",
    "        noised_data = add_noise_3d(noised_data, std_3d)\n",
    "\n",
    "        A_view_0 = get_a('Beads2D_'+view_0, noised_data)\n",
    "        l_view_0 = lab_1.solver.dlt(A_view_0)\n",
    "        A_view_1 = get_a('Beads2D_'+view_1, noised_data)\n",
    "        l_view_1 = lab_1.solver.dlt(A_view_1)\n",
    "\n",
    "        for i, v_name in enumerate(spine.vertebrae):\n",
    "\n",
    "            vert = spine.get(v_name).data # Returns the vertebra data\n",
    "\n",
    "            for datum in vert.iterrows():\n",
    "                data = datum[1]\n",
    "                u0 = data[\"x_Vertebrae_LAT\"]\n",
    "                v0 = data[\"y_Vertebrae_LAT\"]\n",
    "                u1 = data[\"x_Vertebrae_PA0\"]\n",
    "                v1 = data[\"y_Vertebrae_PA0\"]\n",
    "                point = calculate_3d_point(u0, v0, u1, v1, l_view_0, l_view_1)\n",
    "                computed_points_3d.append(point)\n",
    "        computed_points_3d = np.array(computed_points_3d)\n",
    "        x_rms = rms(SPINE_3D_POINTS[:,0], computed_points_3d[:,0])\n",
    "        y_rms = rms(SPINE_3D_POINTS[:,1], computed_points_3d[:,1])\n",
    "        z_rms = rms(SPINE_3D_POINTS[:,2], computed_points_3d[:,2])\n",
    "\n",
    "        three_d = rms(SPINE_3D_POINTS, computed_points_3d)\n",
    "\n",
    "        over_x.append(x_rms)\n",
    "        over_y.append(y_rms)\n",
    "        over_z.append(z_rms)\n",
    "        over_3d.append(three_d)\n",
    "    rms_measurements['x'].append(over_x)\n",
    "    rms_measurements['y'].append(over_y)\n",
    "    rms_measurements['z'].append(over_z)\n",
    "    rms_measurements['3d'].append(over_3d)\n"
   ],
   "outputs": [],
   "execution_count": 121
  },
  {
   "cell_type": "code",
   "metadata": {
    "ExecuteTime": {
     "end_time": "2025-10-02T17:52:28.491823Z",
     "start_time": "2025-10-02T17:52:28.469501Z"
    }
   },
   "source": [
    "fig = go.Figure()\n",
    "heatmap = np.array(rms_measurements['3d'])\n",
    "fig.add_trace(\n",
    "    go.Heatmap(\n",
    "        z = heatmap,\n",
    "        x = np.linspace(0., 10., 11),\n",
    "        y = np.linspace(0., 10., 11),\n",
    "        text = heatmap.round(2),\n",
    "        texttemplate=\"%{text}\",\n",
    "        colorscale='turbo'\n",
    "    ))\n",
    "fig.update_yaxes(title_text='2D Labelling Noise')\n",
    "fig.update_xaxes(title_text='3D Labelling Noise')\n",
    "fig.update_layout(title = '3D Reconstruction error as noise in 2D and 3D vary')\n",
    "fig.update_traces(showscale=False)\n",
    "fig.show()"
   ],
   "outputs": [
    {
     "data": {
      "application/vnd.plotly.v1+json": {
       "data": [
        {
         "colorscale": [
          [
           0.0,
           "#30123b"
          ],
          [
           0.07142857142857142,
           "#4145ab"
          ],
          [
           0.14285714285714285,
           "#4675ed"
          ],
          [
           0.21428571428571427,
           "#39a2fc"
          ],
          [
           0.2857142857142857,
           "#1bcfd4"
          ],
          [
           0.35714285714285715,
           "#24eca6"
          ],
          [
           0.42857142857142855,
           "#61fc6c"
          ],
          [
           0.5,
           "#a4fc3b"
          ],
          [
           0.5714285714285714,
           "#d1e834"
          ],
          [
           0.6428571428571429,
           "#f3c63a"
          ],
          [
           0.7142857142857143,
           "#fe9b2d"
          ],
          [
           0.7857142857142857,
           "#f36315"
          ],
          [
           0.8571428571428571,
           "#d93806"
          ],
          [
           0.9285714285714286,
           "#b11901"
          ],
          [
           1.0,
           "#7a0402"
          ]
         ],
         "text": {
          "dtype": "f8",
          "bdata": "4XoUrkfhyj9xPQrXo3DNPwrXo3A9Ctc/SOF6FK5H0T8K16NwPQrXP0jhehSuR+E/SOF6FK5H6T9I4XoUrkfpP+xRuB6F6+E/KVyPwvUo7D+kcD0K16PoP7gehetRuM4/w/UoXI/C1T/sUbgehevBPylcj8L1KMw/KVyPwvUozD8K16NwPQrnPx+F61G4Hu0/ZmZmZmZm7j9I4XoUrkf1P83MzMzMzPA/w/UoXI/C5T+amZmZmZnJPwAAAAAAANA/AAAAAAAA0D/sUbgehevBP6RwPQrXo+A/4XoUrkfh2j/2KFyPwvXoP9ejcD0K1+s/zczMzMzM9D/2KFyPwvXoP3E9CtejcPE/MzMzMzMz0z/hehSuR+HKPylcj8L1KOQ/exSuR+F61D9SuB6F61HIP0jhehSuR9E/KVyPwvUo8D+amZmZmZnxPylcj8L1KNw/FK5H4XoU9j8AAAAAAAD0P1K4HoXrUcg/7FG4HoXrwT8AAAAAAADQPwrXo3A9Cuc/j8L1KFyP0j/D9Shcj8LlP9ejcD0K1+M/7FG4HoXr6T8K16NwPQrnP3E9CtejcANA4XoUrkfh6j9SuB6F61HIP9ejcD0K19M/16NwPQrX0z+4HoXrUbjeP4/C9Shcj+I/j8L1KFyP4j9SuB6F61HgP4XrUbgehes/rkfhehSu1z/sUbgehevhP1yPwvUoXPM/H4XrUbge1T+uR+F6FK7XP/YoXI/C9eA/hetRuB6F4z/Xo3A9CtfTPwrXo3A9Cuc/zczMzMzM7D9SuB6F61HwP5qZmZmZmdk/FK5H4XoU8j8fhetRuB79P1K4HoXrUdg/SOF6FK5H0T+amZmZmZnZP6RwPQrXo+A/XI/C9Shc3z+F61G4HoXjP1yPwvUoXN8/pHA9Ctej4D89CtejcD3yP/YoXI/C9fQ/pHA9Ctej8D8pXI/C9SjcPxSuR+F6FN4/cT0K16NwzT8fhetRuB7VP83MzMzMzNw/cT0K16Nw5T+kcD0K16PwP4XrUbgeheM/PQrXo3A98j+F61G4HoXrP4XrUbgehfM/4XoUrkfhyj/hehSuR+HKPz0K16NwPdo/w/UoXI/C1T/D9Shcj8LVPz0K16NwPeI/cT0K16Nw7T+amZmZmZnpP4XrUbgehes/FK5H4XoU9j9SuB6F61HoP1K4HoXrUdg/cT0K16Nw3T8K16NwPQrXP2ZmZmZmZuY/4XoUrkfh2j+4HoXrUbjyP83MzMzMzOw/w/UoXI/C7T+PwvUoXI/yP2ZmZmZmZu4/7FG4HoXr6T8=",
          "shape": "11, 11"
         },
         "texttemplate": "%{text}",
         "x": {
          "dtype": "f8",
          "bdata": "AAAAAAAAAAAAAAAAAADwPwAAAAAAAABAAAAAAAAACEAAAAAAAAAQQAAAAAAAABRAAAAAAAAAGEAAAAAAAAAcQAAAAAAAACBAAAAAAAAAIkAAAAAAAAAkQA=="
         },
         "y": {
          "dtype": "f8",
          "bdata": "AAAAAAAAAAAAAAAAAADwPwAAAAAAAABAAAAAAAAACEAAAAAAAAAQQAAAAAAAABRAAAAAAAAAGEAAAAAAAAAcQAAAAAAAACBAAAAAAAAAIkAAAAAAAAAkQA=="
         },
         "z": {
          "dtype": "f8",
          "bdata": "J42mv85Vyz+P0VLh/rjNPylalXzQ6tY//fxe085x0T/B/ebFaffWP73y+AkDTuE/fJifB1k76T8jNnj+zDPpPzdTNR7B+uE/wTI7Ae4u7D/70yGQZZ7oPx0c/cAiJc8/jlm0ZLUR1j+2YA5dvHfBP5ZHhZXOiMs/TaDgd+eIyz8nON0FyenmP38ZgdBiDu0/GhVC92hE7j/nok5pLUP1P+WieZ0R0PA/V76TxP+f5T90kru2xBfJP8rXwnIESdA/u137um51zz8mpKPedlDBP4ztt0ill+A/tjQ12qgX2z+ui3HsXvboP/xznOvo2+s/YbitzMHc9D+G35BiFfjoP5gfP6E/efE/J/1ykpdd0z/vDqpHSZXKPxSkU9skHOQ/dOSNJq5G1D85Pte75wnIPzLbbIK1UdE/TKeZF1k38D+wDi3YEKjxP9ArSU0K6ts/b9pTqSkY9j9XEsGqzwH0P+nHRd5LOcg/dkJfXsxfwj+CfGILO97PPxH/xFGJDuc/MK4ILilG0j/qBT1a+aHlP2WxrfAS/OM/QvXYOaDD6T+sKhEMgCPnP0Egy0IpdANAAe6ktW/f6j/0RQ/wAI/IPxl31h8CvdM/sjD7O5AV1D/e4z5QPazeP/kdYY3HdOI/44qSR/W14j9hq2Dj6mzgP90iBzF4YOs/EeCQBD371z9aMZwoUhHiP3lspKQUY/M/9XnZT6fi1D98raFf6JLXPwrsv9u46eA/Jov1m+994z+ZOCFpwN7TPzHcWzmC7eY/ibsUW+ju7D9ND8jgekPwP9+p60U/Ttk/W6fdJtUd8j+txzD6UBP9P+r9CY5xYdg/iH8CiPs50T+vYdqmi4TZP+Rlw42HyuA/VoXE6EBo3z9yulSjKKPjP7yWKCDgE98/+JuqZu264D+rP2K5lEPyPx/meGqi8PQ/0WP2k16S8D92DDcJtHjcP/1LwSye7d0/K7SLzCnkzT9c8JJ4vNDUP5CjeQXT29w/9tSKUXFO5T8wIfX8mpPwP15q9X3GceM/7OK5QjVO8j9gTne/oGvrP+Ex37x0fPM/aUq04Ue4yj+2Pv/V3KvKP/5ajF9IJNo/4JjujtaU1T90SqNF06DVP3p5eMc2OeI/WVAceZOG7T8Rff0X9Y3pP+1W2AxnXus/LwcXVi4I9j88HC7IHDroP39Hola+mNg/RfOrsPJG3T8K3UI9V8PWP+IneWm1Q+Y/hzKbpDXN2j8j8g5F96nyPw4m2PNY4ew/2SMaply77T8wNKz8zovyP5hfktDnfO4/Mkge8Z7d6T8=",
          "shape": "11, 11"
         },
         "type": "heatmap",
         "showscale": false
        }
       ],
       "layout": {
        "template": {
         "data": {
          "histogram2dcontour": [
           {
            "type": "histogram2dcontour",
            "colorbar": {
             "outlinewidth": 0,
             "ticks": ""
            },
            "colorscale": [
             [
              0.0,
              "#0d0887"
             ],
             [
              0.1111111111111111,
              "#46039f"
             ],
             [
              0.2222222222222222,
              "#7201a8"
             ],
             [
              0.3333333333333333,
              "#9c179e"
             ],
             [
              0.4444444444444444,
              "#bd3786"
             ],
             [
              0.5555555555555556,
              "#d8576b"
             ],
             [
              0.6666666666666666,
              "#ed7953"
             ],
             [
              0.7777777777777778,
              "#fb9f3a"
             ],
             [
              0.8888888888888888,
              "#fdca26"
             ],
             [
              1.0,
              "#f0f921"
             ]
            ]
           }
          ],
          "choropleth": [
           {
            "type": "choropleth",
            "colorbar": {
             "outlinewidth": 0,
             "ticks": ""
            }
           }
          ],
          "histogram2d": [
           {
            "type": "histogram2d",
            "colorbar": {
             "outlinewidth": 0,
             "ticks": ""
            },
            "colorscale": [
             [
              0.0,
              "#0d0887"
             ],
             [
              0.1111111111111111,
              "#46039f"
             ],
             [
              0.2222222222222222,
              "#7201a8"
             ],
             [
              0.3333333333333333,
              "#9c179e"
             ],
             [
              0.4444444444444444,
              "#bd3786"
             ],
             [
              0.5555555555555556,
              "#d8576b"
             ],
             [
              0.6666666666666666,
              "#ed7953"
             ],
             [
              0.7777777777777778,
              "#fb9f3a"
             ],
             [
              0.8888888888888888,
              "#fdca26"
             ],
             [
              1.0,
              "#f0f921"
             ]
            ]
           }
          ],
          "heatmap": [
           {
            "type": "heatmap",
            "colorbar": {
             "outlinewidth": 0,
             "ticks": ""
            },
            "colorscale": [
             [
              0.0,
              "#0d0887"
             ],
             [
              0.1111111111111111,
              "#46039f"
             ],
             [
              0.2222222222222222,
              "#7201a8"
             ],
             [
              0.3333333333333333,
              "#9c179e"
             ],
             [
              0.4444444444444444,
              "#bd3786"
             ],
             [
              0.5555555555555556,
              "#d8576b"
             ],
             [
              0.6666666666666666,
              "#ed7953"
             ],
             [
              0.7777777777777778,
              "#fb9f3a"
             ],
             [
              0.8888888888888888,
              "#fdca26"
             ],
             [
              1.0,
              "#f0f921"
             ]
            ]
           }
          ],
          "contourcarpet": [
           {
            "type": "contourcarpet",
            "colorbar": {
             "outlinewidth": 0,
             "ticks": ""
            }
           }
          ],
          "contour": [
           {
            "type": "contour",
            "colorbar": {
             "outlinewidth": 0,
             "ticks": ""
            },
            "colorscale": [
             [
              0.0,
              "#0d0887"
             ],
             [
              0.1111111111111111,
              "#46039f"
             ],
             [
              0.2222222222222222,
              "#7201a8"
             ],
             [
              0.3333333333333333,
              "#9c179e"
             ],
             [
              0.4444444444444444,
              "#bd3786"
             ],
             [
              0.5555555555555556,
              "#d8576b"
             ],
             [
              0.6666666666666666,
              "#ed7953"
             ],
             [
              0.7777777777777778,
              "#fb9f3a"
             ],
             [
              0.8888888888888888,
              "#fdca26"
             ],
             [
              1.0,
              "#f0f921"
             ]
            ]
           }
          ],
          "surface": [
           {
            "type": "surface",
            "colorbar": {
             "outlinewidth": 0,
             "ticks": ""
            },
            "colorscale": [
             [
              0.0,
              "#0d0887"
             ],
             [
              0.1111111111111111,
              "#46039f"
             ],
             [
              0.2222222222222222,
              "#7201a8"
             ],
             [
              0.3333333333333333,
              "#9c179e"
             ],
             [
              0.4444444444444444,
              "#bd3786"
             ],
             [
              0.5555555555555556,
              "#d8576b"
             ],
             [
              0.6666666666666666,
              "#ed7953"
             ],
             [
              0.7777777777777778,
              "#fb9f3a"
             ],
             [
              0.8888888888888888,
              "#fdca26"
             ],
             [
              1.0,
              "#f0f921"
             ]
            ]
           }
          ],
          "mesh3d": [
           {
            "type": "mesh3d",
            "colorbar": {
             "outlinewidth": 0,
             "ticks": ""
            }
           }
          ],
          "scatter": [
           {
            "fillpattern": {
             "fillmode": "overlay",
             "size": 10,
             "solidity": 0.2
            },
            "type": "scatter"
           }
          ],
          "parcoords": [
           {
            "type": "parcoords",
            "line": {
             "colorbar": {
              "outlinewidth": 0,
              "ticks": ""
             }
            }
           }
          ],
          "scatterpolargl": [
           {
            "type": "scatterpolargl",
            "marker": {
             "colorbar": {
              "outlinewidth": 0,
              "ticks": ""
             }
            }
           }
          ],
          "bar": [
           {
            "error_x": {
             "color": "#2a3f5f"
            },
            "error_y": {
             "color": "#2a3f5f"
            },
            "marker": {
             "line": {
              "color": "#E5ECF6",
              "width": 0.5
             },
             "pattern": {
              "fillmode": "overlay",
              "size": 10,
              "solidity": 0.2
             }
            },
            "type": "bar"
           }
          ],
          "scattergeo": [
           {
            "type": "scattergeo",
            "marker": {
             "colorbar": {
              "outlinewidth": 0,
              "ticks": ""
             }
            }
           }
          ],
          "scatterpolar": [
           {
            "type": "scatterpolar",
            "marker": {
             "colorbar": {
              "outlinewidth": 0,
              "ticks": ""
             }
            }
           }
          ],
          "histogram": [
           {
            "marker": {
             "pattern": {
              "fillmode": "overlay",
              "size": 10,
              "solidity": 0.2
             }
            },
            "type": "histogram"
           }
          ],
          "scattergl": [
           {
            "type": "scattergl",
            "marker": {
             "colorbar": {
              "outlinewidth": 0,
              "ticks": ""
             }
            }
           }
          ],
          "scatter3d": [
           {
            "type": "scatter3d",
            "line": {
             "colorbar": {
              "outlinewidth": 0,
              "ticks": ""
             }
            },
            "marker": {
             "colorbar": {
              "outlinewidth": 0,
              "ticks": ""
             }
            }
           }
          ],
          "scattermap": [
           {
            "type": "scattermap",
            "marker": {
             "colorbar": {
              "outlinewidth": 0,
              "ticks": ""
             }
            }
           }
          ],
          "scattermapbox": [
           {
            "type": "scattermapbox",
            "marker": {
             "colorbar": {
              "outlinewidth": 0,
              "ticks": ""
             }
            }
           }
          ],
          "scatterternary": [
           {
            "type": "scatterternary",
            "marker": {
             "colorbar": {
              "outlinewidth": 0,
              "ticks": ""
             }
            }
           }
          ],
          "scattercarpet": [
           {
            "type": "scattercarpet",
            "marker": {
             "colorbar": {
              "outlinewidth": 0,
              "ticks": ""
             }
            }
           }
          ],
          "carpet": [
           {
            "aaxis": {
             "endlinecolor": "#2a3f5f",
             "gridcolor": "white",
             "linecolor": "white",
             "minorgridcolor": "white",
             "startlinecolor": "#2a3f5f"
            },
            "baxis": {
             "endlinecolor": "#2a3f5f",
             "gridcolor": "white",
             "linecolor": "white",
             "minorgridcolor": "white",
             "startlinecolor": "#2a3f5f"
            },
            "type": "carpet"
           }
          ],
          "table": [
           {
            "cells": {
             "fill": {
              "color": "#EBF0F8"
             },
             "line": {
              "color": "white"
             }
            },
            "header": {
             "fill": {
              "color": "#C8D4E3"
             },
             "line": {
              "color": "white"
             }
            },
            "type": "table"
           }
          ],
          "barpolar": [
           {
            "marker": {
             "line": {
              "color": "#E5ECF6",
              "width": 0.5
             },
             "pattern": {
              "fillmode": "overlay",
              "size": 10,
              "solidity": 0.2
             }
            },
            "type": "barpolar"
           }
          ],
          "pie": [
           {
            "automargin": true,
            "type": "pie"
           }
          ]
         },
         "layout": {
          "autotypenumbers": "strict",
          "colorway": [
           "#636efa",
           "#EF553B",
           "#00cc96",
           "#ab63fa",
           "#FFA15A",
           "#19d3f3",
           "#FF6692",
           "#B6E880",
           "#FF97FF",
           "#FECB52"
          ],
          "font": {
           "color": "#2a3f5f"
          },
          "hovermode": "closest",
          "hoverlabel": {
           "align": "left"
          },
          "paper_bgcolor": "white",
          "plot_bgcolor": "#E5ECF6",
          "polar": {
           "bgcolor": "#E5ECF6",
           "angularaxis": {
            "gridcolor": "white",
            "linecolor": "white",
            "ticks": ""
           },
           "radialaxis": {
            "gridcolor": "white",
            "linecolor": "white",
            "ticks": ""
           }
          },
          "ternary": {
           "bgcolor": "#E5ECF6",
           "aaxis": {
            "gridcolor": "white",
            "linecolor": "white",
            "ticks": ""
           },
           "baxis": {
            "gridcolor": "white",
            "linecolor": "white",
            "ticks": ""
           },
           "caxis": {
            "gridcolor": "white",
            "linecolor": "white",
            "ticks": ""
           }
          },
          "coloraxis": {
           "colorbar": {
            "outlinewidth": 0,
            "ticks": ""
           }
          },
          "colorscale": {
           "sequential": [
            [
             0.0,
             "#0d0887"
            ],
            [
             0.1111111111111111,
             "#46039f"
            ],
            [
             0.2222222222222222,
             "#7201a8"
            ],
            [
             0.3333333333333333,
             "#9c179e"
            ],
            [
             0.4444444444444444,
             "#bd3786"
            ],
            [
             0.5555555555555556,
             "#d8576b"
            ],
            [
             0.6666666666666666,
             "#ed7953"
            ],
            [
             0.7777777777777778,
             "#fb9f3a"
            ],
            [
             0.8888888888888888,
             "#fdca26"
            ],
            [
             1.0,
             "#f0f921"
            ]
           ],
           "sequentialminus": [
            [
             0.0,
             "#0d0887"
            ],
            [
             0.1111111111111111,
             "#46039f"
            ],
            [
             0.2222222222222222,
             "#7201a8"
            ],
            [
             0.3333333333333333,
             "#9c179e"
            ],
            [
             0.4444444444444444,
             "#bd3786"
            ],
            [
             0.5555555555555556,
             "#d8576b"
            ],
            [
             0.6666666666666666,
             "#ed7953"
            ],
            [
             0.7777777777777778,
             "#fb9f3a"
            ],
            [
             0.8888888888888888,
             "#fdca26"
            ],
            [
             1.0,
             "#f0f921"
            ]
           ],
           "diverging": [
            [
             0,
             "#8e0152"
            ],
            [
             0.1,
             "#c51b7d"
            ],
            [
             0.2,
             "#de77ae"
            ],
            [
             0.3,
             "#f1b6da"
            ],
            [
             0.4,
             "#fde0ef"
            ],
            [
             0.5,
             "#f7f7f7"
            ],
            [
             0.6,
             "#e6f5d0"
            ],
            [
             0.7,
             "#b8e186"
            ],
            [
             0.8,
             "#7fbc41"
            ],
            [
             0.9,
             "#4d9221"
            ],
            [
             1,
             "#276419"
            ]
           ]
          },
          "xaxis": {
           "gridcolor": "white",
           "linecolor": "white",
           "ticks": "",
           "title": {
            "standoff": 15
           },
           "zerolinecolor": "white",
           "automargin": true,
           "zerolinewidth": 2
          },
          "yaxis": {
           "gridcolor": "white",
           "linecolor": "white",
           "ticks": "",
           "title": {
            "standoff": 15
           },
           "zerolinecolor": "white",
           "automargin": true,
           "zerolinewidth": 2
          },
          "scene": {
           "xaxis": {
            "backgroundcolor": "#E5ECF6",
            "gridcolor": "white",
            "linecolor": "white",
            "showbackground": true,
            "ticks": "",
            "zerolinecolor": "white",
            "gridwidth": 2
           },
           "yaxis": {
            "backgroundcolor": "#E5ECF6",
            "gridcolor": "white",
            "linecolor": "white",
            "showbackground": true,
            "ticks": "",
            "zerolinecolor": "white",
            "gridwidth": 2
           },
           "zaxis": {
            "backgroundcolor": "#E5ECF6",
            "gridcolor": "white",
            "linecolor": "white",
            "showbackground": true,
            "ticks": "",
            "zerolinecolor": "white",
            "gridwidth": 2
           }
          },
          "shapedefaults": {
           "line": {
            "color": "#2a3f5f"
           }
          },
          "annotationdefaults": {
           "arrowcolor": "#2a3f5f",
           "arrowhead": 0,
           "arrowwidth": 1
          },
          "geo": {
           "bgcolor": "white",
           "landcolor": "#E5ECF6",
           "subunitcolor": "white",
           "showland": true,
           "showlakes": true,
           "lakecolor": "white"
          },
          "title": {
           "x": 0.05
          },
          "mapbox": {
           "style": "light"
          }
         }
        },
        "yaxis": {
         "title": {
          "text": "2D Labelling Noise"
         }
        },
        "xaxis": {
         "title": {
          "text": "3D Labelling Noise"
         }
        },
        "title": {
         "text": "3D Reconstruction error as noise in 2D and 3D vary"
        }
       },
       "config": {
        "plotlyServerURL": "https://plot.ly"
       }
      }
     },
     "metadata": {},
     "output_type": "display_data",
     "jetTransient": {
      "display_id": null
     }
    }
   ],
   "execution_count": 122
  },
  {
   "metadata": {
    "ExecuteTime": {
     "end_time": "2025-10-02T17:52:28.526848Z",
     "start_time": "2025-10-02T17:52:28.505889Z"
    }
   },
   "cell_type": "code",
   "source": [
    "fig = go.Figure()\n",
    "heatmap = np.array(rms_measurements['x'])\n",
    "fig.add_trace(\n",
    "    go.Heatmap(\n",
    "        z = heatmap,\n",
    "        x = np.linspace(0., 10., 11),\n",
    "        y = np.linspace(0., 10., 11),\n",
    "        text = heatmap.round(2),\n",
    "        texttemplate=\"%{text}\",\n",
    "        colorscale='turbo'\n",
    "    ))\n",
    "fig.update_yaxes(title_text='2D Labelling Noise')\n",
    "fig.update_xaxes(title_text='3D Labelling Noise')\n",
    "fig.update_layout(title = 'x Axis Reconstruction error as noise in 2D and 3D vary')\n",
    "fig.update_traces(showscale=False)\n",
    "fig.show()"
   ],
   "outputs": [
    {
     "data": {
      "application/vnd.plotly.v1+json": {
       "data": [
        {
         "colorscale": [
          [
           0.0,
           "#30123b"
          ],
          [
           0.07142857142857142,
           "#4145ab"
          ],
          [
           0.14285714285714285,
           "#4675ed"
          ],
          [
           0.21428571428571427,
           "#39a2fc"
          ],
          [
           0.2857142857142857,
           "#1bcfd4"
          ],
          [
           0.35714285714285715,
           "#24eca6"
          ],
          [
           0.42857142857142855,
           "#61fc6c"
          ],
          [
           0.5,
           "#a4fc3b"
          ],
          [
           0.5714285714285714,
           "#d1e834"
          ],
          [
           0.6428571428571429,
           "#f3c63a"
          ],
          [
           0.7142857142857143,
           "#fe9b2d"
          ],
          [
           0.7857142857142857,
           "#f36315"
          ],
          [
           0.8571428571428571,
           "#d93806"
          ],
          [
           0.9285714285714286,
           "#b11901"
          ],
          [
           1.0,
           "#7a0402"
          ]
         ],
         "text": {
          "dtype": "f8",
          "bdata": "pHA9CtejwD97FK5H4XqkP8P1KFyPwsU/7FG4HoXrwT97FK5H4XqkP5qZmZmZmdk/PQrXo3A94j89CtejcD3aPylcj8L1KNw/hetRuB6F4z/D9Shcj8LFP+xRuB6F68E/uB6F61G4zj97FK5H4Xq0P7gehetRuL4/exSuR+F6xD8pXI/C9Si8P6RwPQrXo+g/j8L1KFyP4j+F61G4HoXbP65H4XoUrtc/rkfhehSu1z8zMzMzMzPDP+xRuB6F67E/CtejcD0Kxz/sUbgeheuxP8P1KFyPwsU/mpmZmZmZyT+amZmZmZnZPzMzMzMzM+M/SOF6FK5H8T/NzMzMzMzcPwAAAAAAAOg/MzMzMzMzwz/sUbgehevBP+xRuB6F69E/AAAAAAAA0D97FK5H4Xq0P8P1KFyPwsU/FK5H4XoU5j8UrkfhehTeP6RwPQrXo9A/w/UoXI/CxT+4HoXrUbjuP7gehetRuJ4/KVyPwvUovD+4HoXrUbiuP9ejcD0K1+M/mpmZmZmZyT9I4XoUrkfhP5qZmZmZmbk/cT0K16Nw3T8AAAAAAADQPx+F61G4HuU/FK5H4XoU5j8K16NwPQq3P3sUrkfherQ/CtejcD0Ktz/hehSuR+HKPwrXo3A9Ctc/mpmZmZmZuT9xPQrXo3DNP7gehetRuOY/pHA9Ctej0D/D9Shcj8LFP+xRuB6F6+k/4XoUrkfhyj9I4XoUrkfRP4XrUbgehds/UrgehetRyD+4HoXrUbjOP2ZmZmZmZtY/hetRuB6F2z8AAAAAAADoP3sUrkfhetQ/MzMzMzMz4z8AAAAAAADwP7gehetRuL4/KVyPwvUozD/sUbgehevRP/YoXI/C9dg/UrgehetR2D/hehSuR+HaPwrXo3A9Ctc/PQrXo3A92j8pXI/C9SjsP/YoXI/C9eg/exSuR+F6xD/D9Shcj8LVP6RwPQrXo9A/MzMzMzMzwz/D9Shcj8LFP3E9CtejcM0/cT0K16NwzT+kcD0K16PoP+xRuB6F6+E/16NwPQrX6z/Xo3A9CtfTP4/C9Shcj+o/7FG4HoXrsT+4HoXrUbiuP6RwPQrXo9A/exSuR+F6xD+amZmZmZm5P+xRuB6F69E/cT0K16NwzT8pXI/C9SjkP1yPwvUoXOc/XI/C9Shc8z9I4XoUrkfhP+xRuB6F68E/ZmZmZmZm1j9SuB6F61HIPylcj8L1KNw/mpmZmZmZuT+4HoXrUbjOP4/C9Shcj+I/mpmZmZmZyT+F61G4HoXrPwrXo3A9Ctc/SOF6FK5H0T8=",
          "shape": "11, 11"
         },
         "texttemplate": "%{text}",
         "x": {
          "dtype": "f8",
          "bdata": "AAAAAAAAAAAAAAAAAADwPwAAAAAAAABAAAAAAAAACEAAAAAAAAAQQAAAAAAAABRAAAAAAAAAGEAAAAAAAAAcQAAAAAAAACBAAAAAAAAAIkAAAAAAAAAkQA=="
         },
         "y": {
          "dtype": "f8",
          "bdata": "AAAAAAAAAAAAAAAAAADwPwAAAAAAAABAAAAAAAAACEAAAAAAAAAQQAAAAAAAABRAAAAAAAAAGEAAAAAAAAAcQAAAAAAAACBAAAAAAAAAIkAAAAAAAAAkQA=="
         },
         "z": {
          "dtype": "f8",
          "bdata": "IZ7a/FT7wD+DIKmd8DyiP8n1VLlV68U/+Q97Uu3xwT/qHixmYwijPzdR7upn4tk/PBh14+Ix4j+yRs0fITHaP2aaqu95bdw/15/hwBer4z+fXd5qGS3GP/Fq5Az2fMI/1FIuA14Ezz+PBJstd0G0P/b2k4mXkL0/1frxgYTxxD+sdG5phkS8P1QIUxDDsug/JpgPqGWs4j/Fo/uU0mDbP+U1N98lq9c/ThX+NZ2Q1z9+6zuiRSPDP/HsreEZ0LI/rF/+LTiYxj8n6BIHuQKxPyg0HwcNJ8Y/xAW0MDUwyj+XgfzDupzZP7PRlF4OWOM/2W29jI9L8T+kZMUQI47cPwYZZCYUFOg/LbcKlWK7wz8wZHEvHm3BPzHgZNUHutE/m92VSnAF0D80hC2fYt6zP9DhtMrl58U/Q2hat84d5j82Dyepn1XeP4thh3wfVdA/GkiDIoxDxT94kDJlkI/uP0iFx9pDnpw/yfaYVfsAuz+EocUKwietP4mAfOCz7uM/9Trdr0j9yD+nwQpdmjrhP3dhnVpLq7g/5lid93+O3T8T3aCddZ7PP6RAysWUMuU/2ccPFGoJ5j/TZzQgkxW3P5jH7rormLU/E+sAbCZBuD/BUm4y0YfKP0rRxnSgINc/43m4cBDGuT/HyV+yrAfOP2KhqGGFw+Y/BUFAqE2f0D9KsYXzl6HFP9/4ykY89Ok/KwFV/Dhayj8IR+0dFIHRP09xmZ8bS9s/V8ELpd1yyD9ybF1R1ijOPwF/5ZbCadY/FYurHp9C2z/fqRHZZALoPwob1an5nNQ/MsywWFAr4z+CfovP0A/wP6FwJqkGZr8/21/OibDMyz/LF38gSSPSPxqkfs2SF9k/t/GvM59Y2D89L+HP2wfbP5A1WzYc5NY/v/0wNUJ42j9uexDkGArsP35pHjPI2+g/wlnran8OxT+4GSg4DBLWP1nO3rGCu9A/lRNSBBuXwj+Bh7MtbFHGP/xdftWBp80/VFkUYQP7zD/ayBf2lJjoP4Jwg4JTAuI/NQO/g0TT6z8tMmmuQ+7TP16AOZQGc+o/kwz5pSGHsT+E2mVCqwiwP18W36SvttA/F89pyZYdxD+Rn4TtwKW6P4Wi/gPgMNI/45c05CADzT/1P97AHh3kP+m2K01EY+c/NwMRuRdI8z/dgHd14WbhP7Xwp1rAZ8I/IKS8zkab1j/zz/A022XIP8T0+B8JLtw/2TzFnAZcuT9VZiyF3kXPP9R3niy7fuI/+FHkVgoUyT9jdYEUFIfrP12zeQTPu9Y/ENoo2eU+0T8=",
          "shape": "11, 11"
         },
         "type": "heatmap",
         "showscale": false
        }
       ],
       "layout": {
        "template": {
         "data": {
          "histogram2dcontour": [
           {
            "type": "histogram2dcontour",
            "colorbar": {
             "outlinewidth": 0,
             "ticks": ""
            },
            "colorscale": [
             [
              0.0,
              "#0d0887"
             ],
             [
              0.1111111111111111,
              "#46039f"
             ],
             [
              0.2222222222222222,
              "#7201a8"
             ],
             [
              0.3333333333333333,
              "#9c179e"
             ],
             [
              0.4444444444444444,
              "#bd3786"
             ],
             [
              0.5555555555555556,
              "#d8576b"
             ],
             [
              0.6666666666666666,
              "#ed7953"
             ],
             [
              0.7777777777777778,
              "#fb9f3a"
             ],
             [
              0.8888888888888888,
              "#fdca26"
             ],
             [
              1.0,
              "#f0f921"
             ]
            ]
           }
          ],
          "choropleth": [
           {
            "type": "choropleth",
            "colorbar": {
             "outlinewidth": 0,
             "ticks": ""
            }
           }
          ],
          "histogram2d": [
           {
            "type": "histogram2d",
            "colorbar": {
             "outlinewidth": 0,
             "ticks": ""
            },
            "colorscale": [
             [
              0.0,
              "#0d0887"
             ],
             [
              0.1111111111111111,
              "#46039f"
             ],
             [
              0.2222222222222222,
              "#7201a8"
             ],
             [
              0.3333333333333333,
              "#9c179e"
             ],
             [
              0.4444444444444444,
              "#bd3786"
             ],
             [
              0.5555555555555556,
              "#d8576b"
             ],
             [
              0.6666666666666666,
              "#ed7953"
             ],
             [
              0.7777777777777778,
              "#fb9f3a"
             ],
             [
              0.8888888888888888,
              "#fdca26"
             ],
             [
              1.0,
              "#f0f921"
             ]
            ]
           }
          ],
          "heatmap": [
           {
            "type": "heatmap",
            "colorbar": {
             "outlinewidth": 0,
             "ticks": ""
            },
            "colorscale": [
             [
              0.0,
              "#0d0887"
             ],
             [
              0.1111111111111111,
              "#46039f"
             ],
             [
              0.2222222222222222,
              "#7201a8"
             ],
             [
              0.3333333333333333,
              "#9c179e"
             ],
             [
              0.4444444444444444,
              "#bd3786"
             ],
             [
              0.5555555555555556,
              "#d8576b"
             ],
             [
              0.6666666666666666,
              "#ed7953"
             ],
             [
              0.7777777777777778,
              "#fb9f3a"
             ],
             [
              0.8888888888888888,
              "#fdca26"
             ],
             [
              1.0,
              "#f0f921"
             ]
            ]
           }
          ],
          "contourcarpet": [
           {
            "type": "contourcarpet",
            "colorbar": {
             "outlinewidth": 0,
             "ticks": ""
            }
           }
          ],
          "contour": [
           {
            "type": "contour",
            "colorbar": {
             "outlinewidth": 0,
             "ticks": ""
            },
            "colorscale": [
             [
              0.0,
              "#0d0887"
             ],
             [
              0.1111111111111111,
              "#46039f"
             ],
             [
              0.2222222222222222,
              "#7201a8"
             ],
             [
              0.3333333333333333,
              "#9c179e"
             ],
             [
              0.4444444444444444,
              "#bd3786"
             ],
             [
              0.5555555555555556,
              "#d8576b"
             ],
             [
              0.6666666666666666,
              "#ed7953"
             ],
             [
              0.7777777777777778,
              "#fb9f3a"
             ],
             [
              0.8888888888888888,
              "#fdca26"
             ],
             [
              1.0,
              "#f0f921"
             ]
            ]
           }
          ],
          "surface": [
           {
            "type": "surface",
            "colorbar": {
             "outlinewidth": 0,
             "ticks": ""
            },
            "colorscale": [
             [
              0.0,
              "#0d0887"
             ],
             [
              0.1111111111111111,
              "#46039f"
             ],
             [
              0.2222222222222222,
              "#7201a8"
             ],
             [
              0.3333333333333333,
              "#9c179e"
             ],
             [
              0.4444444444444444,
              "#bd3786"
             ],
             [
              0.5555555555555556,
              "#d8576b"
             ],
             [
              0.6666666666666666,
              "#ed7953"
             ],
             [
              0.7777777777777778,
              "#fb9f3a"
             ],
             [
              0.8888888888888888,
              "#fdca26"
             ],
             [
              1.0,
              "#f0f921"
             ]
            ]
           }
          ],
          "mesh3d": [
           {
            "type": "mesh3d",
            "colorbar": {
             "outlinewidth": 0,
             "ticks": ""
            }
           }
          ],
          "scatter": [
           {
            "fillpattern": {
             "fillmode": "overlay",
             "size": 10,
             "solidity": 0.2
            },
            "type": "scatter"
           }
          ],
          "parcoords": [
           {
            "type": "parcoords",
            "line": {
             "colorbar": {
              "outlinewidth": 0,
              "ticks": ""
             }
            }
           }
          ],
          "scatterpolargl": [
           {
            "type": "scatterpolargl",
            "marker": {
             "colorbar": {
              "outlinewidth": 0,
              "ticks": ""
             }
            }
           }
          ],
          "bar": [
           {
            "error_x": {
             "color": "#2a3f5f"
            },
            "error_y": {
             "color": "#2a3f5f"
            },
            "marker": {
             "line": {
              "color": "#E5ECF6",
              "width": 0.5
             },
             "pattern": {
              "fillmode": "overlay",
              "size": 10,
              "solidity": 0.2
             }
            },
            "type": "bar"
           }
          ],
          "scattergeo": [
           {
            "type": "scattergeo",
            "marker": {
             "colorbar": {
              "outlinewidth": 0,
              "ticks": ""
             }
            }
           }
          ],
          "scatterpolar": [
           {
            "type": "scatterpolar",
            "marker": {
             "colorbar": {
              "outlinewidth": 0,
              "ticks": ""
             }
            }
           }
          ],
          "histogram": [
           {
            "marker": {
             "pattern": {
              "fillmode": "overlay",
              "size": 10,
              "solidity": 0.2
             }
            },
            "type": "histogram"
           }
          ],
          "scattergl": [
           {
            "type": "scattergl",
            "marker": {
             "colorbar": {
              "outlinewidth": 0,
              "ticks": ""
             }
            }
           }
          ],
          "scatter3d": [
           {
            "type": "scatter3d",
            "line": {
             "colorbar": {
              "outlinewidth": 0,
              "ticks": ""
             }
            },
            "marker": {
             "colorbar": {
              "outlinewidth": 0,
              "ticks": ""
             }
            }
           }
          ],
          "scattermap": [
           {
            "type": "scattermap",
            "marker": {
             "colorbar": {
              "outlinewidth": 0,
              "ticks": ""
             }
            }
           }
          ],
          "scattermapbox": [
           {
            "type": "scattermapbox",
            "marker": {
             "colorbar": {
              "outlinewidth": 0,
              "ticks": ""
             }
            }
           }
          ],
          "scatterternary": [
           {
            "type": "scatterternary",
            "marker": {
             "colorbar": {
              "outlinewidth": 0,
              "ticks": ""
             }
            }
           }
          ],
          "scattercarpet": [
           {
            "type": "scattercarpet",
            "marker": {
             "colorbar": {
              "outlinewidth": 0,
              "ticks": ""
             }
            }
           }
          ],
          "carpet": [
           {
            "aaxis": {
             "endlinecolor": "#2a3f5f",
             "gridcolor": "white",
             "linecolor": "white",
             "minorgridcolor": "white",
             "startlinecolor": "#2a3f5f"
            },
            "baxis": {
             "endlinecolor": "#2a3f5f",
             "gridcolor": "white",
             "linecolor": "white",
             "minorgridcolor": "white",
             "startlinecolor": "#2a3f5f"
            },
            "type": "carpet"
           }
          ],
          "table": [
           {
            "cells": {
             "fill": {
              "color": "#EBF0F8"
             },
             "line": {
              "color": "white"
             }
            },
            "header": {
             "fill": {
              "color": "#C8D4E3"
             },
             "line": {
              "color": "white"
             }
            },
            "type": "table"
           }
          ],
          "barpolar": [
           {
            "marker": {
             "line": {
              "color": "#E5ECF6",
              "width": 0.5
             },
             "pattern": {
              "fillmode": "overlay",
              "size": 10,
              "solidity": 0.2
             }
            },
            "type": "barpolar"
           }
          ],
          "pie": [
           {
            "automargin": true,
            "type": "pie"
           }
          ]
         },
         "layout": {
          "autotypenumbers": "strict",
          "colorway": [
           "#636efa",
           "#EF553B",
           "#00cc96",
           "#ab63fa",
           "#FFA15A",
           "#19d3f3",
           "#FF6692",
           "#B6E880",
           "#FF97FF",
           "#FECB52"
          ],
          "font": {
           "color": "#2a3f5f"
          },
          "hovermode": "closest",
          "hoverlabel": {
           "align": "left"
          },
          "paper_bgcolor": "white",
          "plot_bgcolor": "#E5ECF6",
          "polar": {
           "bgcolor": "#E5ECF6",
           "angularaxis": {
            "gridcolor": "white",
            "linecolor": "white",
            "ticks": ""
           },
           "radialaxis": {
            "gridcolor": "white",
            "linecolor": "white",
            "ticks": ""
           }
          },
          "ternary": {
           "bgcolor": "#E5ECF6",
           "aaxis": {
            "gridcolor": "white",
            "linecolor": "white",
            "ticks": ""
           },
           "baxis": {
            "gridcolor": "white",
            "linecolor": "white",
            "ticks": ""
           },
           "caxis": {
            "gridcolor": "white",
            "linecolor": "white",
            "ticks": ""
           }
          },
          "coloraxis": {
           "colorbar": {
            "outlinewidth": 0,
            "ticks": ""
           }
          },
          "colorscale": {
           "sequential": [
            [
             0.0,
             "#0d0887"
            ],
            [
             0.1111111111111111,
             "#46039f"
            ],
            [
             0.2222222222222222,
             "#7201a8"
            ],
            [
             0.3333333333333333,
             "#9c179e"
            ],
            [
             0.4444444444444444,
             "#bd3786"
            ],
            [
             0.5555555555555556,
             "#d8576b"
            ],
            [
             0.6666666666666666,
             "#ed7953"
            ],
            [
             0.7777777777777778,
             "#fb9f3a"
            ],
            [
             0.8888888888888888,
             "#fdca26"
            ],
            [
             1.0,
             "#f0f921"
            ]
           ],
           "sequentialminus": [
            [
             0.0,
             "#0d0887"
            ],
            [
             0.1111111111111111,
             "#46039f"
            ],
            [
             0.2222222222222222,
             "#7201a8"
            ],
            [
             0.3333333333333333,
             "#9c179e"
            ],
            [
             0.4444444444444444,
             "#bd3786"
            ],
            [
             0.5555555555555556,
             "#d8576b"
            ],
            [
             0.6666666666666666,
             "#ed7953"
            ],
            [
             0.7777777777777778,
             "#fb9f3a"
            ],
            [
             0.8888888888888888,
             "#fdca26"
            ],
            [
             1.0,
             "#f0f921"
            ]
           ],
           "diverging": [
            [
             0,
             "#8e0152"
            ],
            [
             0.1,
             "#c51b7d"
            ],
            [
             0.2,
             "#de77ae"
            ],
            [
             0.3,
             "#f1b6da"
            ],
            [
             0.4,
             "#fde0ef"
            ],
            [
             0.5,
             "#f7f7f7"
            ],
            [
             0.6,
             "#e6f5d0"
            ],
            [
             0.7,
             "#b8e186"
            ],
            [
             0.8,
             "#7fbc41"
            ],
            [
             0.9,
             "#4d9221"
            ],
            [
             1,
             "#276419"
            ]
           ]
          },
          "xaxis": {
           "gridcolor": "white",
           "linecolor": "white",
           "ticks": "",
           "title": {
            "standoff": 15
           },
           "zerolinecolor": "white",
           "automargin": true,
           "zerolinewidth": 2
          },
          "yaxis": {
           "gridcolor": "white",
           "linecolor": "white",
           "ticks": "",
           "title": {
            "standoff": 15
           },
           "zerolinecolor": "white",
           "automargin": true,
           "zerolinewidth": 2
          },
          "scene": {
           "xaxis": {
            "backgroundcolor": "#E5ECF6",
            "gridcolor": "white",
            "linecolor": "white",
            "showbackground": true,
            "ticks": "",
            "zerolinecolor": "white",
            "gridwidth": 2
           },
           "yaxis": {
            "backgroundcolor": "#E5ECF6",
            "gridcolor": "white",
            "linecolor": "white",
            "showbackground": true,
            "ticks": "",
            "zerolinecolor": "white",
            "gridwidth": 2
           },
           "zaxis": {
            "backgroundcolor": "#E5ECF6",
            "gridcolor": "white",
            "linecolor": "white",
            "showbackground": true,
            "ticks": "",
            "zerolinecolor": "white",
            "gridwidth": 2
           }
          },
          "shapedefaults": {
           "line": {
            "color": "#2a3f5f"
           }
          },
          "annotationdefaults": {
           "arrowcolor": "#2a3f5f",
           "arrowhead": 0,
           "arrowwidth": 1
          },
          "geo": {
           "bgcolor": "white",
           "landcolor": "#E5ECF6",
           "subunitcolor": "white",
           "showland": true,
           "showlakes": true,
           "lakecolor": "white"
          },
          "title": {
           "x": 0.05
          },
          "mapbox": {
           "style": "light"
          }
         }
        },
        "yaxis": {
         "title": {
          "text": "2D Labelling Noise"
         }
        },
        "xaxis": {
         "title": {
          "text": "3D Labelling Noise"
         }
        },
        "title": {
         "text": "x Axis Reconstruction error as noise in 2D and 3D vary"
        }
       },
       "config": {
        "plotlyServerURL": "https://plot.ly"
       }
      }
     },
     "metadata": {},
     "output_type": "display_data",
     "jetTransient": {
      "display_id": null
     }
    }
   ],
   "execution_count": 123
  },
  {
   "metadata": {
    "ExecuteTime": {
     "end_time": "2025-10-02T17:52:28.570601Z",
     "start_time": "2025-10-02T17:52:28.550525Z"
    }
   },
   "cell_type": "code",
   "source": [
    "fig = go.Figure()\n",
    "heatmap = np.array(rms_measurements['y'])\n",
    "fig.add_trace(\n",
    "    go.Heatmap(\n",
    "        z = heatmap,\n",
    "        x = np.linspace(0., 10., 11),\n",
    "        y = np.linspace(0., 10., 11),\n",
    "        text = heatmap.round(2),\n",
    "        texttemplate=\"%{text}\",\n",
    "        colorscale='turbo'\n",
    "    ))\n",
    "fig.update_yaxes(title_text='2D Labelling Noise')\n",
    "fig.update_xaxes(title_text='3D Labelling Noise')\n",
    "fig.update_layout(title = 'y Axis Reconstruction error as noise in 2D and 3D vary')\n",
    "fig.update_traces(showscale=False)\n",
    "fig.show()"
   ],
   "outputs": [
    {
     "data": {
      "application/vnd.plotly.v1+json": {
       "data": [
        {
         "colorscale": [
          [
           0.0,
           "#30123b"
          ],
          [
           0.07142857142857142,
           "#4145ab"
          ],
          [
           0.14285714285714285,
           "#4675ed"
          ],
          [
           0.21428571428571427,
           "#39a2fc"
          ],
          [
           0.2857142857142857,
           "#1bcfd4"
          ],
          [
           0.35714285714285715,
           "#24eca6"
          ],
          [
           0.42857142857142855,
           "#61fc6c"
          ],
          [
           0.5,
           "#a4fc3b"
          ],
          [
           0.5714285714285714,
           "#d1e834"
          ],
          [
           0.6428571428571429,
           "#f3c63a"
          ],
          [
           0.7142857142857143,
           "#fe9b2d"
          ],
          [
           0.7857142857142857,
           "#f36315"
          ],
          [
           0.8571428571428571,
           "#d93806"
          ],
          [
           0.9285714285714286,
           "#b11901"
          ],
          [
           1.0,
           "#7a0402"
          ]
         ],
         "text": {
          "dtype": "f8",
          "bdata": "mpmZmZmZuT+amZmZmZnJP5qZmZmZmck/cT0K16NwzT+4HoXrUbjOP3E9CtejcM0/UrgehetR2D/sUbgehevhP1K4HoXrUcg/7FG4HoXrwT9xPQrXo3DlP6RwPQrXo8A/MzMzMzMzwz+4HoXrUbiuP8P1KFyPwsU/pHA9CtejwD+F61G4HoXjP4XrUbgehds/exSuR+F65D/sUbgehevpP3E9CtejcO0/H4XrUbge1T/sUbgeheuxPylcj8L1KMw/exSuR+F6tD+amZmZmZm5PxSuR+F6FN4/SOF6FK5H0T/D9Shcj8LVP8P1KFyPwsU/AAAAAAAA0D+uR+F6FK7XP8P1KFyPwuU/MzMzMzMzwz+4HoXrUbi+PxSuR+F6FN4/7FG4HoXrwT/sUbgehevBP8P1KFyPwsU/9ihcj8L14D+kcD0K16PoP1K4HoXrUcg/exSuR+F69D8K16NwPQrnP3sUrkfhesQ/uB6F61G4rj/D9Shcj8LFPwrXo3A9Crc/w/UoXI/CxT8K16NwPQq3P83MzMzMzNw/7FG4HoXrsT+PwvUoXI/iP4/C9Shcj/4/zczMzMzM3D+amZmZmZm5Pylcj8L1KMw/pHA9Ctej0D+4HoXrUbjOP8P1KFyPwtU/SOF6FK5H4T+PwvUoXI/SP4XrUbgehds/UrgehetRyD+kcD0K16PgP3sUrkfhetQ/mpmZmZmZyT8K16NwPQq3P+xRuB6F69E/7FG4HoXr4T8zMzMzMzPDPz0K16NwPeI/rkfhehSu5z89CtejcD3iP+F6FK5H4co/cT0K16Nw7T/D9Shcj8L1PwAAAAAAANA/uB6F61G4vj+amZmZmZm5P6RwPQrXo9A/exSuR+F6xD+uR+F6FK7XP0jhehSuR9E/7FG4HoXrwT97FK5H4XrkP3sUrkfhevA/zczMzMzM7D+4HoXrUbjOP9ejcD0K19M/exSuR+F6xD+4HoXrUbjOP4/C9Shcj9I/uB6F61G43j/D9Shcj8LVP8P1KFyPwsU/CtejcD0K5z8AAAAAAADgP7gehetRuOY/MzMzMzMzwz8zMzMzMzPDP6RwPQrXo8A/7FG4HoXr0T/sUbgehevRP1K4HoXrUdg/4XoUrkfh4j89CtejcD3aP4XrUbgehds/16NwPQrX4z97FK5H4Xq0P6RwPQrXo8A/mpmZmZmZyT+kcD0K16PQP1yPwvUoXN8/9ihcj8L12D/NzMzMzMzwP+xRuB6F69E/FK5H4XoU5j+kcD0K16PgPz0K16NwPeo/H4XrUbge1T8=",
          "shape": "11, 11"
         },
         "texttemplate": "%{text}",
         "x": {
          "dtype": "f8",
          "bdata": "AAAAAAAAAAAAAAAAAADwPwAAAAAAAABAAAAAAAAACEAAAAAAAAAQQAAAAAAAABRAAAAAAAAAGEAAAAAAAAAcQAAAAAAAACBAAAAAAAAAIkAAAAAAAAAkQA=="
         },
         "y": {
          "dtype": "f8",
          "bdata": "AAAAAAAAAAAAAAAAAADwPwAAAAAAAABAAAAAAAAACEAAAAAAAAAQQAAAAAAAABRAAAAAAAAAGEAAAAAAAAAcQAAAAAAAACBAAAAAAAAAIkAAAAAAAAAkQA=="
         },
         "z": {
          "dtype": "f8",
          "bdata": "jqyJ5NOvuj+va42xUubJP2ujP3/T8ck/o4OLAeTOzD8rfrI99NLOP8tOqXlJM80/DHYDEYE+2D8QzrY6XQHiP9dc/aKIzsg/cRFN+XvswT+4GaqRyXXlP/4uvXAnQsE/COGjfZ9hwz/4w2HrE8uuP08yVE8fUcU/3yKLn7t9wD/8XAVnM3/jP+aI76uAjNs/FMrsfqqF5D++4uDIld/pPw+TncG3cu0/9AQ5WlTl1D8ORKHOgICyP7mE68LoGsw/Jqhiyyh2tD/iJreYdFq4Pz3RHh0EZN4/3lKo0cKR0T/HJQq7z3vVP6q7NDyI6sU/+ad5OveFzz8Lwv0oGovXPy2X9d1t2OU/uxPCjJCiwj8vPStGe5W+P8PMri6zVN4/+Cnc4LHLwT/TiLf9fF7BP4kYXFqyc8U/EdM5Qv0b4T8kzBoiJKvoPwSZpNmFysg/XgP5HbaG9D/eeCHk7yDnPykZ22w878M/J+YgPGqPsD+GyjN+aiHFP0hC8r82xLU/J5zzibsfxj8RWpld8gi3P99O1jf7s9w/8ngiYEhFsT8XKgkUFHjiP+6mNdxsov4/vcCbEdT13D9aR4pkHGa5P9q+fgkIscs/ufwwbYVj0D/UfGCDg3HOP8SAtvjk/NU/eiGzINRM4T96uZSuY3vSPyR0GuO9Pts/IUApObCuyD9n/f/Nj53gP87X60FgktQ/WlvOymY2yT/0u3uxtz+2P29xr99VzdE/FFMO/GEU4j/6FbFgpLDDPxxf2B3YT+I/oF113A6r5z8cz5fSdyHiP+FZlVFR9Mo/xMNLeKlI7T9pT/9P0671PwqD8Wb0vs8/idoRvYo2vj9hPcvG49O6P1AOX2mRk9A/9vRTZvuMxD+lU9Inc73XPxg3hQDGStE/Dw/zdkaXwT/AA8MmMHPkP4wdOuEPbvA/DbfGsz+r7D9ogSQkV2vOP1UjULXxI9Q/qdYtS+aWxD8J5tDtbRPPP1jrRaKLn9I/wh1Zyalq3j9xtyBvb73VP0ELka2oaMU/wqdgbfwO5z+EDHI2eA3gP3NbUa1HpuY/BD6358k2wz8lPm24BODCP2EIA2UaecA/J7VR7pK60T8sUSJ5zjHSP8aGpAebfdg/F1hWZvLD4j/R7fIIsxPaP81qtpJhoNs/w9rd3iDj4z/TJeSbkka0P58H0QK3DsE/N6YFUaT7yT96EkpiusDQP3e5nAymC98/Iyuhpi0T2T8eOyKJ597wPwM5ILRLx9E/Bb5rQAsR5j88TWzvIYTgP+s3v1AzVOo/4a+w6bFq1T8=",
          "shape": "11, 11"
         },
         "type": "heatmap",
         "showscale": false
        }
       ],
       "layout": {
        "template": {
         "data": {
          "histogram2dcontour": [
           {
            "type": "histogram2dcontour",
            "colorbar": {
             "outlinewidth": 0,
             "ticks": ""
            },
            "colorscale": [
             [
              0.0,
              "#0d0887"
             ],
             [
              0.1111111111111111,
              "#46039f"
             ],
             [
              0.2222222222222222,
              "#7201a8"
             ],
             [
              0.3333333333333333,
              "#9c179e"
             ],
             [
              0.4444444444444444,
              "#bd3786"
             ],
             [
              0.5555555555555556,
              "#d8576b"
             ],
             [
              0.6666666666666666,
              "#ed7953"
             ],
             [
              0.7777777777777778,
              "#fb9f3a"
             ],
             [
              0.8888888888888888,
              "#fdca26"
             ],
             [
              1.0,
              "#f0f921"
             ]
            ]
           }
          ],
          "choropleth": [
           {
            "type": "choropleth",
            "colorbar": {
             "outlinewidth": 0,
             "ticks": ""
            }
           }
          ],
          "histogram2d": [
           {
            "type": "histogram2d",
            "colorbar": {
             "outlinewidth": 0,
             "ticks": ""
            },
            "colorscale": [
             [
              0.0,
              "#0d0887"
             ],
             [
              0.1111111111111111,
              "#46039f"
             ],
             [
              0.2222222222222222,
              "#7201a8"
             ],
             [
              0.3333333333333333,
              "#9c179e"
             ],
             [
              0.4444444444444444,
              "#bd3786"
             ],
             [
              0.5555555555555556,
              "#d8576b"
             ],
             [
              0.6666666666666666,
              "#ed7953"
             ],
             [
              0.7777777777777778,
              "#fb9f3a"
             ],
             [
              0.8888888888888888,
              "#fdca26"
             ],
             [
              1.0,
              "#f0f921"
             ]
            ]
           }
          ],
          "heatmap": [
           {
            "type": "heatmap",
            "colorbar": {
             "outlinewidth": 0,
             "ticks": ""
            },
            "colorscale": [
             [
              0.0,
              "#0d0887"
             ],
             [
              0.1111111111111111,
              "#46039f"
             ],
             [
              0.2222222222222222,
              "#7201a8"
             ],
             [
              0.3333333333333333,
              "#9c179e"
             ],
             [
              0.4444444444444444,
              "#bd3786"
             ],
             [
              0.5555555555555556,
              "#d8576b"
             ],
             [
              0.6666666666666666,
              "#ed7953"
             ],
             [
              0.7777777777777778,
              "#fb9f3a"
             ],
             [
              0.8888888888888888,
              "#fdca26"
             ],
             [
              1.0,
              "#f0f921"
             ]
            ]
           }
          ],
          "contourcarpet": [
           {
            "type": "contourcarpet",
            "colorbar": {
             "outlinewidth": 0,
             "ticks": ""
            }
           }
          ],
          "contour": [
           {
            "type": "contour",
            "colorbar": {
             "outlinewidth": 0,
             "ticks": ""
            },
            "colorscale": [
             [
              0.0,
              "#0d0887"
             ],
             [
              0.1111111111111111,
              "#46039f"
             ],
             [
              0.2222222222222222,
              "#7201a8"
             ],
             [
              0.3333333333333333,
              "#9c179e"
             ],
             [
              0.4444444444444444,
              "#bd3786"
             ],
             [
              0.5555555555555556,
              "#d8576b"
             ],
             [
              0.6666666666666666,
              "#ed7953"
             ],
             [
              0.7777777777777778,
              "#fb9f3a"
             ],
             [
              0.8888888888888888,
              "#fdca26"
             ],
             [
              1.0,
              "#f0f921"
             ]
            ]
           }
          ],
          "surface": [
           {
            "type": "surface",
            "colorbar": {
             "outlinewidth": 0,
             "ticks": ""
            },
            "colorscale": [
             [
              0.0,
              "#0d0887"
             ],
             [
              0.1111111111111111,
              "#46039f"
             ],
             [
              0.2222222222222222,
              "#7201a8"
             ],
             [
              0.3333333333333333,
              "#9c179e"
             ],
             [
              0.4444444444444444,
              "#bd3786"
             ],
             [
              0.5555555555555556,
              "#d8576b"
             ],
             [
              0.6666666666666666,
              "#ed7953"
             ],
             [
              0.7777777777777778,
              "#fb9f3a"
             ],
             [
              0.8888888888888888,
              "#fdca26"
             ],
             [
              1.0,
              "#f0f921"
             ]
            ]
           }
          ],
          "mesh3d": [
           {
            "type": "mesh3d",
            "colorbar": {
             "outlinewidth": 0,
             "ticks": ""
            }
           }
          ],
          "scatter": [
           {
            "fillpattern": {
             "fillmode": "overlay",
             "size": 10,
             "solidity": 0.2
            },
            "type": "scatter"
           }
          ],
          "parcoords": [
           {
            "type": "parcoords",
            "line": {
             "colorbar": {
              "outlinewidth": 0,
              "ticks": ""
             }
            }
           }
          ],
          "scatterpolargl": [
           {
            "type": "scatterpolargl",
            "marker": {
             "colorbar": {
              "outlinewidth": 0,
              "ticks": ""
             }
            }
           }
          ],
          "bar": [
           {
            "error_x": {
             "color": "#2a3f5f"
            },
            "error_y": {
             "color": "#2a3f5f"
            },
            "marker": {
             "line": {
              "color": "#E5ECF6",
              "width": 0.5
             },
             "pattern": {
              "fillmode": "overlay",
              "size": 10,
              "solidity": 0.2
             }
            },
            "type": "bar"
           }
          ],
          "scattergeo": [
           {
            "type": "scattergeo",
            "marker": {
             "colorbar": {
              "outlinewidth": 0,
              "ticks": ""
             }
            }
           }
          ],
          "scatterpolar": [
           {
            "type": "scatterpolar",
            "marker": {
             "colorbar": {
              "outlinewidth": 0,
              "ticks": ""
             }
            }
           }
          ],
          "histogram": [
           {
            "marker": {
             "pattern": {
              "fillmode": "overlay",
              "size": 10,
              "solidity": 0.2
             }
            },
            "type": "histogram"
           }
          ],
          "scattergl": [
           {
            "type": "scattergl",
            "marker": {
             "colorbar": {
              "outlinewidth": 0,
              "ticks": ""
             }
            }
           }
          ],
          "scatter3d": [
           {
            "type": "scatter3d",
            "line": {
             "colorbar": {
              "outlinewidth": 0,
              "ticks": ""
             }
            },
            "marker": {
             "colorbar": {
              "outlinewidth": 0,
              "ticks": ""
             }
            }
           }
          ],
          "scattermap": [
           {
            "type": "scattermap",
            "marker": {
             "colorbar": {
              "outlinewidth": 0,
              "ticks": ""
             }
            }
           }
          ],
          "scattermapbox": [
           {
            "type": "scattermapbox",
            "marker": {
             "colorbar": {
              "outlinewidth": 0,
              "ticks": ""
             }
            }
           }
          ],
          "scatterternary": [
           {
            "type": "scatterternary",
            "marker": {
             "colorbar": {
              "outlinewidth": 0,
              "ticks": ""
             }
            }
           }
          ],
          "scattercarpet": [
           {
            "type": "scattercarpet",
            "marker": {
             "colorbar": {
              "outlinewidth": 0,
              "ticks": ""
             }
            }
           }
          ],
          "carpet": [
           {
            "aaxis": {
             "endlinecolor": "#2a3f5f",
             "gridcolor": "white",
             "linecolor": "white",
             "minorgridcolor": "white",
             "startlinecolor": "#2a3f5f"
            },
            "baxis": {
             "endlinecolor": "#2a3f5f",
             "gridcolor": "white",
             "linecolor": "white",
             "minorgridcolor": "white",
             "startlinecolor": "#2a3f5f"
            },
            "type": "carpet"
           }
          ],
          "table": [
           {
            "cells": {
             "fill": {
              "color": "#EBF0F8"
             },
             "line": {
              "color": "white"
             }
            },
            "header": {
             "fill": {
              "color": "#C8D4E3"
             },
             "line": {
              "color": "white"
             }
            },
            "type": "table"
           }
          ],
          "barpolar": [
           {
            "marker": {
             "line": {
              "color": "#E5ECF6",
              "width": 0.5
             },
             "pattern": {
              "fillmode": "overlay",
              "size": 10,
              "solidity": 0.2
             }
            },
            "type": "barpolar"
           }
          ],
          "pie": [
           {
            "automargin": true,
            "type": "pie"
           }
          ]
         },
         "layout": {
          "autotypenumbers": "strict",
          "colorway": [
           "#636efa",
           "#EF553B",
           "#00cc96",
           "#ab63fa",
           "#FFA15A",
           "#19d3f3",
           "#FF6692",
           "#B6E880",
           "#FF97FF",
           "#FECB52"
          ],
          "font": {
           "color": "#2a3f5f"
          },
          "hovermode": "closest",
          "hoverlabel": {
           "align": "left"
          },
          "paper_bgcolor": "white",
          "plot_bgcolor": "#E5ECF6",
          "polar": {
           "bgcolor": "#E5ECF6",
           "angularaxis": {
            "gridcolor": "white",
            "linecolor": "white",
            "ticks": ""
           },
           "radialaxis": {
            "gridcolor": "white",
            "linecolor": "white",
            "ticks": ""
           }
          },
          "ternary": {
           "bgcolor": "#E5ECF6",
           "aaxis": {
            "gridcolor": "white",
            "linecolor": "white",
            "ticks": ""
           },
           "baxis": {
            "gridcolor": "white",
            "linecolor": "white",
            "ticks": ""
           },
           "caxis": {
            "gridcolor": "white",
            "linecolor": "white",
            "ticks": ""
           }
          },
          "coloraxis": {
           "colorbar": {
            "outlinewidth": 0,
            "ticks": ""
           }
          },
          "colorscale": {
           "sequential": [
            [
             0.0,
             "#0d0887"
            ],
            [
             0.1111111111111111,
             "#46039f"
            ],
            [
             0.2222222222222222,
             "#7201a8"
            ],
            [
             0.3333333333333333,
             "#9c179e"
            ],
            [
             0.4444444444444444,
             "#bd3786"
            ],
            [
             0.5555555555555556,
             "#d8576b"
            ],
            [
             0.6666666666666666,
             "#ed7953"
            ],
            [
             0.7777777777777778,
             "#fb9f3a"
            ],
            [
             0.8888888888888888,
             "#fdca26"
            ],
            [
             1.0,
             "#f0f921"
            ]
           ],
           "sequentialminus": [
            [
             0.0,
             "#0d0887"
            ],
            [
             0.1111111111111111,
             "#46039f"
            ],
            [
             0.2222222222222222,
             "#7201a8"
            ],
            [
             0.3333333333333333,
             "#9c179e"
            ],
            [
             0.4444444444444444,
             "#bd3786"
            ],
            [
             0.5555555555555556,
             "#d8576b"
            ],
            [
             0.6666666666666666,
             "#ed7953"
            ],
            [
             0.7777777777777778,
             "#fb9f3a"
            ],
            [
             0.8888888888888888,
             "#fdca26"
            ],
            [
             1.0,
             "#f0f921"
            ]
           ],
           "diverging": [
            [
             0,
             "#8e0152"
            ],
            [
             0.1,
             "#c51b7d"
            ],
            [
             0.2,
             "#de77ae"
            ],
            [
             0.3,
             "#f1b6da"
            ],
            [
             0.4,
             "#fde0ef"
            ],
            [
             0.5,
             "#f7f7f7"
            ],
            [
             0.6,
             "#e6f5d0"
            ],
            [
             0.7,
             "#b8e186"
            ],
            [
             0.8,
             "#7fbc41"
            ],
            [
             0.9,
             "#4d9221"
            ],
            [
             1,
             "#276419"
            ]
           ]
          },
          "xaxis": {
           "gridcolor": "white",
           "linecolor": "white",
           "ticks": "",
           "title": {
            "standoff": 15
           },
           "zerolinecolor": "white",
           "automargin": true,
           "zerolinewidth": 2
          },
          "yaxis": {
           "gridcolor": "white",
           "linecolor": "white",
           "ticks": "",
           "title": {
            "standoff": 15
           },
           "zerolinecolor": "white",
           "automargin": true,
           "zerolinewidth": 2
          },
          "scene": {
           "xaxis": {
            "backgroundcolor": "#E5ECF6",
            "gridcolor": "white",
            "linecolor": "white",
            "showbackground": true,
            "ticks": "",
            "zerolinecolor": "white",
            "gridwidth": 2
           },
           "yaxis": {
            "backgroundcolor": "#E5ECF6",
            "gridcolor": "white",
            "linecolor": "white",
            "showbackground": true,
            "ticks": "",
            "zerolinecolor": "white",
            "gridwidth": 2
           },
           "zaxis": {
            "backgroundcolor": "#E5ECF6",
            "gridcolor": "white",
            "linecolor": "white",
            "showbackground": true,
            "ticks": "",
            "zerolinecolor": "white",
            "gridwidth": 2
           }
          },
          "shapedefaults": {
           "line": {
            "color": "#2a3f5f"
           }
          },
          "annotationdefaults": {
           "arrowcolor": "#2a3f5f",
           "arrowhead": 0,
           "arrowwidth": 1
          },
          "geo": {
           "bgcolor": "white",
           "landcolor": "#E5ECF6",
           "subunitcolor": "white",
           "showland": true,
           "showlakes": true,
           "lakecolor": "white"
          },
          "title": {
           "x": 0.05
          },
          "mapbox": {
           "style": "light"
          }
         }
        },
        "yaxis": {
         "title": {
          "text": "2D Labelling Noise"
         }
        },
        "xaxis": {
         "title": {
          "text": "3D Labelling Noise"
         }
        },
        "title": {
         "text": "y Axis Reconstruction error as noise in 2D and 3D vary"
        }
       },
       "config": {
        "plotlyServerURL": "https://plot.ly"
       }
      }
     },
     "metadata": {},
     "output_type": "display_data",
     "jetTransient": {
      "display_id": null
     }
    }
   ],
   "execution_count": 124
  },
  {
   "metadata": {
    "ExecuteTime": {
     "end_time": "2025-10-02T17:52:28.602059Z",
     "start_time": "2025-10-02T17:52:28.591061Z"
    }
   },
   "cell_type": "code",
   "source": "",
   "outputs": [],
   "execution_count": null
  },
  {
   "metadata": {
    "ExecuteTime": {
     "end_time": "2025-10-02T17:52:28.631647Z",
     "start_time": "2025-10-02T17:52:28.611216Z"
    }
   },
   "cell_type": "code",
   "source": [
    "fig = go.Figure()\n",
    "heatmap = np.array(rms_measurements['z'])\n",
    "fig.add_trace(\n",
    "    go.Heatmap(\n",
    "        z = heatmap,\n",
    "        x = np.linspace(0., 10., 11),\n",
    "        y = np.linspace(0., 10., 11),\n",
    "        text = heatmap.round(2),\n",
    "        texttemplate=\"%{text}\",\n",
    "        colorscale='turbo'\n",
    "    ))\n",
    "fig.update_yaxes(title_text='2D Labelling Noise')\n",
    "fig.update_xaxes(title_text='3D Labelling Noise')\n",
    "fig.update_layout(title = 'z Axis Reconstruction error as noise in 2D and 3D vary')\n",
    "fig.update_traces(showscale=False)\n",
    "fig.show()"
   ],
   "outputs": [
    {
     "data": {
      "application/vnd.plotly.v1+json": {
       "data": [
        {
         "colorscale": [
          [
           0.0,
           "#30123b"
          ],
          [
           0.07142857142857142,
           "#4145ab"
          ],
          [
           0.14285714285714285,
           "#4675ed"
          ],
          [
           0.21428571428571427,
           "#39a2fc"
          ],
          [
           0.2857142857142857,
           "#1bcfd4"
          ],
          [
           0.35714285714285715,
           "#24eca6"
          ],
          [
           0.42857142857142855,
           "#61fc6c"
          ],
          [
           0.5,
           "#a4fc3b"
          ],
          [
           0.5714285714285714,
           "#d1e834"
          ],
          [
           0.6428571428571429,
           "#f3c63a"
          ],
          [
           0.7142857142857143,
           "#fe9b2d"
          ],
          [
           0.7857142857142857,
           "#f36315"
          ],
          [
           0.8571428571428571,
           "#d93806"
          ],
          [
           0.9285714285714286,
           "#b11901"
          ],
          [
           1.0,
           "#7a0402"
          ]
         ],
         "text": {
          "dtype": "f8",
          "bdata": "pHA9CtejwD8pXI/C9Si8P7gehetRuM4/uB6F61G4rj+kcD0K16PQP+xRuB6F69E/9ihcj8L12D+uR+F6FK7XP+xRuB6F69E/16NwPQrX4z8fhetRuB7VP+xRuB6F68E/UrgehetRyD8K16NwPQq3P+xRuB6F67E/mpmZmZmZqT8K16NwPQrXP+F6FK5H4co/UrgehetR2D+4HoXrUbjuP2ZmZmZmZtY/cT0K16Nw3T+amZmZmZm5Pylcj8L1KLw/MzMzMzMzwz/sUbgeheuxP7gehetRuL4/AAAAAAAA0D+PwvUoXI/iPzMzMzMzM+M/FK5H4XoU5j+kcD0K16PgP5qZmZmZmdk/KVyPwvUozD+amZmZmZm5P9ejcD0K19M/7FG4HoXrwT+amZmZmZm5P6RwPQrXo8A/UrgehetR4D8pXI/C9SjkPzMzMzMzM9M/uB6F61G43j8K16NwPQrXP5qZmZmZmbk/7FG4HoXrsT8K16NwPQrHP2ZmZmZmZtY/uB6F61G4vj+amZmZmZnZP+F6FK5H4do/H4XrUbge5T8K16NwPQrXP3E9CtejcPU/exSuR+F6xD/sUbgehevBP5qZmZmZmck/MzMzMzMzwz8K16NwPQrXP4/C9Shcj9I/mpmZmZmZyT9mZmZmZmbWP+F6FK5H4co/UrgehetRyD/sUbgehevBP+F6FK5H4eo/exSuR+F6xD9xPQrXo3DNP+xRuB6F68E/uB6F61G4vj+kcD0K16PAPwAAAAAAANA/MzMzMzMz0z/2KFyPwvXYPwrXo3A9Crc/j8L1KFyP0j/D9Shcj8LlP6RwPQrXo9A/KVyPwvUovD+kcD0K16PQP3E9CtejcM0/SOF6FK5H0T8AAAAAAADQP1K4HoXrUcg/j8L1KFyP0j8K16NwPQrXP3E9CtejcM0/XI/C9Shc3z8zMzMzMzPDP3E9CtejcM0/CtejcD0Ktz+kcD0K16PAPwAAAAAAANA/PQrXo3A92j+F61G4HoXjP3sUrkfhesQ/CtejcD0Kxz/Xo3A9CtfjP5qZmZmZmeE/pHA9CtejwD+kcD0K16PAP4/C9Shcj9I/KVyPwvUovD8zMzMzMzPDP9ejcD0K19M/w/UoXI/C5T/sUbgehevRP5qZmZmZmbk/uB6F61G4zj+kcD0K16PgPx+F61G4HtU/4XoUrkfhyj8zMzMzMzPDP3E9CtejcM0/KVyPwvUovD+F61G4HoXbP3sUrkfheuQ/4XoUrkfh4j+PwvUoXI/iP3sUrkfhetQ/w/UoXI/C5T8=",
          "shape": "11, 11"
         },
         "texttemplate": "%{text}",
         "x": {
          "dtype": "f8",
          "bdata": "AAAAAAAAAAAAAAAAAADwPwAAAAAAAABAAAAAAAAACEAAAAAAAAAQQAAAAAAAABRAAAAAAAAAGEAAAAAAAAAcQAAAAAAAACBAAAAAAAAAIkAAAAAAAAAkQA=="
         },
         "y": {
          "dtype": "f8",
          "bdata": "AAAAAAAAAAAAAAAAAADwPwAAAAAAAABAAAAAAAAACEAAAAAAAAAQQAAAAAAAABRAAAAAAAAAGEAAAAAAAAAcQAAAAAAAACBAAAAAAAAAIkAAAAAAAAAkQA=="
         },
         "z": {
          "dtype": "f8",
          "bdata": "K1Us1bPBwD96/IkTvbO7P4Yo7Vnnxs4//Ez2Y+opsD+4uF6wONzQP45wQxIDvdE/PUowtecw2T+8+dMlbJ7XP6olxSEMMtI/buMpgJGu4z8BAQovCm7VP/wOLbjxLMI/Nsne3FG1yD/4fUD4sfC3P9eyJY1adrI/Co4Kvk+Xqz9+MxQ3YwPXP6jj0r2psMo/vTUnTtEv2D868rbL1NjuP3sk4Y5kONY/e5BLoD2k3T8P8X8BZKu6PzOzUKvkA7s/zMOTUONZwz9SDq3QwcuxP6/oqhelpr0/+ROQ4qzdzz/oyxLlR4riP11Jswf+SOM/mP99k2T25T9YdEc0lsPgPwSioFsio9k/kpNd4J6hyz+W/EWy3wK6P6sipaDolNM/+EiNF/hZwT8mkkaK/KS6P4pCvUr/HcA//cw/Znhu4D/c0IuFqDXkP6mQyDQt8dI/7EdiB8Hs3j++YglprP/WP5WPMhY8lLo/RVzydb6gsj+EbzL/6bbGP0ObwAfrh9Y/WunMyqfJvT9P9V2suYXZPxTS6jRwH9s/Dx62Al/+5D9Xp644IvbWPzMSnKJlhPU/i0UX32e6xD/JTVY/XZHBPzU839wX+8k/b/cPtv7Mwz/Vl2kAEhfXP3xuGNZNjdI/QEZtVT1uyT/SzbsCdqHWP66gRhqcDMs/VUnEsic1yD8rv3JIKmLCP6eHX0dV6Oo/apAZ1Q9dxD9y4s19XY7NP7zjjNJJJsI/H+XjTvSzvz/J+h/k7MrAP4lLOROSGNA/WRsUPa8Y0z/LF6Cg5LnYP2lkY9esRLc/o0VR/XO+0j9yukfuGajlP5DpdlguwtA/KtDjLHlGuz9ZD1N8KqbQPyfmDNBB5M0/x6FgBS/50D9laPtwFYPPP/uJuclo5sc/xx5Pvmp70j/Y2t9PDcvWP4Dd156N/c0/eOwAJymN3z+n5LiA4jPDP8G2a7EY/cw/sY0gOpJEtj8/h2+iJmnAP6HwUpRyUNA/jsUCzykX2j+jEOaJGWTjP3PGWxiIC8Q/Gpe0cfx3xz++2NM7KN/jP/sudasrgOE/OJx1EaFewD/fOF8LsA3BP94Gtpb8VdI/l7FPd4ddvD9W91qVdzjDP7gyqJMj8dM/NLxoC1Gc5T98jaHGbbfRP9VU5br/1ro/BBn7/s25zj8HuR5WD6rgP9PiaNbhJ9U/n42onMyhyj+3hlG8odXCPw/Um+JY/s0/t1iDzcMbvD9PaReS6NbbP3E4ybRvUuQ/MTv2DwPq4j9aYtsY7JTiP0KO7YORstQ/Zk0ehb/o5T8=",
          "shape": "11, 11"
         },
         "type": "heatmap",
         "showscale": false
        }
       ],
       "layout": {
        "template": {
         "data": {
          "histogram2dcontour": [
           {
            "type": "histogram2dcontour",
            "colorbar": {
             "outlinewidth": 0,
             "ticks": ""
            },
            "colorscale": [
             [
              0.0,
              "#0d0887"
             ],
             [
              0.1111111111111111,
              "#46039f"
             ],
             [
              0.2222222222222222,
              "#7201a8"
             ],
             [
              0.3333333333333333,
              "#9c179e"
             ],
             [
              0.4444444444444444,
              "#bd3786"
             ],
             [
              0.5555555555555556,
              "#d8576b"
             ],
             [
              0.6666666666666666,
              "#ed7953"
             ],
             [
              0.7777777777777778,
              "#fb9f3a"
             ],
             [
              0.8888888888888888,
              "#fdca26"
             ],
             [
              1.0,
              "#f0f921"
             ]
            ]
           }
          ],
          "choropleth": [
           {
            "type": "choropleth",
            "colorbar": {
             "outlinewidth": 0,
             "ticks": ""
            }
           }
          ],
          "histogram2d": [
           {
            "type": "histogram2d",
            "colorbar": {
             "outlinewidth": 0,
             "ticks": ""
            },
            "colorscale": [
             [
              0.0,
              "#0d0887"
             ],
             [
              0.1111111111111111,
              "#46039f"
             ],
             [
              0.2222222222222222,
              "#7201a8"
             ],
             [
              0.3333333333333333,
              "#9c179e"
             ],
             [
              0.4444444444444444,
              "#bd3786"
             ],
             [
              0.5555555555555556,
              "#d8576b"
             ],
             [
              0.6666666666666666,
              "#ed7953"
             ],
             [
              0.7777777777777778,
              "#fb9f3a"
             ],
             [
              0.8888888888888888,
              "#fdca26"
             ],
             [
              1.0,
              "#f0f921"
             ]
            ]
           }
          ],
          "heatmap": [
           {
            "type": "heatmap",
            "colorbar": {
             "outlinewidth": 0,
             "ticks": ""
            },
            "colorscale": [
             [
              0.0,
              "#0d0887"
             ],
             [
              0.1111111111111111,
              "#46039f"
             ],
             [
              0.2222222222222222,
              "#7201a8"
             ],
             [
              0.3333333333333333,
              "#9c179e"
             ],
             [
              0.4444444444444444,
              "#bd3786"
             ],
             [
              0.5555555555555556,
              "#d8576b"
             ],
             [
              0.6666666666666666,
              "#ed7953"
             ],
             [
              0.7777777777777778,
              "#fb9f3a"
             ],
             [
              0.8888888888888888,
              "#fdca26"
             ],
             [
              1.0,
              "#f0f921"
             ]
            ]
           }
          ],
          "contourcarpet": [
           {
            "type": "contourcarpet",
            "colorbar": {
             "outlinewidth": 0,
             "ticks": ""
            }
           }
          ],
          "contour": [
           {
            "type": "contour",
            "colorbar": {
             "outlinewidth": 0,
             "ticks": ""
            },
            "colorscale": [
             [
              0.0,
              "#0d0887"
             ],
             [
              0.1111111111111111,
              "#46039f"
             ],
             [
              0.2222222222222222,
              "#7201a8"
             ],
             [
              0.3333333333333333,
              "#9c179e"
             ],
             [
              0.4444444444444444,
              "#bd3786"
             ],
             [
              0.5555555555555556,
              "#d8576b"
             ],
             [
              0.6666666666666666,
              "#ed7953"
             ],
             [
              0.7777777777777778,
              "#fb9f3a"
             ],
             [
              0.8888888888888888,
              "#fdca26"
             ],
             [
              1.0,
              "#f0f921"
             ]
            ]
           }
          ],
          "surface": [
           {
            "type": "surface",
            "colorbar": {
             "outlinewidth": 0,
             "ticks": ""
            },
            "colorscale": [
             [
              0.0,
              "#0d0887"
             ],
             [
              0.1111111111111111,
              "#46039f"
             ],
             [
              0.2222222222222222,
              "#7201a8"
             ],
             [
              0.3333333333333333,
              "#9c179e"
             ],
             [
              0.4444444444444444,
              "#bd3786"
             ],
             [
              0.5555555555555556,
              "#d8576b"
             ],
             [
              0.6666666666666666,
              "#ed7953"
             ],
             [
              0.7777777777777778,
              "#fb9f3a"
             ],
             [
              0.8888888888888888,
              "#fdca26"
             ],
             [
              1.0,
              "#f0f921"
             ]
            ]
           }
          ],
          "mesh3d": [
           {
            "type": "mesh3d",
            "colorbar": {
             "outlinewidth": 0,
             "ticks": ""
            }
           }
          ],
          "scatter": [
           {
            "fillpattern": {
             "fillmode": "overlay",
             "size": 10,
             "solidity": 0.2
            },
            "type": "scatter"
           }
          ],
          "parcoords": [
           {
            "type": "parcoords",
            "line": {
             "colorbar": {
              "outlinewidth": 0,
              "ticks": ""
             }
            }
           }
          ],
          "scatterpolargl": [
           {
            "type": "scatterpolargl",
            "marker": {
             "colorbar": {
              "outlinewidth": 0,
              "ticks": ""
             }
            }
           }
          ],
          "bar": [
           {
            "error_x": {
             "color": "#2a3f5f"
            },
            "error_y": {
             "color": "#2a3f5f"
            },
            "marker": {
             "line": {
              "color": "#E5ECF6",
              "width": 0.5
             },
             "pattern": {
              "fillmode": "overlay",
              "size": 10,
              "solidity": 0.2
             }
            },
            "type": "bar"
           }
          ],
          "scattergeo": [
           {
            "type": "scattergeo",
            "marker": {
             "colorbar": {
              "outlinewidth": 0,
              "ticks": ""
             }
            }
           }
          ],
          "scatterpolar": [
           {
            "type": "scatterpolar",
            "marker": {
             "colorbar": {
              "outlinewidth": 0,
              "ticks": ""
             }
            }
           }
          ],
          "histogram": [
           {
            "marker": {
             "pattern": {
              "fillmode": "overlay",
              "size": 10,
              "solidity": 0.2
             }
            },
            "type": "histogram"
           }
          ],
          "scattergl": [
           {
            "type": "scattergl",
            "marker": {
             "colorbar": {
              "outlinewidth": 0,
              "ticks": ""
             }
            }
           }
          ],
          "scatter3d": [
           {
            "type": "scatter3d",
            "line": {
             "colorbar": {
              "outlinewidth": 0,
              "ticks": ""
             }
            },
            "marker": {
             "colorbar": {
              "outlinewidth": 0,
              "ticks": ""
             }
            }
           }
          ],
          "scattermap": [
           {
            "type": "scattermap",
            "marker": {
             "colorbar": {
              "outlinewidth": 0,
              "ticks": ""
             }
            }
           }
          ],
          "scattermapbox": [
           {
            "type": "scattermapbox",
            "marker": {
             "colorbar": {
              "outlinewidth": 0,
              "ticks": ""
             }
            }
           }
          ],
          "scatterternary": [
           {
            "type": "scatterternary",
            "marker": {
             "colorbar": {
              "outlinewidth": 0,
              "ticks": ""
             }
            }
           }
          ],
          "scattercarpet": [
           {
            "type": "scattercarpet",
            "marker": {
             "colorbar": {
              "outlinewidth": 0,
              "ticks": ""
             }
            }
           }
          ],
          "carpet": [
           {
            "aaxis": {
             "endlinecolor": "#2a3f5f",
             "gridcolor": "white",
             "linecolor": "white",
             "minorgridcolor": "white",
             "startlinecolor": "#2a3f5f"
            },
            "baxis": {
             "endlinecolor": "#2a3f5f",
             "gridcolor": "white",
             "linecolor": "white",
             "minorgridcolor": "white",
             "startlinecolor": "#2a3f5f"
            },
            "type": "carpet"
           }
          ],
          "table": [
           {
            "cells": {
             "fill": {
              "color": "#EBF0F8"
             },
             "line": {
              "color": "white"
             }
            },
            "header": {
             "fill": {
              "color": "#C8D4E3"
             },
             "line": {
              "color": "white"
             }
            },
            "type": "table"
           }
          ],
          "barpolar": [
           {
            "marker": {
             "line": {
              "color": "#E5ECF6",
              "width": 0.5
             },
             "pattern": {
              "fillmode": "overlay",
              "size": 10,
              "solidity": 0.2
             }
            },
            "type": "barpolar"
           }
          ],
          "pie": [
           {
            "automargin": true,
            "type": "pie"
           }
          ]
         },
         "layout": {
          "autotypenumbers": "strict",
          "colorway": [
           "#636efa",
           "#EF553B",
           "#00cc96",
           "#ab63fa",
           "#FFA15A",
           "#19d3f3",
           "#FF6692",
           "#B6E880",
           "#FF97FF",
           "#FECB52"
          ],
          "font": {
           "color": "#2a3f5f"
          },
          "hovermode": "closest",
          "hoverlabel": {
           "align": "left"
          },
          "paper_bgcolor": "white",
          "plot_bgcolor": "#E5ECF6",
          "polar": {
           "bgcolor": "#E5ECF6",
           "angularaxis": {
            "gridcolor": "white",
            "linecolor": "white",
            "ticks": ""
           },
           "radialaxis": {
            "gridcolor": "white",
            "linecolor": "white",
            "ticks": ""
           }
          },
          "ternary": {
           "bgcolor": "#E5ECF6",
           "aaxis": {
            "gridcolor": "white",
            "linecolor": "white",
            "ticks": ""
           },
           "baxis": {
            "gridcolor": "white",
            "linecolor": "white",
            "ticks": ""
           },
           "caxis": {
            "gridcolor": "white",
            "linecolor": "white",
            "ticks": ""
           }
          },
          "coloraxis": {
           "colorbar": {
            "outlinewidth": 0,
            "ticks": ""
           }
          },
          "colorscale": {
           "sequential": [
            [
             0.0,
             "#0d0887"
            ],
            [
             0.1111111111111111,
             "#46039f"
            ],
            [
             0.2222222222222222,
             "#7201a8"
            ],
            [
             0.3333333333333333,
             "#9c179e"
            ],
            [
             0.4444444444444444,
             "#bd3786"
            ],
            [
             0.5555555555555556,
             "#d8576b"
            ],
            [
             0.6666666666666666,
             "#ed7953"
            ],
            [
             0.7777777777777778,
             "#fb9f3a"
            ],
            [
             0.8888888888888888,
             "#fdca26"
            ],
            [
             1.0,
             "#f0f921"
            ]
           ],
           "sequentialminus": [
            [
             0.0,
             "#0d0887"
            ],
            [
             0.1111111111111111,
             "#46039f"
            ],
            [
             0.2222222222222222,
             "#7201a8"
            ],
            [
             0.3333333333333333,
             "#9c179e"
            ],
            [
             0.4444444444444444,
             "#bd3786"
            ],
            [
             0.5555555555555556,
             "#d8576b"
            ],
            [
             0.6666666666666666,
             "#ed7953"
            ],
            [
             0.7777777777777778,
             "#fb9f3a"
            ],
            [
             0.8888888888888888,
             "#fdca26"
            ],
            [
             1.0,
             "#f0f921"
            ]
           ],
           "diverging": [
            [
             0,
             "#8e0152"
            ],
            [
             0.1,
             "#c51b7d"
            ],
            [
             0.2,
             "#de77ae"
            ],
            [
             0.3,
             "#f1b6da"
            ],
            [
             0.4,
             "#fde0ef"
            ],
            [
             0.5,
             "#f7f7f7"
            ],
            [
             0.6,
             "#e6f5d0"
            ],
            [
             0.7,
             "#b8e186"
            ],
            [
             0.8,
             "#7fbc41"
            ],
            [
             0.9,
             "#4d9221"
            ],
            [
             1,
             "#276419"
            ]
           ]
          },
          "xaxis": {
           "gridcolor": "white",
           "linecolor": "white",
           "ticks": "",
           "title": {
            "standoff": 15
           },
           "zerolinecolor": "white",
           "automargin": true,
           "zerolinewidth": 2
          },
          "yaxis": {
           "gridcolor": "white",
           "linecolor": "white",
           "ticks": "",
           "title": {
            "standoff": 15
           },
           "zerolinecolor": "white",
           "automargin": true,
           "zerolinewidth": 2
          },
          "scene": {
           "xaxis": {
            "backgroundcolor": "#E5ECF6",
            "gridcolor": "white",
            "linecolor": "white",
            "showbackground": true,
            "ticks": "",
            "zerolinecolor": "white",
            "gridwidth": 2
           },
           "yaxis": {
            "backgroundcolor": "#E5ECF6",
            "gridcolor": "white",
            "linecolor": "white",
            "showbackground": true,
            "ticks": "",
            "zerolinecolor": "white",
            "gridwidth": 2
           },
           "zaxis": {
            "backgroundcolor": "#E5ECF6",
            "gridcolor": "white",
            "linecolor": "white",
            "showbackground": true,
            "ticks": "",
            "zerolinecolor": "white",
            "gridwidth": 2
           }
          },
          "shapedefaults": {
           "line": {
            "color": "#2a3f5f"
           }
          },
          "annotationdefaults": {
           "arrowcolor": "#2a3f5f",
           "arrowhead": 0,
           "arrowwidth": 1
          },
          "geo": {
           "bgcolor": "white",
           "landcolor": "#E5ECF6",
           "subunitcolor": "white",
           "showland": true,
           "showlakes": true,
           "lakecolor": "white"
          },
          "title": {
           "x": 0.05
          },
          "mapbox": {
           "style": "light"
          }
         }
        },
        "yaxis": {
         "title": {
          "text": "2D Labelling Noise"
         }
        },
        "xaxis": {
         "title": {
          "text": "3D Labelling Noise"
         }
        },
        "title": {
         "text": "z Axis Reconstruction error as noise in 2D and 3D vary"
        }
       },
       "config": {
        "plotlyServerURL": "https://plot.ly"
       }
      }
     },
     "metadata": {},
     "output_type": "display_data",
     "jetTransient": {
      "display_id": null
     }
    }
   ],
   "execution_count": 125
  }
 ],
 "metadata": {
  "kernelspec": {
   "display_name": "gbm",
   "language": "python",
   "name": "python3"
  },
  "language_info": {
   "codemirror_mode": {
    "name": "ipython",
    "version": 3
   },
   "file_extension": ".py",
   "mimetype": "text/x-python",
   "name": "python",
   "nbconvert_exporter": "python",
   "pygments_lexer": "ipython3",
   "version": "3.8.20"
  }
 },
 "nbformat": 4,
 "nbformat_minor": 2
}
